{
  "cells": [
    {
      "cell_type": "markdown",
      "metadata": {
        "id": "view-in-github",
        "colab_type": "text"
      },
      "source": [
        "<a href=\"https://colab.research.google.com/github/chloeeliu/LeetCode/blob/main/NeetCode_150.ipynb\" target=\"_parent\"><img src=\"https://colab.research.google.com/assets/colab-badge.svg\" alt=\"Open In Colab\"/></a>"
      ]
    },
    {
      "cell_type": "markdown",
      "id": "a03b4dbe-7971-4061-b619-5a7f91a707d8",
      "metadata": {
        "id": "a03b4dbe-7971-4061-b619-5a7f91a707d8"
      },
      "source": [
        "# NeetCode 150\n",
        "\n",
        "blind75 finish.\n",
        "\n",
        "https://www.techinterviewhandbook.org/algorithms/study-cheatsheet/\n",
        "\n",
        "0726: 本周需要到heap。今天先完成stack。\n",
        "0727: linked list完成一半\n",
        "\n"
      ]
    },
    {
      "cell_type": "markdown",
      "id": "51d21f99-d8f2-4c2c-aa0b-b1d57615ce55",
      "metadata": {
        "id": "51d21f99-d8f2-4c2c-aa0b-b1d57615ce55"
      },
      "source": [
        "# Arrays & Hashing"
      ]
    },
    {
      "cell_type": "markdown",
      "id": "3PnnEVhRdXmJ",
      "metadata": {
        "id": "3PnnEVhRdXmJ"
      },
      "source": [
        "## Duplicate Integer"
      ]
    },
    {
      "cell_type": "code",
      "execution_count": null,
      "id": "daef4547-2f56-4780-9c97-1d1dd32e71e2",
      "metadata": {
        "id": "daef4547-2f56-4780-9c97-1d1dd32e71e2"
      },
      "outputs": [],
      "source": [
        "nums = [1, 2, 3, 4]"
      ]
    },
    {
      "cell_type": "code",
      "execution_count": null,
      "id": "afbc7d20-ddb3-4c94-8755-79fb55cf24b6",
      "metadata": {
        "colab": {
          "base_uri": "https://localhost:8080/"
        },
        "id": "afbc7d20-ddb3-4c94-8755-79fb55cf24b6",
        "outputId": "39efd6b2-ae04-4334-a0f8-42ff64704865"
      },
      "outputs": [
        {
          "output_type": "execute_result",
          "data": {
            "text/plain": [
              "[1, 2, 3, 4]"
            ]
          },
          "metadata": {},
          "execution_count": 2
        }
      ],
      "source": [
        "[i for i in set(nums)]"
      ]
    },
    {
      "cell_type": "code",
      "execution_count": null,
      "id": "21bd171b-8c92-4051-9844-e152c27e0163",
      "metadata": {
        "id": "21bd171b-8c92-4051-9844-e152c27e0163"
      },
      "outputs": [],
      "source": [
        "class Solution:\n",
        "    def hasDuplicate(self, nums) -> bool:\n",
        "        if len(set(nums)) < len(nums):\n",
        "            return \"true\"\n",
        "\n",
        "        else:\n",
        "            return \"false\"\n"
      ]
    },
    {
      "cell_type": "code",
      "execution_count": null,
      "id": "567b81dc-670b-4c70-8e49-02bac6e0957b",
      "metadata": {
        "id": "567b81dc-670b-4c70-8e49-02bac6e0957b"
      },
      "outputs": [],
      "source": [
        "\n",
        "def hasDuplicate(nums):\n",
        "\n",
        "    hashset = set()\n",
        "\n",
        "    for n in nums:\n",
        "        if n in hashset:\n",
        "            return True\n",
        "        else:\n",
        "            hashset.add(n)\n",
        "\n",
        "    return False"
      ]
    },
    {
      "cell_type": "code",
      "execution_count": null,
      "id": "d003b506-6c8a-478a-a9c6-6c6ea381bf5a",
      "metadata": {
        "id": "d003b506-6c8a-478a-a9c6-6c6ea381bf5a",
        "outputId": "beb55842-172c-4882-b4f8-aec31d954cec",
        "colab": {
          "base_uri": "https://localhost:8080/"
        }
      },
      "outputs": [
        {
          "output_type": "execute_result",
          "data": {
            "text/plain": [
              "False"
            ]
          },
          "metadata": {},
          "execution_count": 5
        }
      ],
      "source": [
        "hasDuplicate(nums)"
      ]
    },
    {
      "cell_type": "markdown",
      "id": "_qNlzXurdaGS",
      "metadata": {
        "id": "_qNlzXurdaGS"
      },
      "source": [
        "## valid anagram"
      ]
    },
    {
      "cell_type": "code",
      "execution_count": null,
      "id": "266b00e2-4b59-4e78-b792-9e57eeca4c3b",
      "metadata": {
        "id": "266b00e2-4b59-4e78-b792-9e57eeca4c3b"
      },
      "outputs": [],
      "source": [
        "s = \"racecar\"\n",
        "t = \"carrace\"\n",
        "\n",
        "class Solution:\n",
        "    def isAnagram(self, s: str, t: str) -> bool:\n",
        "        list_s = list(s)\n",
        "        list_t = list(t)\n",
        "\n",
        "        list_s.sort()\n",
        "        list_t.sort()\n",
        "\n",
        "        if list_s == list_t:\n",
        "            return True\n",
        "\n",
        "        else:\n",
        "            return False\n"
      ]
    },
    {
      "cell_type": "code",
      "execution_count": null,
      "id": "9cc6a6bb-1b4f-46b3-83d9-9d4cec819ab7",
      "metadata": {
        "id": "9cc6a6bb-1b4f-46b3-83d9-9d4cec819ab7"
      },
      "outputs": [],
      "source": [
        "# the use of dictionary\n",
        "def isAnagram(s,t):\n",
        "    if len(s) != len(t):\n",
        "        return False\n",
        "\n",
        "    count_s, count_t = {}, {}\n",
        "\n",
        "    for i in range(len(s)):\n",
        "        count_s[s[i]] = 1 + count_s.get(s[i],0)\n",
        "        count_t[t[i]] = 1 + count_t.get(t[i],0)\n",
        "\n",
        "    return count_s == count_t"
      ]
    },
    {
      "cell_type": "code",
      "execution_count": null,
      "id": "06b95bce-cc63-45e1-8f3b-e265c65dd392",
      "metadata": {
        "colab": {
          "base_uri": "https://localhost:8080/"
        },
        "id": "06b95bce-cc63-45e1-8f3b-e265c65dd392",
        "outputId": "08bfc0c7-59a1-4123-9d8b-bebe26ebda9e"
      },
      "outputs": [
        {
          "output_type": "execute_result",
          "data": {
            "text/plain": [
              "True"
            ]
          },
          "metadata": {},
          "execution_count": 8
        }
      ],
      "source": [
        "isAnagram(s,t)"
      ]
    },
    {
      "cell_type": "code",
      "execution_count": null,
      "id": "b1513817-f1d9-475d-bb88-bb8840f26084",
      "metadata": {
        "id": "b1513817-f1d9-475d-bb88-bb8840f26084"
      },
      "outputs": [],
      "source": [
        "count_s, count_t = {}, {}\n",
        "\n",
        "for i in range(len(s)):\n",
        "    count_s[s[i]] = 1 + count_s.get(s[i],0)\n",
        "    count_t[t[i]] = 1 + count_t.get(t[i],0)"
      ]
    },
    {
      "cell_type": "markdown",
      "id": "8HwOXKhqdkLl",
      "metadata": {
        "id": "8HwOXKhqdkLl"
      },
      "source": [
        "## Anagram Groups\n"
      ]
    },
    {
      "cell_type": "code",
      "execution_count": null,
      "id": "a7c1a90f-f025-4806-b6fc-a8b341b89765",
      "metadata": {
        "colab": {
          "base_uri": "https://localhost:8080/",
          "height": 280
        },
        "id": "a7c1a90f-f025-4806-b6fc-a8b341b89765",
        "outputId": "f4cbc835-b35b-48dd-ae4d-d48c5ccbd3ea"
      },
      "outputs": [
        {
          "output_type": "stream",
          "name": "stdout",
          "text": [
            "stop\n",
            "['pots', 'tops']\n",
            "tops\n",
            "['pots']\n"
          ]
        },
        {
          "output_type": "error",
          "ename": "TypeError",
          "evalue": "'list' object cannot be interpreted as an integer",
          "traceback": [
            "\u001b[0;31m---------------------------------------------------------------------------\u001b[0m",
            "\u001b[0;31mTypeError\u001b[0m                                 Traceback (most recent call last)",
            "\u001b[0;32m<ipython-input-10-9b2ea3a10ef7>\u001b[0m in \u001b[0;36m<cell line: 8>\u001b[0;34m()\u001b[0m\n\u001b[1;32m      6\u001b[0m     \u001b[0mprint\u001b[0m\u001b[0;34m(\u001b[0m\u001b[0mstrs\u001b[0m\u001b[0;34m)\u001b[0m\u001b[0;34m\u001b[0m\u001b[0;34m\u001b[0m\u001b[0m\n\u001b[1;32m      7\u001b[0m \u001b[0;34m\u001b[0m\u001b[0m\n\u001b[0;32m----> 8\u001b[0;31m \u001b[0;32mfor\u001b[0m \u001b[0mi\u001b[0m \u001b[0;32min\u001b[0m \u001b[0mrange\u001b[0m\u001b[0;34m(\u001b[0m\u001b[0mstrs\u001b[0m\u001b[0;34m)\u001b[0m\u001b[0;34m:\u001b[0m\u001b[0;34m\u001b[0m\u001b[0;34m\u001b[0m\u001b[0m\n\u001b[0m\u001b[1;32m      9\u001b[0m     \u001b[0mprint\u001b[0m\u001b[0;34m(\u001b[0m\u001b[0mi\u001b[0m\u001b[0;34m)\u001b[0m\u001b[0;34m\u001b[0m\u001b[0;34m\u001b[0m\u001b[0m\n\u001b[1;32m     10\u001b[0m     \u001b[0mprint\u001b[0m\u001b[0;34m(\u001b[0m\u001b[0msrs\u001b[0m\u001b[0;34m[\u001b[0m\u001b[0mi\u001b[0m\u001b[0;34m]\u001b[0m\u001b[0;34m)\u001b[0m\u001b[0;34m\u001b[0m\u001b[0;34m\u001b[0m\u001b[0m\n",
            "\u001b[0;31mTypeError\u001b[0m: 'list' object cannot be interpreted as an integer"
          ]
        }
      ],
      "source": [
        "strs = [\"stop\", \"pots\", \"tops\"]\n",
        "\n",
        "for i in strs:\n",
        "    print(i)\n",
        "    strs.remove(i)\n",
        "    print(strs)\n",
        "\n",
        "for i in range(strs):\n",
        "    print(i)\n",
        "    print(srs[i])\n",
        "    strs.remove(i)\n",
        "    print(strs)"
      ]
    },
    {
      "cell_type": "markdown",
      "source": [
        "## Top K Elements in List\n",
        "\n",
        "\n",
        "actually, do not need sort to the entire dict value.\n",
        "\n",
        "heap. pop n times is more efficent."
      ],
      "metadata": {
        "id": "iLfyxvmLSRC8"
      },
      "id": "iLfyxvmLSRC8"
    },
    {
      "cell_type": "code",
      "source": [
        "nums = [1,2,2,3,3,3]"
      ],
      "metadata": {
        "id": "2OyIydHESRQ3"
      },
      "id": "2OyIydHESRQ3",
      "execution_count": null,
      "outputs": []
    },
    {
      "cell_type": "code",
      "source": [
        "#my answer\n",
        "class Solution:\n",
        "    def topKFrequent(self, nums: List[int], k: int) -> List[int]:\n",
        "        # return top k freqeunt. need hash dict\n",
        "\n",
        "        count_n = {}\n",
        "\n",
        "        for i in nums:\n",
        "            count_n[i] = 1+count_n.get(i,0)\n",
        "\n",
        "        #first, sort dict with values.\n",
        "        count_n = sorted(count_n.items(),reverse = True, key=lambda item:item[1] )\n",
        "\n",
        "        #second get key list after sort by values.\n",
        "\n",
        "        return [k for (k,v) in count_n[0:k]]"
      ],
      "metadata": {
        "id": "fiv7LZU7S9a2"
      },
      "id": "fiv7LZU7S9a2",
      "execution_count": null,
      "outputs": []
    },
    {
      "cell_type": "code",
      "source": [
        "#the efficient version\n",
        "class Solution:\n",
        "    def topKFrequent(self, nums: List[int], k: int) -> List[int]:\n",
        "        # return top k freqeunt. need hash dict\n",
        "\n",
        "        count = {}\n",
        "\n",
        "        freq = [[] for i in range(len(nums)+1)] #index = occurance, value = []\n",
        "\n",
        "        for n in nums:\n",
        "            count[n] = 1 + count.get(n,0)\n",
        "\n",
        "        for n,c in count.items():\n",
        "            freq[c].append(n)\n",
        "\n",
        "        res = []\n",
        "\n",
        "        print(freq)\n",
        "\n",
        "        for i in range(len(freq)-1,0,-1):\n",
        "            print(freq[i])\n",
        "            for n in freq[i]: #if freq[i]==NaN, automaticlly skip.\n",
        "                print(\"n loop\",freq[i], n)\n",
        "\n",
        "                res.append(n)\n",
        "                if len(res) == k:\n",
        "                    return res"
      ],
      "metadata": {
        "id": "iHUmGb9hTDHw"
      },
      "id": "iHUmGb9hTDHw",
      "execution_count": null,
      "outputs": []
    },
    {
      "cell_type": "markdown",
      "source": [
        "## string encode and decode"
      ],
      "metadata": {
        "id": "fWyFWk7FYbSz"
      },
      "id": "fWyFWk7FYbSz"
    },
    {
      "cell_type": "code",
      "source": [
        "#my solution\n",
        "class Solution:\n",
        "\n",
        "    def encode(self, strs: List[str]) -> str:\n",
        "\n",
        "        encode_str = ''\n",
        "        for item in strs:\n",
        "            encode_str  = encode_str  + \"#1\" + item\n",
        "        return encode_str\n",
        "\n",
        "\n",
        "    def decode(self, s: str) -> List[str]:\n",
        "\n",
        "        decode_list = s.split(\"#1\")\n",
        "        decode_list.remove('')\n",
        "\n",
        "        return decode_list\n"
      ],
      "metadata": {
        "id": "Vs7Msm61YbjE"
      },
      "id": "Vs7Msm61YbjE",
      "execution_count": null,
      "outputs": []
    },
    {
      "cell_type": "code",
      "source": [
        "class Solution:\n",
        "\n",
        "    def encode(self, strs: List[str]) -> str:\n",
        "        encode_str = ''\n",
        "\n",
        "        for s in strs:\n",
        "            encode_str += str(len(s))+ '#' +  s\n",
        "\n",
        "        return encode_str\n",
        "\n",
        "\n",
        "    def decode(self, s: str) -> List[str]:\n",
        "        print(s)\n",
        "        res,i = [],0\n",
        "\n",
        "        while i < len(s):\n",
        "            j = i\n",
        "            while s[j] != '#':\n",
        "                j+=1\n",
        "\n",
        "            length = int(s[i:j])\n",
        "            res.append(s[j+1 : j+1+length])\n",
        "\n",
        "            i = j+1+length\n",
        "\n",
        "        return res\n",
        "\n",
        "\n"
      ],
      "metadata": {
        "id": "BaQlkECHcYs_"
      },
      "id": "BaQlkECHcYs_",
      "execution_count": null,
      "outputs": []
    },
    {
      "cell_type": "markdown",
      "source": [
        "# Two Pointers"
      ],
      "metadata": {
        "id": "T-nGO8Y2TOGe"
      },
      "id": "T-nGO8Y2TOGe"
    },
    {
      "cell_type": "markdown",
      "source": [
        "## Two Integer Sum II"
      ],
      "metadata": {
        "id": "-6JCeXrOTcHJ"
      },
      "id": "-6JCeXrOTcHJ"
    },
    {
      "cell_type": "code",
      "source": [
        "for i in range(len(numbers)):\n",
        "    j  =  i+1\n",
        "    #cur_sum = numbers[i]\n",
        "\n",
        "    while j < len(numbers):\n",
        "        print(\"cur_sum\", cur_sum)\n",
        "        print(\"cur_location_i,j\", i,j)\n",
        "\n",
        "        if numbers[i] + numbers[j] == target:\n",
        "            print( [i+1,j+1])\n",
        "        elif numbers[i] + numbers[j] > target:\n",
        "            break\n",
        "        else:\n",
        "            j += 1"
      ],
      "metadata": {
        "id": "Y0i6IHh8Tbm0"
      },
      "id": "Y0i6IHh8Tbm0",
      "execution_count": null,
      "outputs": []
    },
    {
      "cell_type": "markdown",
      "source": [
        "### difference break pass continue"
      ],
      "metadata": {
        "id": "wHvKckanTPAp"
      },
      "id": "wHvKckanTPAp"
    },
    {
      "cell_type": "code",
      "source": [
        "numbers = [1,2,3,4]\n",
        "\n",
        "\n",
        "j = 0\n",
        "while j<len(numbers):\n",
        "    print(j)\n",
        "    if numbers[j] == 2:\n",
        "        break #end loop.\n",
        "    j += 1\n",
        "\n",
        "\n",
        "j = 0\n",
        "while j<len(numbers):\n",
        "    print(j)\n",
        "    if numbers[j] == 2:\n",
        "        pass #placeholder for the future code\n",
        "    j += 1\n",
        "\n",
        "j = 0\n",
        "while j<len(numbers):\n",
        "    print(j)\n",
        "    if numbers[j] == 2:\n",
        "        continue  # efficient, stop the current loop and move to next one. so cause infinite loop.\n",
        "    j += 1"
      ],
      "metadata": {
        "id": "pvt75m6fTOYZ"
      },
      "id": "pvt75m6fTOYZ",
      "execution_count": null,
      "outputs": []
    },
    {
      "cell_type": "code",
      "source": [],
      "metadata": {
        "id": "ESCG6yzmTOmR"
      },
      "id": "ESCG6yzmTOmR",
      "execution_count": null,
      "outputs": []
    },
    {
      "cell_type": "markdown",
      "source": [
        "## Three Interger Sum"
      ],
      "metadata": {
        "id": "9oQVPlgmT2-P"
      },
      "id": "9oQVPlgmT2-P"
    },
    {
      "cell_type": "code",
      "source": [
        "#my solution\n",
        "class Solution:\n",
        "    def threeSum(self, nums: List[int]) -> List[List[int]]:\n",
        "\n",
        "        nums.sort()\n",
        "        res_list = []\n",
        "\n",
        "        for l in range(len(nums)):\n",
        "            r = len(nums)-1\n",
        "\n",
        "            while l<r:\n",
        "\n",
        "                mid_list = nums[l+1:r]\n",
        "                if -(nums[l] + nums[r]) in mid_list:\n",
        "                    nest_result = [nums[l], nums[r], -(nums[l] + nums[r]) ]\n",
        "                    if nest_result not in res_list:\n",
        "                        res_list.append(nest_result)\n",
        "\n",
        "                r -= 1\n",
        "        return res_list"
      ],
      "metadata": {
        "id": "6CjdmSMXT3I_"
      },
      "id": "6CjdmSMXT3I_",
      "execution_count": null,
      "outputs": []
    },
    {
      "cell_type": "code",
      "source": [
        "class Solution:\n",
        "    def threeSum(self, nums: List[int]) -> List[List[int]]:\n",
        "        res = []\n",
        "        nums.sort()\n",
        "\n",
        "        for i, a in enumerate(nums):\n",
        "            if a > 0:\n",
        "                break\n",
        "\n",
        "            if i > 0 and a == nums[i - 1]:\n",
        "                continue\n",
        "\n",
        "            l, r = i + 1, len(nums) - 1\n",
        "            while l < r:\n",
        "                threeSum = a + nums[l] + nums[r]\n",
        "                if threeSum > 0:\n",
        "                    r -= 1\n",
        "                elif threeSum < 0:\n",
        "                    l += 1\n",
        "                else:\n",
        "                    res.append([a, nums[l], nums[r]])\n",
        "                    l += 1\n",
        "                    r -= 1\n",
        "                    while nums[l] == nums[l - 1] and l < r:\n",
        "                        l += 1\n",
        "\n",
        "        return res\n"
      ],
      "metadata": {
        "id": "jJt4D0rtT3ND"
      },
      "id": "jJt4D0rtT3ND",
      "execution_count": null,
      "outputs": []
    },
    {
      "cell_type": "markdown",
      "source": [
        "## container with most water[q]\n",
        "\n",
        "\n",
        "why move? why not iterative?\n",
        "\n",
        "do understand the principle behind.\n",
        "\n",
        "need re examine the complexity of the following two solutions.\n"
      ],
      "metadata": {
        "id": "bhj5MIhvUDW0"
      },
      "id": "bhj5MIhvUDW0"
    },
    {
      "cell_type": "code",
      "source": [
        "class Solution:\n",
        "    def maxArea(self, heights: List[int]) -> int:\n",
        "        n = len(heights)\n",
        "        size = 0\n",
        "\n",
        "        for l in range(n):\n",
        "            r = n-1\n",
        "            while l<r:\n",
        "                h = min(heights[l],heights[r] )\n",
        "                size = max(size,(r-l)*h)\n",
        "                r -= 1\n",
        "        return size\n"
      ],
      "metadata": {
        "id": "0XNaAioWUDg_"
      },
      "id": "0XNaAioWUDg_",
      "execution_count": null,
      "outputs": []
    },
    {
      "cell_type": "code",
      "source": [
        "class Solution:\n",
        "    def maxArea(self, heights: List[int]) -> int:\n",
        "        l, r = 0, len(heights) - 1\n",
        "        res = 0\n",
        "\n",
        "        while l < r:\n",
        "            res = max(res, min(heights[l], heights[r]) * (r - l))\n",
        "            if heights[l] < heights[r]:\n",
        "                l += 1\n",
        "            elif heights[r] <= heights[l]:\n",
        "                r -= 1\n",
        "\n",
        "        return res\n"
      ],
      "metadata": {
        "id": "FdUjcjRcUDlK"
      },
      "id": "FdUjcjRcUDlK",
      "execution_count": null,
      "outputs": []
    },
    {
      "cell_type": "code",
      "source": [
        "n=4\n",
        "for j in range(n-1,-1,-1):\n",
        "    print(j)"
      ],
      "metadata": {
        "id": "wjD82KWwcZXB"
      },
      "id": "wjD82KWwcZXB",
      "execution_count": null,
      "outputs": []
    },
    {
      "cell_type": "markdown",
      "source": [
        "# Sliding Window"
      ],
      "metadata": {
        "id": "vzIRVcRRS5wN"
      },
      "id": "vzIRVcRRS5wN"
    },
    {
      "cell_type": "markdown",
      "source": [
        "## Longest Substring Without Duplicates\n"
      ],
      "metadata": {
        "id": "3cWBN2qEU6uA"
      },
      "id": "3cWBN2qEU6uA"
    },
    {
      "cell_type": "code",
      "source": [
        "class Solution:\n",
        "    def lengthOfLongestSubstring(self, s: str) -> int:\n",
        "        charSet = set()\n",
        "\n",
        "        l = 0\n",
        "        res = 0\n",
        "        for r in range(len(s)):\n",
        "            while s[r] in charSet:\n",
        "                charSet.remove(s[l])\n",
        "                l+=1\n",
        "\n",
        "            charSet.add(s[r])\n",
        "\n",
        "            res = max(res, r-l+1)\n",
        "        print(charSet)\n",
        "        return res"
      ],
      "metadata": {
        "id": "AQnkS7NWU66x"
      },
      "id": "AQnkS7NWU66x",
      "execution_count": null,
      "outputs": []
    },
    {
      "cell_type": "code",
      "source": [],
      "metadata": {
        "id": "-SJX_FG_U6-N"
      },
      "id": "-SJX_FG_U6-N",
      "execution_count": null,
      "outputs": []
    },
    {
      "cell_type": "markdown",
      "source": [
        "## Longest Repeating Substring With Replacement\n"
      ],
      "metadata": {
        "id": "17Hl9qZXUY-R"
      },
      "id": "17Hl9qZXUY-R"
    },
    {
      "cell_type": "code",
      "source": [
        "class Solution:\n",
        "    def characterReplacement(self, s: str, k: int) -> int:\n",
        "        l = 0\n",
        "        maxf = 0\n",
        "        char_dict = {} #the char occur in the sliding window\n",
        "        res = 0\n",
        "\n",
        "        for r in range(len(s)):\n",
        "\n",
        "            char_dict[s[r]] = 1 + char_dict.get(s[r],0)\n",
        "            maxf = max(maxf, char_dict[s[r]])\n",
        "            if (r-l+1) - maxf > k:\n",
        "                char_dict[s[l]] -= 1\n",
        "                l += 1\n",
        "            res = max(res, r -l +1)\n",
        "        print(l,r)\n",
        "        return res\n",
        "\n"
      ],
      "metadata": {
        "id": "Jvrz6DteUZTS"
      },
      "id": "Jvrz6DteUZTS",
      "execution_count": null,
      "outputs": []
    },
    {
      "cell_type": "code",
      "source": [],
      "metadata": {
        "id": "MNLW2mwNUYbc"
      },
      "id": "MNLW2mwNUYbc",
      "execution_count": null,
      "outputs": []
    },
    {
      "cell_type": "markdown",
      "source": [
        "## Permutation in String"
      ],
      "metadata": {
        "id": "HDvYWaudS-9t"
      },
      "id": "HDvYWaudS-9t"
    },
    {
      "cell_type": "code",
      "source": [
        "class Solution:\n",
        "    def checkInclusion(self, s1: str, s2: str) -> bool:\n",
        "        # permutation means reorder.\n",
        "        l = 0\n",
        "        count_s1 = {}\n",
        "        count_s2 = {}\n",
        "        for i in s1:\n",
        "            count_s1[i] = 1+ count_s1.get(i,0)\n",
        "\n",
        "        for r in range(len(s2)):\n",
        "            count_s2[s2[r]] = 1+ count_s2.get(s2[r],0)\n",
        "\n",
        "            while r-l + 1 == len(s1):\n",
        "                if count_s1 == count_s2:\n",
        "                    return True\n",
        "\n",
        "                count_s2[s2[l]]  -= 1\n",
        "                if count_s2[s2[l]] == 0:\n",
        "                    del count_s2[s2[l]]\n",
        "                l += 1\n",
        "\n",
        "        print(count_s1, count_s2)\n",
        "        return False\n"
      ],
      "metadata": {
        "id": "Rh8VjaLYS4Qo"
      },
      "id": "Rh8VjaLYS4Qo",
      "execution_count": null,
      "outputs": []
    },
    {
      "cell_type": "code",
      "source": [
        "class Solution:\n",
        "    def checkInclusion(self, s1: str, s2: str) -> bool:\n",
        "        if len(s1) > len(s2):\n",
        "            return False\n",
        "\n",
        "        s1Count, s2Count = [0] * 26, [0] * 26\n",
        "        for i in range(len(s1)):\n",
        "            s1Count[ord(s1[i]) - ord(\"a\")] += 1\n",
        "            s2Count[ord(s2[i]) - ord(\"a\")] += 1\n",
        "\n",
        "        matches = 0\n",
        "        for i in range(26):\n",
        "            matches += 1 if s1Count[i] == s2Count[i] else 0\n",
        "\n",
        "        l = 0\n",
        "        for r in range(len(s1), len(s2)):\n",
        "            if matches == 26:\n",
        "                return True\n",
        "\n",
        "            index = ord(s2[r]) - ord(\"a\")\n",
        "            s2Count[index] += 1\n",
        "            if s1Count[index] == s2Count[index]:\n",
        "                matches += 1\n",
        "            elif s1Count[index] + 1 == s2Count[index]:\n",
        "                matches -= 1\n",
        "\n",
        "            index = ord(s2[l]) - ord(\"a\")\n",
        "            s2Count[index] -= 1\n",
        "            if s1Count[index] == s2Count[index]:\n",
        "                matches += 1\n",
        "            elif s1Count[index] - 1 == s2Count[index]:\n",
        "                matches -= 1\n",
        "            l += 1\n",
        "        return matches == 26\n"
      ],
      "metadata": {
        "id": "e9DDb5QgTD1M"
      },
      "id": "e9DDb5QgTD1M",
      "execution_count": null,
      "outputs": []
    },
    {
      "cell_type": "markdown",
      "source": [
        "# Stack"
      ],
      "metadata": {
        "id": "Yohz0UNMVUXV"
      },
      "id": "Yohz0UNMVUXV"
    },
    {
      "cell_type": "markdown",
      "source": [
        "## Validate Parentheses\n"
      ],
      "metadata": {
        "id": "E10jhc9gVUt2"
      },
      "id": "E10jhc9gVUt2"
    },
    {
      "cell_type": "code",
      "source": [
        "# this solution doesn't work, for it require [({})].  but s=\"()[]{}\" is true.\n",
        "class Solution:\n",
        "    def isValid(self, s: str) -> bool:\n",
        "\n",
        "        map_dict = {\"}\":\"{\", \"]\":\"[\", \")\":\"(\"}\n",
        "\n",
        "        l,r = 0, len(s)-1\n",
        "        while l<r:\n",
        "\n",
        "            print(r,l)\n",
        "\n",
        "            while l<r:\n",
        "                if s[l] != map_dict[s[r]]:\n",
        "                    return False\n",
        "                l += 1\n",
        "                r -= 1\n",
        "\n",
        "        return True"
      ],
      "metadata": {
        "id": "c6clW3uawiDv"
      },
      "id": "c6clW3uawiDv",
      "execution_count": null,
      "outputs": []
    },
    {
      "cell_type": "code",
      "source": [
        "class Solution:\n",
        "    def isValid(self, s: str) -> bool:\n",
        "     #写另外一种找match的方法\n",
        "        Map = {\")\": \"(\", \"]\": \"[\", \"}\": \"{\"}\n",
        "        stack = []\n",
        "\n",
        "        for char in s:\n",
        "\n",
        "            if char not in Map:\n",
        "                stack.append(char)\n",
        "                continue #此时不删除。\n",
        "\n",
        "            #如果当前是闭括号。在map中且匹配。\n",
        "            if not stack or Map[char] != stack[-1]:\n",
        "                return False\n",
        "            stack.pop()\n",
        "\n",
        "        return not stack\n"
      ],
      "metadata": {
        "id": "Ru93spqCVU8i"
      },
      "id": "Ru93spqCVU8i",
      "execution_count": null,
      "outputs": []
    },
    {
      "cell_type": "code",
      "source": [],
      "metadata": {
        "id": "b_il9NPwVU_x"
      },
      "id": "b_il9NPwVU_x",
      "execution_count": null,
      "outputs": []
    },
    {
      "cell_type": "markdown",
      "source": [
        "## Minimum Stack\n"
      ],
      "metadata": {
        "id": "p-rHGsDn6Gkl"
      },
      "id": "p-rHGsDn6Gkl"
    },
    {
      "cell_type": "code",
      "source": [
        "class MinStack:\n",
        "\n",
        "    def __init__(self):\n",
        "        self.stack = []\n",
        "        self.minStack = []\n",
        "\n",
        "\n",
        "    def push(self, val: int) -> None:\n",
        "        self.stack.append(val)\n",
        "        val = min(val, self.minStack[-1] if self.minStack else val)\n",
        "        self.minStack.append(val)\n",
        "\n",
        "    def pop(self) -> None:\n",
        "        self.stack.pop()\n",
        "        self.minStack.pop()\n",
        "\n",
        "    def top(self) -> int:\n",
        "        return self.stack[-1]\n",
        "\n",
        "    def getMin(self) -> int:\n",
        "        return self.minStack[-1]\n",
        "\n"
      ],
      "metadata": {
        "id": "L3E8Io7E6GyP"
      },
      "id": "L3E8Io7E6GyP",
      "execution_count": null,
      "outputs": []
    },
    {
      "cell_type": "code",
      "source": [
        "min(stack)"
      ],
      "metadata": {
        "colab": {
          "base_uri": "https://localhost:8080/"
        },
        "id": "-m9UJkHd6G03",
        "outputId": "8fd127d3-58e2-46a2-e27d-807b17ad8e4a"
      },
      "id": "-m9UJkHd6G03",
      "execution_count": null,
      "outputs": [
        {
          "output_type": "execute_result",
          "data": {
            "text/plain": [
              "0"
            ]
          },
          "metadata": {},
          "execution_count": 2
        }
      ]
    },
    {
      "cell_type": "markdown",
      "source": [
        "## Evaluate Reverse Polish Notation\n"
      ],
      "metadata": {
        "id": "agPkd6th_QiG"
      },
      "id": "agPkd6th_QiG"
    },
    {
      "cell_type": "code",
      "source": [
        "stack = [2,1]"
      ],
      "metadata": {
        "id": "se4YQsOV_Qp5"
      },
      "id": "se4YQsOV_Qp5",
      "execution_count": null,
      "outputs": []
    },
    {
      "cell_type": "code",
      "source": [
        "class Solution:\n",
        "    def evalRPN(self, tokens: List[str]) -> int:\n",
        "        #stack, think reversely.\n",
        "        stack = []\n",
        "        for i in tokens:\n",
        "            if i == '+':\n",
        "                stack.append(stack.pop() + stack.pop())\n",
        "\n",
        "            elif i == '-':\n",
        "                a,b = stack.pop(), stack.pop()\n",
        "                stack.append(b-a)\n",
        "\n",
        "            elif i == '*':\n",
        "                stack.append(stack.pop() * stack.pop())\n",
        "\n",
        "            elif i == '/':\n",
        "                a,b = stack.pop(), stack.pop()\n",
        "                stack.append(int(float(b)/a))\n",
        "\n",
        "            else:\n",
        "                stack.append(int(i))\n",
        "        return stack[0]\n",
        "\n",
        "\n",
        "\n"
      ],
      "metadata": {
        "id": "Ii2_oOgt_QsY"
      },
      "id": "Ii2_oOgt_QsY",
      "execution_count": null,
      "outputs": []
    },
    {
      "cell_type": "code",
      "source": [
        "stack"
      ],
      "metadata": {
        "colab": {
          "base_uri": "https://localhost:8080/"
        },
        "id": "eO785Zk6_d3m",
        "outputId": "5adfc1f5-eff9-4c21-b36a-3ad6bc870962"
      },
      "id": "eO785Zk6_d3m",
      "execution_count": null,
      "outputs": [
        {
          "output_type": "execute_result",
          "data": {
            "text/plain": [
              "[3]"
            ]
          },
          "metadata": {},
          "execution_count": 15
        }
      ]
    },
    {
      "cell_type": "markdown",
      "source": [
        "## generate parenthesis"
      ],
      "metadata": {
        "id": "5FdMjqmZAhDp"
      },
      "id": "5FdMjqmZAhDp"
    },
    {
      "cell_type": "code",
      "source": [
        "class Solution:\n",
        "    def generateParenthesis(self, n: int) -> List[str]:\n",
        "        # add open if open < n\n",
        "        # add end if end<open\n",
        "        # stop while open == end == n\n",
        "\n",
        "        stack = []\n",
        "        res = []\n",
        "\n",
        "        #recursively\n",
        "        def backtrack(openN, closedN):\n",
        "            if openN == closedN == n:\n",
        "                res.append(\"\".join(stack))\n",
        "                return\n",
        "\n",
        "            if openN<n:\n",
        "                stack.append(\"(\")\n",
        "                backtrack(openN+1, closedN)\n",
        "                stack.pop()\n",
        "\n",
        "            if closedN < openN:\n",
        "                stack.append(\")\")\n",
        "                backtrack(openN, closedN+1)\n",
        "                stack.pop()\n",
        "\n",
        "        backtrack(0,0)\n",
        "        return res\n",
        "\n"
      ],
      "metadata": {
        "id": "7Z_n6EliAhI1"
      },
      "id": "7Z_n6EliAhI1",
      "execution_count": null,
      "outputs": []
    },
    {
      "cell_type": "code",
      "source": [],
      "metadata": {
        "id": "wSsTetEnAhLL"
      },
      "id": "wSsTetEnAhLL",
      "execution_count": null,
      "outputs": []
    },
    {
      "cell_type": "markdown",
      "source": [
        "## Daily Temperatures\n"
      ],
      "metadata": {
        "id": "-lNrKAEKsQo8"
      },
      "id": "-lNrKAEKsQo8"
    },
    {
      "cell_type": "code",
      "source": [
        "class Solution:\n",
        "    def dailyTemperatures(self, temperatures: List[int]) -> List[int]:\n",
        "        #第i天变暖？\n",
        "        stack = []\n",
        "        n = len(temperatures)\n",
        "        res = [0]*n\n",
        "\n",
        "        for i in range(n):\n",
        "            for j in range(i,n):\n",
        "                if temperatures[j]>temperatures[i]:\n",
        "                    res[i] = j-i\n",
        "                    break\n",
        "        return res\n"
      ],
      "metadata": {
        "id": "VwIW2vSCsQvl"
      },
      "id": "VwIW2vSCsQvl",
      "execution_count": null,
      "outputs": []
    },
    {
      "cell_type": "code",
      "source": [
        "class Solution:\n",
        "    def dailyTemperatures(self, temperatures: List[int]) -> List[int]:\n",
        "        res = [0] * len(temperatures)\n",
        "        stack = [] #pair, [temp, index]\n",
        "\n",
        "        for i,t in enumerate(temperatures):\n",
        "            while stack and t>stack[-1][0]: #current i,t is the highest temperatrue\n",
        "                stackT, stackInd = stack.pop()\n",
        "                res[stackInd] = (i - stackInd)\n",
        "\n",
        "            stack.append([t,i]) #while current is small\n",
        "        return res\n",
        "\n"
      ],
      "metadata": {
        "colab": {
          "base_uri": "https://localhost:8080/"
        },
        "id": "FkzKB5iCsQyC",
        "outputId": "60185aa2-6d8d-49be-9c76-22cc0b86b4fb"
      },
      "id": "FkzKB5iCsQyC",
      "execution_count": null,
      "outputs": [
        {
          "output_type": "stream",
          "name": "stdout",
          "text": [
            "0 0\n",
            "1 10\n",
            "2 12\n",
            "3 22\n",
            "4 10\n"
          ]
        }
      ]
    },
    {
      "cell_type": "markdown",
      "source": [
        "## Car Fleet\n"
      ],
      "metadata": {
        "id": "E_DwUXOS6IoD"
      },
      "id": "E_DwUXOS6IoD"
    },
    {
      "cell_type": "code",
      "source": [
        "target = 10\n",
        "position = [4,1,0,7]\n",
        "speed = [2,2,1,1]"
      ],
      "metadata": {
        "id": "_1-6Mavo6IvC"
      },
      "id": "_1-6Mavo6IvC",
      "execution_count": null,
      "outputs": []
    },
    {
      "cell_type": "code",
      "source": [
        "pair = [[p,s] for p,s in zip(position, speed)]\n",
        "pair\n"
      ],
      "metadata": {
        "colab": {
          "base_uri": "https://localhost:8080/"
        },
        "id": "dpZKUTrC6IxY",
        "outputId": "e6724c26-9a14-43da-9abd-7dfedf5ed5db"
      },
      "id": "dpZKUTrC6IxY",
      "execution_count": null,
      "outputs": [
        {
          "output_type": "execute_result",
          "data": {
            "text/plain": [
              "[[4, 2], [1, 2], [0, 1], [7, 1]]"
            ]
          },
          "metadata": {},
          "execution_count": 21
        }
      ]
    },
    {
      "cell_type": "code",
      "source": [
        "sorted(pair, reverse = True)"
      ],
      "metadata": {
        "colab": {
          "base_uri": "https://localhost:8080/"
        },
        "id": "Q45NzidrDSKF",
        "outputId": "e8661089-5ea7-48f9-d2b5-2b0afc037a33"
      },
      "id": "Q45NzidrDSKF",
      "execution_count": null,
      "outputs": [
        {
          "output_type": "execute_result",
          "data": {
            "text/plain": [
              "[[7, 1], [4, 2], [1, 2], [0, 1]]"
            ]
          },
          "metadata": {},
          "execution_count": 24
        }
      ]
    },
    {
      "cell_type": "code",
      "source": [
        "class Solution:\n",
        "    def carFleet(self, target: int, position: List[int], speed: List[int]) -> int:\n",
        "        pair = [[p,s] for p,s in zip(position, speed)] #list comprehension\n",
        "\n",
        "        stack = []\n",
        "        for p,s in sorted(pair)[::-1]:\n",
        "             #reverse sorted order based on position\n",
        "            stack.append((target - p) / s) #decimal\n",
        "            if len(stack) >= 2 and stack[-1] <= stack[-2]: #collide\n",
        "                stack.pop()\n",
        "\n",
        "        return len(stack)\n",
        "\n",
        "\n",
        "\n",
        "\n",
        "\n"
      ],
      "metadata": {
        "colab": {
          "base_uri": "https://localhost:8080/",
          "height": 341
        },
        "collapsed": true,
        "id": "jE7bNu6tEK-6",
        "outputId": "7a48d597-ebe9-494f-aea8-7dc9dd06e939"
      },
      "id": "jE7bNu6tEK-6",
      "execution_count": null,
      "outputs": [
        {
          "output_type": "error",
          "ename": "NameError",
          "evalue": "name 'List' is not defined",
          "traceback": [
            "\u001b[0;31m---------------------------------------------------------------------------\u001b[0m",
            "\u001b[0;31mNameError\u001b[0m                                 Traceback (most recent call last)",
            "\u001b[0;32m<ipython-input-25-c4b6fa9ad321>\u001b[0m in \u001b[0;36m<cell line: 1>\u001b[0;34m()\u001b[0m\n\u001b[0;32m----> 1\u001b[0;31m \u001b[0;32mclass\u001b[0m \u001b[0mSolution\u001b[0m\u001b[0;34m:\u001b[0m\u001b[0;34m\u001b[0m\u001b[0;34m\u001b[0m\u001b[0m\n\u001b[0m\u001b[1;32m      2\u001b[0m     \u001b[0;32mdef\u001b[0m \u001b[0mcarFleet\u001b[0m\u001b[0;34m(\u001b[0m\u001b[0mself\u001b[0m\u001b[0;34m,\u001b[0m \u001b[0mtarget\u001b[0m\u001b[0;34m:\u001b[0m \u001b[0mint\u001b[0m\u001b[0;34m,\u001b[0m \u001b[0mposition\u001b[0m\u001b[0;34m:\u001b[0m \u001b[0mList\u001b[0m\u001b[0;34m[\u001b[0m\u001b[0mint\u001b[0m\u001b[0;34m]\u001b[0m\u001b[0;34m,\u001b[0m \u001b[0mspeed\u001b[0m\u001b[0;34m:\u001b[0m \u001b[0mList\u001b[0m\u001b[0;34m[\u001b[0m\u001b[0mint\u001b[0m\u001b[0;34m]\u001b[0m\u001b[0;34m)\u001b[0m \u001b[0;34m->\u001b[0m \u001b[0mint\u001b[0m\u001b[0;34m:\u001b[0m\u001b[0;34m\u001b[0m\u001b[0;34m\u001b[0m\u001b[0m\n\u001b[1;32m      3\u001b[0m         \u001b[0mpair\u001b[0m \u001b[0;34m=\u001b[0m \u001b[0;34m[\u001b[0m\u001b[0;34m[\u001b[0m\u001b[0mp\u001b[0m\u001b[0;34m,\u001b[0m\u001b[0ms\u001b[0m\u001b[0;34m]\u001b[0m \u001b[0;32mfor\u001b[0m \u001b[0mp\u001b[0m\u001b[0;34m,\u001b[0m\u001b[0ms\u001b[0m \u001b[0;32min\u001b[0m \u001b[0mzip\u001b[0m\u001b[0;34m(\u001b[0m\u001b[0mposition\u001b[0m\u001b[0;34m,\u001b[0m \u001b[0mspeed\u001b[0m\u001b[0;34m)\u001b[0m\u001b[0;34m]\u001b[0m \u001b[0;31m#list comprehension\u001b[0m\u001b[0;34m\u001b[0m\u001b[0;34m\u001b[0m\u001b[0m\n\u001b[1;32m      4\u001b[0m \u001b[0;34m\u001b[0m\u001b[0m\n\u001b[1;32m      5\u001b[0m         \u001b[0mstack\u001b[0m \u001b[0;34m=\u001b[0m \u001b[0;34m[\u001b[0m\u001b[0;34m]\u001b[0m\u001b[0;34m\u001b[0m\u001b[0;34m\u001b[0m\u001b[0m\n",
            "\u001b[0;32m<ipython-input-25-c4b6fa9ad321>\u001b[0m in \u001b[0;36mSolution\u001b[0;34m()\u001b[0m\n\u001b[1;32m      1\u001b[0m \u001b[0;32mclass\u001b[0m \u001b[0mSolution\u001b[0m\u001b[0;34m:\u001b[0m\u001b[0;34m\u001b[0m\u001b[0;34m\u001b[0m\u001b[0m\n\u001b[0;32m----> 2\u001b[0;31m     \u001b[0;32mdef\u001b[0m \u001b[0mcarFleet\u001b[0m\u001b[0;34m(\u001b[0m\u001b[0mself\u001b[0m\u001b[0;34m,\u001b[0m \u001b[0mtarget\u001b[0m\u001b[0;34m:\u001b[0m \u001b[0mint\u001b[0m\u001b[0;34m,\u001b[0m \u001b[0mposition\u001b[0m\u001b[0;34m:\u001b[0m \u001b[0mList\u001b[0m\u001b[0;34m[\u001b[0m\u001b[0mint\u001b[0m\u001b[0;34m]\u001b[0m\u001b[0;34m,\u001b[0m \u001b[0mspeed\u001b[0m\u001b[0;34m:\u001b[0m \u001b[0mList\u001b[0m\u001b[0;34m[\u001b[0m\u001b[0mint\u001b[0m\u001b[0;34m]\u001b[0m\u001b[0;34m)\u001b[0m \u001b[0;34m->\u001b[0m \u001b[0mint\u001b[0m\u001b[0;34m:\u001b[0m\u001b[0;34m\u001b[0m\u001b[0;34m\u001b[0m\u001b[0m\n\u001b[0m\u001b[1;32m      3\u001b[0m         \u001b[0mpair\u001b[0m \u001b[0;34m=\u001b[0m \u001b[0;34m[\u001b[0m\u001b[0;34m[\u001b[0m\u001b[0mp\u001b[0m\u001b[0;34m,\u001b[0m\u001b[0ms\u001b[0m\u001b[0;34m]\u001b[0m \u001b[0;32mfor\u001b[0m \u001b[0mp\u001b[0m\u001b[0;34m,\u001b[0m\u001b[0ms\u001b[0m \u001b[0;32min\u001b[0m \u001b[0mzip\u001b[0m\u001b[0;34m(\u001b[0m\u001b[0mposition\u001b[0m\u001b[0;34m,\u001b[0m \u001b[0mspeed\u001b[0m\u001b[0;34m)\u001b[0m\u001b[0;34m]\u001b[0m \u001b[0;31m#list comprehension\u001b[0m\u001b[0;34m\u001b[0m\u001b[0;34m\u001b[0m\u001b[0m\n\u001b[1;32m      4\u001b[0m \u001b[0;34m\u001b[0m\u001b[0m\n\u001b[1;32m      5\u001b[0m         \u001b[0mstack\u001b[0m \u001b[0;34m=\u001b[0m \u001b[0;34m[\u001b[0m\u001b[0;34m]\u001b[0m\u001b[0;34m\u001b[0m\u001b[0;34m\u001b[0m\u001b[0m\n",
            "\u001b[0;31mNameError\u001b[0m: name 'List' is not defined"
          ]
        }
      ]
    },
    {
      "cell_type": "markdown",
      "source": [
        "# Binary Search"
      ],
      "metadata": {
        "id": "EabihVj7Esf_"
      },
      "id": "EabihVj7Esf_"
    },
    {
      "cell_type": "markdown",
      "source": [
        "## Binary Search"
      ],
      "metadata": {
        "id": "yFkTJ8ukEudf"
      },
      "id": "yFkTJ8ukEudf"
    },
    {
      "cell_type": "code",
      "source": [
        "class Solution:\n",
        "    def search(self, nums: List[int], target: int) -> int:\n",
        "\n",
        "        l,r = 0, len(nums)-1\n",
        "\n",
        "        while l <= r:\n",
        "            m = l + ((r-l)//2)\n",
        "            if nums[m]>target:\n",
        "                r = m - 1\n",
        "            elif nums[m]<target:\n",
        "                l = m + 1\n",
        "            else:\n",
        "                return m #直到m是最终答案\n",
        "\n",
        "        return -1\n",
        "\n",
        "\n"
      ],
      "metadata": {
        "id": "fC9b7piCEsn5"
      },
      "id": "fC9b7piCEsn5",
      "execution_count": null,
      "outputs": []
    },
    {
      "cell_type": "code",
      "source": [],
      "metadata": {
        "id": "_ijMMWNtEsrK"
      },
      "id": "_ijMMWNtEsrK",
      "execution_count": null,
      "outputs": []
    },
    {
      "cell_type": "markdown",
      "source": [
        "## Search 2D Matrix"
      ],
      "metadata": {
        "id": "nv5n23AnqaX3"
      },
      "id": "nv5n23AnqaX3"
    },
    {
      "cell_type": "code",
      "source": [
        "matrix = [[1,2,4,8],[10,11,12,13],[14,20,30,40]]\n",
        "target = 10 #0"
      ],
      "metadata": {
        "id": "P0211TeOqadD"
      },
      "id": "P0211TeOqadD",
      "execution_count": 3,
      "outputs": []
    },
    {
      "cell_type": "markdown",
      "source": [],
      "metadata": {
        "id": "VKGmcHx9sUrJ"
      },
      "id": "VKGmcHx9sUrJ"
    },
    {
      "cell_type": "markdown",
      "source": [],
      "metadata": {
        "id": "7i2EjM8TsUm1"
      },
      "id": "7i2EjM8TsUm1"
    },
    {
      "cell_type": "code",
      "source": [
        "row_n = len(matrix)-1\n",
        "col_n = len(matrix[0])-1\n"
      ],
      "metadata": {
        "id": "gphcQa6mqafS"
      },
      "id": "gphcQa6mqafS",
      "execution_count": 8,
      "outputs": []
    },
    {
      "cell_type": "code",
      "source": [
        "#总之就是用两次binary search.\n",
        "\n",
        "class Solution:\n",
        "    def searchMatrix(self, matrix: List[List[int]], target: int) -> bool:\n",
        "        row_n = len(matrix)-1\n",
        "        col_n = len(matrix[0])-1\n",
        "\n",
        "        top, bot = 0, row_n\n",
        "\n",
        "        while top<= bot:\n",
        "            row = (top + bot)//2\n",
        "\n",
        "            if matrix[row][col_n] < target:\n",
        "                top += 1\n",
        "\n",
        "            elif matrix[row][0] > target:\n",
        "                bot -= 1\n",
        "            else:\n",
        "                break\n",
        "        if not top<= bot:\n",
        "            return False\n",
        "\n",
        "        l,r = 0, col_n\n",
        "\n",
        "        while l <= r:\n",
        "            m = l + (r-l)//2\n",
        "            if matrix[row][m] < target:\n",
        "                l += 1\n",
        "            elif matrix[row][m] > target:\n",
        "                r -= 1\n",
        "            else:\n",
        "                return True\n",
        "        return False\n"
      ],
      "metadata": {
        "id": "EsqTa97Kqp6Q"
      },
      "id": "EsqTa97Kqp6Q",
      "execution_count": 10,
      "outputs": []
    },
    {
      "cell_type": "markdown",
      "source": [
        "## Eat Bananas"
      ],
      "metadata": {
        "id": "LsnyqXRty-WG"
      },
      "id": "LsnyqXRty-WG"
    },
    {
      "cell_type": "code",
      "source": [
        "import math\n",
        "piles = [1,4,3,2]\n",
        "k = 2\n",
        "h = 9"
      ],
      "metadata": {
        "id": "l5HXP83yy-bq"
      },
      "id": "l5HXP83yy-bq",
      "execution_count": 24,
      "outputs": []
    },
    {
      "cell_type": "code",
      "source": [
        "class Solution:\n",
        "    def minEatingSpeed(self, piles: List[int], h: int) -> int:\n",
        "        # h : hours\n",
        "        # k : eat bananas per hour. find the minimum k.\n",
        "\n",
        "        l, r = 1, max(piles) #最快的情况是，以最大piles，吃len(piles)hours\n",
        "        res = r\n",
        "\n",
        "        while l<=r:\n",
        "            cur_k = l + (r-l)//2\n",
        "            count_hours = sum([math.ceil(i/cur_k) for i in piles])\n",
        "\n",
        "            if count_hours <= h:\n",
        "                res = cur_k\n",
        "                r = cur_k - 1\n",
        "            else:\n",
        "                l = cur_k + 1\n",
        "\n",
        "        return res\n",
        "\n"
      ],
      "metadata": {
        "id": "zOEzzzCM3PHi"
      },
      "id": "zOEzzzCM3PHi",
      "execution_count": null,
      "outputs": []
    },
    {
      "cell_type": "markdown",
      "source": [
        "## Find Minimum in Rotated Sorted Array"
      ],
      "metadata": {
        "id": "9g5G-0aD5BHb"
      },
      "id": "9g5G-0aD5BHb"
    },
    {
      "cell_type": "code",
      "source": [
        "class Solution:\n",
        "    def findMin(self, nums: List[int]) -> int:\n",
        "        start, end = 0, len(nums)-1\n",
        "        min_nums = nums[0]\n",
        "\n",
        "        while start <= end:\n",
        "            mid = start + (end - start)//2\n",
        "            min_nums = min(nums[mid], min_nums)\n",
        "\n",
        "            if nums[mid] > nums[end]: #min lies in right\n",
        "                start = mid + 1\n",
        "\n",
        "            else:\n",
        "                end = mid - 1\n",
        "\n",
        "\n",
        "        return min(min_nums, nums[start])\n",
        "\n"
      ],
      "metadata": {
        "id": "mngTPo9B5BNB"
      },
      "id": "mngTPo9B5BNB",
      "execution_count": null,
      "outputs": []
    },
    {
      "cell_type": "markdown",
      "source": [
        "## Time Based Key-Value Store\n"
      ],
      "metadata": {
        "id": "s3JWw8eM_iSb"
      },
      "id": "s3JWw8eM_iSb"
    },
    {
      "cell_type": "code",
      "source": [
        "class TimeMap:\n",
        "\n",
        "    def __init__(self):\n",
        "        self.keyStore = {} #key: list of [val, timestamp]\n",
        "\n",
        "\n",
        "    def set(self, key: str, value: str, timestamp: int) -> None:\n",
        "        if key not in self.keyStore:\n",
        "            self.keyStore[key] = []\n",
        "        self.keyStore[key].append([value, timestamp])\n",
        "\n",
        "\n",
        "\n",
        "    def get(self, key: str, timestamp: int) -> str:\n",
        "        values = self.keyStore.get(key,[])\n",
        "        res = \"\"\n",
        "        l,r = 0, len(values) - 1\n",
        "\n",
        "        while l<=r:\n",
        "            m = l + (r-l)//2\n",
        "            if values[m][1] <= timestamp:\n",
        "                res = values[m][0]\n",
        "                l = m + 1\n",
        "            else:\n",
        "                r = m - 1\n",
        "        return res\n",
        ""
      ],
      "metadata": {
        "id": "pERCChGA5BPW"
      },
      "id": "pERCChGA5BPW",
      "execution_count": null,
      "outputs": []
    },
    {
      "cell_type": "code",
      "source": [],
      "metadata": {
        "id": "Wio0ya0S3A2I"
      },
      "id": "Wio0ya0S3A2I",
      "execution_count": null,
      "outputs": []
    },
    {
      "cell_type": "markdown",
      "source": [
        "# Linked List\n",
        "\n",
        "\n",
        "single linked list\n",
        "\n",
        "double linked list"
      ],
      "metadata": {
        "id": "aArjUcuXJljV"
      },
      "id": "aArjUcuXJljV"
    },
    {
      "cell_type": "code",
      "source": [
        "class node:\n",
        "    def __init__(self, data = None):\n",
        "        self.data = data\n",
        "        self.next = None\n",
        "\n",
        "class linked_list:\n",
        "    def __init__(self):\n",
        "        self.head = node()\n",
        "\n",
        "    def append(self, data):\n",
        "        new_node = node(data)\n",
        "        cur = self.head\n",
        "        while cur.next != None:\n",
        "            cur = cur.next\n",
        "        cur.next = new_node\n",
        "\n",
        "    def length(self):\n",
        "        cur = self.head\n",
        "        total = 0\n",
        "        while cur.next != None:\n",
        "            total += 1\n",
        "            cur = cur.next\n",
        "        return total\n",
        "\n",
        "    def display(self):\n",
        "        elems = []\n",
        "        cur_node = self.head\n",
        "        while cur_node.next != None:\n",
        "            cur_node = cur_node.next\n",
        "            elems.append(cur_node.data)\n",
        "        print(elems)\n",
        "\n",
        "    def get(self, index):\n",
        "        if index >= self.length():\n",
        "            print(\"error, get index out of range\")\n",
        "            return None\n",
        "\n",
        "        cur_idx = 0\n",
        "        cur_node = self.head\n",
        "        while True:\n",
        "            cur_node = cur_node.next\n",
        "            if cur_idx == index:\n",
        "                return cur_node.data\n",
        "            cur_idx += 1\n",
        "\n",
        "    def erase(self, index):\n",
        "        if index >= self.length():\n",
        "            print(\"error, get index out of range\")\n",
        "            return\n",
        "        cur_idx = 0\n",
        "        cur_node = self.head\n",
        "\n",
        "        while True:\n",
        "            last_node = cur_node\n",
        "            cur_node = cur_node.next\n",
        "\n",
        "            if cur_idx == index:\n",
        "                last_node.next = cur_node.next\n",
        "                return\n",
        "            cur_idx += 1\n",
        "\n",
        "\n",
        "\n",
        "\n",
        "\n",
        "\n",
        "my_list = linked_list()\n",
        "\n",
        "my_list.display()\n",
        "my_list.append(1)\n",
        "my_list.append(2)\n",
        "my_list.append(3)\n",
        "my_list.append(4)\n",
        "\n",
        "\n",
        "my_list.display()\n",
        "my_list.get(0)\n",
        "my_list.erase(1)\n",
        "my_list.display()\n",
        "\n",
        "\n"
      ],
      "metadata": {
        "colab": {
          "base_uri": "https://localhost:8080/"
        },
        "id": "Z_4hdwtdKcLR",
        "outputId": "6628dbbc-1693-4b28-e5c1-86ba3fea365c"
      },
      "id": "Z_4hdwtdKcLR",
      "execution_count": 12,
      "outputs": [
        {
          "output_type": "stream",
          "name": "stdout",
          "text": [
            "[]\n",
            "[1, 2, 3, 4]\n",
            "[1, 3, 4]\n"
          ]
        }
      ]
    },
    {
      "cell_type": "markdown",
      "source": [
        "## Reverse a Linked List\n"
      ],
      "metadata": {
        "id": "PE2YzUNoJloY"
      },
      "id": "PE2YzUNoJloY"
    },
    {
      "cell_type": "code",
      "source": [
        "# Definition for singly-linked list.\n",
        "# class ListNode:\n",
        "#     def __init__(self, val=0, next=None):\n",
        "#         self.val = val\n",
        "#         self.next = next\n",
        "\n",
        "class Solution:\n",
        "    def reverseList(self, head: Optional[ListNode]) -> Optional[ListNode]:\n",
        "        prev = None\n",
        "        cur = head\n",
        "\n",
        "        while cur:\n",
        "            temp = cur.next\n",
        "            cur.next = prev\n",
        "            prev = cur\n",
        "            cur = temp\n",
        "\n",
        "        return prev\n"
      ],
      "metadata": {
        "id": "AKaspR_BJlvD"
      },
      "id": "AKaspR_BJlvD",
      "execution_count": null,
      "outputs": []
    },
    {
      "cell_type": "code",
      "source": [],
      "metadata": {
        "id": "LLxJ4jPlJl4y"
      },
      "id": "LLxJ4jPlJl4y",
      "execution_count": null,
      "outputs": []
    },
    {
      "cell_type": "markdown",
      "source": [
        "## merge two sorted linked list"
      ],
      "metadata": {
        "id": "o0YbIfs1X_vg"
      },
      "id": "o0YbIfs1X_vg"
    },
    {
      "cell_type": "code",
      "source": [
        "# Definition for singly-linked list.\n",
        "# class ListNode:\n",
        "#     def __init__(self, val=0, next=None):\n",
        "#         self.val = val\n",
        "#         self.next = next\n",
        "\n",
        "class Solution:\n",
        "    def mergeTwoLists(self, list1: Optional[ListNode], list2: Optional[ListNode]) -> Optional[ListNode]:\n",
        "\n",
        "        dummy = merge_node = ListNode() #head as none, this is start None.\n",
        "\n",
        "        #dummy 变量用于保存合并后链表的头部位置，这个位置在整个过程中不会改变，始终指向哑节点。\n",
        "        #merge_node是最终节点。\n",
        "\n",
        "        while list1 and list2:  #因为是sorted过的，所以一个停止了，另一个在while结束后加上即可。\n",
        "\n",
        "            if list1.val < list2.val:\n",
        "                merge_node.next = list1\n",
        "                list1 = list1.next\n",
        "            else:\n",
        "                merge_node.next = list2\n",
        "                list2 = list2.next\n",
        "            merge_node = merge_node.next\n",
        "\n",
        "        merge_node.next = list1 or list2\n",
        "\n",
        "        return dummy.next"
      ],
      "metadata": {
        "id": "vPJvKQm-X_6b"
      },
      "id": "vPJvKQm-X_6b",
      "execution_count": null,
      "outputs": []
    },
    {
      "cell_type": "markdown",
      "source": [
        "## Reorder Linked List\n"
      ],
      "metadata": {
        "id": "9D8d8zZiZNF1"
      },
      "id": "9D8d8zZiZNF1"
    },
    {
      "cell_type": "code",
      "source": [
        "# Definition for singly-linked list.\n",
        "# class ListNode:\n",
        "#     def __init__(self, val=0, next=None):\n",
        "#         self.val = val\n",
        "#         self.next = next\n",
        "\n",
        "#get first half.\n",
        "#get second half and reverse.\n",
        "#merge.\n",
        "\n",
        "class Solution:\n",
        "    def reorderList(self, head: Optional[ListNode]) -> None:\n",
        "        slow = head\n",
        "        fast = head.next\n",
        "        while fast and fast.next:\n",
        "            slow = slow.next\n",
        "            fast = fast.next.next\n",
        "        #slow = midpoint now\n",
        "        #reverse the second half.\n",
        "\n",
        "        second = slow.next\n",
        "        prev = slow.next = None #very important, split list into half.\n",
        "\n",
        "        while second: #reverse second half\n",
        "            temp = second.next\n",
        "            second.next = prev\n",
        "            prev = second\n",
        "            second = temp\n",
        "\n",
        "        #concat\n",
        "        first = head\n",
        "        second = prev #because second = second.next = none\n",
        "\n",
        "        while second:\n",
        "            tmp1 = first.next\n",
        "            tmp2 = second.next\n",
        "            first.next = second\n",
        "            second.next = tmp1\n",
        "            first = tmp1\n",
        "            second = tmp2\n",
        "\n",
        ""
      ],
      "metadata": {
        "id": "g0UcS5AwZNNH"
      },
      "id": "g0UcS5AwZNNH",
      "execution_count": null,
      "outputs": []
    },
    {
      "cell_type": "markdown",
      "source": [
        "## Remove node from end of linked list"
      ],
      "metadata": {
        "id": "vLnes2pzx_DK"
      },
      "id": "vLnes2pzx_DK"
    },
    {
      "cell_type": "code",
      "source": [
        "# Definition for singly-linked list.\n",
        "# class ListNode:\n",
        "#     def __init__(self, val=0, next=None):\n",
        "#         self.val = val\n",
        "#         self.next = next\n",
        "\n",
        "#方案一：\n",
        "# 先reverse一遍。\n",
        "# 再正着数一遍。\n",
        "# 再reverse回来。\n",
        "\n",
        "#方案二：\n",
        "#计算length\n",
        "#get idx delete.\n",
        "class Solution:\n",
        "    def removeNthFromEnd(self, head: Optional[ListNode], n: int) -> Optional[ListNode]:\n",
        "        k = 1\n",
        "        #reverse\n",
        "        prev = None\n",
        "        cur = head\n",
        "        while cur:\n",
        "            tmp = cur.next\n",
        "            cur.next = prev\n",
        "            prev = cur\n",
        "            cur = tmp\n",
        "        #prev is head.\n",
        "\n",
        "        # define vitual head\n",
        "        dummy = ListNode(0)\n",
        "        dummy.next = prev\n",
        "\n",
        "        cur = dummy\n",
        "\n",
        "        for i in range(n-1):\n",
        "            cur = cur.next\n",
        "        cur.next = cur.next.next\n",
        "\n",
        "        #reverse back\n",
        "        cur_rev = dummy.next\n",
        "        prev_rev = None\n",
        "        while cur_rev:\n",
        "            tmp = cur_rev.next\n",
        "            cur_rev.next = prev_rev\n",
        "            prev_rev = cur_rev\n",
        "            cur_rev = tmp\n",
        "        return prev_rev"
      ],
      "metadata": {
        "id": "W07DDfhXx_KC"
      },
      "id": "W07DDfhXx_KC",
      "execution_count": null,
      "outputs": []
    },
    {
      "cell_type": "code",
      "source": [
        "# Definition for singly-linked list.\n",
        "# class ListNode:\n",
        "#     def __init__(self, val=0, next=None):\n",
        "#         self.val = val\n",
        "#         self.next = next\n",
        "\n",
        "#方案一：\n",
        "# 先reverse一遍。\n",
        "# 再正着数一遍。\n",
        "# 再reverse回来。\n",
        "\n",
        "#方案二：\n",
        "#计算length\n",
        "#get idx delete.\n",
        "class Solution:\n",
        "    def removeNthFromEnd(self, head: Optional[ListNode], n: int) -> Optional[ListNode]:\n",
        "        k = 1\n",
        "        #reverse\n",
        "        prev = None\n",
        "        cur = head\n",
        "        while cur:\n",
        "            tmp = cur.next\n",
        "            cur.next = prev\n",
        "            prev = cur\n",
        "            cur = tmp\n",
        "        #prev is head.\n",
        "\n",
        "        # define vitual head\n",
        "        dummy = ListNode(0)\n",
        "        dummy.next = prev\n",
        "\n",
        "        cur = dummy\n",
        "\n",
        "        for i in range(n-1):\n",
        "            cur = cur.next\n",
        "        cur.next = cur.next.next\n",
        "\n",
        "        #reverse back\n",
        "        cur_rev = dummy.next\n",
        "        prev_rev = None\n",
        "        while cur_rev:\n",
        "            tmp = cur_rev.next\n",
        "            cur_rev.next = prev_rev\n",
        "            prev_rev = cur_rev\n",
        "            cur_rev = tmp\n",
        "        return prev_rev\n",
        "\n",
        "\n"
      ],
      "metadata": {
        "id": "h0sc9lb8x_MM"
      },
      "id": "h0sc9lb8x_MM",
      "execution_count": null,
      "outputs": []
    },
    {
      "cell_type": "code",
      "source": [
        "class Solution:\n",
        "    def removeNthFromEnd(self, head: Optional[ListNode], n: int) -> Optional[ListNode]:\n",
        "        # Create a dummy node and connect it to the head\n",
        "        dummy = ListNode(0)\n",
        "        dummy.next = head\n",
        "\n",
        "        # Initialize two pointers, fast and slow, both pointing to the dummy node\n",
        "        fast = slow = dummy\n",
        "\n",
        "        # Move the fast pointer n nodes ahead\n",
        "        for _ in range(n):\n",
        "            fast = fast.next\n",
        "\n",
        "        # Move both pointers until the fast pointer reaches the end\n",
        "        while fast.next:\n",
        "            fast = fast.next\n",
        "            slow = slow.next\n",
        "\n",
        "        # Delete the nth node from the end by updating the slow pointer's next reference\n",
        "        slow.next = slow.next.next\n",
        "\n",
        "        return dummy.next"
      ],
      "metadata": {
        "id": "C2-QcenCZNPW"
      },
      "id": "C2-QcenCZNPW",
      "execution_count": null,
      "outputs": []
    },
    {
      "cell_type": "markdown",
      "source": [
        "## Copy Linked List with Random Pointer\n",
        "\n",
        "所以linked list，更多是对于指针的理解。比起list string是对变量的理解。\n"
      ],
      "metadata": {
        "id": "rQNM6eymzi1-"
      },
      "id": "rQNM6eymzi1-"
    },
    {
      "cell_type": "code",
      "source": [
        "\"\"\"\n",
        "# Definition for a Node.\n",
        "class Node:\n",
        "    def __init__(self, x: int, next: 'Node' = None, random: 'Node' = None):\n",
        "        self.val = int(x)\n",
        "        self.next = next\n",
        "        self.random = random\n",
        "\"\"\"\n",
        "\n",
        "class Solution:\n",
        "    def copyRandomList(self, head: 'Optional[Node]') -> 'Optional[Node]':\n",
        "        #hashmap\n",
        "        oldToCopy = {None:None}\n",
        "\n",
        "        #create a hash map\n",
        "        cur = head\n",
        "        while cur:\n",
        "            new_node = Node(cur.val)\n",
        "            oldToCopy[cur] = new_node\n",
        "            cur = cur.next\n",
        "\n",
        "        #create link\n",
        "        cur = head\n",
        "        while cur:\n",
        "            copy = oldToCopy[cur]\n",
        "            copy.next = oldToCopy[cur.next]\n",
        "            copy.random = oldToCopy[cur.random]\n",
        "            cur = cur.next\n",
        "\n",
        "        return oldToCopy[head]"
      ],
      "metadata": {
        "id": "krCL5O1Pzi8M"
      },
      "id": "krCL5O1Pzi8M",
      "execution_count": null,
      "outputs": []
    },
    {
      "cell_type": "markdown",
      "source": [
        "## Add Two Numbers\n",
        "\n",
        "\n",
        "这个解决方案并不是最优的,因为它没有考虑到链表中数字的顺序。题目中给出的链表是以相反的顺序存储数字的,而你的解决方案将链表转换成了正常顺序的数字,这样就改变了原始的数据结构。\n",
        "\n",
        "一个更好的解决方案是:\n",
        "\n",
        "1. 同时遍历两个链表,将对应位置的数字相加,同时考虑进位。\n",
        "2. 创建一个新的链表来存储相加的结果。\n",
        "3. 如果两个链表的长度不同,则将较短的链表剩余的位置视为0。\n",
        "4. 如果最后还有进位,则在结果链表的末尾添加一个新的节点"
      ],
      "metadata": {
        "id": "DcEnD34XKMpp"
      },
      "id": "DcEnD34XKMpp"
    },
    {
      "cell_type": "code",
      "source": [
        "975%1000"
      ],
      "metadata": {
        "id": "T0USfMg5zi-Z",
        "outputId": "bb3b74b4-0cba-4957-ee5c-cdd60556f0d6",
        "colab": {
          "base_uri": "https://localhost:8080/"
        }
      },
      "id": "T0USfMg5zi-Z",
      "execution_count": 6,
      "outputs": [
        {
          "output_type": "execute_result",
          "data": {
            "text/plain": [
              "975"
            ]
          },
          "metadata": {},
          "execution_count": 6
        }
      ]
    },
    {
      "cell_type": "code",
      "source": [
        "num_str = list(str(975))\n",
        "\n",
        "for i in range(len(num_str)-1,-1,-1):\n",
        "    print(i)"
      ],
      "metadata": {
        "id": "9EH6euvKX_85",
        "outputId": "a8efc780-d017-42e4-a591-ec47d5462daf",
        "colab": {
          "base_uri": "https://localhost:8080/"
        }
      },
      "id": "9EH6euvKX_85",
      "execution_count": 11,
      "outputs": [
        {
          "output_type": "stream",
          "name": "stdout",
          "text": [
            "2\n",
            "1\n",
            "0\n"
          ]
        }
      ]
    },
    {
      "cell_type": "code",
      "source": [
        "# Definition for singly-linked list.\n",
        "# class ListNode:\n",
        "#     def __init__(self, val=0, next=None):\n",
        "#         self.val = val\n",
        "#         self.next = next\n",
        "\n",
        "class Solution:\n",
        "    def addTwoNumbers(self, l1: Optional[ListNode], l2: Optional[ListNode]) -> Optional[ListNode]:\n",
        "        #先计算每个linked list的数字。先不考虑reverse的。\n",
        "        #再将数字加起来。\n",
        "        #最后创建一个linked list。\n",
        "\n",
        "        def get_sum(l1):\n",
        "            cur1 = l1\n",
        "            digit = 1\n",
        "            l1_val = 0\n",
        "            while cur1:\n",
        "                l1_val = l1_val + cur1.val * digit\n",
        "                digit = digit * 10\n",
        "                cur1 = cur1.next\n",
        "            return l1_val\n",
        "        l1_val = get_sum(l1)\n",
        "        l2_val = get_sum(l2)\n",
        "        l_sum = l1_val + l2_val\n",
        "        l_sum_str = list(str(l_sum)) #['9', '7', '5']\n",
        "\n",
        "        dummy = ListNode(0)\n",
        "        cur = dummy\n",
        "        for i in range(len(l_sum_str)-1,-1,-1):\n",
        "            cur.next = ListNode(l_sum_str[i])\n",
        "            cur = cur.next\n",
        "\n",
        "        return dummy.next\n"
      ],
      "metadata": {
        "id": "SOUVnw6QNRf6"
      },
      "id": "SOUVnw6QNRf6",
      "execution_count": null,
      "outputs": []
    },
    {
      "cell_type": "code",
      "source": [
        "# Definition for singly-linked list.\n",
        "# class ListNode:\n",
        "#     def __init__(self, val=0, next=None):\n",
        "#         self.val = val\n",
        "#         self.next = next\n",
        "\n",
        "class Solution:\n",
        "    def addTwoNumbers(self, l1: Optional[ListNode], l2: Optional[ListNode]) -> Optional[ListNode]:\n",
        "        dummy = ListNode()\n",
        "        cur = dummy\n",
        "\n",
        "        carry = 0\n",
        "        while l1 or l2 or carry:\n",
        "            v1 = l1.val if l1 else 0\n",
        "            v2 = l2.val if l2 else 0\n",
        "\n",
        "            # new digit\n",
        "            val = v1 + v2 + carry\n",
        "            carry = val // 10\n",
        "            val = val % 10\n",
        "            cur.next = ListNode(val)\n",
        "\n",
        "            # update ptrs\n",
        "            cur = cur.next\n",
        "            l1 = l1.next if l1 else None\n",
        "            l2 = l2.next if l2 else None\n",
        "\n",
        "        return dummy.next\n",
        ""
      ],
      "metadata": {
        "id": "gvi6g83CNm7J"
      },
      "id": "gvi6g83CNm7J",
      "execution_count": null,
      "outputs": []
    },
    {
      "cell_type": "markdown",
      "source": [
        "## Linked List Cycle Detection\n"
      ],
      "metadata": {
        "id": "K8jAdrDdNnB2"
      },
      "id": "K8jAdrDdNnB2"
    },
    {
      "cell_type": "code",
      "source": [
        "# Definition for singly-linked list.\n",
        "# class ListNode:\n",
        "#     def __init__(self, val=0, next=None):\n",
        "#         self.val = val\n",
        "#         self.next = next\n",
        "\n",
        "class Solution:\n",
        "    def hasCycle(self, head: Optional[ListNode]) -> bool:\n",
        "        llist_set  = set()\n",
        "        cur = head\n",
        "        while cur:\n",
        "            if cur in llist_set:\n",
        "                return True\n",
        "            llist_set.add(cur)\n",
        "            cur = cur.next\n",
        "        return False\n"
      ],
      "metadata": {
        "id": "CjvtDfE7NoHb"
      },
      "id": "CjvtDfE7NoHb",
      "execution_count": null,
      "outputs": []
    },
    {
      "cell_type": "code",
      "source": [
        "# Definition for singly-linked list.\n",
        "# class ListNode:\n",
        "#     def __init__(self, val=0, next=None):\n",
        "#         self.val = val\n",
        "#         self.next = next\n",
        "\n",
        "class Solution:\n",
        "    def hasCycle(self, head: Optional[ListNode]) -> bool:\n",
        "        slow, fast = head, head\n",
        "\n",
        "        while fast and fast.next:\n",
        "            slow = slow.next\n",
        "            fast = fast.next.next\n",
        "            if slow == fast:\n",
        "                return True\n",
        "        return False\n"
      ],
      "metadata": {
        "id": "ZZxfgQyYNoJo"
      },
      "id": "ZZxfgQyYNoJo",
      "execution_count": null,
      "outputs": []
    },
    {
      "cell_type": "markdown",
      "source": [
        "## Find Duplicate Number[pass]"
      ],
      "metadata": {
        "id": "jQ0_qvr4NnEa"
      },
      "id": "jQ0_qvr4NnEa"
    },
    {
      "cell_type": "code",
      "source": [
        "class Solution:\n",
        "    def findDuplicate(self, nums: List[int]) -> int:\n",
        "        slow, fast = 0, 0\n",
        "        while True:\n",
        "            slow = nums[slow]\n",
        "            fast = nums[nums[fast]]\n",
        "            if slow == fast:\n",
        "                break\n",
        "\n",
        "        slow2 = 0\n",
        "        while True:\n",
        "            slow = nums[slow]\n",
        "            slow2 = nums[slow2]\n",
        "            if slow == slow2:\n",
        "                return slow\n"
      ],
      "metadata": {
        "id": "3iH3HGpJX5oz"
      },
      "id": "3iH3HGpJX5oz",
      "execution_count": null,
      "outputs": []
    },
    {
      "cell_type": "code",
      "source": [],
      "metadata": {
        "id": "Dlljvx6_X5yo"
      },
      "id": "Dlljvx6_X5yo",
      "execution_count": null,
      "outputs": []
    },
    {
      "cell_type": "markdown",
      "source": [
        "## LRU Cache\n",
        "\n",
        "a design question rather than algorithm.\n",
        "\n",
        "don't like it ."
      ],
      "metadata": {
        "id": "qYmBSc_3NRnH"
      },
      "id": "qYmBSc_3NRnH"
    },
    {
      "cell_type": "code",
      "source": [
        "class Node:\n",
        "    def __init__(self, key, val):\n",
        "        self.key = key\n",
        "        self.val = val\n",
        "        self.prev = self.next = None\n",
        "\n",
        "class LRUCache:\n",
        "\n",
        "    def __init__(self, capacity: int):\n",
        "        self.cap = capacity\n",
        "        self.cache = {} #map the key to nodes\n",
        "\n",
        "        # left = least recent use, right = most recent\n",
        "        self.left, self.right = Node(0,0),Node(0,0)\n",
        "        self.left.next, self.right.prev = self.right, self.left\n",
        "\n",
        "    def remove(self, node):\n",
        "        #remove from list\n",
        "        prev, nxt = node.prev, node.next\n",
        "        prev.next, nxt.prev = nxt, prev\n",
        "\n",
        "    def insert(self, node):\n",
        "        #insert at right\n",
        "        prev,nxt = self.right.prev, self.right\n",
        "        prev.next = nxt.prev = node\n",
        "        node.next, node.prev = nxt, prev\n",
        "\n",
        "    def get(self, key: int) -> int:\n",
        "        if key in self.cache:\n",
        "            #todo update most recent\n",
        "            self.remove(self.cache[key])\n",
        "            self.insert(self.cache[key])\n",
        "            return self.cache[key].val\n",
        "        return -1\n",
        "\n",
        "\n",
        "    def put(self, key: int, value: int) -> None:\n",
        "        if key in self.cache:\n",
        "            self.remove(self.cache[key])\n",
        "        self.cache[key] = Node(key,value)\n",
        "        self.insert(self.cache[key])\n",
        "\n",
        "        if len(self.cache) > self.cap:\n",
        "            #remove and del the lru.\n",
        "            lru = self.left.next\n",
        "            self.remove(lru)\n",
        "            del self.cache[lru.key]\n",
        "\n",
        "\n"
      ],
      "metadata": {
        "id": "B9M5Z3AObc9p"
      },
      "id": "B9M5Z3AObc9p",
      "execution_count": null,
      "outputs": []
    },
    {
      "cell_type": "code",
      "source": [],
      "metadata": {
        "id": "eC7TGrESbdEg"
      },
      "id": "eC7TGrESbdEg",
      "execution_count": null,
      "outputs": []
    },
    {
      "cell_type": "markdown",
      "id": "PVAT3O4rAuOA",
      "metadata": {
        "id": "PVAT3O4rAuOA"
      },
      "source": [
        "# Tree"
      ]
    },
    {
      "cell_type": "code",
      "execution_count": null,
      "id": "x0EN48MSAtdQ",
      "metadata": {
        "colab": {
          "base_uri": "https://localhost:8080/"
        },
        "id": "x0EN48MSAtdQ",
        "outputId": "9a1f3b9d-ff0c-4424-aca6-e3b433fa4ca8"
      },
      "outputs": [
        {
          "name": "stdout",
          "output_type": "stream",
          "text": [
            "40\n",
            "98\n",
            "148\n",
            "163\n",
            "267\n",
            "375\n",
            "536\n",
            "662\n",
            "765\n",
            "985\n"
          ]
        },
        {
          "data": {
            "text/plain": [
              "False"
            ]
          },
          "execution_count": 2,
          "metadata": {},
          "output_type": "execute_result"
        }
      ],
      "source": [
        "class node:\n",
        "    def __init__(self, value = None):\n",
        "        self.value = value\n",
        "        self.left_child = None\n",
        "        self.right_child = None\n",
        "\n",
        "class binary_search_tree:\n",
        "    def __init__(self):\n",
        "        self.root = None\n",
        "\n",
        "    def insert(self, value):\n",
        "        #check root none\n",
        "        if self.root == None:\n",
        "            self.root = node(value)\n",
        "        else:\n",
        "            self._insert(value, self.root) #? recursive\n",
        "\n",
        "    def _insert(self, value, cur_node): #_prefix indicated a private, not use directly from outside the class.\n",
        "        if value < cur_node.value:\n",
        "            if cur_node.left_child == None:\n",
        "                cur_node.left_child = node(value)\n",
        "            else:\n",
        "                self._insert(value, cur_node.left_child) #recursive to curnode.leftchild.leftchild\n",
        "        elif value > cur_node.value:\n",
        "            if cur_node.right_child == None:\n",
        "                cur_node.right_child = node(value)\n",
        "            else:\n",
        "                self._insert(value, cur_node.right_child)\n",
        "        else: #equal\n",
        "            print (\"value already in tree!\")\n",
        "\n",
        "\n",
        "    def print_tree(self):\n",
        "        if self.root != None:\n",
        "            self._print_tree(self.root)\n",
        "\n",
        "    def _print_tree(self, cur_node): #privita version?\n",
        "        if cur_node != None:\n",
        "            self._print_tree(cur_node.left_child)\n",
        "            print (cur_node.value)\n",
        "            self._print_tree(cur_node.right_child)\n",
        "           #print (cur_node.value)\n",
        "\n",
        "    def height(self):\n",
        "        if self.root != None:\n",
        "            return self._height(self. root, 0)\n",
        "        else:\n",
        "            return 0\n",
        "\n",
        "    def _height(self, cur_node, cur_height):\n",
        "        if cur_node == None:\n",
        "            return cur_height\n",
        "        left_height = self._height(cur_node.left_child, cur_height+1)\n",
        "        right_height = self._height(cur_node.right_child, cur_height+1)\n",
        "        return max(left_height, right_height)\n",
        "\n",
        "    def search(self, value):  #false means can't find.\n",
        "        if self.root != None:\n",
        "            return self._search(value, self.root)\n",
        "        else:\n",
        "            return False\n",
        "\n",
        "    def _search(self, value, cur_node):\n",
        "        if value == cur_node.value:\n",
        "            return True\n",
        "        elif value<cur_node.value and cur_node.left_child != None:\n",
        "            self._search(value, cur_node.left_child)\n",
        "        elif value>cur_node.value and cur_node.right_child != None:\n",
        "            self._search(value, cur_node.right_child)\n",
        "\n",
        "        return False\n",
        "\n",
        "\n",
        "def fill_tree(tree, num_elems =  10, max_int = 1000):\n",
        "    from random import randint\n",
        "    for _ in range(num_elems):\n",
        "        cur_elem = randint(0, max_int)\n",
        "        tree.insert(cur_elem)\n",
        "    return tree\n",
        "\n",
        "tree = binary_search_tree()\n",
        "tree = fill_tree(tree)\n",
        "\n",
        "tree.print_tree()\n",
        "tree.height()\n",
        "\n",
        "tree.search(62)"
      ]
    },
    {
      "cell_type": "code",
      "execution_count": null,
      "id": "fAscaBm7AxLy",
      "metadata": {
        "id": "fAscaBm7AxLy"
      },
      "outputs": [],
      "source": [
        "p = node()\n",
        "p.left = node(2)\n",
        "p.right = node(3)\n",
        "\n",
        "q = node(1)\n",
        "q.left = node(2)\n",
        "q.right = node(3)"
      ]
    },
    {
      "cell_type": "code",
      "execution_count": null,
      "id": "h8XjWDL6OwF7",
      "metadata": {
        "colab": {
          "base_uri": "https://localhost:8080/"
        },
        "id": "h8XjWDL6OwF7",
        "outputId": "28bb0f44-b335-4ba4-d7ae-7f73139cb417"
      },
      "outputs": [
        {
          "data": {
            "text/plain": [
              "True"
            ]
          },
          "execution_count": 6,
          "metadata": {},
          "output_type": "execute_result"
        }
      ],
      "source": [
        "p == q\n",
        "p==p"
      ]
    },
    {
      "cell_type": "markdown",
      "source": [
        "## Invert a Binary Tree"
      ],
      "metadata": {
        "id": "6oD7Loy2epBa"
      },
      "id": "6oD7Loy2epBa"
    },
    {
      "cell_type": "code",
      "source": [
        "# Definition for a binary tree node.\n",
        "# class TreeNode:\n",
        "#     def __init__(self, val=0, left=None, right=None):\n",
        "#         self.val = val\n",
        "#         self.left = left\n",
        "#         self.right = right\n",
        "\n",
        "#交换？对于每个非leaf的node，交换left right child node.\n",
        "#\n",
        "\n",
        "class Solution:\n",
        "    def invertTree(self, root: Optional[TreeNode]) -> Optional[TreeNode]:\n",
        "        if root == None:\n",
        "            return None\n",
        "\n",
        "        temp = root.left\n",
        "        root.left = root.right\n",
        "        root.right = temp\n",
        "\n",
        "\n",
        "        #recursive\n",
        "\n",
        "        self.invertTree(root.left) #这个函数遇到none，则停止。\n",
        "        self.invertTree(root.right) #这个函数遇到none，则停止。\n",
        "\n",
        "\n",
        "        return root\n",
        "\n",
        ""
      ],
      "metadata": {
        "id": "XpWEgd9KepKT"
      },
      "id": "XpWEgd9KepKT",
      "execution_count": null,
      "outputs": []
    },
    {
      "cell_type": "markdown",
      "source": [
        "## Depth of Binary Tree\n"
      ],
      "metadata": {
        "id": "7ax5-5cghQNX"
      },
      "id": "7ax5-5cghQNX"
    },
    {
      "cell_type": "code",
      "source": [
        "# Definition for a binary tree node.\n",
        "# class TreeNode:\n",
        "#     def __init__(self, val=0, left=None, right=None):\n",
        "#         self.val = val\n",
        "#         self.left = left\n",
        "#         self.right = right\n",
        "\n",
        "class Solution:\n",
        "    def maxDepth(self, root: Optional[TreeNode]) -> int:\n",
        "\n",
        "        def _height(cur_node, cur_height):\n",
        "            if cur_node == None:\n",
        "                return cur_height\n",
        "\n",
        "            left_height = _height(cur_node.left, cur_height+1)\n",
        "            right_height = _height(cur_node.right, cur_height+1)\n",
        "            return max(left_height, right_height)\n",
        "\n",
        "\n",
        "        if root != None:\n",
        "            return _height(root, 0 )\n",
        "        else:\n",
        "            return 0"
      ],
      "metadata": {
        "id": "0GpkCjCgepMU"
      },
      "id": "0GpkCjCgepMU",
      "execution_count": null,
      "outputs": []
    },
    {
      "cell_type": "markdown",
      "source": [
        "## Binary Tree Diameter\n"
      ],
      "metadata": {
        "id": "F1BvdvHnhgKX"
      },
      "id": "F1BvdvHnhgKX"
    },
    {
      "cell_type": "code",
      "source": [
        "# Definition for a binary tree node.\n",
        "# class TreeNode:\n",
        "#     def __init__(self, val=0, left=None, right=None):\n",
        "#         self.val = val\n",
        "#         self.left = left\n",
        "#         self.right = right\n",
        "#本质上就是length - 1?\n",
        "class Solution:\n",
        "    def diameterOfBinaryTree(self, root: Optional[TreeNode]) -> int:\n",
        "        res = 0\n",
        "\n",
        "        def dfs(root):\n",
        "            nonlocal res\n",
        "\n",
        "            if not root:\n",
        "                return 0\n",
        "            left = dfs(root.left)\n",
        "            right = dfs(root.right)\n",
        "            res = max(res, left+right)\n",
        "\n",
        "            return 1+ max(left, right)\n",
        "        dfs(root)\n",
        "        return res\n",
        ""
      ],
      "metadata": {
        "id": "zzgQch6vhgT4"
      },
      "id": "zzgQch6vhgT4",
      "execution_count": null,
      "outputs": []
    },
    {
      "cell_type": "markdown",
      "source": [
        "## Balanced Binary Tree"
      ],
      "metadata": {
        "id": "j6vZogTM5wm4"
      },
      "id": "j6vZogTM5wm4"
    },
    {
      "cell_type": "code",
      "source": [
        "# Definition for a binary tree node.\n",
        "# class TreeNode:\n",
        "#     def __init__(self, val=0, left=None, right=None):\n",
        "#         self.val = val\n",
        "#         self.left = left\n",
        "#         self.right = right\n",
        "\n",
        "class Solution:\n",
        "    def isBalanced(self, root: Optional[TreeNode]) -> bool:\n",
        "\n",
        "        def height(node):\n",
        "            if node == None:\n",
        "                return 0\n",
        "\n",
        "            left_height = height(node.left)\n",
        "            right_height = height(node.right)\n",
        "\n",
        "            if left_height == -1 or right_height == -1 or abs(left_height - right_height) > 1:\n",
        "                return -1\n",
        "\n",
        "            return max(left_height, right_height) + 1\n",
        "\n",
        "        return height(root) != -1"
      ],
      "metadata": {
        "id": "NklDlbNP5wuq"
      },
      "id": "NklDlbNP5wuq",
      "execution_count": null,
      "outputs": []
    },
    {
      "cell_type": "markdown",
      "source": [
        "## Same Binary Tree\n"
      ],
      "metadata": {
        "id": "3xM7KNv705Sj"
      },
      "id": "3xM7KNv705Sj"
    },
    {
      "cell_type": "code",
      "source": [
        "# Definition for a binary tree node.\n",
        "# class TreeNode:\n",
        "#     def __init__(self, val=0, left=None, right=None):\n",
        "#         self.val = val\n",
        "#         self.left = left\n",
        "#         self.right = right\n",
        "\n",
        "class Solution:\n",
        "    def isSameTree(self, p: Optional[TreeNode], q: Optional[TreeNode]) -> bool:\n",
        "\n",
        "        if p == q == None:\n",
        "            return True\n",
        "        elif p and q and p.val == q.val:\n",
        "            return self.isSameTree(p.left, q.left) and self.isSameTree(p.right, q.right)\n",
        "\n",
        "        return False\n",
        "\n",
        "\n",
        ""
      ],
      "metadata": {
        "id": "HCZbiEHO05Zg"
      },
      "id": "HCZbiEHO05Zg",
      "execution_count": null,
      "outputs": []
    },
    {
      "cell_type": "markdown",
      "id": "EnHH5KW0UnnZ",
      "metadata": {
        "id": "EnHH5KW0UnnZ"
      },
      "source": [
        "## Subtree of a Binary Tree\n"
      ]
    },
    {
      "cell_type": "code",
      "source": [
        "True and True"
      ],
      "metadata": {
        "id": "CI2mFTA310cy",
        "outputId": "499f5d32-4ea6-4d5b-9ecd-6e955bdc69ee",
        "colab": {
          "base_uri": "https://localhost:8080/"
        }
      },
      "id": "CI2mFTA310cy",
      "execution_count": 3,
      "outputs": [
        {
          "output_type": "execute_result",
          "data": {
            "text/plain": [
              "True"
            ]
          },
          "metadata": {},
          "execution_count": 3
        }
      ]
    },
    {
      "cell_type": "code",
      "execution_count": null,
      "id": "wg5DHv5_OxDx",
      "metadata": {
        "id": "wg5DHv5_OxDx"
      },
      "outputs": [],
      "source": [
        "#这么写不对，但需要进一步看为什么不对。\n",
        "\n",
        "# Definition for a binary tree node.\n",
        "# class TreeNode:\n",
        "#     def __init__(self, val=0, left=None, right=None):\n",
        "#         self.val = val\n",
        "#         self.left = left\n",
        "#         self.right = right\n",
        "\n",
        "class Solution:\n",
        "    def isSubtree(self, root: Optional[TreeNode], subRoot: Optional[TreeNode]) -> bool:\n",
        "\n",
        "        if root == subRoot == None:\n",
        "            return True\n",
        "\n",
        "        if root and subRoot and (root.val != subRoot.val):\n",
        "            self.isSubtree(root.left, subRoot)\n",
        "            self.isSubtree(root.right, subRoot)\n",
        "\n",
        "        if root and subRoot and (root.val == subRoot.val)  and (root.left == subRoot.left) and (root.right == subRoot.right):\n",
        "\n",
        "            self.isSubtree(root.left, subRoot.left)\n",
        "            self.isSubtree(root.right, subRoot.right)\n",
        "\n",
        "        return False"
      ]
    },
    {
      "cell_type": "markdown",
      "id": "MRNwtLMBZqnL",
      "metadata": {
        "id": "MRNwtLMBZqnL"
      },
      "source": [
        "Pros of using a nested function (same_tree) compared to using a class method (isSameTree):\n",
        "\n",
        "- Encapsulation: The same_tree function is defined within the scope of the isSubtree method, making it a local function. This encapsulation helps to keep the code more organized and prevents naming conflicts with other methods or functions in the class or external code.\n",
        "\n",
        "- Readability: By defining the same_tree function inside the isSubtree method, it makes the code more readable and self-contained. The purpose of the same_tree function is clear within the context of the isSubtree method, and it doesn't require jumping to another part of the class to understand its functionality.\n",
        "\n",
        "- Avoid explicit self parameter: Since the same_tree function is not a class method, it doesn't require the self parameter. This can make the code slightly cleaner and more concise.\n",
        "\n",
        "Cons of using a nested function compared to using a class method:\n",
        "\n",
        "- Reusability: If the functionality of comparing two trees for equality is needed elsewhere in the class or in other classes, having it as a separate class method (isSameTree) allows for better reusability. The method can be easily called from other parts of the code without duplicating the function definition.\n",
        "\n",
        "- Testability: Class methods can be tested independently, whereas nested functions are harder to test in isolation. If you want to write unit tests for the tree comparison logic, having it as a separate class method makes it easier to test without involving the isSubtree method.\n",
        "\n",
        "- Inheritance and overriding: If you have a class hierarchy and want to override the behavior of comparing trees in a subclass, it is easier to do so with a class method. Overriding a nested function would require overriding the entire isSubtree method."
      ]
    },
    {
      "cell_type": "code",
      "execution_count": null,
      "id": "XoyOOtJeWGGp",
      "metadata": {
        "id": "XoyOOtJeWGGp"
      },
      "outputs": [],
      "source": [
        "#正确版本1: 用class self的写法。\n",
        "# Definition for a binary tree node.\n",
        "# class TreeNode:\n",
        "#     def __init__(self, val=0, left=None, right=None):\n",
        "#         self.val = val\n",
        "#         self.left = left\n",
        "#         self.right = right\n",
        "\n",
        "class Solution:\n",
        "    def isSubtree(self, root: Optional[TreeNode], subRoot: Optional[TreeNode]) -> bool:\n",
        "\n",
        "        # recursive for the subtree logic.\n",
        "\n",
        "        if subRoot == None:\n",
        "            return True\n",
        "        if root == None:\n",
        "            return False\n",
        "\n",
        "        if self.same_tree(root, subRoot):\n",
        "            return True\n",
        "\n",
        "        return (self.isSubtree(root.left, subRoot)) or (self.isSubtree(root.right, subRoot))\n",
        "\n",
        "    #define a function to compare whether same trees.\n",
        "    def same_tree(self, p, q):\n",
        "        if p == q == None:\n",
        "            return True\n",
        "        if p and q and p.val == q.val:\n",
        "            return self.same_tree(p.left, q.left) and self.same_tree(p.right, q.right)\n",
        "\n",
        "        else:\n",
        "            return False\n",
        "\n"
      ]
    },
    {
      "cell_type": "code",
      "execution_count": null,
      "id": "C80sR3yqY1tm",
      "metadata": {
        "id": "C80sR3yqY1tm"
      },
      "outputs": [],
      "source": [
        "#正确版本2: 用双层def function的写法\n",
        "# Definition for a binary tree node.\n",
        "# class TreeNode:\n",
        "#     def __init__(self, val=0, left=None, right=None):\n",
        "#         self.val = val\n",
        "#         self.left = left\n",
        "#         self.right = right\n",
        "\n",
        "class Solution:\n",
        "    def isSubtree(self, root: Optional[TreeNode], subRoot: Optional[TreeNode]) -> bool:\n",
        "        #define a function to judge same tree\n",
        "        def sameTree(node1, node2):\n",
        "            if node1 == node2 == None:\n",
        "                return True\n",
        "            elif node1 and node2 and node1.val == node2.val:\n",
        "                return sameTree(node1.left, node2.left) and sameTree(node1.right, node2.right)\n",
        "            else:\n",
        "                return False\n",
        "\n",
        "        #recrusive, for every node of root, whether same sub root.\n",
        "        def dfs(node):\n",
        "            if node is None:\n",
        "                return False\n",
        "            if sameTree(node,subRoot):\n",
        "                return True\n",
        "            return dfs(node.left) or dfs(node.right)\n",
        "\n",
        "        return dfs(root)\n",
        "\n"
      ]
    },
    {
      "cell_type": "markdown",
      "id": "T-3pyTEUeJC_",
      "metadata": {
        "id": "T-3pyTEUeJC_"
      },
      "source": [
        "Not all binary search tree (BST) questions need to be solved using recursion. Iterative approaches can also be effective and efficient in solving certain problems related to BSTs."
      ]
    },
    {
      "cell_type": "markdown",
      "id": "NyyyjJeckSiT",
      "metadata": {
        "id": "NyyyjJeckSiT"
      },
      "source": [
        "## Lowest Common Ancestor in Binary Search Tree\n"
      ]
    },
    {
      "cell_type": "code",
      "execution_count": null,
      "id": "zjzQgE6IkR8O",
      "metadata": {
        "id": "zjzQgE6IkR8O"
      },
      "outputs": [],
      "source": [
        "#iterative\n",
        "#有点像链表的cur.next\n",
        "# Definition for a binary tree node.\n",
        "# class TreeNode:\n",
        "#     def __init__(self, val=0, left=None, right=None):\n",
        "#         self.val = val\n",
        "#         self.left = left\n",
        "#         self.right = right\n",
        "\n",
        "class Solution:\n",
        "    def lowestCommonAncestor(self, root: TreeNode, p: TreeNode, q: TreeNode) -> TreeNode:\n",
        "        cur = root\n",
        "        while cur :\n",
        "            if p.val < cur.val and q.val < cur.val: #both in left side.\n",
        "                cur = cur.left\n",
        "\n",
        "            elif p.val > cur.val and q.val > cur.val:  #in right side both\n",
        "                cur = cur.right\n",
        "\n",
        "            else: # in both sides. #if euqal, return root.\n",
        "                return cur\n",
        "\n",
        "\n"
      ]
    },
    {
      "cell_type": "code",
      "execution_count": null,
      "id": "d3GhKC21lWji",
      "metadata": {
        "id": "d3GhKC21lWji"
      },
      "outputs": [],
      "source": [
        "#recursive\n",
        "# Definition for a binary tree node.\n",
        "# class TreeNode:\n",
        "#     def __init__(self, val=0, left=None, right=None):\n",
        "#         self.val = val\n",
        "#         self.left = left\n",
        "#         self.right = right\n",
        "\n",
        "class Solution:\n",
        "    def lowestCommonAncestor(self, root: TreeNode, p: TreeNode, q: TreeNode) -> TreeNode:\n",
        "\n",
        "        if not root:\n",
        "            return None\n",
        "\n",
        "        if p.val < root.val and q.val < root.val: #both in left side.\n",
        "            return self.lowestCommonAncestor(root.left, p, q)\n",
        "\n",
        "        elif p.val > root.val and q.val > root.val:\n",
        "            return self.lowestCommonAncestor(root.right, p, q)\n",
        "\n",
        "        else: #until in both side, make sure the location\n",
        "            return root\n"
      ]
    },
    {
      "cell_type": "markdown",
      "id": "9-K4CqrYY04e",
      "metadata": {
        "id": "9-K4CqrYY04e"
      },
      "source": [
        "## Level Order Traversal of Binary Tree\n",
        "\n",
        "\n",
        "https://limingxie.github.io/basic/stack/\n",
        "\n",
        "queue：先进先出\n",
        "\n",
        "stack：先进后出\n"
      ]
    },
    {
      "cell_type": "code",
      "execution_count": null,
      "id": "B004ajk3rql7",
      "metadata": {
        "id": "B004ajk3rql7"
      },
      "outputs": [],
      "source": [
        "#这么写不对！看看为什么。\n",
        "\n",
        "# Definition for a binary tree node.\n",
        "# class TreeNode:\n",
        "#     def __init__(self, val=0, left=None, right=None):\n",
        "#         self.val = val\n",
        "#         self.left = left\n",
        "#         self.right = right\n",
        "\n",
        "class Solution:\n",
        "    def levelOrder(self, root: Optional[TreeNode]) -> List[List[int]]:\n",
        "        root_list = []\n",
        "         #initial value\n",
        "\n",
        "        if root == None:\n",
        "            return []\n",
        "\n",
        "        else:\n",
        "            root_list.append(str(root.val))\n",
        "\n",
        "        self.levelOrder(root.left)\n",
        "        self.levelOrder(root.right)\n",
        "\n",
        "        return root_list\n",
        "\n",
        "\n",
        "\n",
        "\n"
      ]
    },
    {
      "cell_type": "code",
      "execution_count": null,
      "id": "pl01Slu7tKDy",
      "metadata": {
        "id": "pl01Slu7tKDy"
      },
      "outputs": [],
      "source": [
        "#recursive method!\n",
        "# Definition for a binary tree node.\n",
        "# class TreeNode:\n",
        "#     def __init__(self, val=0, left=None, right=None):\n",
        "#         self.val = val\n",
        "#         self.left = left\n",
        "#         self.right = right\n",
        "\n",
        "class Solution:\n",
        "    def levelOrder(self, root: Optional[TreeNode]) -> List[List[int]]:\n",
        "\n",
        "        if not root:\n",
        "            return []\n",
        "\n",
        "        result_list = []\n",
        "        level = 0\n",
        "\n",
        "        def level_function (node, level):\n",
        "            if len(result_list) == level:\n",
        "                result_list.append([])\n",
        "\n",
        "            result_list[level].append(node.val)\n",
        "            level += 1\n",
        "            if node.left:\n",
        "                level_function(node.left, level )\n",
        "            if node.right:\n",
        "                level_function(node.right, level )\n",
        "\n",
        "        level_function(root, 0)\n",
        "\n",
        "        return result_list"
      ]
    },
    {
      "cell_type": "markdown",
      "source": [
        "## Binary Tree Right Side View\n"
      ],
      "metadata": {
        "id": "mDvGgfrYDj8T"
      },
      "id": "mDvGgfrYDj8T"
    },
    {
      "cell_type": "code",
      "source": [
        "# Definition for a binary tree node.\n",
        "# class TreeNode:\n",
        "#     def __init__(self, val=0, left=None, right=None):\n",
        "#         self.val = val\n",
        "#         self.left = left\n",
        "#         self.right = right\n",
        "\n",
        "class Solution:\n",
        "    def rightSideView(self, root: Optional[TreeNode]) -> List[int]:\n",
        "        #right side view of binary tree. 还有可能是左节点。\n",
        "        res = []\n",
        "\n",
        "        def dfs(node, depth):\n",
        "            if node == None:\n",
        "                return\n",
        "            if len(res) == depth:\n",
        "                res.append(node.val)\n",
        "\n",
        "            dfs(node.right, depth+1)\n",
        "            dfs(node.left, depth+1)\n",
        "        dfs(root,0)\n",
        "        return res"
      ],
      "metadata": {
        "id": "QdE25sdRDljo"
      },
      "id": "QdE25sdRDljo",
      "execution_count": null,
      "outputs": []
    },
    {
      "cell_type": "markdown",
      "source": [
        "## Count Good Nodes in Binary Tree\n"
      ],
      "metadata": {
        "id": "8zYC9XZ1DmvA"
      },
      "id": "8zYC9XZ1DmvA"
    },
    {
      "cell_type": "code",
      "source": [
        "# Definition for a binary tree node.\n",
        "# class TreeNode:\n",
        "#     def __init__(self, val=0, left=None, right=None):\n",
        "#         self.val = val\n",
        "#         self.left = left\n",
        "#         self.right = right\n",
        "\n",
        "class Solution:\n",
        "    def goodNodes(self, root: TreeNode) -> int:\n",
        "        count = [0]\n",
        "        def dfs(node, max_val):\n",
        "            if node == None:\n",
        "                return\n",
        "\n",
        "            if max_val<=node.val:\n",
        "                count[0] += 1\n",
        "\n",
        "            max_val = max(max_val, node.val)\n",
        "            dfs(node.left,max_val )\n",
        "            dfs(node.right,max_val )\n",
        "        dfs(root,root.val)\n",
        "\n",
        "        return count[0]\n"
      ],
      "metadata": {
        "id": "NLrdePLoDm2f"
      },
      "id": "NLrdePLoDm2f",
      "execution_count": null,
      "outputs": []
    },
    {
      "cell_type": "markdown",
      "id": "raL0uyggyNxf",
      "metadata": {
        "id": "raL0uyggyNxf"
      },
      "source": [
        "## Valid Binary Search Tree\n"
      ]
    },
    {
      "cell_type": "markdown",
      "source": [
        "这个解法不能完全正确地判断一棵二叉树是否为有效的二叉搜索树，因为它只考虑了每个节点与其直接子节点的大小关系，而没有考虑整个左子树和右子树的大小范围。\n",
        "\n",
        "在二叉搜索树中，对于每个节点，其左子树中所有节点的值都应该小于该节点的值，而右子树中所有节点的值都应该大于该节点的值。仅仅比较节点与其直接子节点的大小关系是不够的。\n",
        "\n",
        "举个反例：\n",
        "```\n",
        "    2\n",
        "   / \\\n",
        "  1   4\n",
        "     / \\\n",
        "    3   6\n",
        "```\n",
        "在这个例子中，虽然每个节点与其直接子节点的大小关系都满足条件，但是整棵树并不是一棵有效的二叉搜索树，因为节点 4 的右子节点 6 的值大于根节点 5。\n",
        "\n",
        "为了正确判断一棵二叉树是否为有效的二叉搜索树，我们需要在递归过程中传递每个节点的取值范围，确保每个节点的值都在其对应的取值范围内。"
      ],
      "metadata": {
        "id": "l92MDhtEJ_wZ"
      },
      "id": "l92MDhtEJ_wZ"
    },
    {
      "cell_type": "code",
      "execution_count": null,
      "id": "3Wp1wjvLvGf3",
      "metadata": {
        "colab": {
          "base_uri": "https://localhost:8080/",
          "height": 341
        },
        "collapsed": true,
        "id": "3Wp1wjvLvGf3",
        "outputId": "26cdf7bb-7910-40a4-964a-7e20dcff5707"
      },
      "outputs": [
        {
          "ename": "NameError",
          "evalue": "name 'Optional' is not defined",
          "output_type": "error",
          "traceback": [
            "\u001b[0;31m---------------------------------------------------------------------------\u001b[0m",
            "\u001b[0;31mNameError\u001b[0m                                 Traceback (most recent call last)",
            "\u001b[0;32m<ipython-input-15-23ca117201a6>\u001b[0m in \u001b[0;36m<cell line: 9>\u001b[0;34m()\u001b[0m\n\u001b[1;32m      7\u001b[0m \u001b[0;31m#         self.right = right\u001b[0m\u001b[0;34m\u001b[0m\u001b[0;34m\u001b[0m\u001b[0m\n\u001b[1;32m      8\u001b[0m \u001b[0;34m\u001b[0m\u001b[0m\n\u001b[0;32m----> 9\u001b[0;31m \u001b[0;32mclass\u001b[0m \u001b[0mSolution\u001b[0m\u001b[0;34m:\u001b[0m\u001b[0;34m\u001b[0m\u001b[0;34m\u001b[0m\u001b[0m\n\u001b[0m\u001b[1;32m     10\u001b[0m     \u001b[0;32mdef\u001b[0m \u001b[0misValidBST\u001b[0m\u001b[0;34m(\u001b[0m\u001b[0mself\u001b[0m\u001b[0;34m,\u001b[0m \u001b[0mroot\u001b[0m\u001b[0;34m:\u001b[0m \u001b[0mOptional\u001b[0m\u001b[0;34m[\u001b[0m\u001b[0mTreeNode\u001b[0m\u001b[0;34m]\u001b[0m\u001b[0;34m)\u001b[0m \u001b[0;34m->\u001b[0m \u001b[0mbool\u001b[0m\u001b[0;34m:\u001b[0m\u001b[0;34m\u001b[0m\u001b[0;34m\u001b[0m\u001b[0m\n\u001b[1;32m     11\u001b[0m \u001b[0;34m\u001b[0m\u001b[0m\n",
            "\u001b[0;32m<ipython-input-15-23ca117201a6>\u001b[0m in \u001b[0;36mSolution\u001b[0;34m()\u001b[0m\n\u001b[1;32m      8\u001b[0m \u001b[0;34m\u001b[0m\u001b[0m\n\u001b[1;32m      9\u001b[0m \u001b[0;32mclass\u001b[0m \u001b[0mSolution\u001b[0m\u001b[0;34m:\u001b[0m\u001b[0;34m\u001b[0m\u001b[0;34m\u001b[0m\u001b[0m\n\u001b[0;32m---> 10\u001b[0;31m     \u001b[0;32mdef\u001b[0m \u001b[0misValidBST\u001b[0m\u001b[0;34m(\u001b[0m\u001b[0mself\u001b[0m\u001b[0;34m,\u001b[0m \u001b[0mroot\u001b[0m\u001b[0;34m:\u001b[0m \u001b[0mOptional\u001b[0m\u001b[0;34m[\u001b[0m\u001b[0mTreeNode\u001b[0m\u001b[0;34m]\u001b[0m\u001b[0;34m)\u001b[0m \u001b[0;34m->\u001b[0m \u001b[0mbool\u001b[0m\u001b[0;34m:\u001b[0m\u001b[0;34m\u001b[0m\u001b[0;34m\u001b[0m\u001b[0m\n\u001b[0m\u001b[1;32m     11\u001b[0m \u001b[0;34m\u001b[0m\u001b[0m\n\u001b[1;32m     12\u001b[0m         \u001b[0;32mif\u001b[0m \u001b[0mroot\u001b[0m \u001b[0;34m==\u001b[0m \u001b[0;32mNone\u001b[0m\u001b[0;34m:\u001b[0m\u001b[0;34m\u001b[0m\u001b[0;34m\u001b[0m\u001b[0m\n",
            "\u001b[0;31mNameError\u001b[0m: name 'Optional' is not defined"
          ]
        }
      ],
      "source": [
        "# 我的方法，好像是不完备的。\n",
        "# Definition for a binary tree node.\n",
        "# class TreeNode:\n",
        "#     def __init__(self, val=0, left=None, right=None):\n",
        "#         self.val = val\n",
        "#         self.left = left\n",
        "#         self.right = right\n",
        "\n",
        "class Solution:\n",
        "    def isValidBST(self, root: Optional[TreeNode]) -> bool:\n",
        "\n",
        "        # left and right boundary.\n",
        "        def dfs(node):\n",
        "            if node == None:\n",
        "                return True\n",
        "            # 左非空\n",
        "            elif node.left and  (node.left.val >= node.val ):\n",
        "                return False\n",
        "            # 右非空\n",
        "            elif node.right and  (node.right.val <= node.val ):\n",
        "                return False\n",
        "\n",
        "            return dfs(node.left) and dfs(node.right)\n",
        "\n",
        "        return dfs(root)"
      ]
    },
    {
      "cell_type": "code",
      "source": [
        "# Definition for a binary tree node.\n",
        "# class TreeNode:\n",
        "#     def __init__(self, val=0, left=None, right=None):\n",
        "#         self.val = val\n",
        "#         self.left = left\n",
        "#         self.right = right\n",
        "\n",
        "class Solution:\n",
        "    def isValidBST(self, root: Optional[TreeNode]) -> bool:\n",
        "\n",
        "        # left and right boundary.\n",
        "        def dfs(node, min_val, max_val):\n",
        "            if node == None:\n",
        "                return True\n",
        "\n",
        "            elif not(min_val<node.val<max_val):\n",
        "                return False\n",
        "            return dfs(node.left, min_val, node.val) and dfs(node.right, node.val, max_val)\n",
        "\n",
        "        return dfs(root, float('-inf'), float('inf'))"
      ],
      "metadata": {
        "id": "JVi5r9lcFvJy"
      },
      "id": "JVi5r9lcFvJy",
      "execution_count": null,
      "outputs": []
    },
    {
      "cell_type": "code",
      "source": [],
      "metadata": {
        "id": "oLxa_pnQF6Od"
      },
      "id": "oLxa_pnQF6Od",
      "execution_count": null,
      "outputs": []
    },
    {
      "cell_type": "markdown",
      "id": "rVvdm08tMQcm",
      "metadata": {
        "id": "rVvdm08tMQcm"
      },
      "source": [
        "### Depth First Search"
      ]
    },
    {
      "cell_type": "code",
      "execution_count": null,
      "id": "T3URg1blyM4N",
      "metadata": {
        "id": "T3URg1blyM4N"
      },
      "outputs": [],
      "source": [
        "# Definition for a binary tree node.\n",
        "# class TreeNode:\n",
        "#     def __init__(self, val=0, left=None, right=None):\n",
        "#         self.val = val\n",
        "#         self.left = left\n",
        "#         self.right = right\n",
        "\n",
        "class Solution:\n",
        "    def isValidBST(self, root: Optional[TreeNode]) -> bool:\n",
        "\n",
        "        def valid(node,left,right):\n",
        "            if not node:\n",
        "                return True\n",
        "            if not ( left < node.val < right):\n",
        "                return False\n",
        "            return valid(node.left, left, node.val) and valid(node.right, node.val, right)\n",
        "\n",
        "        return valid(root, float(\"-inf\"), float(\"inf\"))\n"
      ]
    },
    {
      "cell_type": "markdown",
      "id": "DXK7zvvDQcKu",
      "metadata": {
        "id": "DXK7zvvDQcKu"
      },
      "source": [
        "## Kth Smallest Integer in BST\n"
      ]
    },
    {
      "cell_type": "code",
      "execution_count": null,
      "id": "yI4oK4QHQbta",
      "metadata": {
        "colab": {
          "base_uri": "https://localhost:8080/"
        },
        "id": "yI4oK4QHQbta",
        "outputId": "8a7a6ec3-cc91-4807-ed4c-5775a3aa2642"
      },
      "outputs": [
        {
          "data": {
            "text/plain": [
              "[1, 2, 3]"
            ]
          },
          "execution_count": 4,
          "metadata": {},
          "output_type": "execute_result"
        }
      ],
      "source": [
        "# Definition for a binary tree node.\n",
        "# class TreeNode:\n",
        "#     def __init__(self, val=0, left=None, right=None):\n",
        "#         self.val = val\n",
        "#         self.left = left\n",
        "#         self.right = right\n",
        "\n",
        "#想到的方法，先打散转成list，再sorted，再得到。\n",
        "class Solution:\n",
        "    def kthSmallest(self, root: Optional[TreeNode], k: int) -> int:\n",
        "        tree_list = []\n",
        "        def convert_list(node):\n",
        "            if node == None:\n",
        "                return tree_list\n",
        "\n",
        "            tree_list.append(node.val)\n",
        "            return convert_list(node.left), convert_list(node.right)\n",
        "\n",
        "        convert_list(root)  #after execuate ,get full tree list.\n",
        "\n",
        "\n",
        "        return sorted(tree_list)[k-1]\n",
        "\n",
        "\n",
        "\n"
      ]
    },
    {
      "cell_type": "markdown",
      "id": "UxrENBqgT96Z",
      "metadata": {
        "id": "UxrENBqgT96Z"
      },
      "source": [
        "list_test.sort() modifies the original list in-place, while sorted(list_test) returns a new sorted list without modifying the original list."
      ]
    },
    {
      "cell_type": "code",
      "execution_count": null,
      "id": "HQsiXBp0TA16",
      "metadata": {
        "colab": {
          "base_uri": "https://localhost:8080/"
        },
        "id": "HQsiXBp0TA16",
        "outputId": "fc478d3c-0b18-41be-ca9f-2a6749c87e9b"
      },
      "outputs": [
        {
          "data": {
            "text/plain": [
              "[1, 2, 3]"
            ]
          },
          "execution_count": 8,
          "metadata": {},
          "output_type": "execute_result"
        }
      ],
      "source": [
        "list_test = [2,1,3]\n",
        "list_test.sort()\n",
        "list_test\n",
        "sorted(list_test)"
      ]
    },
    {
      "cell_type": "markdown",
      "id": "MNkLkUApXQjC",
      "metadata": {
        "id": "MNkLkUApXQjC"
      },
      "source": [
        "In Python, the expression [] == True evaluates to False.\n",
        "\n",
        "Here's why:\n",
        "\n",
        "- [] is an empty list, which is considered a \"falsy\" value in Python.\n",
        "\n",
        "- When comparing a list directly with a boolean using the == operator, Python first checks if the operands are of the same type. In this case, they are not (list vs. boolean).\n",
        "\n",
        "- Since the operands are of different types, Python then checks if either operand defines the __eq__() method for equality comparison. Lists do not define this method for comparison with booleans.\n",
        "\n",
        "- Finally, Python falls back to the default behavior of comparing the object identities, which are guaranteed to be different for a list and a boolean.\n",
        "\n",
        "Therefore, [] == True evaluates to False.\n",
        "\n",
        "It's important to note that while an empty list [] is considered \"falsy\" in a boolean context (e.g., in an if statement), it is not directly equal to False. Similarly, a non-empty list is considered \"truthy\" but not directly equal to True."
      ]
    },
    {
      "cell_type": "code",
      "execution_count": null,
      "id": "_LnY35Q7WwgK",
      "metadata": {
        "colab": {
          "base_uri": "https://localhost:8080/"
        },
        "id": "_LnY35Q7WwgK",
        "outputId": "19029f6c-f72f-4ebf-f3f1-ce273329fd09"
      },
      "outputs": [
        {
          "data": {
            "text/plain": [
              "False"
            ]
          },
          "execution_count": 10,
          "metadata": {},
          "output_type": "execute_result"
        }
      ],
      "source": [
        "[] == True"
      ]
    },
    {
      "cell_type": "code",
      "source": [
        "# Definition for a binary tree node.\n",
        "# class TreeNode:\n",
        "#     def __init__(self, val=0, left=None, right=None):\n",
        "#         self.val = val\n",
        "#         self.left = left\n",
        "#         self.right = right\n",
        "\n",
        "#想到的方法，先打散转成list，再sorted，再得到。\n",
        "class Solution:\n",
        "    def kthSmallest(self, root: Optional[TreeNode], k: int) -> int:\n",
        "        n = 0\n",
        "        stack = []\n",
        "        cur = root\n",
        "\n",
        "        while cur or stack:\n",
        "            while cur:\n",
        "                stack.append(cur)\n",
        "                cur = cur.left\n",
        "\n",
        "            cur = stack.pop()\n",
        "            n += 1\n",
        "            if n == k:\n",
        "                return cur.val\n",
        "            cur = cur.right\n",
        "\n",
        "\n"
      ],
      "metadata": {
        "id": "IURK8gXl10A9"
      },
      "id": "IURK8gXl10A9",
      "execution_count": null,
      "outputs": []
    },
    {
      "cell_type": "markdown",
      "id": "njYq00UUXLMZ",
      "metadata": {
        "id": "njYq00UUXLMZ"
      },
      "source": [
        "## Binary Tree from Preorder and Inorder Traversal\n",
        "\n",
        "https://www.shubo.io/iterative-binary-tree-traversal/\n",
        "\n",
        "前序和中序。\n",
        "对于bst inorder就是按递增顺序排列。\n"
      ]
    },
    {
      "cell_type": "markdown",
      "id": "yjaUvFRHgavx",
      "metadata": {
        "id": "yjaUvFRHgavx"
      },
      "source": [
        "1. Preorder Traversal:\n",
        "\n",
        "- Preorder traversal visits the nodes in the following order: root, left subtree, right subtree.\n",
        "It is useful when you want to create a copy of the tree or serialize the tree structure.\n",
        "- Preorder traversal can be used to get a prefix expression of an expression tree.\n",
        "- In a BST, preorder traversal is not particularly useful for searching or sorting elements because it does not provide any meaningful order.\n",
        "\n",
        "2. Inorder Traversal:\n",
        "\n",
        "- Inorder traversal visits the nodes in the following order: left subtree, root, right subtree.\n",
        "- In a BST, inorder traversal visits the nodes in ascending order of their keys.\n",
        "It is commonly used to retrieve the elements of a BST in sorted order.\n",
        "- Inorder traversal is crucial for BST validation, as it helps ensure that the nodes are in the correct order.\n",
        "- It can be used to convert a BST to an array or list in sorted order.\n",
        "Here are a few reasons why inorder traversal is particularly important for BSTs:\n",
        "\n",
        "Sorted Order:\n",
        "\n",
        "BSTs have the property that the left subtree of a node contains only nodes with keys less than the node's key, and the right subtree contains only nodes with keys greater than the node's key.\n",
        "By performing an inorder traversal, you visit the nodes in ascending order of their keys, resulting in a sorted sequence.\n",
        "BST Validation:\n",
        "\n",
        "To validate whether a given binary tree is a valid BST, you can perform an inorder traversal and check if the nodes are visited in ascending order.\n",
        "If the inorder traversal violates the ascending order property, it indicates that the tree is not a valid BST.\n",
        "Efficient Searching and Sorting:\n",
        "\n",
        "The sorted order obtained through inorder traversal allows for efficient searching and sorting operations in a BST.\n",
        "For example, you can perform a binary search on a BST by comparing the target value with the root's key and recursively searching in the left or right subtree based on the comparison."
      ]
    },
    {
      "cell_type": "code",
      "execution_count": null,
      "id": "_fHGS5TcXKkV",
      "metadata": {
        "colab": {
          "base_uri": "https://localhost:8080/",
          "height": 341
        },
        "collapsed": true,
        "id": "_fHGS5TcXKkV",
        "outputId": "54f1238f-915b-407f-8017-7664c0fdeb7b"
      },
      "outputs": [
        {
          "ename": "NameError",
          "evalue": "name 'List' is not defined",
          "output_type": "error",
          "traceback": [
            "\u001b[0;31m---------------------------------------------------------------------------\u001b[0m",
            "\u001b[0;31mNameError\u001b[0m                                 Traceback (most recent call last)",
            "\u001b[0;32m<ipython-input-11-5ec8473bf624>\u001b[0m in \u001b[0;36m<cell line: 10>\u001b[0;34m()\u001b[0m\n\u001b[1;32m      8\u001b[0m \u001b[0;31m#preorder: 中左右\u001b[0m\u001b[0;34m\u001b[0m\u001b[0;34m\u001b[0m\u001b[0m\n\u001b[1;32m      9\u001b[0m \u001b[0;31m#inorder : 左中右\u001b[0m\u001b[0;34m\u001b[0m\u001b[0;34m\u001b[0m\u001b[0m\n\u001b[0;32m---> 10\u001b[0;31m \u001b[0;32mclass\u001b[0m \u001b[0mSolution\u001b[0m\u001b[0;34m:\u001b[0m\u001b[0;34m\u001b[0m\u001b[0;34m\u001b[0m\u001b[0m\n\u001b[0m\u001b[1;32m     11\u001b[0m     \u001b[0;32mdef\u001b[0m \u001b[0mbuildTree\u001b[0m\u001b[0;34m(\u001b[0m\u001b[0mself\u001b[0m\u001b[0;34m,\u001b[0m \u001b[0mpreorder\u001b[0m\u001b[0;34m:\u001b[0m \u001b[0mList\u001b[0m\u001b[0;34m[\u001b[0m\u001b[0mint\u001b[0m\u001b[0;34m]\u001b[0m\u001b[0;34m,\u001b[0m \u001b[0minorder\u001b[0m\u001b[0;34m:\u001b[0m \u001b[0mList\u001b[0m\u001b[0;34m[\u001b[0m\u001b[0mint\u001b[0m\u001b[0;34m]\u001b[0m\u001b[0;34m)\u001b[0m \u001b[0;34m->\u001b[0m \u001b[0mOptional\u001b[0m\u001b[0;34m[\u001b[0m\u001b[0mTreeNode\u001b[0m\u001b[0;34m]\u001b[0m\u001b[0;34m:\u001b[0m\u001b[0;34m\u001b[0m\u001b[0;34m\u001b[0m\u001b[0m\n\u001b[1;32m     12\u001b[0m         \u001b[0;32mif\u001b[0m \u001b[0;32mnot\u001b[0m \u001b[0mpreorder\u001b[0m \u001b[0;32mor\u001b[0m \u001b[0;32mnot\u001b[0m \u001b[0minorder\u001b[0m\u001b[0;34m:\u001b[0m \u001b[0;31m#都为空\u001b[0m\u001b[0;34m\u001b[0m\u001b[0;34m\u001b[0m\u001b[0m\n",
            "\u001b[0;32m<ipython-input-11-5ec8473bf624>\u001b[0m in \u001b[0;36mSolution\u001b[0;34m()\u001b[0m\n\u001b[1;32m      9\u001b[0m \u001b[0;31m#inorder : 左中右\u001b[0m\u001b[0;34m\u001b[0m\u001b[0;34m\u001b[0m\u001b[0m\n\u001b[1;32m     10\u001b[0m \u001b[0;32mclass\u001b[0m \u001b[0mSolution\u001b[0m\u001b[0;34m:\u001b[0m\u001b[0;34m\u001b[0m\u001b[0;34m\u001b[0m\u001b[0m\n\u001b[0;32m---> 11\u001b[0;31m     \u001b[0;32mdef\u001b[0m \u001b[0mbuildTree\u001b[0m\u001b[0;34m(\u001b[0m\u001b[0mself\u001b[0m\u001b[0;34m,\u001b[0m \u001b[0mpreorder\u001b[0m\u001b[0;34m:\u001b[0m \u001b[0mList\u001b[0m\u001b[0;34m[\u001b[0m\u001b[0mint\u001b[0m\u001b[0;34m]\u001b[0m\u001b[0;34m,\u001b[0m \u001b[0minorder\u001b[0m\u001b[0;34m:\u001b[0m \u001b[0mList\u001b[0m\u001b[0;34m[\u001b[0m\u001b[0mint\u001b[0m\u001b[0;34m]\u001b[0m\u001b[0;34m)\u001b[0m \u001b[0;34m->\u001b[0m \u001b[0mOptional\u001b[0m\u001b[0;34m[\u001b[0m\u001b[0mTreeNode\u001b[0m\u001b[0;34m]\u001b[0m\u001b[0;34m:\u001b[0m\u001b[0;34m\u001b[0m\u001b[0;34m\u001b[0m\u001b[0m\n\u001b[0m\u001b[1;32m     12\u001b[0m         \u001b[0;32mif\u001b[0m \u001b[0;32mnot\u001b[0m \u001b[0mpreorder\u001b[0m \u001b[0;32mor\u001b[0m \u001b[0;32mnot\u001b[0m \u001b[0minorder\u001b[0m\u001b[0;34m:\u001b[0m \u001b[0;31m#都为空\u001b[0m\u001b[0;34m\u001b[0m\u001b[0;34m\u001b[0m\u001b[0m\n\u001b[1;32m     13\u001b[0m             \u001b[0;32mreturn\u001b[0m \u001b[0;32mNone\u001b[0m\u001b[0;34m\u001b[0m\u001b[0;34m\u001b[0m\u001b[0m\n",
            "\u001b[0;31mNameError\u001b[0m: name 'List' is not defined"
          ]
        }
      ],
      "source": [
        "# Definition for a binary tree node.\n",
        "# class TreeNode:\n",
        "#     def __init__(self, val=0, left=None, right=None):\n",
        "#         self.val = val\n",
        "#         self.left = left\n",
        "#         self.right = right\n",
        "\n",
        "#preorder: 中左右\n",
        "#inorder : 左中右\n",
        "class Solution:\n",
        "    def buildTree(self, preorder: List[int], inorder: List[int]) -> Optional[TreeNode]:\n",
        "        if not preorder or not inorder: #都为空\n",
        "            return None\n",
        "\n",
        "        root = TreeNode(preorder[0])\n",
        "        mid = inorder.index(preorder[0]) #root node split inorder into two parts.\n",
        "        #preorder left. split by mid into two parts.\n",
        "        root.left = self.buildTree(preorder[1: mid + 1], inorder[0:mid])\n",
        "        root.right = self.buildTree(preorder[mid + 1:], inorder[mid + 1:]) #remaining corresponding to left part\n",
        "\n",
        "        return root\n",
        "\n",
        "\n"
      ]
    },
    {
      "cell_type": "markdown",
      "source": [
        "# Heap Priority Queue\n",
        "\n",
        "min-heap: parent < child\n",
        "\n",
        "max-heap: parent > child\n",
        "\n",
        "heap is full binary tree.\n",
        "\n",
        "node: i\n",
        "\n",
        "left child: 2i + 1\n",
        "\n",
        "right child: 2i + 2\n",
        "\n",
        "parent: (i-1)/2\n"
      ],
      "metadata": {
        "id": "v0KT66TADHja"
      },
      "id": "v0KT66TADHja"
    },
    {
      "cell_type": "markdown",
      "source": [
        "好像有很多python内置的东西，先看看再说。"
      ],
      "metadata": {
        "id": "_FXQE43bgfrM"
      },
      "id": "_FXQE43bgfrM"
    },
    {
      "cell_type": "code",
      "source": [
        "import heapq"
      ],
      "metadata": {
        "id": "YX6DnOtG8kty"
      },
      "id": "YX6DnOtG8kty",
      "execution_count": 1,
      "outputs": []
    },
    {
      "cell_type": "code",
      "source": [],
      "metadata": {
        "id": "eUH5qqVk8mhv"
      },
      "id": "eUH5qqVk8mhv",
      "execution_count": null,
      "outputs": []
    },
    {
      "cell_type": "markdown",
      "source": [
        "## Kth Largest Integer in a Stream\n"
      ],
      "metadata": {
        "id": "Uk29earTDIro"
      },
      "id": "Uk29earTDIro"
    },
    {
      "cell_type": "code",
      "source": [],
      "metadata": {
        "id": "fLd2SCtTDID7"
      },
      "id": "fLd2SCtTDID7",
      "execution_count": null,
      "outputs": []
    },
    {
      "cell_type": "markdown",
      "id": "FDHY1WCGyNci",
      "metadata": {
        "id": "FDHY1WCGyNci"
      },
      "source": [
        "# Backtracking\n",
        "\n",
        "Backtracking is a systematic method for solving problems that involve finding all (or some) solutions to a problem by exploring candidate solutions incrementally and abandoning each partial candidate (\"backtracks\") as soon as it determines that this candidate cannot possibly be completed to a valid solution.\n",
        "\n",
        "在解决问题时，回溯算法会试图沿着某个可能的路径（或者说“分支”）前进，逐步构建解决方案。当这个路径上的某一步不再可能导向有效的解决方案时（即它违反了问题的某些约束或条件），算法就会退回到前一步，尝试另一种可能的选项。这个过程会递归进行，直到找到所有可能的解决方案，或者探索了所有可能的路径。\n",
        "\n",
        "\n",
        "- 递归性：回溯算法通常是通过递归实现的，因为这样可以自然地回到之前的状态。\n",
        "- 试错：它基于试错的方式尝试解决问题，通过尝试分步去解决问题，一旦发现当前步骤不能得到有效的解答或者最优解答，就取消上一步或几步的计算。\n",
        "- 剪枝操作：通过设置条件，提前停止对无效路径的探索，这可以大大减少计算时间，优化算法性能。\n",
        "\n"
      ]
    },
    {
      "cell_type": "markdown",
      "id": "wNeuxqF60MGR",
      "metadata": {
        "id": "wNeuxqF60MGR"
      },
      "source": [
        "## Combination Target Sum\n"
      ]
    },
    {
      "cell_type": "markdown",
      "id": "PBnBIYkPciyX",
      "metadata": {
        "id": "PBnBIYkPciyX"
      },
      "source": [
        "### Depth First Search"
      ]
    },
    {
      "cell_type": "code",
      "execution_count": null,
      "id": "5Z2x0UEi0Kta",
      "metadata": {
        "id": "5Z2x0UEi0Kta"
      },
      "outputs": [],
      "source": [
        "nums = [2,5,6,9]\n",
        "target = 9\n"
      ]
    },
    {
      "cell_type": "code",
      "execution_count": null,
      "id": "ggYWrcRX4fWe",
      "metadata": {
        "colab": {
          "base_uri": "https://localhost:8080/"
        },
        "collapsed": true,
        "id": "ggYWrcRX4fWe",
        "outputId": "7121d003-e3b1-4fde-e61b-9e22593f8158"
      },
      "outputs": [
        {
          "name": "stdout",
          "output_type": "stream",
          "text": [
            "after append  [2]\n",
            "after append  [2, 2]\n",
            "after append  [2, 2, 2]\n",
            "after append  [2, 2, 2, 2]\n",
            "after append  [2, 2, 2, 2, 2]\n",
            "after append res  []\n",
            "after append total  10\n",
            "after pop  [2, 2, 2, 2]\n",
            "after append  [2, 2, 2, 2, 5]\n",
            "after append res  []\n",
            "after append total  13\n",
            "after pop  [2, 2, 2, 2]\n",
            "after append  [2, 2, 2, 2, 6]\n",
            "after append res  []\n",
            "after append total  14\n",
            "after pop  [2, 2, 2, 2]\n",
            "after append  [2, 2, 2, 2, 9]\n",
            "after append res  []\n",
            "after append total  17\n",
            "after pop  [2, 2, 2, 2]\n",
            "after pop res  []\n",
            "after pop res  []\n",
            "after pop res  []\n",
            "after pop res  []\n",
            "after append res  []\n",
            "after append total  8\n",
            "after pop  [2, 2, 2]\n",
            "after append  [2, 2, 2, 5]\n",
            "after append res  []\n",
            "after append total  11\n",
            "after pop  [2, 2, 2]\n",
            "after append  [2, 2, 2, 6]\n",
            "after append res  []\n",
            "after append total  12\n",
            "after pop  [2, 2, 2]\n",
            "after append  [2, 2, 2, 9]\n",
            "after append res  []\n",
            "after append total  15\n",
            "after pop  [2, 2, 2]\n",
            "after pop res  []\n",
            "after pop res  []\n",
            "after pop res  []\n",
            "after pop res  []\n",
            "after append res  []\n",
            "after append total  6\n",
            "after pop  [2, 2]\n",
            "after append  [2, 2, 5]\n",
            "after append res  [[2, 2, 5]]\n",
            "after append total  9\n",
            "after pop  [2, 2]\n",
            "after append  [2, 2, 6]\n",
            "after append res  [[2, 2, 5]]\n",
            "after append total  10\n",
            "after pop  [2, 2]\n",
            "after append  [2, 2, 9]\n",
            "after append res  [[2, 2, 5]]\n",
            "after append total  13\n",
            "after pop  [2, 2]\n",
            "after pop res  [[2, 2, 5]]\n",
            "after pop res  [[2, 2, 5]]\n",
            "after pop res  [[2, 2, 5]]\n",
            "after pop res  [[2, 2, 5]]\n",
            "after append res  [[2, 2, 5]]\n",
            "after append total  4\n",
            "after pop  [2]\n",
            "after append  [2, 5]\n",
            "after append  [2, 5, 5]\n",
            "after append res  [[2, 2, 5]]\n",
            "after append total  12\n",
            "after pop  [2, 5]\n",
            "after append  [2, 5, 6]\n",
            "after append res  [[2, 2, 5]]\n",
            "after append total  13\n",
            "after pop  [2, 5]\n",
            "after append  [2, 5, 9]\n",
            "after append res  [[2, 2, 5]]\n",
            "after append total  16\n",
            "after pop  [2, 5]\n",
            "after pop res  [[2, 2, 5]]\n",
            "after pop res  [[2, 2, 5]]\n",
            "after pop res  [[2, 2, 5]]\n",
            "after append res  [[2, 2, 5]]\n",
            "after append total  7\n",
            "after pop  [2]\n",
            "after append  [2, 6]\n",
            "after append  [2, 6, 6]\n",
            "after append res  [[2, 2, 5]]\n",
            "after append total  14\n",
            "after pop  [2, 6]\n",
            "after append  [2, 6, 9]\n",
            "after append res  [[2, 2, 5]]\n",
            "after append total  17\n",
            "after pop  [2, 6]\n",
            "after pop res  [[2, 2, 5]]\n",
            "after pop res  [[2, 2, 5]]\n",
            "after append res  [[2, 2, 5]]\n",
            "after append total  8\n",
            "after pop  [2]\n",
            "after append  [2, 9]\n",
            "after append res  [[2, 2, 5]]\n",
            "after append total  11\n",
            "after pop  [2]\n",
            "after pop res  [[2, 2, 5]]\n",
            "after pop res  [[2, 2, 5]]\n",
            "after pop res  [[2, 2, 5]]\n",
            "after pop res  [[2, 2, 5]]\n",
            "after append res  [[2, 2, 5]]\n",
            "after append total  2\n",
            "after pop  []\n",
            "after append  [5]\n",
            "after append  [5, 5]\n",
            "after append res  [[2, 2, 5]]\n",
            "after append total  10\n",
            "after pop  [5]\n",
            "after append  [5, 6]\n",
            "after append res  [[2, 2, 5]]\n",
            "after append total  11\n",
            "after pop  [5]\n",
            "after append  [5, 9]\n",
            "after append res  [[2, 2, 5]]\n",
            "after append total  14\n",
            "after pop  [5]\n",
            "after pop res  [[2, 2, 5]]\n",
            "after pop res  [[2, 2, 5]]\n",
            "after pop res  [[2, 2, 5]]\n",
            "after append res  [[2, 2, 5]]\n",
            "after append total  5\n",
            "after pop  []\n",
            "after append  [6]\n",
            "after append  [6, 6]\n",
            "after append res  [[2, 2, 5]]\n",
            "after append total  12\n",
            "after pop  [6]\n",
            "after append  [6, 9]\n",
            "after append res  [[2, 2, 5]]\n",
            "after append total  15\n",
            "after pop  [6]\n",
            "after pop res  [[2, 2, 5]]\n",
            "after pop res  [[2, 2, 5]]\n",
            "after append res  [[2, 2, 5]]\n",
            "after append total  6\n",
            "after pop  []\n",
            "after append  [9]\n",
            "after append res  [[2, 2, 5], [9]]\n",
            "after append total  9\n",
            "after pop  []\n",
            "after pop res  [[2, 2, 5], [9]]\n",
            "after pop res  [[2, 2, 5], [9]]\n",
            "after pop res  [[2, 2, 5], [9]]\n",
            "after pop res  [[2, 2, 5], [9]]\n",
            "[[2, 2, 5], [9]]\n"
          ]
        }
      ],
      "source": [
        "res = []\n",
        "\n",
        "def dfs(i, cur, total):\n",
        "  if total == target:\n",
        "    res.append(cur.copy())\n",
        "    return\n",
        "\n",
        "  if i >= len(nums) or total>target:\n",
        "    return\n",
        "\n",
        "  cur.append(nums[i])\n",
        "  #print(\"after append \",cur)\n",
        "  dfs(i, cur, total+nums[i])\n",
        "  #print(\"after append res \",res)\n",
        "  #print(\"after append total \",total+nums[i])\n",
        "\n",
        "  cur.pop() #remove the right one from the list.\n",
        "  #print(\"after pop \",cur)\n",
        "  dfs(i+1, cur, total)\n",
        "  #print(\"after pop res \",res)\n",
        "\n",
        "dfs(0,[],0)\n",
        "print(res)"
      ]
    },
    {
      "cell_type": "markdown",
      "id": "TJuBlpx3Ci3-",
      "metadata": {
        "id": "TJuBlpx3Ci3-"
      },
      "source": [
        "### .copy()\n",
        "\n",
        "If you append cur directly to res, any future modifications to cur will also affect the previously stored combinations in res. This is because lists in Python are mutable and res will contain references to the same cur list.\n",
        "This would lead to incorrect results as all entries in res would end up being the same (the final state of cur)."
      ]
    },
    {
      "cell_type": "code",
      "execution_count": null,
      "id": "NDSfhE7B6Dmh",
      "metadata": {
        "colab": {
          "base_uri": "https://localhost:8080/"
        },
        "id": "NDSfhE7B6Dmh",
        "outputId": "d22c4d24-ecf2-47cf-dd65-a687f22ab24c"
      },
      "outputs": [
        {
          "name": "stdout",
          "output_type": "stream",
          "text": [
            "[[2, 2, 5], [9], [1, 2, 3], [1, 2, 3]]\n",
            "[[2, 2, 5], [9], [1, 2, 3], [1, 2, 3]]\n"
          ]
        }
      ],
      "source": [
        "#not change\n",
        "cur = [1,2,3]\n",
        "res.append(cur)\n",
        "print(res)\n",
        "\n",
        "cur = [1,2,3,4]\n",
        "print(res)\n"
      ]
    },
    {
      "cell_type": "code",
      "execution_count": null,
      "id": "XrlMzjN7CaGt",
      "metadata": {
        "colab": {
          "base_uri": "https://localhost:8080/"
        },
        "id": "XrlMzjN7CaGt",
        "outputId": "c8e6be48-f534-4f48-df51-35a7ad9c6c19"
      },
      "outputs": [
        {
          "name": "stdout",
          "output_type": "stream",
          "text": [
            "[[1, 2, 3]]\n",
            "[[1, 2, 3, 4]]\n"
          ]
        }
      ],
      "source": [
        "#change with append\n",
        "cur = [1, 2, 3]\n",
        "res = []\n",
        "res.append(cur)\n",
        "print(res)  # Output: [[1, 2, 3]]\n",
        "\n",
        "cur.append(4)\n",
        "print(res)  # Output: [[1, 2, 3, 4]]\n"
      ]
    },
    {
      "cell_type": "code",
      "execution_count": null,
      "id": "UmzfSXaQ89Lw",
      "metadata": {
        "colab": {
          "base_uri": "https://localhost:8080/"
        },
        "id": "UmzfSXaQ89Lw",
        "outputId": "c2063e05-34a5-40c8-ee80-de64742bdd84"
      },
      "outputs": [
        {
          "name": "stdout",
          "output_type": "stream",
          "text": [
            "[[1, 2, 3]]\n",
            "[[1, 2, 3]]\n"
          ]
        }
      ],
      "source": [
        "#example with copy not change\n",
        "cur = [1, 2, 3]\n",
        "res = []\n",
        "res.append(cur.copy())\n",
        "print(res)  # Output: [[1, 2, 3]]\n",
        "\n",
        "cur.append(4)\n",
        "print(res)  # Output: [[1, 2, 3]]\n"
      ]
    },
    {
      "cell_type": "markdown",
      "id": "WSYDjcT6cJYp",
      "metadata": {
        "id": "WSYDjcT6cJYp"
      },
      "source": [
        "## Search for Word\n"
      ]
    },
    {
      "cell_type": "code",
      "execution_count": null,
      "id": "uDozMnY18_Xl",
      "metadata": {
        "id": "uDozMnY18_Xl"
      },
      "outputs": [],
      "source": [
        "board = [\n",
        "  [\"A\",\"B\",\"C\",\"D\"],\n",
        "  [\"S\",\"A\",\"A\",\"T\"],\n",
        "  [\"A\",\"C\",\"A\",\"E\"]\n",
        "]\n",
        "word = \"CAT\""
      ]
    },
    {
      "cell_type": "code",
      "execution_count": null,
      "id": "tnaNAOZXd5O1",
      "metadata": {
        "colab": {
          "base_uri": "https://localhost:8080/"
        },
        "id": "tnaNAOZXd5O1",
        "outputId": "fa016423-1d05-4f60-b9d4-4f7d343c647e"
      },
      "outputs": [
        {
          "data": {
            "text/plain": [
              "True"
            ]
          },
          "execution_count": 50,
          "metadata": {},
          "output_type": "execute_result"
        }
      ],
      "source": [
        "#len(board)\n",
        "#len(board[0])\n",
        "\n",
        "board[0][1] not in list(word)"
      ]
    },
    {
      "cell_type": "markdown",
      "id": "b-wWoXG6d4v6",
      "metadata": {
        "id": "b-wWoXG6d4v6"
      },
      "source": []
    },
    {
      "cell_type": "markdown",
      "id": "rJo2gIllc4Cu",
      "metadata": {
        "id": "rJo2gIllc4Cu"
      },
      "source": [
        "[i, j]\n",
        "\n",
        "left: i -1, j\n",
        "\n",
        "right: i+1,j\n",
        "\n",
        "up: i,j-1\n",
        "\n",
        "down: i, j+1\n"
      ]
    },
    {
      "cell_type": "code",
      "execution_count": null,
      "id": "ZaNdq_Gb8_wx",
      "metadata": {
        "id": "ZaNdq_Gb8_wx"
      },
      "outputs": [],
      "source": [
        "# wrong answer. didn't work.\n",
        "\n",
        "# use recursion;\n",
        "\n",
        "i=0 # 0~ len(board[0])\n",
        "j=0 #0~len(board)\n",
        "\n",
        "#concat_word = ''\n",
        "\n",
        "def dfs(i, j, cur, concat_word):\n",
        "  if concat_word == word:\n",
        "    return True\n",
        "\n",
        "  if i > len(board[0]) or j > len(board) or (board[i][j] not in list(word) ): #if current not match word.?\n",
        "    return\n",
        "\n",
        "  cur = cur + board[i][j]\n",
        "  dfs(i, j, cur, concat_word + board[i][j])\n",
        "\n",
        "  cur.pop()\n",
        "  dfs(i+1, j, cur, concat_word)\n",
        "\n",
        "  cur.pop()\n",
        "  dfs(i, j+1, cur, concat_word)\n",
        "\n",
        "\n",
        "dfs(0,0, '', '')"
      ]
    },
    {
      "cell_type": "code",
      "execution_count": null,
      "id": "3er3GlCtfn4y",
      "metadata": {
        "id": "3er3GlCtfn4y"
      },
      "outputs": [],
      "source": [
        "# official answer; more clear.\n",
        "# O(n * m * dfs), dfs = 4^len(word)\n",
        "# O(n * m * 4^n)\n",
        "\n",
        "\n",
        "def exist(board, word):\n",
        "  ROWS, COLS = len(board), len(board[0])\n",
        "  path = set() # can't use location repeat; with position\n",
        "\n",
        "  def dfs(r,c, i) : #create a nested function.\n",
        "    if i == len(word): #terminate condition\n",
        "      return True\n",
        "\n",
        "    if (r<0 or c<0 or r >= ROWS or c >= COLS or  #pay attention to boundaries!\n",
        "        word[i]!=board[r][c] or\n",
        "        (r,c) in path ): #same position twice, avoid\n",
        "        return False\n",
        "\n",
        "    path.add((r,c)) #find character we need.\n",
        "    print(path)\n",
        "    print((r,c))\n",
        "    print(board[r][c])\n",
        "    res = (dfs(r+1,c,i+1) or\n",
        "           dfs(r-1,c,i+1) or\n",
        "           dfs(r,c+1,i+1) or\n",
        "           dfs(r,c-1,i+1)\n",
        "           ) #if any return true, return true.\n",
        "    path.remove((r,c))\n",
        "\n",
        "    return res\n",
        "\n",
        "  for r in range(ROWS):\n",
        "    for c in range(COLS):\n",
        "      result = dfs(r,c,0)\n",
        "      #print(result)\n",
        "      if result:\n",
        "        return True\n",
        "\n",
        "  return False"
      ]
    },
    {
      "cell_type": "code",
      "execution_count": null,
      "id": "JsOJ5gbyiSu6",
      "metadata": {
        "colab": {
          "base_uri": "https://localhost:8080/"
        },
        "id": "JsOJ5gbyiSu6",
        "outputId": "09716743-e939-4439-d1da-215623ee4809"
      },
      "outputs": [
        {
          "name": "stdout",
          "output_type": "stream",
          "text": [
            "{(0, 2)}\n",
            "(0, 2)\n",
            "C\n",
            "{(0, 2), (1, 2)}\n",
            "(1, 2)\n",
            "A\n",
            "{(0, 2), (1, 2), (1, 3)}\n",
            "(1, 3)\n",
            "T\n"
          ]
        },
        {
          "data": {
            "text/plain": [
              "True"
            ]
          },
          "execution_count": 68,
          "metadata": {},
          "output_type": "execute_result"
        }
      ],
      "source": [
        "exist(board, word)"
      ]
    },
    {
      "cell_type": "markdown",
      "id": "w4VmVJBvonzU",
      "metadata": {
        "id": "w4VmVJBvonzU"
      },
      "source": [
        "# Tries\n",
        "\n",
        "前置树 字典树\n",
        "\n",
        "insert, delete, search are fast.\n",
        "\n",
        "\n",
        "https://www.youtube.com/watch?v=3CbFFVHQrk4"
      ]
    },
    {
      "cell_type": "markdown",
      "id": "uQtX3nf3rTwD",
      "metadata": {
        "id": "uQtX3nf3rTwD"
      },
      "source": [
        "## Implement Prefix Tree"
      ]
    },
    {
      "cell_type": "code",
      "execution_count": null,
      "id": "fwqAHwi6iT47",
      "metadata": {
        "id": "fwqAHwi6iT47"
      },
      "outputs": [],
      "source": [
        "class TrieNode:\n",
        "    def __init__(self):\n",
        "        self.children = {}\n",
        "        self.endOfWord = False\n",
        "\n",
        "class PrefixTree:\n",
        "\n",
        "    def __init__(self):\n",
        "        self.root = TrieNode()\n",
        "\n",
        "\n",
        "    def insert(self, word: str) -> None:\n",
        "        cur = self.root\n",
        "\n",
        "        for c in word: #go through every character\n",
        "            if c not in cur.children: #第一层没有 则创建一个。\n",
        "                cur.children[c] =  TrieNode()\n",
        "            cur = cur.children[c]\n",
        "        cur.endOfWord = True\n",
        "\n",
        "    def search(self, word: str) -> bool:\n",
        "        cur = self.root\n",
        "\n",
        "        for c in word:\n",
        "            if c not in cur.children:\n",
        "                return False\n",
        "            else:\n",
        "                cur = cur.children[c] #move to the next children\n",
        "        return cur.endOfWord\n",
        "\n",
        "\n",
        "    def startsWith(self, prefix: str) -> bool:\n",
        "        cur = self.root\n",
        "\n",
        "        for c in prefix:\n",
        "            if c not in cur.children:\n",
        "                return False\n",
        "            else:\n",
        "                cur = cur.children[c]\n",
        "        return True\n",
        "\n",
        "\n"
      ]
    },
    {
      "cell_type": "markdown",
      "id": "wPV_qhrYVOVF",
      "metadata": {
        "id": "wPV_qhrYVOVF"
      },
      "source": [
        "## Design Word Search Data Structure\n"
      ]
    },
    {
      "cell_type": "markdown",
      "id": "7zjFAF_uVTz7",
      "metadata": {
        "id": "7zjFAF_uVTz7"
      },
      "source": [
        "### Depth First Search"
      ]
    },
    {
      "cell_type": "code",
      "execution_count": null,
      "id": "bbEufcTSlGue",
      "metadata": {
        "id": "bbEufcTSlGue"
      },
      "outputs": [],
      "source": [
        "class TrieNode:\n",
        "    def __init__(self):\n",
        "        self.children = {}\n",
        "        self.endOfWord = False\n",
        "\n",
        "class WordDictionary:\n",
        "\n",
        "    def __init__(self):\n",
        "        self.root = TrieNode()\n",
        "\n",
        "    def addWord(self, word: str) -> None:\n",
        "        cur = self.root\n",
        "        for c in word:\n",
        "            if c not in cur.children:\n",
        "                cur.children[c] =  TrieNode()\n",
        "            cur = cur.children[c]\n",
        "        cur.endOfWord = True\n",
        "\n",
        "\n",
        "    def search(self, word: str) -> bool:\n",
        "        #word may contain dots means any letter.\n",
        "        #这里写的不对。如果为点，则需要遍历所有的第二层。need recursive\n",
        "\n",
        "        def search_sub(word,cur):\n",
        "\n",
        "            for i in range(len(word)):\n",
        "                for j in cur.children:\n",
        "                    if word[i] == '.':\n",
        "                        search_sub(word[i:], cur.children[j])\n",
        "                    elif word[i] not in cur.children:\n",
        "                        return False\n",
        "                    else:\n",
        "                        cur = cur.children[word[i]]\n",
        "\n",
        "\n",
        "        return search_sub(word, self.root)\n"
      ]
    },
    {
      "cell_type": "markdown",
      "id": "3NjjAvAXfY6R",
      "metadata": {
        "id": "3NjjAvAXfY6R"
      },
      "source": [
        "1.First Return (True):\n",
        "\n",
        "- Purpose: This return statement immediately terminates not just the for-loop but also the current recursive call of the function with a positive result. This is because once a matching path is found in the trie that corresponds to the wildcard '.' and the subsequent characters, there's no need to continue searching other paths.\n",
        "- Effect: If dfs(i+1, c) returns True, it means a valid continuation of the word from that node matches the rest of the word. Thus, by returning True, you propagate this successful match back through the recursion stack, effectively ending all upper recursive layers successively with True, indicating that the word has been found in the trie.\n",
        "\n",
        "2. Second Return (False):\n",
        "\n",
        "- Purpose: This return is executed when the for-loop has completed without finding any matching path. If the function iterates through all child nodes and none of the recursive calls to dfs(i+1, c) return True, it means there is no valid continuation of the word from this node after a wildcard '.', or simply no children match the next character in the word.\n",
        "- Effect: The function returns False to indicate failure to match the word, stopping further unnecessary recursion for this particular path or branch in the trie. This is crucial in backtracking, as it correctly flags that this branch does not lead to a solution and allows the search to backtrack properly or terminate if it is the initial call."
      ]
    },
    {
      "cell_type": "code",
      "execution_count": null,
      "id": "V3ovoHhBa0hZ",
      "metadata": {
        "id": "V3ovoHhBa0hZ"
      },
      "outputs": [],
      "source": [
        "# the correct version\n",
        "\n",
        "class TrieNode:\n",
        "    def __init__(self):\n",
        "        self.children = {} #hashmap.\n",
        "        self.endOfWord = False\n",
        "\n",
        "class WordDictionary:\n",
        "\n",
        "    def __init__(self):\n",
        "        self.root = TrieNode()\n",
        "\n",
        "    def addWord(self, word: str) -> None:\n",
        "        cur = self.root\n",
        "        for c in word:\n",
        "            if c not in cur.children:\n",
        "                cur.children[c] =  TrieNode()\n",
        "            cur = cur.children[c]\n",
        "        cur.endOfWord = True\n",
        "\n",
        "\n",
        "    def search(self, word: str) -> bool:\n",
        "        #word may contain dots means any letter.\n",
        "\n",
        "        def dfs(j, root):\n",
        "            cur = root\n",
        "\n",
        "            for i in range(j, len(word)):\n",
        "                c = word[i]\n",
        "                if c == '.': #recursion and backtracking.\n",
        "                    for child in cur.children.values():\n",
        "                        if dfs( i+1 ,child):\n",
        "                            return True #to find if any child that could satisfy.\n",
        "                    return False #if loop failed to find match, return false.\n",
        "\n",
        "                else:\n",
        "                    if c  not in cur.children:\n",
        "                        return False\n",
        "                    cur = cur.children[c] #if exist c\n",
        "            return cur.endOfWord\n",
        "\n",
        "        return dfs(0, self.root)\n"
      ]
    },
    {
      "cell_type": "code",
      "execution_count": null,
      "id": "a6KQDkJka16Z",
      "metadata": {
        "id": "a6KQDkJka16Z"
      },
      "outputs": [],
      "source": [
        "test_dict = WordDictionary()\n",
        "\n",
        "test_dict.addWord('bad')\n",
        "test_dict.addWord('dad')\n",
        "test_dict.addWord('blue')"
      ]
    },
    {
      "cell_type": "markdown",
      "id": "RcPrdP0egAX6",
      "metadata": {
        "id": "RcPrdP0egAX6"
      },
      "source": [
        "`{'c': TrieNode(), 'a': TrieNode()}`\n",
        "\n",
        "### iterating tries\n",
        "\n",
        "1. Iterating with cur.children.values()\n",
        "- terate over the TrieNode() instances directly, ignoring the characters 'c' and 'a'.\n",
        "\n",
        "\n",
        "2. Iterating with cur.children\n",
        "- would result in a TypeError because you cannot iterate over a dictionary directly without specifying whether you want to iterate over keys, values, or items.\n",
        "\n",
        "- cur.children.keys() gives you the keys.\n",
        "- cur.children.items() gives you pairs of keys and values.\n",
        "\n",
        "`for char, child in cur.children.items():`\n",
        "\n",
        "\n",
        "\n"
      ]
    },
    {
      "cell_type": "code",
      "execution_count": null,
      "id": "Y16AicMpcPTf",
      "metadata": {
        "colab": {
          "base_uri": "https://localhost:8080/"
        },
        "id": "Y16AicMpcPTf",
        "outputId": "36b65272-fb0e-4d2a-f0d0-e92109956889"
      },
      "outputs": [
        {
          "name": "stdout",
          "output_type": "stream",
          "text": [
            "Character: b\n",
            "  Children Characters: ['a', 'l']\n",
            "  End of Word: False\n",
            "Character: d\n",
            "  Children Characters: ['a']\n",
            "  End of Word: False\n"
          ]
        }
      ],
      "source": [
        "# Access the children of the root node\n",
        "for key, node in test_dict.root.children.items():\n",
        "    # Print the key (character) and the details of the node\n",
        "    print(f\"Character: {key}\")\n",
        "    print(\"  Children Characters:\", list(node.children.keys()))\n",
        "    print(\"  End of Word:\", node.endOfWord)"
      ]
    },
    {
      "cell_type": "markdown",
      "id": "F4lLh0eLlHwG",
      "metadata": {
        "id": "F4lLh0eLlHwG"
      },
      "source": [
        "# Graph"
      ]
    },
    {
      "cell_type": "markdown",
      "id": "p1_WpsmwlR9O",
      "metadata": {
        "id": "p1_WpsmwlR9O"
      },
      "source": [
        "## Count Number of Islands\n"
      ]
    },
    {
      "cell_type": "code",
      "execution_count": null,
      "id": "FTo0g875cUaw",
      "metadata": {
        "id": "FTo0g875cUaw"
      },
      "outputs": [],
      "source": [
        "class Solution:\n",
        "    def numIslands(self, grid: List[List[str]]) -> int:\n",
        "        rows,cols = len(grid), len(grid[0])\n",
        "        if not grid:\n",
        "            return 0\n",
        "\n",
        "        def dfs(i,j): #deep first search\n",
        "            #check if the current position out of boundary or is water\n",
        "            if i<0 or j<0 or i>=rows or j>=cols or grid[i][j] == '0':\n",
        "                return\n",
        "\n",
        "            #mark the current cell as visited by setting it to 0\n",
        "            grid[i][j] = '0'\n",
        "\n",
        "            #recursively visit all connecting parts of the island\n",
        "            #大致含义：\n",
        "            #将1变为0，并且对1的上下左右递归的寻找（接壤的岛）都变成0.直到碰壁碰水而结束。\n",
        "\n",
        "            dfs(i+1, j)\n",
        "            dfs(i-1, j)\n",
        "            dfs(i, j+1)\n",
        "            dfs(i, j-1)\n",
        "\n",
        "        count = 0\n",
        "        for i in range(rows):\n",
        "            for j in range(cols):\n",
        "                if grid[i][j] == '1': #found an island\n",
        "                    dfs(i,j) #发现了1并且return了1次，则证明发现了1个岛。 主要作用是标记0 防止下一次for loop 导致的count+=1\n",
        "                    count += 1\n",
        "        return count\n",
        "\n",
        "\n"
      ]
    },
    {
      "cell_type": "markdown",
      "id": "PVK5dW7oUeac",
      "metadata": {
        "id": "PVK5dW7oUeac"
      },
      "source": [
        "## Clone Graph\n",
        "\n",
        "A graph is a non-linear data structure consisting of vertices (or nodes) and edges. Vertices represent the entities or objects in the graph, while edges represent the relationships or connections between the vertices.\n",
        "\n",
        "Graphs can be directed or undirected.\n",
        "\n",
        "- In a directed graph, the edges have a specific direction, indicating a one-way relationship between vertices.\n",
        "\n",
        "- In an undirected graph, the edges do not have a specific direction, representing a bidirectional relationship between vertices.\n"
      ]
    },
    {
      "cell_type": "markdown",
      "id": "Pkbci-cJYXBD",
      "metadata": {
        "id": "Pkbci-cJYXBD"
      },
      "source": [
        "- why `copy = Node(node.val)` ?\n",
        "\n",
        " If the original node itself were copied (including its neighbors list), you would end up with references to the original graph's nodes, which is not a true clone but a partial deep copy with shared references.\n",
        "\n",
        "- clone application?\n",
        "\n",
        " 1. alg testing and simulation\n",
        " 2. statpresevation\n",
        " 3. concurrency\n",
        " ...\n",
        "\n",
        "- why only use dfs to node not in map?\n",
        "\n",
        "1. Avoid Redundant Cloning\n",
        "2. avoid infinite loop\n",
        "\n",
        "- return copy 满足的条件有哪些？\n",
        "1. 完成了所有邻居的克隆\n",
        "当DFS递归地访问一个节点的所有邻居，并成功创建了这些邻居的克隆后，会将这些克隆的邻居添加到当前节点的克隆版本的邻居列表中。当完成对当前节点所有邻居的处理后，这个节点的克隆工作也就完成了，这时会执行return copy，返回这个节点的克隆。\n",
        "\n",
        "2. 节点没有邻居\n",
        "如果当前节点没有任何邻居（即它的邻居列表为空），那么for nei in node.neighbors:循环将不会执行，因为没有任何内容需要迭代。在这种情况下，直接创建节点的克隆后，return copy 会被立即执行，返回这个没有邻居的节点的克隆。\n",
        "\n",
        "3. 节点已经在映射中被克隆过\n",
        "如果当前访问的节点已经在之前的DFS调用中被克隆过（即它已经存在于oldToNew映射中），则直接从映射中获取这个节点的克隆并返回。这种情况虽然不会直接涉及到return copy（因为这里返回的是oldToNew[node]），但它是DFS结束对当前分支的探索并回溯的一个重要情形。"
      ]
    },
    {
      "cell_type": "markdown",
      "id": "zn1CxRx2gSEj",
      "metadata": {
        "id": "zn1CxRx2gSEj"
      },
      "source": []
    },
    {
      "cell_type": "code",
      "execution_count": null,
      "id": "PZy-Cz9MX6vj",
      "metadata": {
        "id": "PZy-Cz9MX6vj"
      },
      "outputs": [],
      "source": [
        "\"\"\"\n",
        "# Definition for a Node.\n",
        "class Node:\n",
        "    def __init__(self, val = 0, neighbors = None):\n",
        "        self.val = val\n",
        "        self.neighbors = neighbors if neighbors is not None else [], a list. [{},{}]\n",
        "\"\"\"\n",
        "\n",
        "class Solution:\n",
        "    def cloneGraph(self, node: Optional['Node']) -> Optional['Node']:\n",
        "      if not node: #blank\n",
        "        return None\n",
        "\n",
        "      oldToNew = {} #hash map, old:new\n",
        "\n",
        "      def dfs(node): #clone dfs\n",
        "          if node in oldToNew : #alredy made clone\n",
        "              return oldToNew[node] #return new\n",
        "\n",
        "          copy = Node(node.val)  #copy value\n",
        "          oldToNew[node] = copy\n",
        "\n",
        "          for nei in node.neighbors: #copy neighbor. # if no neighbors, simply stop and return copy.\n",
        "              copy.neighbors.append(dfs(nei))  #first copy, then append to neighbors with new copy.\n",
        "\n",
        "          return copy\n",
        "\n",
        "      return dfs(node)\n"
      ]
    },
    {
      "cell_type": "markdown",
      "id": "REB6qGcbUg61",
      "metadata": {
        "id": "REB6qGcbUg61"
      },
      "source": [
        "### Graph Definition\n",
        "\n",
        "https://www.youtube.com/watch?v=OmL2DgBj45Q&t=107s\n"
      ]
    },
    {
      "cell_type": "code",
      "execution_count": null,
      "id": "mFClblPbUeE_",
      "metadata": {
        "id": "mFClblPbUeE_"
      },
      "outputs": [],
      "source": [
        "class Vertex: #vertex == node\n",
        "  def __init__(self, key):\n",
        "    self.id = key\n",
        "    self.connectedTo = {} #key is vertext obj, value is cost\n",
        "\n",
        "  def addNeighbor(self, nbr, cost = None):\n",
        "    self.connectedTo[nbr] = cost\n",
        "\n",
        "  def __str__(self):\n",
        "    return str(self.id) + 'connectedTo' +str([x.id for x in self.connectedTo])\n",
        "\n",
        "  def getConnections(self): #returns vertext objects list\n",
        "    return self.connectedTo.keys()\n",
        "\n",
        "  def getId(self):\n",
        "    return self.id\n",
        "\n",
        "  def getWeight(self, nbr): #nbr vertext object\n",
        "    return self.connectedTo[nbr]\n",
        "\n"
      ]
    },
    {
      "cell_type": "code",
      "execution_count": null,
      "id": "Ntdb8_TuXDql",
      "metadata": {
        "id": "Ntdb8_TuXDql"
      },
      "outputs": [],
      "source": [
        "class Graph:\n",
        "  def __init__(self):\n",
        "    self.vertList = {} #dict of id key and vertex obj value\n",
        "    self.numVertices = 0\n",
        "\n",
        "  def addVertext(self,key):\n",
        "    self.numVertices = self.numVertices + 1\n",
        "    newVertex = Vertex(key)\n",
        "    self.vertList[key] = newVertex\n",
        "    return newVertex\n",
        "\n",
        "  def getVertext(self,n): #returns Vertext object with id n\n",
        "    if n in self.vertList:\n",
        "      return self.vertList[n]\n",
        "    else:\n",
        "      return None\n"
      ]
    },
    {
      "cell_type": "markdown",
      "id": "REEDWk9YHiEu",
      "metadata": {
        "id": "REEDWk9YHiEu"
      },
      "source": [
        "## Pacific Atlantic Water Flow\n"
      ]
    },
    {
      "cell_type": "code",
      "execution_count": null,
      "id": "-ETsAsj4XwfK",
      "metadata": {
        "id": "-ETsAsj4XwfK"
      },
      "outputs": [],
      "source": [
        "rows, cols = len(heights), len(heights[0])\n",
        "\n",
        "        #path = set()\n",
        "P_set = set()\n",
        "A_set = set()\n",
        "\n",
        "path = set()\n",
        "\n",
        "def dfs(r,c, visited_set,height):\n",
        "  #pacific\n",
        "  if ( r <0 or c<0 or r>= rows or c >=cols or\n",
        "      heights[r][c]<height\n",
        "      or (r,c) in path\n",
        "        ):\n",
        "    return\n",
        "\n",
        "  height = heights[r][c]\n",
        "  visited_set.add((r,c))\n",
        "\n",
        "  dfs(r+1,c,visited_set,height)\n",
        "  dfs(r-1,c,visited_set,height)\n",
        "  dfs(r,c+1,visited_set,height)\n",
        "  dfs(r,c-1,visited_set,height)\n",
        "\n",
        "\n",
        "for r in range(rows):\n",
        "  dfs(r,0, P_set, heights[r][0])\n",
        "  dfs(r,cols-1, A_set, heights[r][cols-1])\n",
        "\n",
        "for c in range(cols):\n",
        "  dfs(0,c, P_set, heights[0][c])\n",
        "  dfs(rows-1,c, A_set, heights[rows-1][c])\n",
        "\n",
        "res = list(A_set.intersection(P_set))\n",
        "\n",
        "[list(item) for item in res] #final result\n"
      ]
    },
    {
      "cell_type": "markdown",
      "id": "kjgsUAtVx8fE",
      "metadata": {
        "id": "kjgsUAtVx8fE"
      },
      "source": [
        "## Course Schedule\n"
      ]
    },
    {
      "cell_type": "markdown",
      "id": "UzCDwDOhx-f-",
      "metadata": {
        "id": "UzCDwDOhx-f-"
      },
      "source": [
        "为什么这个和dfs有关系呢？\n",
        "先construct"
      ]
    },
    {
      "cell_type": "code",
      "execution_count": null,
      "id": "Srm98XCNx7cS",
      "metadata": {
        "id": "Srm98XCNx7cS"
      },
      "outputs": [],
      "source": [
        "numCourses = 2\n",
        "prerequisites = [[0,1]]"
      ]
    },
    {
      "cell_type": "code",
      "execution_count": null,
      "id": "ruYr2bOwyWYn",
      "metadata": {
        "id": "ruYr2bOwyWYn"
      },
      "outputs": [],
      "source": []
    },
    {
      "cell_type": "markdown",
      "id": "XXQkP5ktyJmx",
      "metadata": {
        "id": "XXQkP5ktyJmx"
      },
      "source": [
        "## Valid Tree\n"
      ]
    },
    {
      "cell_type": "code",
      "execution_count": null,
      "id": "7C53ggpLy2cJ",
      "metadata": {
        "id": "7C53ggpLy2cJ"
      },
      "outputs": [],
      "source": []
    },
    {
      "cell_type": "markdown",
      "id": "YRWuHYQDy3QE",
      "metadata": {
        "id": "YRWuHYQDy3QE"
      },
      "source": [
        "# 1D dynamic programming"
      ]
    },
    {
      "cell_type": "markdown",
      "id": "IYi2L6nLzlFW",
      "metadata": {
        "id": "IYi2L6nLzlFW"
      },
      "source": [
        "## Climbing Stairs\n"
      ]
    },
    {
      "cell_type": "code",
      "execution_count": null,
      "id": "n_zpPAcyzqzJ",
      "metadata": {
        "id": "n_zpPAcyzqzJ"
      },
      "outputs": [],
      "source": [
        "n = 3\n",
        "[3,0][1,1]"
      ]
    },
    {
      "cell_type": "code",
      "execution_count": null,
      "id": "8tWwJjDry6M_",
      "metadata": {
        "id": "8tWwJjDry6M_"
      },
      "outputs": [],
      "source": [
        "class Solution:\n",
        "    def climbStairs(self, n: int) -> int:\n",
        "\n",
        "        result_list = [0,1,2]\n",
        "\n",
        "        if n in (0,1,2):\n",
        "            return result_list[n]\n",
        "\n",
        "        for i in range(3,n+1):\n",
        "            result_list.append(0)\n",
        "            result_list[i] = result_list[i-1] + result_list[i-2]\n",
        "\n",
        "        return result_list[i]\n"
      ]
    },
    {
      "cell_type": "code",
      "execution_count": null,
      "id": "LAU_blp7zr31",
      "metadata": {
        "colab": {
          "base_uri": "https://localhost:8080/"
        },
        "id": "LAU_blp7zr31",
        "outputId": "f683bc4d-988c-4193-9035-3312849a6283"
      },
      "outputs": [
        {
          "data": {
            "text/plain": [
              "2"
            ]
          },
          "execution_count": 12,
          "metadata": {},
          "output_type": "execute_result"
        }
      ],
      "source": [
        "# memory save solution\n",
        "class Solution:\n",
        "    def climbStairs(self, n: int) -> int:\n",
        "        if n <= 3:\n",
        "            return n\n",
        "        n1, n2 = 2, 3\n",
        "\n",
        "        for i in range(4, n + 1):\n",
        "            temp = n1 + n2\n",
        "            n1 = n2\n",
        "            n2 = temp\n",
        "        return n2\n",
        "\n"
      ]
    },
    {
      "cell_type": "markdown",
      "id": "0pkR--WZ_0M9",
      "metadata": {
        "id": "0pkR--WZ_0M9"
      },
      "source": [
        "## House Robber\n"
      ]
    },
    {
      "cell_type": "code",
      "execution_count": null,
      "id": "X9k4uNLbz9Au",
      "metadata": {
        "id": "X9k4uNLbz9Au"
      },
      "outputs": [],
      "source": [
        "class Solution:\n",
        "    def rob(nums):\n",
        "        n = len(nums)\n",
        "        dp = [0]* n\n",
        "\n",
        "        dp[0] = nums[0]\n",
        "\n",
        "        if n>1:\n",
        "            dp[1] = max(nums[0], nums[1])\n",
        "\n",
        "        for i in range(2, n):\n",
        "            dp[i] = max(dp[i-1], dp[i-2]+nums[i])\n",
        "\n",
        "        return dp[n-1]\n"
      ]
    },
    {
      "cell_type": "code",
      "execution_count": null,
      "id": "x1YT_1oZHcMF",
      "metadata": {
        "id": "x1YT_1oZHcMF"
      },
      "outputs": [],
      "source": [
        "#better solution with less memory\n",
        "class Solution:\n",
        "    def rob(nums):\n",
        "        rob1, rob2 = 0,0\n",
        "\n",
        "        for n in nums:\n",
        "            temp = max(rob1 + n, rob2)\n",
        "            rob1 = rob2 #move\n",
        "            rob2 = temp\n",
        "\n",
        "        return rob2\n"
      ]
    },
    {
      "cell_type": "markdown",
      "id": "aGrEIQELjbyP",
      "metadata": {
        "id": "aGrEIQELjbyP"
      },
      "source": [
        "### House Robber II\n"
      ]
    },
    {
      "cell_type": "code",
      "execution_count": null,
      "id": "buB9UeYGH8fU",
      "metadata": {
        "id": "buB9UeYGH8fU"
      },
      "outputs": [],
      "source": [
        "nums = [2,9,8,3,6]\n"
      ]
    },
    {
      "cell_type": "code",
      "execution_count": null,
      "id": "7rXSudJSjdJK",
      "metadata": {
        "id": "7rXSudJSjdJK"
      },
      "outputs": [],
      "source": [
        "#这个方法不行，因为。\n",
        "#The problem is that your solution's logic doesn't explicitly exclude the last house when considering the first or vice versa,\n",
        "#which is necessary to avoid the adjacency issue in a circular arrangement.\n",
        "\n",
        "dp = [0]* (len(nums))\n",
        "\n",
        "dp[0] = nums[0]\n",
        "dp[1] = max(nums[0] , nums[1] )\n",
        "dp[2] = max(nums[0] , nums[1] , nums[2])\n",
        "\n",
        "\n",
        "for i in range(3,len(nums)):\n",
        "    dp[i] = max((dp[i-3] + nums[i-1]), (dp[i-2] + nums[i]),(dp[i-1]))\n",
        "\n"
      ]
    },
    {
      "cell_type": "code",
      "execution_count": null,
      "id": "rHi5QgL0jd-G",
      "metadata": {
        "id": "rHi5QgL0jd-G"
      },
      "outputs": [],
      "source": [
        "#正确的方法。\n",
        "\n",
        "def rob(nums):\n",
        "    #正确的方法。\n",
        "\n",
        "    if len(nums) == 1:\n",
        "        return nums[0]\n",
        "    if len(nums) == 2:\n",
        "        return max(nums[0] , nums[1] )\n",
        "\n",
        "    def find_max(nums):\n",
        "        n = len(nums)\n",
        "        dp = [0]* n\n",
        "\n",
        "        dp[0] = nums[0]\n",
        "        dp[1] = max(nums[0] , nums[1] )\n",
        "\n",
        "        for i in range(2,n):\n",
        "            dp[i] = max((dp[i-2] + nums[i]),(dp[i-1]))\n",
        "\n",
        "        return dp[n-1]\n",
        "\n",
        "    return max(find_max(nums[1:]), find_max(nums[:-1]))\n"
      ]
    },
    {
      "cell_type": "markdown",
      "id": "h9Zso_OGjtn4",
      "metadata": {
        "id": "h9Zso_OGjtn4"
      },
      "source": [
        "## Longest Palindromic Substring\n"
      ]
    },
    {
      "cell_type": "code",
      "execution_count": null,
      "id": "RAFz4-3ZjfHT",
      "metadata": {
        "id": "RAFz4-3ZjfHT"
      },
      "outputs": [],
      "source": [
        "s = \"ababd\""
      ]
    },
    {
      "cell_type": "code",
      "execution_count": null,
      "id": "0Inaz9adj7KU",
      "metadata": {
        "id": "0Inaz9adj7KU"
      },
      "outputs": [],
      "source": [
        "#我的方法，太暴力。 复杂度太高\n",
        "n = len(s)\n",
        "\n",
        "def pal(sub_str):\n",
        "    for i in range(len(sub_str)):\n",
        "        j = len(sub_str) - i - 1\n",
        "        if sub_str[i] != sub_str[j]:\n",
        "            return False\n",
        "    return True\n",
        "\n",
        "length = 0\n",
        "res = \"\"\n",
        "\n",
        "for i in range(n):\n",
        "    for j in range(i,n):\n",
        "        #print(i,j)\n",
        "        if pal(s[i:j+1]):\n",
        "            if j-i+1 > length : #need update\n",
        "                length = j-i+1\n",
        "                res = s[i:j+1]\n",
        "                print(i,j)\n",
        "\n",
        "#return the max length result"
      ]
    },
    {
      "cell_type": "markdown",
      "id": "Z3zPvhbxpAqG",
      "metadata": {
        "id": "Z3zPvhbxpAqG"
      },
      "source": [
        "efficiency and potential improvements.\n",
        "\n",
        "Time Complexity: O(n^3). For each of the O(n^2) substrings, your pal() function takes O(n) time in the worst case (when the substring is the entire string or nearly the entire string).\n",
        "\n",
        "Space Complexity: O(1) beyond the input, as you store only a few additional variables (length, res)."
      ]
    },
    {
      "cell_type": "code",
      "execution_count": null,
      "id": "WIZwDU9ymKpZ",
      "metadata": {
        "id": "WIZwDU9ymKpZ"
      },
      "outputs": [],
      "source": [
        "# 更简洁的方式。找中心点。\n",
        "class Solution:\n",
        "    def longestPalindrome(self, s: str) -> str:\n",
        "        n = len(s)\n",
        "        length = 1\n",
        "        res = \"\"\n",
        "\n",
        "        def pal(l,r):\n",
        "            nonlocal length, res\n",
        "            while l>=0 and r<n and s[l]==s[r]:\n",
        "                #print(l,r,s[l:r])\n",
        "                if (r-l + 1) >= length:\n",
        "                    length =  r-l + 1\n",
        "                    res = s[l:r+1]\n",
        "\n",
        "                l -= 1\n",
        "                r += 1\n",
        "                #print(l,r,s[l:r+1])\n",
        "\n",
        "            return res\n",
        "\n",
        "        for i in range(n):\n",
        "            pal(i,i) #odd\n",
        "            pal(i,i+1) #even\n",
        "\n",
        "        return res\n",
        "\n"
      ]
    },
    {
      "cell_type": "markdown",
      "id": "K5drjN6w1VDP",
      "metadata": {
        "id": "K5drjN6w1VDP"
      },
      "source": [
        "要被global和non local气死了。\n",
        "\n",
        "- global Keyword: The global keyword in Python is used to modify variables that are defined at the module level, outside of any class or function. It makes the function able to modify the global variable, not just access it.\n",
        "\n",
        "- nonlocal Keyword: The nonlocal keyword is used within nested functions to allow modification of a variable in the nearest enclosing scope that is not global. This is useful in scenarios where you have a function defined inside another function, and you need to modify variables from the outer function within the inner function."
      ]
    },
    {
      "cell_type": "code",
      "execution_count": null,
      "id": "fq1jPeG6lkVt",
      "metadata": {
        "colab": {
          "base_uri": "https://localhost:8080/"
        },
        "id": "fq1jPeG6lkVt",
        "outputId": "d6e04325-e15d-4ea2-9ade-e6f6f1d316c5"
      },
      "outputs": [
        {
          "data": {
            "text/plain": [
              "False"
            ]
          },
          "execution_count": 8,
          "metadata": {},
          "output_type": "execute_result"
        }
      ],
      "source": []
    },
    {
      "cell_type": "code",
      "execution_count": null,
      "id": "jOkevapNllZ7",
      "metadata": {
        "id": "jOkevapNllZ7"
      },
      "outputs": [],
      "source": [
        "## Decode Ways\n"
      ]
    },
    {
      "cell_type": "markdown",
      "id": "6JT-HgcuL8om",
      "metadata": {
        "id": "6JT-HgcuL8om"
      },
      "source": [
        "## Decode Ways\n"
      ]
    },
    {
      "cell_type": "markdown",
      "id": "W7raR-XRL9nr",
      "metadata": {
        "id": "W7raR-XRL9nr"
      },
      "source": [
        "In the \"Decode Ways\" problem and dynamic programming (DP) setups in general, dp[n] does not simply represent adding a letter to the solutions at dp[n-1]. Instead, it's the culmination of all valid decoding pathways up to the\n",
        "𝑛\n",
        "nth character, considering all rules and constraints of the problem."
      ]
    },
    {
      "cell_type": "code",
      "execution_count": null,
      "id": "6BfhN6azL887",
      "metadata": {
        "id": "6BfhN6azL887"
      },
      "outputs": [],
      "source": []
    },
    {
      "cell_type": "markdown",
      "id": "IE4XIyXX-0mY",
      "metadata": {
        "id": "IE4XIyXX-0mY"
      },
      "source": []
    },
    {
      "cell_type": "markdown",
      "id": "rYK3XNak9C37",
      "metadata": {
        "id": "rYK3XNak9C37"
      },
      "source": [
        "# 2D dynamic programming"
      ]
    },
    {
      "cell_type": "markdown",
      "id": "Htb1rX0A9F_U",
      "metadata": {
        "id": "Htb1rX0A9F_U"
      },
      "source": [
        "## Count Paths\n"
      ]
    },
    {
      "cell_type": "code",
      "execution_count": null,
      "id": "oMwvHpgv9FL1",
      "metadata": {
        "id": "oMwvHpgv9FL1"
      },
      "outputs": [],
      "source": [
        "# but space cost is high. my answer.\n",
        "import numpy as np\n",
        "dp = np.zeros([m,n])\n",
        "\n",
        "dp[m-2,n-1] = 1\n",
        "dp[m-1,n-2] = 1\n",
        "\n",
        "for i in range(m-1, -1,-1):\n",
        "    for j in range(n-1,-1,-1):\n",
        "        #print(i,j)\n",
        "        if i==m-1 and j ==n-1:\n",
        "            dp[i,j] = 1\n",
        "        elif i ==m-1:\n",
        "            dp[i,j] = dp[i, j+1]\n",
        "\n",
        "        elif j ==n-1:\n",
        "            dp[i,j] = dp[i+1, j]\n",
        "\n",
        "        else:\n",
        "            dp[i,j] = dp[i+1,j] + dp[i,j+1]\n",
        "#return int(dp[0,0])"
      ]
    },
    {
      "cell_type": "code",
      "execution_count": null,
      "id": "t3jVpyHX9ucW",
      "metadata": {
        "id": "t3jVpyHX9ucW"
      },
      "outputs": [],
      "source": [
        "# improved answer\n",
        "# 存储空间可以降低。通过分行填充。从最后一行向上开始填充。\n",
        "\n",
        "def uniquePaths(self, m: int, n: int) -> int:\n",
        "    row = [1] * n\n",
        "\n",
        "    for i in range(m - 1):\n",
        "        newRow = [1] * n\n",
        "        for j in range(n - 2, -1, -1):\n",
        "            newRow[j] = newRow[j + 1] + row[j]\n",
        "        row = newRow\n",
        "    return row[0]\n"
      ]
    },
    {
      "cell_type": "markdown",
      "id": "1RHrVII09ver",
      "metadata": {
        "id": "1RHrVII09ver"
      },
      "source": [
        "## Longest Common Subsequence\n"
      ]
    },
    {
      "cell_type": "code",
      "execution_count": null,
      "id": "MNuMYgMG9v6I",
      "metadata": {
        "id": "MNuMYgMG9v6I"
      },
      "outputs": [],
      "source": [
        "#mysolution\n",
        "\n",
        "text1 = \"crabt\"\n",
        "text2 = \"car\"\n",
        "\n",
        "m,n = len(text1), len(text2)\n",
        "dp = np.zeros([m,n])\n",
        "dp\n",
        "\n",
        "for i in range(m):\n",
        "    for j in range(n):\n",
        "        if i == 0 or j == 0:\n",
        "            if text1[i] == text2[j]:\n",
        "                dp[i,j] = 1\n",
        "\n",
        "        elif text1[i] == text2[j]:\n",
        "            dp[i,j] = np.max(dp[0:i,0:j]) + 1\n",
        "\n",
        "        #return int(np.max(dp))\n",
        "\n",
        "dp"
      ]
    },
    {
      "cell_type": "code",
      "execution_count": null,
      "id": "swprkWnoGwKJ",
      "metadata": {
        "id": "swprkWnoGwKJ"
      },
      "outputs": [],
      "source": [
        "#official answer\n",
        "class Solution:\n",
        "    def longestCommonSubsequence(self, text1: str, text2: str) -> int:\n",
        "        dp = [[0 for j in range(len(text2) + 1)] for i in range(len(text1) + 1)]\n",
        "\n",
        "        for i in range(len(text1) - 1, -1, -1):\n",
        "            for j in range(len(text2) - 1, -1, -1):\n",
        "                if text1[i] == text2[j]:\n",
        "                    dp[i][j] = 1 + dp[i + 1][j + 1]\n",
        "                else:\n",
        "                    dp[i][j] = max(dp[i][j + 1], dp[i + 1][j])\n",
        "\n",
        "        return dp[0][0]\n"
      ]
    },
    {
      "cell_type": "markdown",
      "id": "Odpq3URhGwd9",
      "metadata": {
        "id": "Odpq3URhGwd9"
      },
      "source": [
        "# Bit Manipulation"
      ]
    },
    {
      "cell_type": "markdown",
      "id": "chDO5tbQRO7x",
      "metadata": {
        "id": "chDO5tbQRO7x"
      },
      "source": []
    },
    {
      "cell_type": "markdown",
      "id": "quN8kAmHG4Yw",
      "metadata": {
        "id": "quN8kAmHG4Yw"
      },
      "source": [
        "Bit manipulation involves the direct manipulation of individual bits of a data type (like integers) within a programming environment. It uses bitwise operators to perform operations at the bit level. These operators include:\n",
        "\n",
        "AND (&): Sets each bit to 1 if both bits are 1.\n",
        "\n",
        "OR (|): Sets each bit to 1 if one of the two bits is 1.\n",
        "\n",
        "XOR (^): Sets each bit to 1 if only one of the two bits is 1.\n",
        "\n",
        "NOT (~): Inverts all the bits.\n",
        "\n",
        "Left Shift (<<): Shifts bits to the left, which effectively multiplies the number by a power of two.\n",
        "\n",
        "Right Shift (>>): Shifts bits to the right, which effectively divides the number by a power of two. The behavior depends on whether it’s a logical or arithmetic shift and whether the number is signed or unsigned."
      ]
    },
    {
      "cell_type": "markdown",
      "id": "J0czEOz8oTxO",
      "metadata": {
        "id": "J0czEOz8oTxO"
      },
      "source": []
    },
    {
      "cell_type": "markdown",
      "id": "9dn4s--QSANW",
      "metadata": {
        "id": "9dn4s--QSANW"
      },
      "source": [
        "why leading zero?\n",
        "\n",
        "1. Standardization of Bit Length:\n",
        "\n",
        "2. Ease of Reading and Error Prevention:\n",
        "\n",
        "3. Compatibility Across Different Systems:\n",
        "\n",
        "4. Alignment and Padding:\n",
        "\n",
        "5. Significance in Different Contexts:\n"
      ]
    },
    {
      "cell_type": "markdown",
      "id": "IzI-5K7EoUbV",
      "metadata": {
        "id": "IzI-5K7EoUbV"
      },
      "source": [
        "### LOOP: PASS & CONTINUE\n",
        "\n",
        "1. Effect on Loop Execution:\n",
        "- pass does nothing and allows the execution to continue normally to the next statement in the block.\n",
        "- continue skips all remaining statements in the current loop iteration and moves control back to the loop's condition (i.e., the top of the loop).\n",
        "\n",
        "2. Typical Usage Contexts:\n",
        "\n",
        "- pass is used when no action is required but syntactical completeness is needed; it's mostly a structural placeholder.\n",
        "- continue is actively used to control loop processing, especially to skip certain iterations based on specific conditions.\n"
      ]
    },
    {
      "cell_type": "code",
      "execution_count": null,
      "id": "YZG9NJUnoTWH",
      "metadata": {
        "colab": {
          "base_uri": "https://localhost:8080/"
        },
        "id": "YZG9NJUnoTWH",
        "outputId": "8cb32a62-7499-420e-e4ec-4ebd78d6f4c8"
      },
      "outputs": [
        {
          "name": "stdout",
          "output_type": "stream",
          "text": [
            "0\n",
            "after pass 0\n",
            "1\n",
            "after pass 1\n",
            "2\n",
            "after pass 2\n",
            "3\n",
            "after pass 3\n"
          ]
        }
      ],
      "source": [
        "for i in range(4):\n",
        "  print(i)\n",
        "  if i == 2:\n",
        "    pass\n",
        "  print(\"after pass\",i)"
      ]
    },
    {
      "cell_type": "code",
      "execution_count": null,
      "id": "1rmG6vwdosS_",
      "metadata": {
        "colab": {
          "base_uri": "https://localhost:8080/"
        },
        "id": "1rmG6vwdosS_",
        "outputId": "7119fafc-29d3-49ac-93e2-ef5ef29aed79"
      },
      "outputs": [
        {
          "name": "stdout",
          "output_type": "stream",
          "text": [
            "0\n",
            "after continue 0\n",
            "1\n",
            "after continue 1\n",
            "2\n",
            "3\n",
            "after continue 3\n"
          ]
        }
      ],
      "source": [
        "for i in range(4):\n",
        "  print(i)\n",
        "  if i == 2:\n",
        "    continue\n",
        "  print(\"after continue\",i)"
      ]
    },
    {
      "cell_type": "markdown",
      "id": "r-BKfh9xWLWL",
      "metadata": {
        "id": "r-BKfh9xWLWL"
      },
      "source": [
        "## Number of One Bits\n"
      ]
    },
    {
      "cell_type": "code",
      "execution_count": null,
      "id": "TsXDDn5GGzJY",
      "metadata": {
        "colab": {
          "base_uri": "https://localhost:8080/"
        },
        "id": "TsXDDn5GGzJY",
        "outputId": "f3dab96f-07f7-45dd-d6e7-66ebd46195e1"
      },
      "outputs": [
        {
          "data": {
            "text/plain": [
              "23"
            ]
          },
          "execution_count": 5,
          "metadata": {},
          "output_type": "execute_result"
        }
      ],
      "source": [
        "x = 0b00000000000000000000000000010111  # Binary literal for 23\n",
        "x"
      ]
    },
    {
      "cell_type": "code",
      "execution_count": null,
      "id": "WfZkysu4G3FS",
      "metadata": {
        "colab": {
          "base_uri": "https://localhost:8080/"
        },
        "id": "WfZkysu4G3FS",
        "outputId": "cb498a71-ea1d-4075-d4d1-f91e71fe771c"
      },
      "outputs": [
        {
          "name": "stdout",
          "output_type": "stream",
          "text": [
            "AND operation: 0b11\n",
            "OR operation: 0b10111\n",
            "XOR operation: 0b10100\n",
            "NOT operation: 0b11111111111111111111111111101000\n",
            "Left Shift operation: 0b1011100\n",
            "Right Shift operation: 0b101\n"
          ]
        }
      ],
      "source": [
        "# Bitwise AND\n",
        "y = x & 0b00000011  # Example: Masking with 00000011 (binary for 3)\n",
        "print(\"AND operation:\", bin(y))  # Output will be 0b11\n",
        "\n",
        "# Bitwise OR\n",
        "y = x | 0b00000011\n",
        "print(\"OR operation:\", bin(y))  # Output will be 0b10111\n",
        "\n",
        "# Bitwise XOR\n",
        "y = x ^ 0b00000011\n",
        "print(\"XOR operation:\", bin(y))  # Output will toggle the last two bits: 0b10100\n",
        "\n",
        "# Bitwise NOT\n",
        "y = ~x\n",
        "print(\"NOT operation:\", bin(y & 0xFFFFFFFF))  # Mask with FFFFFFFF to limit the display length\n",
        "\n",
        "# Left Shift\n",
        "y = x << 2\n",
        "print(\"Left Shift operation:\", bin(y))  # Output will be 0b1011100, equivalent to 23 * 4\n",
        "\n",
        "# Right Shift\n",
        "y = x >> 2\n",
        "print(\"Right Shift operation:\", bin(y))  # Output will be 0b101, equivalent to 23 // 4"
      ]
    },
    {
      "cell_type": "code",
      "execution_count": null,
      "id": "B-z2jvH0Re4Q",
      "metadata": {
        "colab": {
          "base_uri": "https://localhost:8080/",
          "height": 35
        },
        "id": "B-z2jvH0Re4Q",
        "outputId": "0fa3e14b-2106-4564-a52c-bce48a2fa7fb"
      },
      "outputs": [
        {
          "data": {
            "application/vnd.google.colaboratory.intrinsic+json": {
              "type": "string"
            },
            "text/plain": [
              "'0b1'"
            ]
          },
          "execution_count": 14,
          "metadata": {},
          "output_type": "execute_result"
        }
      ],
      "source": [
        "x = 0b10\n",
        "bin(x >> 1)"
      ]
    },
    {
      "cell_type": "code",
      "execution_count": null,
      "id": "sFIf8natSSMb",
      "metadata": {
        "colab": {
          "base_uri": "https://localhost:8080/"
        },
        "id": "sFIf8natSSMb",
        "outputId": "d013a098-4d65-49b0-979d-aba9e20a8afa"
      },
      "outputs": [
        {
          "name": "stdout",
          "output_type": "stream",
          "text": [
            "Number of 1's: 4\n"
          ]
        }
      ],
      "source": [
        "x = 0b00000000000000000000000000010111  # Example integer\n",
        "count = 0  # Ensure that 'count' is initialized\n",
        "\n",
        "while x:\n",
        "    if x % 2 == 0:\n",
        "        x = x >> 1  # Perform the right shift on the integer\n",
        "    else:\n",
        "        count += 1\n",
        "        x = x >> 1  # Perform the right shift on the integer after incrementing count\n",
        "\n",
        "print(\"Number of 1's:\", count)\n"
      ]
    },
    {
      "cell_type": "code",
      "execution_count": null,
      "id": "1lzyjvVRT-yX",
      "metadata": {
        "id": "1lzyjvVRT-yX"
      },
      "outputs": [],
      "source": [
        "class Solution:\n",
        "    def hammingWeight(self, n: int) -> int:\n",
        "        res = 0\n",
        "        while n:\n",
        "            n &= n - 1\n",
        "            res += 1\n",
        "        return res\n"
      ]
    },
    {
      "cell_type": "markdown",
      "id": "oytOqjExWOZe",
      "metadata": {
        "id": "oytOqjExWOZe"
      },
      "source": [
        "## Counting Bits\n"
      ]
    },
    {
      "cell_type": "code",
      "execution_count": null,
      "id": "ONS-XLfAWQFT",
      "metadata": {
        "colab": {
          "base_uri": "https://localhost:8080/"
        },
        "id": "ONS-XLfAWQFT",
        "outputId": "76ee840d-9aa0-47cc-9a2d-ee11b761bcd7"
      },
      "outputs": [
        {
          "name": "stdout",
          "output_type": "stream",
          "text": [
            "0b0\n",
            "0b1\n",
            "0b10\n",
            "0b11\n",
            "0b100\n",
            "0b101\n",
            "0b110\n",
            "0b111\n",
            "0b1000\n",
            "0b1001\n",
            "0b1010\n"
          ]
        }
      ],
      "source": [
        "n = 10\n",
        "bin(n)\n",
        "\n",
        "for i in range(n+1):\n",
        "  print(bin(i))"
      ]
    },
    {
      "cell_type": "code",
      "execution_count": null,
      "id": "uCZQADT8WYib",
      "metadata": {
        "id": "uCZQADT8WYib"
      },
      "outputs": [],
      "source": [
        "def count_one(x):\n",
        "  count = 0\n",
        "  while x:\n",
        "      if x % 2 == 0:\n",
        "          x = x >> 1  # Perform the right shift on the integer\n",
        "      else:\n",
        "          count += 1\n",
        "          x = x >> 1  # Perform the right shift on the integer after incrementing count\n",
        "\n",
        "  return count\n",
        "\n"
      ]
    },
    {
      "cell_type": "code",
      "execution_count": null,
      "id": "VAYuNrLabfjM",
      "metadata": {
        "id": "VAYuNrLabfjM"
      },
      "outputs": [],
      "source": [
        "class Solution:\n",
        "    def countBits(self, n: int) -> List[int]:\n",
        "        dp = [0] * (n + 1)\n",
        "        offset = 1\n",
        "\n",
        "        for i in range(1, n + 1):\n",
        "            if offset * 2 == i:\n",
        "                offset = i\n",
        "            dp[i] = 1 + dp[i - offset]\n",
        "        return dp\n"
      ]
    },
    {
      "cell_type": "markdown",
      "id": "1vkzobHibf94",
      "metadata": {
        "id": "1vkzobHibf94"
      },
      "source": [
        "## Reverse Bits\n"
      ]
    },
    {
      "cell_type": "code",
      "execution_count": null,
      "id": "jA8cdH91bhSS",
      "metadata": {
        "colab": {
          "base_uri": "https://localhost:8080/"
        },
        "id": "jA8cdH91bhSS",
        "outputId": "600043c4-5513-4a85-a70c-decc8cd181e9"
      },
      "outputs": [
        {
          "data": {
            "text/plain": [
              "1.5238095230999447"
            ]
          },
          "execution_count": 22,
          "metadata": {},
          "output_type": "execute_result"
        }
      ],
      "source": [
        "class Solution:\n",
        "    def reverseBits(self, n: int) -> int:\n",
        "        count = 31\n",
        "        res = 0\n",
        "        while n:\n",
        "            if n % 2 != 0:  # Last bit is 1\n",
        "                res = res + 2**count\n",
        "            count -= 1\n",
        "            n = n >> 1\n",
        "        return res\n"
      ]
    },
    {
      "cell_type": "code",
      "execution_count": null,
      "id": "6sN1fCfrcNue",
      "metadata": {
        "colab": {
          "base_uri": "https://localhost:8080/"
        },
        "id": "6sN1fCfrcNue",
        "outputId": "1f30d452-9aec-4a56-bbeb-b40032dcba5e"
      },
      "outputs": [
        {
          "data": {
            "text/plain": [
              "8"
            ]
          },
          "execution_count": 23,
          "metadata": {},
          "output_type": "execute_result"
        }
      ],
      "source": [
        "2**3"
      ]
    },
    {
      "cell_type": "code",
      "execution_count": null,
      "id": "d1xjJgwTcW6G",
      "metadata": {
        "id": "d1xjJgwTcW6G"
      },
      "outputs": [],
      "source": []
    },
    {
      "cell_type": "markdown",
      "id": "SV6F7tBTdhGE",
      "metadata": {
        "id": "SV6F7tBTdhGE"
      },
      "source": [
        "## Missing Number\n"
      ]
    },
    {
      "cell_type": "code",
      "execution_count": null,
      "id": "KeomBQPSdil8",
      "metadata": {
        "id": "KeomBQPSdil8"
      },
      "outputs": [],
      "source": [
        "nums = [1,2,3]\n",
        "class Solution:\n",
        "    def missingNumber(self, nums: List[int]) -> int:\n",
        "        n = len(nums)\n",
        "\n",
        "        for i in range(n+1):\n",
        "            try:\n",
        "                nums.remove(i)\n",
        "            except:\n",
        "                return i\n"
      ]
    },
    {
      "cell_type": "markdown",
      "id": "xXiuoF_unYx_",
      "metadata": {
        "id": "xXiuoF_unYx_"
      },
      "source": [
        "## Sum of Two Integers\n"
      ]
    },
    {
      "cell_type": "code",
      "execution_count": null,
      "id": "U1zCeOFkkFJb",
      "metadata": {
        "id": "U1zCeOFkkFJb"
      },
      "outputs": [],
      "source": [
        "##"
      ]
    },
    {
      "cell_type": "code",
      "execution_count": null,
      "id": "RVFKfOsDsCEp",
      "metadata": {
        "id": "RVFKfOsDsCEp"
      },
      "outputs": [],
      "source": []
    },
    {
      "cell_type": "markdown",
      "id": "T3ouxIkxs5VX",
      "metadata": {
        "id": "T3ouxIkxs5VX"
      },
      "source": [
        "# greedy"
      ]
    },
    {
      "cell_type": "markdown",
      "id": "NM-O34Xxs69R",
      "metadata": {
        "id": "NM-O34Xxs69R"
      },
      "source": [
        "## Maximum Subarray\n"
      ]
    },
    {
      "cell_type": "markdown",
      "id": "lsx-xUlqs7EX",
      "metadata": {
        "id": "lsx-xUlqs7EX"
      },
      "source": []
    },
    {
      "cell_type": "code",
      "execution_count": null,
      "id": "17n2k9d6s8lH",
      "metadata": {
        "id": "17n2k9d6s8lH"
      },
      "outputs": [],
      "source": [
        "# 倒着来，每个位置的最大值。\n",
        "nums = [2,-3,4,-2,2,1,-1,4]\n",
        "n = len(nums)\n",
        "\n",
        "dp = [float('inf')]*n\n",
        "\n",
        "dp[n-1] = nums[n-1]\n",
        "for i in range(n-2,-1,-1):\n",
        "  dp[i] = max( dp[i+1] + nums[i], nums[i])"
      ]
    },
    {
      "cell_type": "code",
      "execution_count": null,
      "id": "qXEsLpN6uul_",
      "metadata": {
        "id": "qXEsLpN6uul_"
      },
      "outputs": [],
      "source": [
        "class Solution:\n",
        "    def maxSubArray(self, nums: List[int]) -> int:\n",
        "        res = nums[0]\n",
        "\n",
        "        total = 0\n",
        "        for n in nums:\n",
        "            total += n\n",
        "            res = max(res, total)\n",
        "            if total < 0:\n",
        "                total = 0\n",
        "        return res\n"
      ]
    },
    {
      "cell_type": "code",
      "execution_count": null,
      "id": "VsOBSQkWuS9V",
      "metadata": {
        "colab": {
          "base_uri": "https://localhost:8080/"
        },
        "id": "VsOBSQkWuS9V",
        "outputId": "675c3206-fc84-491e-b3e7-60506550fee6"
      },
      "outputs": [
        {
          "data": {
            "text/plain": [
              "[7, 5, 8, 4, 6, 4, 3, 4]"
            ]
          },
          "execution_count": 7,
          "metadata": {},
          "output_type": "execute_result"
        }
      ],
      "source": [
        "class Solution:\n",
        "    def maxSubArray(self, nums: List[int]) -> int:\n",
        "        maxSub = nums[0]\n",
        "        curSum = 0\n",
        "\n",
        "        for n in nums:\n",
        "            if curSum<0:\n",
        "                curSum = 0\n",
        "\n",
        "            curSum += n\n",
        "            maxSub = max(maxSub, curSum)"
      ]
    },
    {
      "cell_type": "markdown",
      "id": "gA_v18FbxsgT",
      "metadata": {
        "id": "gA_v18FbxsgT"
      },
      "source": [
        "## Jump Game\n"
      ]
    },
    {
      "cell_type": "code",
      "execution_count": null,
      "id": "cLKtsh2cxsDT",
      "metadata": {
        "id": "cLKtsh2cxsDT"
      },
      "outputs": [],
      "source": [
        "class Solution:\n",
        "    def canJump(self, nums: List[int]) -> bool:\n",
        "        res_loc = 0\n",
        "        n = len(nums)\n",
        "\n",
        "\n",
        "        while res_loc <= n-1 and nums[res_loc]!=0:\n",
        "            res_loc = nums[res_loc] + res_loc\n",
        "\n",
        "        print(res_loc,n)\n",
        "\n",
        "        if res_loc >= n-1:\n",
        "            return True\n",
        "        else:\n",
        "            return False"
      ]
    },
    {
      "cell_type": "markdown",
      "id": "LUqAnvW4o4QQ",
      "metadata": {
        "id": "LUqAnvW4o4QQ"
      },
      "source": [
        "# Interval"
      ]
    },
    {
      "cell_type": "markdown",
      "id": "8B78Ge2Ko6AL",
      "metadata": {
        "id": "8B78Ge2Ko6AL"
      },
      "source": [
        "## Insert New Interval\n"
      ]
    },
    {
      "cell_type": "code",
      "execution_count": null,
      "id": "FMI2SOcvo6T1",
      "metadata": {
        "id": "FMI2SOcvo6T1"
      },
      "outputs": [],
      "source": [
        "intervals = [[1,2],[3,5],[9,10]]\n",
        "newInterval = [6,7]\n",
        "new_l = newInterval[0]\n",
        "new_r = newInterval[1]"
      ]
    },
    {
      "cell_type": "code",
      "execution_count": null,
      "id": "PjeTdPSf18BT",
      "metadata": {
        "id": "PjeTdPSf18BT"
      },
      "outputs": [],
      "source": [
        "new_interval = set()\n",
        "#好像要两两比较。\n",
        "\n",
        "#要dfs？\n",
        "\n",
        "\n",
        "def dfs(prev, cur):\n",
        "\n",
        "  if new_l<prev[1] and cur[0]<new_r:\n",
        "    prev = [min(new_l, prev[0]), max(cur[1], new_r)]\n",
        "\n",
        "  else:\n",
        "    return\n",
        "\n",
        "  dfs(prev,cur)\n",
        "\n",
        "for i in range(len(intervals)):\n",
        "  prev = intervals[i]\n",
        "  cur = intervals[i+1]\n",
        "  dfs(prev,cur+i)"
      ]
    },
    {
      "cell_type": "code",
      "execution_count": null,
      "id": "c72ZXMWP2tPf",
      "metadata": {
        "colab": {
          "base_uri": "https://localhost:8080/"
        },
        "id": "c72ZXMWP2tPf",
        "outputId": "5555bbd6-82c9-48a5-9be6-2d630d9189e9"
      },
      "outputs": [
        {
          "data": {
            "text/plain": [
              "{(1, 2), (3, 5), (9, 7)}"
            ]
          },
          "execution_count": 17,
          "metadata": {},
          "output_type": "execute_result"
        }
      ],
      "source": [
        "new_interval"
      ]
    },
    {
      "cell_type": "markdown",
      "id": "fY_rD3uR2syW",
      "metadata": {
        "id": "fY_rD3uR2syW"
      },
      "source": [
        "## Merge Intervals\n"
      ]
    },
    {
      "cell_type": "code",
      "execution_count": null,
      "id": "AOalYnRiSr9x",
      "metadata": {
        "colab": {
          "base_uri": "https://localhost:8080/"
        },
        "id": "AOalYnRiSr9x",
        "outputId": "5e784b9d-b6dc-407a-ef19-6fb7f3685972"
      },
      "outputs": [
        {
          "data": {
            "text/plain": [
              "[[0, 2], [1, 4], [3, 5]]"
            ]
          },
          "execution_count": 6,
          "metadata": {},
          "output_type": "execute_result"
        }
      ],
      "source": [
        "intervals = [[1,3],[0,5],[6,7]]\n",
        "\n",
        "intervals = [[1,3],[1,5],[6,7]]\n",
        "\n",
        "intervals = [[1,4],[0,2],[3,5]]\n",
        "#两两对比，的几种可能：\n",
        "\n",
        "intervals.sort(key=lambda pair: pair[0])\n",
        "intervals\n"
      ]
    },
    {
      "cell_type": "code",
      "execution_count": null,
      "id": "HCtP8YqzSyMy",
      "metadata": {
        "colab": {
          "base_uri": "https://localhost:8080/"
        },
        "id": "HCtP8YqzSyMy",
        "outputId": "8813799d-3d0e-48c8-db5f-5b84e15c9d49"
      },
      "outputs": [
        {
          "name": "stdout",
          "output_type": "stream",
          "text": [
            "if 0 [0, 4]\n",
            "if 1 [0, 5]\n"
          ]
        },
        {
          "data": {
            "text/plain": [
              "[[0, 2], [0, 4], [0, 5]]"
            ]
          },
          "execution_count": 16,
          "metadata": {},
          "output_type": "execute_result"
        }
      ],
      "source": [
        "#不行，不能这样写，还是要有存储的成本的。\n",
        "for i in range(len(intervals)-1):\n",
        "    if intervals[i][0] <= intervals[i+1][0] <= intervals[i][1]  :\n",
        "        intervals[i+1] = [intervals[i][0], max(intervals[i][1], intervals[i+1][1])]\n",
        "        print(\"if\",i, intervals[i+1])\n",
        "\n",
        "    elif intervals[i+1][0]<intervals[i][0]:\n",
        "        intervals[i+1] = [intervals[i+1][0], max(intervals[i][1], intervals[i+1][1])]\n",
        "        print(\"elif\", i, intervals[i+1])\n",
        "intervals"
      ]
    },
    {
      "cell_type": "code",
      "execution_count": null,
      "id": "hy4XEWfAU7Iv",
      "metadata": {
        "colab": {
          "base_uri": "https://localhost:8080/"
        },
        "id": "hy4XEWfAU7Iv",
        "outputId": "dd5c25d3-8206-4a83-b11c-46764634f41c"
      },
      "outputs": [
        {
          "name": "stdout",
          "output_type": "stream",
          "text": [
            "1\n",
            "else\n"
          ]
        }
      ],
      "source": [
        "#再改改\n",
        "intervals=[[1,4],[5,6]]\n",
        "n = len(intervals)\n",
        "\n",
        "#sort list; l2>l1\n",
        "intervals.sort(key=lambda pair: pair[0])\n",
        "\n",
        "last_interval = intervals[0]\n",
        "\n",
        "res_list = [intervals[0]]\n",
        "\n",
        "for i in range(1,n):\n",
        "    print(i)\n",
        "    #last one interval\n",
        "    l1 = last_interval[0]\n",
        "    r1 = last_interval[1]\n",
        "\n",
        "    #current interval\n",
        "    l2 = intervals[i][0]\n",
        "    r2 = intervals[i][1]\n",
        "\n",
        "    if l1<=l2<=r1:\n",
        "        print(l1,l2,r1)\n",
        "        last_interval = [l1,max(r1,r2)] #after concat\n",
        "        if res_list !=[]:\n",
        "            res_list.pop()\n",
        "        res_list.append(last_interval)\n",
        "\n",
        "    else:\n",
        "        print('else')\n",
        "        last_interval = intervals[i]\n",
        "        res_list.append(intervals[i])\n",
        "\n",
        "\n"
      ]
    },
    {
      "cell_type": "code",
      "execution_count": null,
      "id": "59OV3f6J25SC",
      "metadata": {
        "colab": {
          "base_uri": "https://localhost:8080/"
        },
        "id": "59OV3f6J25SC",
        "outputId": "ddcd5a7d-7fa5-4f4c-9448-3a4fe3476587"
      },
      "outputs": [
        {
          "name": "stdout",
          "output_type": "stream",
          "text": [
            "[[1, 4], [5, 6]]\n",
            "[[1, 4], [5, 6]]\n"
          ]
        }
      ],
      "source": [
        "print(intervals)\n",
        "\n",
        "print(res_list)"
      ]
    },
    {
      "cell_type": "markdown",
      "id": "5UOoPPM74fHd",
      "metadata": {
        "id": "5UOoPPM74fHd"
      },
      "source": [
        "### for loop while delete"
      ]
    },
    {
      "cell_type": "code",
      "execution_count": null,
      "id": "GGTtjEj6cT2V",
      "metadata": {
        "colab": {
          "base_uri": "https://localhost:8080/"
        },
        "id": "GGTtjEj6cT2V",
        "outputId": "5ac7e16a-5fa8-45c4-de4e-7c3997224713"
      },
      "outputs": [
        {
          "name": "stdout",
          "output_type": "stream",
          "text": [
            "1\n",
            "2\n"
          ]
        }
      ],
      "source": [
        "test_list = [1,2,3]\n",
        "for item in test_list :\n",
        "    print(item)\n",
        "    if item == 2:\n",
        "        test_list.pop()\n",
        "\n"
      ]
    },
    {
      "cell_type": "markdown",
      "id": "BKnRIxzq4es1",
      "metadata": {
        "id": "BKnRIxzq4es1"
      },
      "source": [
        "## Non-overlapping Intervals\n"
      ]
    },
    {
      "cell_type": "code",
      "execution_count": null,
      "id": "YAQC3P_a4jPT",
      "metadata": {
        "id": "YAQC3P_a4jPT"
      },
      "outputs": [],
      "source": [
        "intervals = [[1,2],[2,4],[1,4]]\n",
        "#interval问题重点在于画图，找到条件，和几种情况。\n",
        "#if second interval left < first interval right, means overlap\n",
        "#so, the question is about compare the previsou end with current left.\n",
        "#if there is a overlapping, remove the interval with later ends.\n"
      ]
    },
    {
      "cell_type": "code",
      "execution_count": null,
      "id": "wBPWICAS4lBH",
      "metadata": {
        "id": "wBPWICAS4lBH"
      },
      "outputs": [],
      "source": [
        "class Solution:\n",
        "    def eraseOverlapIntervals(self, intervals: List[List[int]]) -> int:\n",
        "        #如果有两个重复的，移除ends later one.\n",
        "        intervals.sort()\n",
        "\n",
        "        res = 0\n",
        "        prevEnd = intervals[0][1]\n",
        "\n",
        "        for start,end in intervals[1:]:\n",
        "            if start>=prevEnd:\n",
        "                prevEnd = end\n",
        "\n",
        "            else:\n",
        "                res += 1\n",
        "                prevEnd = min(prevEnd,end )\n",
        "\n",
        "        return res"
      ]
    },
    {
      "cell_type": "code",
      "execution_count": null,
      "id": "KvTP7L1F4lC6",
      "metadata": {
        "id": "KvTP7L1F4lC6"
      },
      "outputs": [],
      "source": []
    },
    {
      "cell_type": "markdown",
      "id": "tabopOfvl4Dm",
      "metadata": {
        "id": "tabopOfvl4Dm"
      },
      "source": [
        "## Meeting Schedule\n"
      ]
    },
    {
      "cell_type": "code",
      "execution_count": null,
      "id": "4MdqwbZQl49P",
      "metadata": {
        "id": "4MdqwbZQl49P"
      },
      "outputs": [],
      "source": [
        "intervals = [(0,4),(5,10),(15,20)]"
      ]
    },
    {
      "cell_type": "code",
      "execution_count": null,
      "id": "0euTo0rsl7pW",
      "metadata": {
        "colab": {
          "base_uri": "https://localhost:8080/"
        },
        "id": "0euTo0rsl7pW",
        "outputId": "ec575088-b148-4186-d12a-f9b586a98916"
      },
      "outputs": [
        {
          "data": {
            "text/plain": [
              "True"
            ]
          },
          "execution_count": 11,
          "metadata": {},
          "output_type": "execute_result"
        }
      ],
      "source": [
        "\"\"\"\n",
        "Definition of Interval:\n",
        "class Interval(object):\n",
        "    def __init__(self, start, end):\n",
        "        self.start = start\n",
        "        self.end = end\n",
        "\"\"\"\n",
        "\n",
        "class Solution:\n",
        "    def canAttendMeetings(self, intervals: List[Interval]) -> bool:\n",
        "        #sort\n",
        "        intervals.sort(key = lambda pair:pair.start )\n",
        "\n",
        "        #overlap\n",
        "        for i in range(1,len(intervals)):\n",
        "            start, end = intervals[i].start,  intervals[i].end\n",
        "            prev_start, prev_end = intervals[i-1].start,  intervals[i-1].end\n",
        "            if start<prev_end:\n",
        "                return False\n",
        "        return True\n",
        "\n",
        "\n"
      ]
    },
    {
      "cell_type": "code",
      "execution_count": null,
      "id": "QM34rvW-NE6n",
      "metadata": {
        "id": "QM34rvW-NE6n"
      },
      "outputs": [],
      "source": []
    },
    {
      "cell_type": "markdown",
      "id": "vu5ASC5Hlu9I",
      "metadata": {
        "id": "vu5ASC5Hlu9I"
      },
      "source": [
        "## Meeting Schedule II\n"
      ]
    },
    {
      "cell_type": "code",
      "execution_count": null,
      "id": "u7619warlv_D",
      "metadata": {
        "id": "u7619warlv_D"
      },
      "outputs": [],
      "source": [
        "\"\"\"\n",
        "Definition of Interval:\n",
        "class Interval(object):\n",
        "    def __init__(self, start, end):\n",
        "        self.start = start\n",
        "        self.end = end\n",
        "\"\"\"\n",
        "\n",
        "class Solution:\n",
        "    def minMeetingRooms(self, intervals: List[Interval]) -> int:\n",
        "        start = sorted([i.start for i in intervals])\n",
        "        end = sorted([i.end for i in intervals])\n",
        "\n",
        "        res,count = 0,0\n",
        "\n",
        "        s,e = 0,0\n",
        "\n",
        "        while s < len(intervals):\n",
        "            if start[s]<end[e]:\n",
        "                s += 1\n",
        "                count += 1\n",
        "\n",
        "            else:\n",
        "                e += 1\n",
        "                count -= 1\n",
        "\n",
        "            res = max(res, count)\n",
        "        return res\n"
      ]
    },
    {
      "cell_type": "markdown",
      "id": "2pTUCuFcsCRp",
      "metadata": {
        "id": "2pTUCuFcsCRp"
      },
      "source": [
        "# Math & Geometry"
      ]
    },
    {
      "cell_type": "markdown",
      "id": "NU3DaD52owmE",
      "metadata": {
        "id": "NU3DaD52owmE"
      },
      "source": [
        "## Rotate Matrix\n"
      ]
    },
    {
      "cell_type": "code",
      "execution_count": null,
      "id": "saSKPT8Yovut",
      "metadata": {
        "id": "saSKPT8Yovut"
      },
      "outputs": [],
      "source": []
    },
    {
      "cell_type": "markdown",
      "id": "RTnf0DTCsGJy",
      "metadata": {
        "id": "RTnf0DTCsGJy"
      },
      "source": [
        "## Set Zeroes in Matrix\n",
        "\n"
      ]
    },
    {
      "cell_type": "code",
      "execution_count": null,
      "id": "Js1OdF3KsFMa",
      "metadata": {
        "id": "Js1OdF3KsFMa"
      },
      "outputs": [],
      "source": [
        "matrix = [\n",
        "  [1,2,3],\n",
        "  [4,0,5],\n",
        "  [6,7,8]\n",
        "]"
      ]
    },
    {
      "cell_type": "code",
      "execution_count": null,
      "id": "eM4-SpxPgda9",
      "metadata": {
        "id": "eM4-SpxPgda9"
      },
      "outputs": [],
      "source": [
        "class Solution:\n",
        "    def setZeroes(self, matrix: List[List[int]]) -> None:\n",
        "        import copy\n",
        "        matrix_copy = copy.deepcopy(matrix)\n",
        "\n",
        "        m = len(matrix) #row\n",
        "        n = len(matrix[0]) #cols\n",
        "\n",
        "\n",
        "        for i in range(m):\n",
        "            for j in range(n):\n",
        "                if matrix[i][j] == 0:\n",
        "                    #print(i,j)\n",
        "                    matrix_copy[i] = [0] * n\n",
        "                    for z in range(m):\n",
        "                        matrix_copy[z][j] = 0\n",
        "\n",
        "        matrix = matrix_copy\n",
        "        print(matrix_copy)\n",
        "        print(matrix)\n",
        "\n",
        "        return matrix_copy\n",
        "\n"
      ]
    },
    {
      "cell_type": "code",
      "execution_count": null,
      "id": "HewiZQIwtAl6",
      "metadata": {
        "id": "HewiZQIwtAl6"
      },
      "outputs": [],
      "source": []
    },
    {
      "cell_type": "markdown",
      "id": "EJ7oHkqhj7rJ",
      "metadata": {
        "id": "EJ7oHkqhj7rJ"
      },
      "source": []
    }
  ],
  "metadata": {
    "colab": {
      "toc_visible": true,
      "provenance": [],
      "include_colab_link": true
    },
    "kernelspec": {
      "display_name": "Python 3 (ipykernel)",
      "language": "python",
      "name": "python3"
    },
    "language_info": {
      "codemirror_mode": {
        "name": "ipython",
        "version": 3
      },
      "file_extension": ".py",
      "mimetype": "text/x-python",
      "name": "python",
      "nbconvert_exporter": "python",
      "pygments_lexer": "ipython3",
      "version": "3.11.0"
    }
  },
  "nbformat": 4,
  "nbformat_minor": 5
}