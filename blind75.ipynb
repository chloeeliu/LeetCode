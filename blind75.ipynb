{
  "cells": [
    {
      "cell_type": "markdown",
      "metadata": {
        "id": "view-in-github",
        "colab_type": "text"
      },
      "source": [
        "<a href=\"https://colab.research.google.com/github/chloeeliu/LeetCode/blob/main/blind75.ipynb\" target=\"_parent\"><img src=\"https://colab.research.google.com/assets/colab-badge.svg\" alt=\"Open In Colab\"/></a>"
      ]
    },
    {
      "cell_type": "markdown",
      "id": "a03b4dbe-7971-4061-b619-5a7f91a707d8",
      "metadata": {
        "tags": [],
        "id": "a03b4dbe-7971-4061-b619-5a7f91a707d8"
      },
      "source": [
        "# Blind 75\n",
        "\n",
        "这周刷完吧。然后再回来看复杂度。"
      ]
    },
    {
      "cell_type": "markdown",
      "id": "51d21f99-d8f2-4c2c-aa0b-b1d57615ce55",
      "metadata": {
        "tags": [],
        "id": "51d21f99-d8f2-4c2c-aa0b-b1d57615ce55"
      },
      "source": [
        "## Arrays & Hashing"
      ]
    },
    {
      "cell_type": "code",
      "execution_count": 3,
      "id": "e025de45-72c8-4568-9a3e-0471a8e4c651",
      "metadata": {
        "tags": [],
        "id": "e025de45-72c8-4568-9a3e-0471a8e4c651"
      },
      "outputs": [],
      "source": [
        "### Duplicate Integer"
      ]
    },
    {
      "cell_type": "code",
      "execution_count": 5,
      "id": "daef4547-2f56-4780-9c97-1d1dd32e71e2",
      "metadata": {
        "id": "daef4547-2f56-4780-9c97-1d1dd32e71e2"
      },
      "outputs": [],
      "source": [
        "nums = [1, 2, 3, 4]"
      ]
    },
    {
      "cell_type": "code",
      "execution_count": 7,
      "id": "afbc7d20-ddb3-4c94-8755-79fb55cf24b6",
      "metadata": {
        "tags": [],
        "colab": {
          "base_uri": "https://localhost:8080/"
        },
        "id": "afbc7d20-ddb3-4c94-8755-79fb55cf24b6",
        "outputId": "c42c2b9e-75c5-47d7-8715-1900dbf155ea"
      },
      "outputs": [
        {
          "output_type": "execute_result",
          "data": {
            "text/plain": [
              "[1, 2, 3, 4]"
            ]
          },
          "metadata": {},
          "execution_count": 7
        }
      ],
      "source": [
        "[i for i in set(nums)]"
      ]
    },
    {
      "cell_type": "code",
      "execution_count": null,
      "id": "21bd171b-8c92-4051-9844-e152c27e0163",
      "metadata": {
        "tags": [],
        "id": "21bd171b-8c92-4051-9844-e152c27e0163"
      },
      "outputs": [],
      "source": [
        "class Solution:\n",
        "    def hasDuplicate(self, nums) -> bool:\n",
        "        if len(set(nums)) < len(nums):\n",
        "            return \"true\"\n",
        "\n",
        "        else:\n",
        "            return \"false\"\n"
      ]
    },
    {
      "cell_type": "code",
      "execution_count": null,
      "id": "567b81dc-670b-4c70-8e49-02bac6e0957b",
      "metadata": {
        "tags": [],
        "id": "567b81dc-670b-4c70-8e49-02bac6e0957b"
      },
      "outputs": [],
      "source": [
        "\n",
        "def hasDuplicate(nums):\n",
        "\n",
        "    hashset = set()\n",
        "\n",
        "    for n in nums:\n",
        "        if n in hashset:\n",
        "            return True\n",
        "        else:\n",
        "            hashset.add(n)\n",
        "\n",
        "    return False"
      ]
    },
    {
      "cell_type": "code",
      "execution_count": null,
      "id": "d003b506-6c8a-478a-a9c6-6c6ea381bf5a",
      "metadata": {
        "tags": [],
        "id": "d003b506-6c8a-478a-a9c6-6c6ea381bf5a",
        "outputId": "bf2a1199-c078-4bfa-d231-a80c20df0a6c"
      },
      "outputs": [
        {
          "data": {
            "text/plain": [
              "False"
            ]
          },
          "execution_count": 26,
          "metadata": {},
          "output_type": "execute_result"
        }
      ],
      "source": [
        "hasDuplicate(nums)"
      ]
    },
    {
      "cell_type": "code",
      "execution_count": null,
      "id": "d347b6e9-97f9-4593-bbab-6a3ce625ab97",
      "metadata": {
        "tags": [],
        "id": "d347b6e9-97f9-4593-bbab-6a3ce625ab97"
      },
      "outputs": [],
      "source": [
        "# is anagram\n",
        "# 出现的次数要一样，为什么我想的方法总是那么奇怪。"
      ]
    },
    {
      "cell_type": "code",
      "execution_count": null,
      "id": "266b00e2-4b59-4e78-b792-9e57eeca4c3b",
      "metadata": {
        "tags": [],
        "id": "266b00e2-4b59-4e78-b792-9e57eeca4c3b"
      },
      "outputs": [],
      "source": [
        "s = \"racecar\"\n",
        "t = \"carrace\"\n",
        "\n",
        "class Solution:\n",
        "    def isAnagram(self, s: str, t: str) -> bool:\n",
        "        list_s = list(s)\n",
        "        list_t = list(t)\n",
        "\n",
        "        list_s.sort()\n",
        "        list_t.sort()\n",
        "\n",
        "        if list_s == list_t:\n",
        "            return True\n",
        "\n",
        "        else:\n",
        "            return False\n",
        ""
      ]
    },
    {
      "cell_type": "code",
      "execution_count": 1,
      "id": "9cc6a6bb-1b4f-46b3-83d9-9d4cec819ab7",
      "metadata": {
        "tags": [],
        "id": "9cc6a6bb-1b4f-46b3-83d9-9d4cec819ab7"
      },
      "outputs": [],
      "source": [
        "# the use of dictionary\n",
        "def isAnagram(s,t):\n",
        "    if len(s) != len(t):\n",
        "        return False\n",
        "\n",
        "    count_s, count_t = {}, {}\n",
        "\n",
        "    for i in range(len(s)):\n",
        "        count_s[s[i]] = 1 + count_s.get(s[i],0)\n",
        "        count_t[t[i]] = 1 + count_t.get(t[i],0)\n",
        "\n",
        "    return count_s == count_t"
      ]
    },
    {
      "cell_type": "code",
      "execution_count": 2,
      "id": "06b95bce-cc63-45e1-8f3b-e265c65dd392",
      "metadata": {
        "tags": [],
        "colab": {
          "base_uri": "https://localhost:8080/",
          "height": 144
        },
        "id": "06b95bce-cc63-45e1-8f3b-e265c65dd392",
        "outputId": "86fadabb-8ede-4b77-ec59-1499184339d9"
      },
      "outputs": [
        {
          "output_type": "error",
          "ename": "NameError",
          "evalue": "name 's' is not defined",
          "traceback": [
            "\u001b[0;31m---------------------------------------------------------------------------\u001b[0m",
            "\u001b[0;31mNameError\u001b[0m                                 Traceback (most recent call last)",
            "\u001b[0;32m<ipython-input-2-deccc88b54f2>\u001b[0m in \u001b[0;36m<cell line: 1>\u001b[0;34m()\u001b[0m\n\u001b[0;32m----> 1\u001b[0;31m \u001b[0misAnagram\u001b[0m\u001b[0;34m(\u001b[0m\u001b[0ms\u001b[0m\u001b[0;34m,\u001b[0m\u001b[0mt\u001b[0m\u001b[0;34m)\u001b[0m\u001b[0;34m\u001b[0m\u001b[0;34m\u001b[0m\u001b[0m\n\u001b[0m",
            "\u001b[0;31mNameError\u001b[0m: name 's' is not defined"
          ]
        }
      ],
      "source": [
        "isAnagram(s,t)"
      ]
    },
    {
      "cell_type": "code",
      "execution_count": null,
      "id": "b1513817-f1d9-475d-bb88-bb8840f26084",
      "metadata": {
        "tags": [],
        "id": "b1513817-f1d9-475d-bb88-bb8840f26084"
      },
      "outputs": [],
      "source": [
        "count_s, count_t = {}, {}\n",
        "\n",
        "for i in range(len(s)):\n",
        "    count_s[s[i]] = 1 + count_s.get(s[i],0)\n",
        "    count_t[t[i]] = 1 + count_t.get(t[i],0)"
      ]
    },
    {
      "cell_type": "code",
      "execution_count": null,
      "id": "9c771ed5-b5bf-4f58-8306-75123d68163b",
      "metadata": {
        "tags": [],
        "id": "9c771ed5-b5bf-4f58-8306-75123d68163b",
        "outputId": "81412f9d-b974-4787-c86f-c8d23edf2867"
      },
      "outputs": [
        {
          "data": {
            "text/plain": [
              "1"
            ]
          },
          "execution_count": 81,
          "metadata": {},
          "output_type": "execute_result"
        }
      ],
      "source": []
    },
    {
      "cell_type": "code",
      "execution_count": null,
      "id": "a7c1a90f-f025-4806-b6fc-a8b341b89765",
      "metadata": {
        "id": "a7c1a90f-f025-4806-b6fc-a8b341b89765"
      },
      "outputs": [],
      "source": []
    }
  ],
  "metadata": {
    "kernelspec": {
      "display_name": "Python 3 (ipykernel)",
      "language": "python",
      "name": "python3"
    },
    "language_info": {
      "codemirror_mode": {
        "name": "ipython",
        "version": 3
      },
      "file_extension": ".py",
      "mimetype": "text/x-python",
      "name": "python",
      "nbconvert_exporter": "python",
      "pygments_lexer": "ipython3",
      "version": "3.11.0"
    },
    "colab": {
      "provenance": [],
      "include_colab_link": true
    }
  },
  "nbformat": 4,
  "nbformat_minor": 5
}