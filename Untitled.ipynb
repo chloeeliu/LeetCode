{
 "cells": [
  {
   "cell_type": "markdown",
   "id": "3f72388e-bfa5-409a-83b3-148d79fb5086",
   "metadata": {},
   "source": [
    "Python OOP 1 - Classes and Instances -    • Python OOP Tutorial 1: Classes and In...  \n",
    "Python OOP 2 - Class Variables -    • Python OOP Tutorial 2: Class Variables  \n",
    "Python OOP 3 - Classmethods and Staticmethods -    • Python OOP Tutorial 3: classmethods a...  \n",
    "Python OOP 4 - Inheritance -    • Python OOP Tutorial 4: Inheritance - ...  \n",
    "Python OOP 5 - Special (Magic/Dunder) Methods -    • Python OOP Tutorial 5: Special (Magic...  \n",
    "Python OOP 6 - Property Decorators -    • Python OOP Tutorial 6: Property Decor...  \n"
   ]
  },
  {
   "cell_type": "code",
   "execution_count": 30,
   "id": "9acde310-bb73-4534-b4d9-688c14dee2cd",
   "metadata": {},
   "outputs": [
    {
     "name": "stdout",
     "output_type": "stream",
     "text": [
      "<__main__.Employee object at 0x000002723813AF70>\n",
      "<__main__.Employee object at 0x000002723813A580>\n",
      "chloe.price@company.com\n",
      "test.user@company.com\n",
      "chloe price\n",
      "test user\n"
     ]
    },
    {
     "data": {
      "text/plain": [
       "'chloe price'"
      ]
     },
     "execution_count": 30,
     "metadata": {},
     "output_type": "execute_result"
    }
   ],
   "source": [
    "class Employee:\n",
    "    \n",
    "    def __init__(self, first, last, pay):\n",
    "        self.first = first\n",
    "        self.last = last\n",
    "        self.pay = pay\n",
    "        self.email = first + '.' + last + '@company.com'\n",
    "        \n",
    "    def fullname(self):\n",
    "        return '{} {}'.format(self.first, self.last)\n",
    "\n",
    "\n",
    "emp1 = Employee('chloe','price','5000')\n",
    "emp2 = Employee('test','user','7000')\n",
    "\n",
    "print(emp1)\n",
    "print(emp2)\n",
    "\n",
    "print(emp1.email)\n",
    "print(emp2.email)\n",
    "\n",
    "print(emp1.fullname())\n",
    "print(emp2.fullname())\n",
    "\n",
    "emp1.fullname()\n",
    "Employee.fullname(emp1)\n",
    "\n",
    "print()"
   ]
  },
  {
   "cell_type": "code",
   "execution_count": 49,
   "id": "211281b2-b793-4d5c-9381-980e430c9ed2",
   "metadata": {},
   "outputs": [],
   "source": []
  },
  {
   "cell_type": "code",
   "execution_count": 77,
   "id": "23419027-1fe2-4bfb-84dd-fa6371500046",
   "metadata": {},
   "outputs": [
    {
     "name": "stdout",
     "output_type": "stream",
     "text": [
      "0\n",
      "2\n"
     ]
    }
   ],
   "source": [
    "class Employee:\n",
    "    \n",
    "    num_of_emps = 0\n",
    "    raise_amount = 1.04\n",
    "    \n",
    "    def __init__(self, first, last, pay):\n",
    "        self.first = first\n",
    "        self.last = last\n",
    "        self.pay = pay\n",
    "        self.email = first + '.' + last + '@company.com'\n",
    "        \n",
    "        Employee.num_of_emps += 1\n",
    "        \n",
    "    def fullname(self):\n",
    "        return '{} {}'.format(self.first, self.last)\n",
    "    \n",
    "    def apply_raise(self):\n",
    "        self.pay = int(self.pay * self.raise_amount)\n",
    "        \n",
    "print(Employee.num_of_emps)\n",
    "\n",
    "emp1 = Employee('chloe','price',5000)\n",
    "emp2 = Employee('test','user','7000')\n",
    "\n",
    "\n",
    "print(Employee.num_of_emps)"
   ]
  },
  {
   "cell_type": "code",
   "execution_count": 70,
   "id": "9a12f279-b7f4-4001-9998-9dfe4a520081",
   "metadata": {},
   "outputs": [],
   "source": [
    "emp1.raise_amount = 1.06\n",
    "emp1.apply_raise()\n",
    "print(emp1.raise_amount)\n",
    "print(emp2.raise_amount)\n",
    "print(Employee.raise_amount)\n",
    "\n",
    "print(emp1.__dict__)\n",
    "print(Employee.__dict__ )\n"
   ]
  },
  {
   "cell_type": "code",
   "execution_count": null,
   "id": "49658b25-4d6b-4833-aac2-518843d619dc",
   "metadata": {},
   "outputs": [],
   "source": []
  },
  {
   "cell_type": "code",
   "execution_count": 79,
   "id": "bbe8ff12-a03b-477e-8f56-55843c6ffe06",
   "metadata": {},
   "outputs": [],
   "source": [
    "nums = [3,4,5,6]\n",
    "target = 7"
   ]
  },
  {
   "cell_type": "code",
   "execution_count": 81,
   "id": "c3c63120-ea0e-49a9-9328-4f6173d595c2",
   "metadata": {},
   "outputs": [
    {
     "data": {
      "text/plain": [
       "[0, 1]"
      ]
     },
     "execution_count": 81,
     "metadata": {},
     "output_type": "execute_result"
    }
   ],
   "source": [
    "n = len(nums)\n",
    "\n",
    "def define(nums, target):\n",
    "    for i in range(n):\n",
    "        for j in range(n):\n",
    "            if nums[i] + nums[j] == target:\n",
    "                return [i,j]\n",
    "        \n",
    "define(nums, target)"
   ]
  },
  {
   "cell_type": "code",
   "execution_count": 83,
   "id": "a8a4f797-213c-4a30-924f-e54406ac75d5",
   "metadata": {},
   "outputs": [
    {
     "name": "stdout",
     "output_type": "stream",
     "text": [
      "[(0, 3), (1, 4), (2, 5), (3, 6)]\n"
     ]
    }
   ],
   "source": [
    "print([i for i in enumerate(nums)])"
   ]
  },
  {
   "cell_type": "code",
   "execution_count": 84,
   "id": "cc59d27a-7244-46cf-adeb-1cce0f088cdd",
   "metadata": {},
   "outputs": [
    {
     "name": "stdout",
     "output_type": "stream",
     "text": [
      "[0, 1]\n"
     ]
    }
   ],
   "source": [
    "prevMap = {}  # val -> index\n",
    "\n",
    "for i, n in enumerate(nums):\n",
    "    diff = target - n\n",
    "    if diff in prevMap:\n",
    "        print( [prevMap[diff], i])\n",
    "    prevMap[n] = i"
   ]
  },
  {
   "cell_type": "code",
   "execution_count": 89,
   "id": "63673b76-cdc4-465d-af8b-ae0a34274e8a",
   "metadata": {},
   "outputs": [
    {
     "data": {
      "text/plain": [
       "1"
      ]
     },
     "execution_count": 89,
     "metadata": {},
     "output_type": "execute_result"
    }
   ],
   "source": [
    "#dictionary\n",
    "prevMap[3] #through index get value\n",
    "prevMap.get(4) #through value get index"
   ]
  },
  {
   "cell_type": "markdown",
   "id": "b13c3d00-a43d-4c4a-adf8-14f2f52ed953",
   "metadata": {},
   "source": [
    "## Anagram Groups\n"
   ]
  },
  {
   "cell_type": "code",
   "execution_count": 126,
   "id": "959fff88-14e3-405d-b39f-e71e38276f97",
   "metadata": {},
   "outputs": [],
   "source": [
    "a = \"act\"\n",
    "b = \"cat\"\n",
    "\n",
    "def compare_ana(a,b):\n",
    "    if len(a) != len(b):\n",
    "        return False\n",
    "    else:\n",
    "        n = len(a)\n",
    "\n",
    "        count_a = {}\n",
    "        count_b = {}\n",
    "        \n",
    "        #if len not equal, false\n",
    "        for i in range(n):\n",
    "            count_a[a[i]] = 1 + count_a.get(a[i],0)\n",
    "            count_b[b[i]] = 1 + count_b.get(b[i],0)\n",
    "\n",
    "        return count_b == count_a"
   ]
  },
  {
   "cell_type": "code",
   "execution_count": 206,
   "id": "3ebecba1-35a8-49b3-a4bb-a11d9fc7a87c",
   "metadata": {},
   "outputs": [
    {
     "name": "stdout",
     "output_type": "stream",
     "text": [
      "['act', 'cat']\n",
      "['pots', 'tops', 'stop']\n",
      "['tops', 'stop']\n",
      "['cat']\n",
      "['stop']\n",
      "['hat']\n",
      "[['act', 'cat'], ['pots', 'tops', 'stop'], ['hat']]\n"
     ]
    }
   ],
   "source": [
    "strs = [\"act\",\"pots\",\"tops\",\"cat\",\"stop\",\"hat\"]\n",
    "\n",
    "def compare_ana(a,b):\n",
    "    return sorted(a) == sorted(b)   \n",
    "    \n",
    "def list_not_contain(ana_list_item, ana_list):\n",
    "    \n",
    "    for item in ana_list:\n",
    "        if set(ana_list_item) <= set(item):\n",
    "            return False #compare\n",
    "    else:\n",
    "        return True\n",
    "        \n",
    "ana_list = [] \n",
    "for i in range(len(strs)):\n",
    "    ana_list_item = [strs[i]]\n",
    "    for j in range(i+1,len( strs)):\n",
    "        if compare_ana(strs[i],strs[j]):\n",
    "            ana_list_item.append(strs[j])\n",
    "    print(ana_list_item)\n",
    "\n",
    "    if ana_list!= []:\n",
    "        if list_not_contain(ana_list_item, ana_list):\n",
    "            ana_list.append(ana_list_item)\n",
    "    else:\n",
    "        ana_list.append(ana_list_item)\n",
    "       \n",
    "print(ana_list)"
   ]
  },
  {
   "cell_type": "code",
   "execution_count": 200,
   "id": "bab4a812-a653-486f-8f55-8657eccaafad",
   "metadata": {},
   "outputs": [
    {
     "name": "stdout",
     "output_type": "stream",
     "text": [
      "[['act', 'cat'], ['pots', 'tops', 'stop'], ['hat']]\n"
     ]
    }
   ],
   "source": [
    "def compare_ana(a, b):\n",
    "    return sorted(a) == sorted(b)\n",
    "\n",
    "def list_not_contain(ana_list_item, ana_list):\n",
    "    # This checks if there is already an existing anagram group for ana_list_item\n",
    "    for item in ana_list:\n",
    "        if compare_ana(ana_list_item[0], item[0]):\n",
    "            return False\n",
    "    return True\n",
    "\n",
    "strs = [\"act\",\"pots\",\"tops\",\"cat\",\"stop\",\"hat\"]\n",
    "\n",
    "ana_list = []\n",
    "for i in range(len(strs)):\n",
    "    ana_list_item = [strs[i]]\n",
    "    # This ensures the string is not grouped again if already part of an anagram group\n",
    "    if not any(compare_ana(strs[i], group[0]) for group in ana_list):\n",
    "        for j in range(i + 1, len(strs)):\n",
    "            if compare_ana(strs[i], strs[j]):\n",
    "                ana_list_item.append(strs[j])\n",
    "        ana_list.append(ana_list_item)\n",
    "\n",
    "print(ana_list)\n"
   ]
  },
  {
   "cell_type": "code",
   "execution_count": 198,
   "id": "cfd358f1-b9fd-457e-baff-cde706d782a4",
   "metadata": {},
   "outputs": [
    {
     "data": {
      "text/plain": [
       "False"
      ]
     },
     "execution_count": 198,
     "metadata": {},
     "output_type": "execute_result"
    }
   ],
   "source": [
    "class Solution:\n",
    "    def groupAnagrams(self, strs: List[str]) -> List[List[str]]:\n",
    "        ans = defaultdict(list)\n",
    "\n",
    "        for s in strs:\n",
    "            count = [0] * 26\n",
    "            for c in s:\n",
    "                count[ord(c) - ord(\"a\")] += 1\n",
    "            ans[tuple(count)].append(s)\n",
    "        return ans.values()\n"
   ]
  },
  {
   "cell_type": "markdown",
   "id": "ba075dcd-5149-48d7-ae07-7f44bd21d156",
   "metadata": {},
   "source": [
    "## most frequent\n",
    "\n",
    "Input: nums = [1,2,2,3,3,3], k = 2\n",
    "\n",
    "Output: [2,3]\n"
   ]
  },
  {
   "cell_type": "code",
   "execution_count": 248,
   "id": "0138ad8b-666b-468f-bb09-c63f39776088",
   "metadata": {},
   "outputs": [],
   "source": [
    "nums = [1,2,2,2,3,3,3]\n",
    "k = 2\n",
    "\n",
    "nums_set = set(nums)"
   ]
  },
  {
   "cell_type": "code",
   "execution_count": 250,
   "id": "ad4c071d-5519-4069-b22d-41d920567833",
   "metadata": {},
   "outputs": [],
   "source": [
    "nums_dict = {}\n",
    "\n",
    "for i in range(len(nums)):\n",
    "    nums_dict[nums[i]] = 1 + nums_dict.get(nums[i],0)\n",
    "    \n",
    "sort_dict = {k: v for k, v in sorted(nums_dict.items(), reverse = True, key=lambda item: item[1])}\n",
    "\n",
    "return list(sort_dict.keys())[0:k]"
   ]
  },
  {
   "cell_type": "code",
   "execution_count": 239,
   "id": "ea17e9bb-a278-4adb-a0fd-8cb11a587ba2",
   "metadata": {},
   "outputs": [
    {
     "data": {
      "text/plain": [
       "{1: 1, 2: 2, 3: 3}"
      ]
     },
     "execution_count": 239,
     "metadata": {},
     "output_type": "execute_result"
    }
   ],
   "source": [
    "nums_dict"
   ]
  },
  {
   "cell_type": "code",
   "execution_count": 251,
   "id": "7d90f85e-d61b-449a-8a14-be823051cb2b",
   "metadata": {},
   "outputs": [
    {
     "data": {
      "text/plain": [
       "[(3, 3), (2, 3), (1, 1)]"
      ]
     },
     "execution_count": 251,
     "metadata": {},
     "output_type": "execute_result"
    }
   ],
   "source": [
    "sorted(nums_dict.items(), reverse = True)"
   ]
  },
  {
   "cell_type": "code",
   "execution_count": 244,
   "id": "a25a8f2b-6336-4f0c-81a2-5c404cc3198b",
   "metadata": {},
   "outputs": [
    {
     "data": {
      "text/plain": [
       "dict_keys([1, 2, 3])"
      ]
     },
     "execution_count": 244,
     "metadata": {},
     "output_type": "execute_result"
    }
   ],
   "source": [
    "nums_dict.keys()"
   ]
  },
  {
   "cell_type": "code",
   "execution_count": 245,
   "id": "a5b62f0a-e039-45e7-8d57-0a8b77791279",
   "metadata": {},
   "outputs": [
    {
     "data": {
      "text/plain": [
       "dict_values([1, 2, 3])"
      ]
     },
     "execution_count": 245,
     "metadata": {},
     "output_type": "execute_result"
    }
   ],
   "source": [
    "nums_dict.values()"
   ]
  },
  {
   "cell_type": "code",
   "execution_count": 253,
   "id": "ffec16d1-a47d-4ce4-8bbd-78aa62023794",
   "metadata": {},
   "outputs": [],
   "source": [
    "sort_dict = {k: v for k, v in sorted(nums_dict.items(), reverse = True, key=lambda item: item[1])}"
   ]
  },
  {
   "cell_type": "code",
   "execution_count": 259,
   "id": "285f6891-a9ff-42c0-b7ab-41d236b66607",
   "metadata": {},
   "outputs": [
    {
     "data": {
      "text/plain": [
       "[2, 3, 1]"
      ]
     },
     "execution_count": 259,
     "metadata": {},
     "output_type": "execute_result"
    }
   ],
   "source": [
    "list(sort_dict.keys())"
   ]
  },
  {
   "cell_type": "code",
   "execution_count": null,
   "id": "de0b471e-a498-4692-9513-5bf4fc6e6a94",
   "metadata": {},
   "outputs": [],
   "source": []
  }
 ],
 "metadata": {
  "kernelspec": {
   "display_name": "Python 3 (ipykernel)",
   "language": "python",
   "name": "python3"
  },
  "language_info": {
   "codemirror_mode": {
    "name": "ipython",
    "version": 3
   },
   "file_extension": ".py",
   "mimetype": "text/x-python",
   "name": "python",
   "nbconvert_exporter": "python",
   "pygments_lexer": "ipython3",
   "version": "3.9.13"
  }
 },
 "nbformat": 4,
 "nbformat_minor": 5
}
