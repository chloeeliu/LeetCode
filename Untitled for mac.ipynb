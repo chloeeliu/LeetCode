{
 "cells": [
  {
   "cell_type": "markdown",
   "id": "a03b4dbe-7971-4061-b619-5a7f91a707d8",
   "metadata": {
    "tags": []
   },
   "source": [
    "# Blind 75\n",
    "\n",
    "这周刷完吧。然后再回来看复杂度。from typing import List "
   ]
  },
  {
   "cell_type": "code",
   "execution_count": 110,
   "id": "6a92ba2a-e574-4ec9-8afe-ee3c5798543c",
   "metadata": {
    "tags": []
   },
   "outputs": [],
   "source": [
    "from typing import List "
   ]
  },
  {
   "cell_type": "markdown",
   "id": "51d21f99-d8f2-4c2c-aa0b-b1d57615ce55",
   "metadata": {
    "tags": []
   },
   "source": [
    "## Arrays & Hashing"
   ]
  },
  {
   "cell_type": "code",
   "execution_count": null,
   "id": "64a09d65-0b24-4f05-b6f7-13a9efac9108",
   "metadata": {},
   "outputs": [],
   "source": []
  },
  {
   "cell_type": "code",
   "execution_count": 28,
   "id": "e025de45-72c8-4568-9a3e-0471a8e4c651",
   "metadata": {
    "tags": []
   },
   "outputs": [],
   "source": [
    "### Duplicate Integer"
   ]
  },
  {
   "cell_type": "code",
   "execution_count": null,
   "id": "daef4547-2f56-4780-9c97-1d1dd32e71e2",
   "metadata": {},
   "outputs": [],
   "source": [
    "nums = [1, 2, 3, 4]"
   ]
  },
  {
   "cell_type": "code",
   "execution_count": 12,
   "id": "afbc7d20-ddb3-4c94-8755-79fb55cf24b6",
   "metadata": {
    "tags": []
   },
   "outputs": [
    {
     "data": {
      "text/plain": [
       "[1, 2, 3]"
      ]
     },
     "execution_count": 12,
     "metadata": {},
     "output_type": "execute_result"
    }
   ],
   "source": [
    "[i for i in set(nums)]"
   ]
  },
  {
   "cell_type": "code",
   "execution_count": 16,
   "id": "21bd171b-8c92-4051-9844-e152c27e0163",
   "metadata": {
    "tags": []
   },
   "outputs": [],
   "source": [
    "class Solution:\n",
    "    def hasDuplicate(self, nums) -> bool:\n",
    "        if len(set(nums)) < len(nums):\n",
    "            return \"true\"\n",
    "        \n",
    "        else:\n",
    "            return \"false\"\n"
   ]
  },
  {
   "cell_type": "code",
   "execution_count": 20,
   "id": "567b81dc-670b-4c70-8e49-02bac6e0957b",
   "metadata": {
    "tags": []
   },
   "outputs": [],
   "source": [
    "\n",
    "def hasDuplicate(nums):\n",
    "\n",
    "    hashset = set()\n",
    "\n",
    "    for n in nums:\n",
    "        if n in hashset:\n",
    "            return True\n",
    "        else:\n",
    "            hashset.add(n)\n",
    "\n",
    "    return False"
   ]
  },
  {
   "cell_type": "code",
   "execution_count": 26,
   "id": "d003b506-6c8a-478a-a9c6-6c6ea381bf5a",
   "metadata": {
    "tags": []
   },
   "outputs": [
    {
     "data": {
      "text/plain": [
       "False"
      ]
     },
     "execution_count": 26,
     "metadata": {},
     "output_type": "execute_result"
    }
   ],
   "source": [
    "hasDuplicate(nums)"
   ]
  },
  {
   "cell_type": "code",
   "execution_count": 33,
   "id": "d347b6e9-97f9-4593-bbab-6a3ce625ab97",
   "metadata": {
    "tags": []
   },
   "outputs": [],
   "source": [
    "# is anagram\n",
    "# 出现的次数要一样，为什么我想的方法总是那么奇怪。"
   ]
  },
  {
   "cell_type": "code",
   "execution_count": 37,
   "id": "266b00e2-4b59-4e78-b792-9e57eeca4c3b",
   "metadata": {
    "tags": []
   },
   "outputs": [],
   "source": [
    "s = \"racecar\"\n",
    "t = \"carrace\"\n",
    "\n",
    "class Solution:\n",
    "    def isAnagram(self, s: str, t: str) -> bool:\n",
    "        list_s = list(s)\n",
    "        list_t = list(t)\n",
    "\n",
    "        list_s.sort()\n",
    "        list_t.sort()\n",
    "\n",
    "        if list_s == list_t:\n",
    "            return True\n",
    "\n",
    "        else:\n",
    "            return False\n",
    "        "
   ]
  },
  {
   "cell_type": "code",
   "execution_count": 67,
   "id": "9cc6a6bb-1b4f-46b3-83d9-9d4cec819ab7",
   "metadata": {
    "tags": []
   },
   "outputs": [],
   "source": [
    "# the use of dictionary\n",
    "def isAnagram(s,t):\n",
    "    if len(s) != len(t):\n",
    "        return False\n",
    "    \n",
    "    count_s, count_t = {}, {}\n",
    "    \n",
    "    for i in range(len(s)):\n",
    "        count_s[s[i]] = 1 + count_s.get(s[i],0)\n",
    "        count_t[t[i]] = 1 + count_t.get(t[i],0)\n",
    "        \n",
    "    return count_s == count_t"
   ]
  },
  {
   "cell_type": "code",
   "execution_count": 69,
   "id": "06b95bce-cc63-45e1-8f3b-e265c65dd392",
   "metadata": {
    "tags": []
   },
   "outputs": [
    {
     "data": {
      "text/plain": [
       "True"
      ]
     },
     "execution_count": 69,
     "metadata": {},
     "output_type": "execute_result"
    }
   ],
   "source": [
    "isAnagram(s,t)"
   ]
  },
  {
   "cell_type": "code",
   "execution_count": 73,
   "id": "b1513817-f1d9-475d-bb88-bb8840f26084",
   "metadata": {
    "tags": []
   },
   "outputs": [],
   "source": [
    "count_s, count_t = {}, {}\n",
    "\n",
    "for i in range(len(s)):\n",
    "    count_s[s[i]] = 1 + count_s.get(s[i],0)\n",
    "    count_t[t[i]] = 1 + count_t.get(t[i],0)"
   ]
  },
  {
   "cell_type": "code",
   "execution_count": 81,
   "id": "9c771ed5-b5bf-4f58-8306-75123d68163b",
   "metadata": {
    "tags": []
   },
   "outputs": [
    {
     "data": {
      "text/plain": [
       "1"
      ]
     },
     "execution_count": 81,
     "metadata": {},
     "output_type": "execute_result"
    }
   ],
   "source": []
  },
  {
   "cell_type": "markdown",
   "id": "4357d02b-795d-4abb-a280-36969d792fa7",
   "metadata": {},
   "source": [
    "## String Encode and Decode\n"
   ]
  },
  {
   "cell_type": "code",
   "execution_count": 85,
   "id": "d4ae1a3f-fec5-4057-90f8-5b374a2db274",
   "metadata": {
    "tags": []
   },
   "outputs": [],
   "source": [
    "strs = [\"neet\",\"code\",\"love\",\"you\"]"
   ]
  },
  {
   "cell_type": "code",
   "execution_count": 87,
   "id": "3a29c2c5-6f4d-4ff8-afe0-a47f90b2dffb",
   "metadata": {
    "tags": []
   },
   "outputs": [],
   "source": [
    "class Solution:\n",
    "\n",
    "    def encode(self, strs: List[str]) -> str:\n",
    "        s = \"\"\n",
    "        for i in strs:\n",
    "            s = s + \"4#\" + i\n",
    "        return s\n",
    "\n",
    "    def decode(self, s: str) -> List[str]:\n",
    "        s_split = s.split('4#')\n",
    "        s_split.remove('')\n",
    "        return s_split\n"
   ]
  },
  {
   "cell_type": "code",
   "execution_count": 112,
   "id": "f09d9c01-13d0-4ca5-9c94-b11d318ebde1",
   "metadata": {
    "tags": []
   },
   "outputs": [],
   "source": [
    "class Solution:\n",
    "    \n",
    "    def encode(self, strs: List[str]) -> str:\n",
    "        res = \"\"\n",
    "        for s in strs:\n",
    "            res += str(len(s)) + \"#\" + s\n",
    "        return res\n",
    "\n",
    "    def decode(self, s: str) -> List[str]:\n",
    "        res = []\n",
    "        i = 0\n",
    "        \n",
    "        while i < len(s):\n",
    "            j = i\n",
    "            while s[j] != '#':\n",
    "                j += 1\n",
    "            length = int(s[i:j])\n",
    "            i = j + 1\n",
    "            j = i + length\n",
    "            res.append(s[i:j])\n",
    "            i = j\n",
    "            \n",
    "        return res\n"
   ]
  },
  {
   "cell_type": "markdown",
   "id": "47a25744-19a5-449f-a9eb-1f29c95850e8",
   "metadata": {},
   "source": [
    "### Products of Array Discluding Self\n",
    "\n",
    "temp_list = nums\n",
    "\n",
    "This line does not create a new copy of nums; instead, temp_list is just another reference to the same list as nums. So, any modification to temp_list (like temp_list.remove(temp_list[i])) directly affects nums. As a result, you're altering the original array while iterating over it, which can lead to unexpected behavior and incorrect results.\n",
    "\n",
    "\n",
    "row_dict['1'] 是直接访问字典中的键值对，如果键不存在会报错；而 row_dict.get('1') 是安全访问字典中的键值对，如果键不存在会返回None。\n",
    "\n",
    "\n",
    "\n",
    "\n",
    "关于复杂度\n",
    "\n",
    "\n",
    "我的方法：时间复杂度\n",
    "外层循环：你的代码中有一个外层循环，它遍历数组 nums 的每个元素，其复杂度为 \n",
    "𝑂\n",
    "(\n",
    "𝑛\n",
    ")\n",
    "O(n)。\n",
    "复制列表：尽管你的代码意图是复制列表（实际上是引用赋值，但我们讨论正确实现的复制），复制整个列表的时间复杂度是 \n",
    "𝑂\n",
    "(\n",
    "𝑛\n",
    ")\n",
    "O(n)。\n",
    "删除操作：每次循环中，你删除一个元素，这通常在列表中是 \n",
    "𝑂\n",
    "(\n",
    "𝑛\n",
    ")\n",
    "O(n) 的操作（因为删除一个元素后，列表中的其它元素需要移动）。\n",
    "内层乘积计算循环：对剩余 \n",
    "𝑛\n",
    "−\n",
    "1\n",
    "n−1 个元素计算乘积，这需要 \n",
    "𝑂\n",
    "(\n",
    "𝑛\n",
    "−\n",
    "1\n",
    ")\n",
    "O(n−1) 时间。\n",
    "\n",
    "\n",
    "正确答案：时间复杂度\n",
    "两次单独的循环：一次计算左积，一次计算右积，每次循环的复杂度都是 \n",
    "𝑂\n",
    "(\n",
    "𝑛\n",
    ")\n",
    "O(n)。\n",
    "初始化结果数组：初始化的时间复杂度为 \n",
    "𝑂\n",
    "(\n",
    "𝑛\n",
    ")\n",
    "O(n)。\n",
    "\n"
   ]
  },
  {
   "cell_type": "code",
   "execution_count": 145,
   "id": "a4bc7664-070e-4cc0-b4cb-43e18a84ba09",
   "metadata": {
    "tags": []
   },
   "outputs": [],
   "source": [
    "nums = [1,2,4,6]"
   ]
  },
  {
   "cell_type": "code",
   "execution_count": 147,
   "id": "7c09167b-192a-44f2-b8b1-56ff0ac4e768",
   "metadata": {
    "tags": []
   },
   "outputs": [
    {
     "name": "stdout",
     "output_type": "stream",
     "text": [
      "[1, 2, 4, 6]\n",
      "[2, 4, 6]\n",
      "[1, 2, 4, 6]\n",
      "[1, 4, 6]\n",
      "[1, 2, 4, 6]\n",
      "[1, 2, 6]\n",
      "[1, 2, 4, 6]\n",
      "[1, 2, 4]\n"
     ]
    }
   ],
   "source": [
    "product_list = []\n",
    "\n",
    "for i in range(len(nums)):\n",
    "    print(nums)\n",
    "    temp_list = nums[:] #\n",
    "    temp_list.remove(temp_list[i])\n",
    "    print(temp_list)\n",
    "    \n",
    "    product_result = 1\n",
    "    \n",
    "    for j in range(len(temp_list)):\n",
    "        product_result = temp_list[j] * product_result\n",
    "    \n",
    "    product_list.append(product_result)\n",
    "    \n",
    "        "
   ]
  },
  {
   "cell_type": "code",
   "execution_count": 149,
   "id": "3544d3a7-b121-4a5d-9591-7edc60a6ea1c",
   "metadata": {
    "tags": []
   },
   "outputs": [
    {
     "data": {
      "text/plain": [
       "[48, 24, 12, 8]"
      ]
     },
     "execution_count": 149,
     "metadata": {},
     "output_type": "execute_result"
    }
   ],
   "source": [
    "class Solution:\n",
    "    def productExceptSelf(self, nums: List[int]) -> List[int]:\n",
    "        res = [1] * (len(nums))\n",
    "\n",
    "        for i in range(1, len(nums)):\n",
    "            res[i] = res[i-1] * nums[i-1]\n",
    "        postfix = 1\n",
    "        for i in range(len(nums) - 1, -1, -1):\n",
    "            res[i] *= postfix\n",
    "            postfix *= nums[i]\n",
    "        return res\n"
   ]
  },
  {
   "cell_type": "markdown",
   "id": "1b4d1212-8ad8-4b59-8607-0023af8a34e2",
   "metadata": {
    "tags": []
   },
   "source": [
    "### Valid Sudoku\n",
    "\n",
    "\n",
    "每行 需要包含1-9不重复。\n"
   ]
  },
  {
   "cell_type": "code",
   "execution_count": 163,
   "id": "e2adb035-2d04-48c3-ae79-985813fa852f",
   "metadata": {
    "tags": []
   },
   "outputs": [],
   "source": [
    "board = [[\"1\",\"2\",\".\",\".\",\"3\",\".\",\".\",\".\",\".\"],\n",
    " [\"4\",\".\",\".\",\"5\",\".\",\".\",\".\",\".\",\".\"],\n",
    " [\".\",\"9\",\"8\",\".\",\".\",\".\",\".\",\".\",\"3\"],\n",
    " [\"5\",\".\",\".\",\".\",\"6\",\".\",\".\",\".\",\"4\"],\n",
    " [\".\",\".\",\".\",\"8\",\".\",\"3\",\".\",\".\",\"5\"],\n",
    " [\"7\",\".\",\".\",\".\",\"2\",\".\",\".\",\".\",\"6\"],\n",
    " [\".\",\".\",\".\",\".\",\".\",\".\",\"2\",\".\",\".\"],\n",
    " [\".\",\".\",\".\",\"4\",\"1\",\"9\",\".\",\".\",\"8\"],\n",
    " [\".\",\".\",\".\",\".\",\"8\",\".\",\".\",\"7\",\"9\"]]"
   ]
  },
  {
   "cell_type": "code",
   "execution_count": 165,
   "id": "f883916f-82d0-47f6-ada9-4b4212ed3fb1",
   "metadata": {
    "tags": []
   },
   "outputs": [
    {
     "data": {
      "text/plain": [
       "[['1', '2', '.', '.', '3', '.', '.', '.', '.'],\n",
       " ['4', '.', '.', '5', '.', '.', '.', '.', '.'],\n",
       " ['.', '9', '8', '.', '.', '.', '.', '.', '3'],\n",
       " ['5', '.', '.', '.', '6', '.', '.', '.', '4'],\n",
       " ['.', '.', '.', '8', '.', '3', '.', '.', '5'],\n",
       " ['7', '.', '.', '.', '2', '.', '.', '.', '6'],\n",
       " ['.', '.', '.', '.', '.', '.', '2', '.', '.'],\n",
       " ['.', '.', '.', '4', '1', '9', '.', '.', '8'],\n",
       " ['.', '.', '.', '.', '8', '.', '.', '7', '9']]"
      ]
     },
     "execution_count": 165,
     "metadata": {},
     "output_type": "execute_result"
    }
   ],
   "source": [
    "board"
   ]
  },
  {
   "cell_type": "code",
   "execution_count": 167,
   "id": "37d577e6-370d-45b4-810f-c47275399b0e",
   "metadata": {
    "tags": []
   },
   "outputs": [
    {
     "data": {
      "text/plain": [
       "list"
      ]
     },
     "execution_count": 167,
     "metadata": {},
     "output_type": "execute_result"
    }
   ],
   "source": [
    "type(board)"
   ]
  },
  {
   "cell_type": "code",
   "execution_count": 192,
   "id": "130417f9-6e74-41fb-b063-1e58baafc25e",
   "metadata": {
    "tags": []
   },
   "outputs": [
    {
     "data": {
      "text/plain": [
       "6"
      ]
     },
     "execution_count": 192,
     "metadata": {},
     "output_type": "execute_result"
    }
   ],
   "source": [
    "set(board[0])\n",
    "\n",
    "#感觉还是不太会写，怎么统计list里出现的次数转成dict。\n",
    "\n",
    "\n",
    "n = len(board)\n",
    "\n",
    "\n",
    "def list_dict_valid(row):\n",
    "    row_dict = {}\n",
    "    for i in range(n):\n",
    "        row_dict[row[i]] = 1 + row_dict.get(row[i] ,0) \n",
    "\n",
    "    row_dict.pop('.', None)\n",
    "    \n",
    "    return list(row_dict.values()) == [1] * len(row_dict) #True = match\n",
    "\n",
    "\n",
    "def get_subgrids(board):\n",
    "    subgrids = []\n",
    "    # There are 3 subgrids along the rows and 3 along the columns\n",
    "    for start_row in range(0, 9, 3):\n",
    "        for start_col in range(0, 9, 3):\n",
    "            # Extract each 3x3 subgrid\n",
    "            subgrid = []\n",
    "            for i in range(start_row, start_row + 3):\n",
    "                for j in range(start_col, start_col + 3):\n",
    "                    subgrid.append(board[i][j])\n",
    "            subgrids.append(subgrid)\n",
    "    return subgrids\n",
    "\n",
    "\n",
    "#get row dict and judge dict value  == 1\n",
    "\n",
    "for i in range(n):\n",
    "    if list_dict_valid(board[i]):\n",
    "        pass\n",
    "    else:\n",
    "        return False\n",
    "\n",
    "\n",
    "#get column dict and judge dict value  == 1\n",
    "\n",
    "for i in range(n):\n",
    "    col = [row[i] for row in board]\n",
    "    if list_dict_valid(col):\n",
    "        pass\n",
    "    else:\n",
    "        return False\n",
    "\n",
    "\n",
    "#3*3 box, dynamic index, get a list, get a dict, and judge dict value == 1\n",
    "subgrids = get_subgrids(board)\n",
    "\n",
    "for i in subgrids:\n",
    "    if list_dict_valid(i):\n",
    "        pass\n",
    "    else:\n",
    "        return False\n"
   ]
  },
  {
   "cell_type": "code",
   "execution_count": 218,
   "id": "b6120a3c-5054-4a4f-8094-a87e3f97b165",
   "metadata": {
    "tags": []
   },
   "outputs": [
    {
     "data": {
      "text/plain": [
       "3"
      ]
     },
     "execution_count": 218,
     "metadata": {},
     "output_type": "execute_result"
    }
   ],
   "source": [
    "row_dict['1']\n",
    "\n",
    "row_dict.get('1')\n",
    "\n",
    "list(row_dict.values()) == [1] * 3\n",
    "\n",
    "len(row_dict)"
   ]
  },
  {
   "cell_type": "code",
   "execution_count": 247,
   "id": "169c83df-b29b-4ba5-8289-baea7238d225",
   "metadata": {
    "tags": []
   },
   "outputs": [
    {
     "data": {
      "text/plain": [
       "['1', '4', '.', '5', '.', '7', '.', '.', '.']"
      ]
     },
     "execution_count": 247,
     "metadata": {},
     "output_type": "execute_result"
    }
   ],
   "source": [
    "[row[0] for row in board]\n",
    "\n"
   ]
  },
  {
   "cell_type": "code",
   "execution_count": 259,
   "id": "b958145d-8e24-4028-a199-9d7de6cf0352",
   "metadata": {
    "tags": []
   },
   "outputs": [],
   "source": [
    "board_block = [[0,1,2],[3,4,5],[6,7,8]]\n"
   ]
  },
  {
   "cell_type": "code",
   "execution_count": 261,
   "id": "69773ce2-f730-4cc1-b2ed-65f7b3dcfa0c",
   "metadata": {
    "tags": []
   },
   "outputs": [
    {
     "ename": "TypeError",
     "evalue": "list indices must be integers or slices, not list",
     "output_type": "error",
     "traceback": [
      "\u001b[0;31m---------------------------------------------------------------------------\u001b[0m",
      "\u001b[0;31mTypeError\u001b[0m                                 Traceback (most recent call last)",
      "Cell \u001b[0;32mIn[261], line 1\u001b[0m\n\u001b[0;32m----> 1\u001b[0m board[board_block[\u001b[38;5;241m0\u001b[39m]]\n",
      "\u001b[0;31mTypeError\u001b[0m: list indices must be integers or slices, not list"
     ]
    }
   ],
   "source": [
    "#怎么把 3*3 从board里面取出来！完全想不到！"
   ]
  },
  {
   "cell_type": "code",
   "execution_count": 273,
   "id": "cb86e3cd-ce00-4358-94d4-44b1a6c461d4",
   "metadata": {
    "tags": []
   },
   "outputs": [
    {
     "data": {
      "text/plain": [
       "[['1', '2', '.', '.', '3', '.', '.', '.', '.'],\n",
       " ['4', '.', '.', '5', '.', '.', '.', '.', '.'],\n",
       " ['.', '9', '8', '.', '.', '.', '.', '.', '3']]"
      ]
     },
     "execution_count": 273,
     "metadata": {},
     "output_type": "execute_result"
    }
   ],
   "source": [
    "board[0:3][0:3]"
   ]
  },
  {
   "cell_type": "code",
   "execution_count": 275,
   "id": "e9f960d9-031a-4187-adfe-df4a910e6ca1",
   "metadata": {
    "tags": []
   },
   "outputs": [
    {
     "name": "stdout",
     "output_type": "stream",
     "text": [
      "Subgrid 1: ['5', '3', '.', '6', '.', '.', '.', '9', '8']\n",
      "Subgrid 2: ['.', '7', '.', '1', '9', '5', '.', '.', '.']\n",
      "Subgrid 3: ['.', '.', '.', '.', '.', '.', '.', '6', '.']\n",
      "Subgrid 4: ['8', '.', '.', '4', '.', '.', '7', '.', '.']\n",
      "Subgrid 5: ['.', '6', '.', '8', '.', '3', '.', '2', '.']\n",
      "Subgrid 6: ['.', '.', '3', '.', '.', '1', '.', '.', '6']\n",
      "Subgrid 7: ['.', '6', '.', '.', '.', '.', '.', '.', '.']\n",
      "Subgrid 8: ['.', '.', '.', '4', '1', '9', '.', '8', '.']\n",
      "Subgrid 9: ['2', '8', '.', '.', '.', '5', '.', '7', '9']\n"
     ]
    }
   ],
   "source": [
    "def get_subgrids(board):\n",
    "    subgrids = []\n",
    "    # There are 3 subgrids along the rows and 3 along the columns\n",
    "    for start_row in range(0, 9, 3):\n",
    "        for start_col in range(0, 9, 3):\n",
    "            # Extract each 3x3 subgrid\n",
    "            subgrid = []\n",
    "            for i in range(start_row, start_row + 3):\n",
    "                for j in range(start_col, start_col + 3):\n",
    "                    subgrid.append(board[i][j])\n",
    "            subgrids.append(subgrid)\n",
    "    return subgrids\n",
    "\n",
    "# Example usage with a Sudoku board\n",
    "board = [\n",
    "    [\"5\", \"3\", \".\", \".\", \"7\", \".\", \".\", \".\", \".\"],\n",
    "    [\"6\", \".\", \".\", \"1\", \"9\", \"5\", \".\", \".\", \".\"],\n",
    "    [\".\", \"9\", \"8\", \".\", \".\", \".\", \".\", \"6\", \".\"],\n",
    "    [\"8\", \".\", \".\", \".\", \"6\", \".\", \".\", \".\", \"3\"],\n",
    "    [\"4\", \".\", \".\", \"8\", \".\", \"3\", \".\", \".\", \"1\"],\n",
    "    [\"7\", \".\", \".\", \".\", \"2\", \".\", \".\", \".\", \"6\"],\n",
    "    [\".\", \"6\", \".\", \".\", \".\", \".\", \"2\", \"8\", \".\"],\n",
    "    [\".\", \".\", \".\", \"4\", \"1\", \"9\", \".\", \".\", \"5\"],\n",
    "    [\".\", \".\", \".\", \".\", \"8\", \".\", \".\", \"7\", \"9\"]\n",
    "]\n",
    "\n",
    "subgrids = get_subgrids(board)\n",
    "for index, subgrid in enumerate(subgrids):\n",
    "    print(f\"Subgrid {index + 1}: {subgrid}\")\n"
   ]
  },
  {
   "cell_type": "code",
   "execution_count": 277,
   "id": "e531eae3-1aae-4655-9cce-7c2d243053e0",
   "metadata": {
    "tags": []
   },
   "outputs": [
    {
     "data": {
      "text/plain": [
       "[['5', '3', '.', '6', '.', '.', '.', '9', '8'],\n",
       " ['.', '7', '.', '1', '9', '5', '.', '.', '.'],\n",
       " ['.', '.', '.', '.', '.', '.', '.', '6', '.'],\n",
       " ['8', '.', '.', '4', '.', '.', '7', '.', '.'],\n",
       " ['.', '6', '.', '8', '.', '3', '.', '2', '.'],\n",
       " ['.', '.', '3', '.', '.', '1', '.', '.', '6'],\n",
       " ['.', '6', '.', '.', '.', '.', '.', '.', '.'],\n",
       " ['.', '.', '.', '4', '1', '9', '.', '8', '.'],\n",
       " ['2', '8', '.', '.', '.', '5', '.', '7', '9']]"
      ]
     },
     "execution_count": 277,
     "metadata": {},
     "output_type": "execute_result"
    }
   ],
   "source": [
    "subgrids"
   ]
  },
  {
   "cell_type": "code",
   "execution_count": 279,
   "id": "1a7a4782-8c52-472d-8303-7d716db1d5ab",
   "metadata": {
    "tags": []
   },
   "outputs": [],
   "source": [
    "board=[[\"1\",\"2\",\".\",\".\",\"3\",\".\",\".\",\".\",\".\"],[\"4\",\".\",\".\",\"5\",\".\",\".\",\".\",\".\",\".\"],[\".\",\"9\",\"1\",\".\",\".\",\".\",\".\",\".\",\"3\"],[\"5\",\".\",\".\",\".\",\"6\",\".\",\".\",\".\",\"4\"],[\".\",\".\",\".\",\"8\",\".\",\"3\",\".\",\".\",\"5\"],[\"7\",\".\",\".\",\".\",\"2\",\".\",\".\",\".\",\"6\"],[\".\",\".\",\".\",\".\",\".\",\".\",\"2\",\".\",\".\"],[\".\",\".\",\".\",\"4\",\"1\",\"9\",\".\",\".\",\"8\"],[\".\",\".\",\".\",\".\",\"8\",\".\",\".\",\"7\",\"9\"]]"
   ]
  },
  {
   "cell_type": "code",
   "execution_count": 281,
   "id": "09216218-d518-4f12-b3c6-ee840b784843",
   "metadata": {
    "tags": []
   },
   "outputs": [
    {
     "data": {
      "text/plain": [
       "[['1', '2', '.', '.', '3', '.', '.', '.', '.'],\n",
       " ['4', '.', '.', '5', '.', '.', '.', '.', '.'],\n",
       " ['.', '9', '1', '.', '.', '.', '.', '.', '3'],\n",
       " ['5', '.', '.', '.', '6', '.', '.', '.', '4'],\n",
       " ['.', '.', '.', '8', '.', '3', '.', '.', '5'],\n",
       " ['7', '.', '.', '.', '2', '.', '.', '.', '6'],\n",
       " ['.', '.', '.', '.', '.', '.', '2', '.', '.'],\n",
       " ['.', '.', '.', '4', '1', '9', '.', '.', '8'],\n",
       " ['.', '.', '.', '.', '8', '.', '.', '7', '9']]"
      ]
     },
     "execution_count": 281,
     "metadata": {},
     "output_type": "execute_result"
    }
   ],
   "source": [
    "board"
   ]
  },
  {
   "cell_type": "code",
   "execution_count": 283,
   "id": "068ae733-28f4-43ea-a2f1-00dcae5c79ae",
   "metadata": {
    "tags": []
   },
   "outputs": [
    {
     "name": "stdout",
     "output_type": "stream",
     "text": [
      "Sudoku board is Valid Sudoku\n"
     ]
    }
   ],
   "source": [
    "def is_valid_sudoku(board):\n",
    "    def is_valid_group(group):\n",
    "        cleaned = [x for x in group if x != \".\"]\n",
    "        return len(cleaned) == len(set(cleaned))\n",
    "\n",
    "    # Check rows\n",
    "    for row in board:\n",
    "        if not is_valid_group(row):\n",
    "            return False, \"Invalid row configuration\"\n",
    "\n",
    "    # Check columns\n",
    "    for col in range(9):\n",
    "        if not is_valid_group([board[row][col] for row in range(9)]):\n",
    "            return False, \"Invalid column configuration\"\n",
    "\n",
    "    # Check 3x3 subgrids\n",
    "    for start_row in range(0, 9, 3):\n",
    "        for start_col in range(0, 9, 3):\n",
    "            subgrid = []\n",
    "            for i in range(start_row, start_row + 3):\n",
    "                subgrid.extend(board[i][start_col:start_col + 3])\n",
    "            if not is_valid_group(subgrid):\n",
    "                return False, \"Invalid 3x3 subgrid configuration\"\n",
    "\n",
    "    return True, \"Valid Sudoku\"\n",
    "\n",
    "# Example board setup\n",
    "board = [\n",
    "    [\"1\",\"2\",\".\",\".\",\"3\",\".\",\".\",\".\",\".\"],\n",
    "    [\"4\",\".\",\".\",\"5\",\".\",\".\",\".\",\".\",\".\"],\n",
    "    [\".\",\"9\",\"8\",\".\",\".\",\".\",\".\",\".\",\"3\"],\n",
    "    [\"5\",\".\",\".\",\".\",\"6\",\".\",\".\",\".\",\"4\"],\n",
    "    [\".\",\".\",\".\",\"8\",\".\",\"3\",\".\",\".\",\"5\"],\n",
    "    [\"7\",\".\",\".\",\".\",\"2\",\".\",\".\",\".\",\"6\"],\n",
    "    [\".\",\".\",\".\",\".\",\".\",\".\",\"2\",\".\",\".\"],\n",
    "    [\".\",\".\",\".\",\"4\",\"1\",\"9\",\".\",\".\",\"8\"],\n",
    "    [\".\",\".\",\".\",\".\",\"8\",\".\",\".\",\"7\",\"9\"]\n",
    "]\n",
    "\n",
    "# Validate the board\n",
    "validity, reason = is_valid_sudoku(board)\n",
    "print(f\"Sudoku board is {reason}\")\n"
   ]
  },
  {
   "cell_type": "code",
   "execution_count": 285,
   "id": "e5368d20-bf1d-4ae0-b71f-7ccc23ab549d",
   "metadata": {
    "tags": []
   },
   "outputs": [],
   "source": [
    "#sudoku 先到这里吧 不想看了"
   ]
  },
  {
   "cell_type": "markdown",
   "id": "3ccf5c58-0b23-4ec5-9de5-75682340c487",
   "metadata": {
    "tags": []
   },
   "source": [
    "### longest consecutive sequence\n",
    "\n",
    "我只能写出来n立方复杂度的。"
   ]
  },
  {
   "cell_type": "code",
   "execution_count": 316,
   "id": "f3765c21-c7b9-48f2-ba77-757ea373222a",
   "metadata": {
    "tags": []
   },
   "outputs": [],
   "source": [
    "nums = [2,20,4,10,3,4,5]"
   ]
  },
  {
   "cell_type": "code",
   "execution_count": 294,
   "id": "f7a8ada0-1b4d-438a-b3e4-0e3a3468e035",
   "metadata": {
    "tags": []
   },
   "outputs": [],
   "source": [
    "class Solution:\n",
    "    def longestConsecutive(self, nums: List[int]) -> int:\n",
    "        consec_max = 0\n",
    "        for i in nums:\n",
    "            consec_count = 0\n",
    "            for j in range(len(nums)):\n",
    "                if i+j in nums:\n",
    "                    consec_count += 1\n",
    "\n",
    "                else:\n",
    "                    break\n",
    "            if consec_count>consec_max:\n",
    "                consec_max = consec_count\n",
    "\n",
    "        return consec_max\n"
   ]
  },
  {
   "cell_type": "code",
   "execution_count": 296,
   "id": "ae8cb46f-1de3-4a9e-a524-f19bbb39fba6",
   "metadata": {
    "tags": []
   },
   "outputs": [
    {
     "data": {
      "text/plain": [
       "4"
      ]
     },
     "execution_count": 296,
     "metadata": {},
     "output_type": "execute_result"
    }
   ],
   "source": [
    "consec_count"
   ]
  },
  {
   "cell_type": "code",
   "execution_count": 322,
   "id": "1c85d303-fe9c-4574-8eb6-a5507d2bebf6",
   "metadata": {
    "tags": []
   },
   "outputs": [
    {
     "data": {
      "text/plain": [
       "{2, 3, 4, 5, 10, 20}"
      ]
     },
     "execution_count": 322,
     "metadata": {},
     "output_type": "execute_result"
    }
   ],
   "source": [
    "num_set = set(nums)\n",
    "num_set"
   ]
  },
  {
   "cell_type": "code",
   "execution_count": 330,
   "id": "b2137ca3-65f2-4346-b882-17b23fdc20c9",
   "metadata": {
    "tags": []
   },
   "outputs": [
    {
     "name": "stdout",
     "output_type": "stream",
     "text": [
      "4\n"
     ]
    }
   ],
   "source": [
    "longest = 0\n",
    "\n",
    "for n in num_set:\n",
    "    if (n-1) not in num_set: #for finding the start point\n",
    "        length = 1\n",
    "        \n",
    "        while n+length in num_set:\n",
    "            length += 1 \n",
    "        longest = max(length, longest)\n",
    "        \n",
    "print(longest) \n",
    "        "
   ]
  },
  {
   "cell_type": "markdown",
   "id": "44a4c972-a7ff-4b07-9bd4-2873985fb4fc",
   "metadata": {
    "tags": []
   },
   "source": [
    "## Two Pointer"
   ]
  },
  {
   "cell_type": "markdown",
   "id": "2ef0f590-f308-43c1-b1c7-22285b362964",
   "metadata": {
    "tags": []
   },
   "source": [
    "### Is Palindrome\n",
    "\n",
    "string\n",
    "\n",
    "| Aspect             | Method 1: Using Regex | Method 2: Two-Pointer Technique |\n",
    "|--------------------|-----------------------|---------------------------------|\n",
    "| **Complexity**     | Simpler logic with straightforward cleaning and checking steps. | More complex due to in-place character checking and skipping. |\n",
    "| **Readability**    | High, as the steps are clear and the code is less cluttered. | Lower, due to nested conditions and multiple loops which may complicate understanding. |\n",
    "| **Space Efficiency** | Lower, creates a new string which requires additional memory proportional to the size of the input. | Higher, as it modifies pointers in the original string without additional storage. |\n",
    "| **Performance**    | Potentially slower, especially with regex operations and string creation which can be intensive. | Likely faster, especially for large strings, as it avoids the overhead of creating a new string and is more direct in its operations. |\n",
    "| **Best Used For**  | Cases where readability and maintainability are prioritized over performance. Smaller strings or when the overhead of creating new strings is negligible. | Performance-critical applications, large datasets where space and operational efficiency are paramount. |\n"
   ]
  },
  {
   "cell_type": "code",
   "execution_count": 486,
   "id": "4ba93d32-c6b6-44f2-85cd-8e11bea53582",
   "metadata": {
    "tags": []
   },
   "outputs": [],
   "source": [
    "s = \"Was it a car r a cat I saw?\"\n"
   ]
  },
  {
   "cell_type": "code",
   "execution_count": 477,
   "id": "f4419c6a-c7b2-4d31-84a8-0d44319e438f",
   "metadata": {
    "tags": []
   },
   "outputs": [
    {
     "name": "stdout",
     "output_type": "stream",
     "text": [
      "18\n",
      "False\n"
     ]
    }
   ],
   "source": [
    "#to lowercase\n",
    "#drop any non alphanumeric characters and lowercase\n",
    "\n",
    "import re\n",
    "\n",
    "s_remov = re.sub(r'\\W+', '', s.lower())\n",
    "\n",
    "# if even, then divide by 2; \n",
    "# if odd, pay attention to the middle one\n",
    "\n",
    "n = len(s_remov)\n",
    "\n",
    "print(n)\n",
    "if n%2 == 0 : #even\n",
    "    for i in range(n//2):   \n",
    "        j = n-1 - i    \n",
    "        if s_remov[i] != s_remov[j]:\n",
    "            print(False) \n",
    "\n",
    "if n%2 == 1: #odd\n",
    "    for i in range((n-1)//2):   \n",
    "        j = n-1 - i    \n",
    "        if s_remov[i] != s_remov[j]:\n",
    "            print(False)     "
   ]
  },
  {
   "cell_type": "code",
   "execution_count": 451,
   "id": "a374ec28-d6b1-43e3-ad95-2408986a97d4",
   "metadata": {
    "tags": []
   },
   "outputs": [
    {
     "data": {
      "text/plain": [
       "0"
      ]
     },
     "execution_count": 451,
     "metadata": {},
     "output_type": "execute_result"
    }
   ],
   "source": [
    "class Solution:\n",
    "    def isPalindrome(self, s: str) -> bool:\n",
    "        l, r = 0, len(s) - 1\n",
    "\n",
    "        while l < r:\n",
    "            while l < r and not self.alphaNum(s[l]):\n",
    "                l += 1\n",
    "            while r > l and not self.alphaNum(s[r]):\n",
    "                r -= 1\n",
    "            if s[l].lower() != s[r].lower():\n",
    "                return False\n",
    "            l, r = l + 1, r - 1\n",
    "        return True\n",
    "    \n",
    "    def alphaNum(self, c):\n",
    "        return (ord('A') <= ord(c) <= ord('Z') or \n",
    "                ord('a') <= ord(c) <= ord('z') or \n",
    "                ord('0') <= ord(c) <= ord('9'))"
   ]
  },
  {
   "cell_type": "markdown",
   "id": "0d915dc6-fcf0-418b-8e4b-cbd8f989bdb4",
   "metadata": {
    "tags": []
   },
   "source": [
    "### Three Integer Sum\n",
    "\n",
    "感觉自己的方法不算是two pointer方法。\n",
    "\n",
    "| Criteria            | Original Method (Nested Loops)                             | Revised Method (Two Pointers)                                |\n",
    "|---------------------|-------------------------------------------------------------|--------------------------------------------------------------|\n",
    "| **Pros**            | - Explicit control <br> - Clear separation of concerns      | - Efficient <br> - Simplifies code with set usage            |\n",
    "| **Cons**            | - Lower efficiency <br> - High complexity <br> - Higher time complexity | - Initial sorting overhead <br> - Less intuitive for beginners|\n",
    "| **Time Complexity** | \\(O(n^3)\\) due to three nested loops                       | \\(O(n^2)\\), more efficient due to sorting and two pointers   |\n",
    "| **Space Complexity**| \\(O(k)\\), dependent on number of unique triplets            | \\(O(k)\\), uses set to efficiently handle uniqueness         |\n",
    "| **Suitability**     | Suitable for smaller or less performance-sensitive applications | Better for large datasets or when high efficiency is needed |\n"
   ]
  },
  {
   "cell_type": "code",
   "execution_count": 618,
   "id": "e2347146-9b55-490d-a830-50d7c452a04d",
   "metadata": {
    "tags": []
   },
   "outputs": [],
   "source": [
    "nums = [-1,0,1,2,-1,-4]"
   ]
  },
  {
   "cell_type": "code",
   "execution_count": 620,
   "id": "e929edfc-df1e-43b8-8737-e56206b10a9d",
   "metadata": {
    "tags": []
   },
   "outputs": [],
   "source": [
    "#return three integer sums == 0.\n",
    "\n",
    "def dup_check(three_item, three_list):\n",
    "    for m in three_list:\n",
    "        if sorted(three_item) == sorted(m):\n",
    "            return False\n",
    "    return True\n",
    "\n",
    "\n",
    "three_list = []\n",
    "for i in range(len(nums)):\n",
    "    for j in range(i+1,len(nums)):\n",
    "        for z in range(j+1,len(nums)):\n",
    "            if nums[i] + nums[j] + nums[z] == 0:\n",
    "                three_item = [nums[i],nums[j],nums[z]]\n",
    "                \n",
    "                if dup_check(three_item, three_list):\n",
    "                    three_list.append(three_item)\n",
    "                \n"
   ]
  },
  {
   "cell_type": "code",
   "execution_count": 622,
   "id": "124fe483-c3a5-4855-85c3-246716832c06",
   "metadata": {
    "tags": []
   },
   "outputs": [
    {
     "data": {
      "text/plain": [
       "[[-1, 0, 1], [-1, 2, -1]]"
      ]
     },
     "execution_count": 622,
     "metadata": {},
     "output_type": "execute_result"
    }
   ],
   "source": [
    "three_list"
   ]
  },
  {
   "cell_type": "markdown",
   "id": "c6c440b5-069a-4063-9176-001f125b9329",
   "metadata": {},
   "source": [
    "1. if threeSum > 0:\n",
    "逻辑解释：如果三个数的和大于零，这意味着我们需要减少总和以使其更接近零。因为数组是排序过的，右指针 r 处的值是当前三个数中最大的。\n",
    "操作：将右指针向左移动（r -= 1），这样可以减少三数之和，因为我们正在用一个较小的数替换当前右指针的数。\n",
    "\n",
    "2. elif threeSum < 0:\n",
    "逻辑解释：如果三个数的和小于零，这意味着我们需要增加总和以使其更接近零。左指针 l 处的值是当前固定指针之后的最小值。\n",
    "操作：将左指针向右移动（l += 1），这样可以增加三数之和，因为我们正在用一个较大的数替换当前左指针的数。\n"
   ]
  },
  {
   "cell_type": "code",
   "execution_count": 616,
   "id": "2b7618bf-cac9-45c4-979d-93458ce3860a",
   "metadata": {
    "tags": []
   },
   "outputs": [
    {
     "data": {
      "text/plain": [
       "False"
      ]
     },
     "execution_count": 616,
     "metadata": {},
     "output_type": "execute_result"
    }
   ],
   "source": [
    "class Solution:\n",
    "    def threeSum(self, nums: List[int]) -> List[List[int]]:\n",
    "        res = []\n",
    "        nums.sort()\n",
    "\n",
    "        for i, a in enumerate(nums):\n",
    "            if a > 0:\n",
    "                break\n",
    "\n",
    "            if i > 0 and a == nums[i - 1]:\n",
    "                continue\n",
    "\n",
    "            l, r = i + 1, len(nums) - 1\n",
    "            while l < r:\n",
    "                threeSum = a + nums[l] + nums[r]\n",
    "                if threeSum > 0:\n",
    "                    r -= 1\n",
    "                elif threeSum < 0:\n",
    "                    l += 1\n",
    "                else:\n",
    "                    res.append([a, nums[l], nums[r]])\n",
    "                    l += 1\n",
    "                    r -= 1\n",
    "                    while nums[l] == nums[l - 1] and l < r:\n",
    "                        l += 1\n",
    "                        \n",
    "        return res\n"
   ]
  },
  {
   "cell_type": "markdown",
   "id": "00d06a9b-3a39-4e2c-9ee5-023d473f8f28",
   "metadata": {
    "tags": []
   },
   "source": [
    "### Max Water Container\n",
    "\n",
    "我的答案：for循环是多余的。\n"
   ]
  },
  {
   "cell_type": "code",
   "execution_count": 645,
   "id": "5e512b78-24c8-40dd-aa59-03a65f6baf3b",
   "metadata": {
    "tags": []
   },
   "outputs": [],
   "source": [
    "height = [1,7,2,5,4,7,3,6]"
   ]
  },
  {
   "cell_type": "code",
   "execution_count": 653,
   "id": "4e2dfdb6-d17c-47a7-91b6-80759452223f",
   "metadata": {
    "tags": []
   },
   "outputs": [
    {
     "name": "stdout",
     "output_type": "stream",
     "text": [
      "0 1\n",
      "1 7\n",
      "2 2\n",
      "3 5\n",
      "4 4\n",
      "5 7\n",
      "6 3\n",
      "7 6\n"
     ]
    }
   ],
   "source": [
    "class Solution:\n",
    "    def maxArea(self, heights: List[int]) -> int:\n",
    "        size_max = 0\n",
    "\n",
    "        for i, a in enumerate(heights):\n",
    "            print(i,a)\n",
    "            \n",
    "            l,r = i, len(heights)-1\n",
    "            \n",
    "            while l<r:\n",
    "                size = (r-l) * min(heights[l], heights[r])\n",
    "                size_max = max(size_max, size)\n",
    "                \n",
    "                if heights[l] >= heights[r]:\n",
    "                    r -= 1\n",
    "            \n",
    "                if heights[l] < heights[r]:\n",
    "                    l += 1   \n",
    "        return size_max"
   ]
  },
  {
   "cell_type": "code",
   "execution_count": 655,
   "id": "e7ad0e51-a78c-4162-8475-cd2af0b47d83",
   "metadata": {
    "tags": []
   },
   "outputs": [
    {
     "data": {
      "text/plain": [
       "36"
      ]
     },
     "execution_count": 655,
     "metadata": {},
     "output_type": "execute_result"
    }
   ],
   "source": [
    "size_max"
   ]
  },
  {
   "cell_type": "code",
   "execution_count": null,
   "id": "a25179cf-3088-4cc5-81bf-0de69274dd30",
   "metadata": {},
   "outputs": [],
   "source": [
    "class Solution:\n",
    "    def maxArea(self, heights: List[int]) -> int:\n",
    "        l, r = 0, len(heights) - 1\n",
    "        res = 0\n",
    "\n",
    "        while l < r:\n",
    "            res = max(res, min(heights[l], heights[r]) * (r - l))\n",
    "            if heights[l] < heights[r]:\n",
    "                l += 1\n",
    "            elif heights[r] <= heights[l]:\n",
    "                r -= 1\n",
    "            \n",
    "        return res\n"
   ]
  },
  {
   "cell_type": "markdown",
   "id": "efd9e2c5-3fc6-4c1a-a24f-6fff52fe9693",
   "metadata": {
    "tags": []
   },
   "source": [
    "## Sliding Window\n",
    "\n",
    "\n",
    "1. 双指针\n",
    "- 核心组成：滑动窗口通常由两个指针（通常是两个索引）构成，这两个指针标识了窗口的边界。这两个指针可以是左右指针，或者是起始和结束指针。\n",
    "- 操作方式：一个指针（起始指针）固定，另一个指针（结束指针）移动扩展窗口，直到窗口内的条件（如和或包含元素的条件）不再满足。随后，起始指针向前移动以缩小窗口，再次尝试寻找满足条件的新窗口。\n",
    "\n",
    "2. 条件控制\n",
    "- 满足条件：窗口的大小或者包含的元素需满足特定条件。例如，在“最小覆盖子串”问题中，窗口必须包含所有目标字符；在“最长无重复字符的子串”问题中，窗口内的字符必须唯一。\n",
    "- 调整窗口：当窗口内的状态不再满足问题的需求时，需要适当调整窗口的大小或位置，通常通过移动起始指针来实现。\n",
    "3. 时间和空间效率\n",
    "- 避免重复计算：通过只在窗口的边界上做增减操作，滑动窗口技术减少了对数据的重复处理，这通常能将时间复杂度降低到线性级别（O(n)）。\n",
    "- 空间开销：虽然主要开销在于双指针，但根据问题的需求，可能还需要额外的数据结构（如哈希表）来快速访问窗口内的数据状态。\n",
    "4. 灵活性和应用广泛\n",
    "- 应用场景：滑动窗口适用于许多类型的问题，如子数组的最大/最小值问题，满足特定条件的子数组长度问题，字符问题等。\n",
    "- 灵活调整：根据不同的问题，窗口的大小可以是固定的，也可以是动态变化的。动态窗口特别适合处理需要根据窗口内的数据动态调整条件的问题。\n",
    "\n"
   ]
  },
  {
   "cell_type": "markdown",
   "id": "5b3c01a0-0b26-4ff4-bd99-0194859b62a8",
   "metadata": {
    "tags": []
   },
   "source": [
    "### Buy and Sell Crypto\n"
   ]
  },
  {
   "cell_type": "code",
   "execution_count": 670,
   "id": "8b91930c-3728-4f82-bcbf-538c9376c585",
   "metadata": {
    "tags": []
   },
   "outputs": [],
   "source": [
    "prices = [10,1,5,6,7,1]"
   ]
  },
  {
   "cell_type": "code",
   "execution_count": 676,
   "id": "1f217d68-7f11-4100-a9a2-0aafff13ebc0",
   "metadata": {
    "tags": []
   },
   "outputs": [],
   "source": [
    "n = len(prices)\n",
    "\n",
    "prof_max = 0\n",
    "\n",
    "for i in range(n):\n",
    "    for j in range(i,n):\n",
    "        prof = prices[j] - prices[i]\n",
    "        prof_max = max(prof_max, prof)\n",
    "        "
   ]
  },
  {
   "cell_type": "code",
   "execution_count": 678,
   "id": "9a283d4a-79b7-4e5e-99cb-be8ebbe673a9",
   "metadata": {
    "tags": []
   },
   "outputs": [
    {
     "data": {
      "text/plain": [
       "6"
      ]
     },
     "execution_count": 678,
     "metadata": {},
     "output_type": "execute_result"
    }
   ],
   "source": [
    "prof_max"
   ]
  },
  {
   "cell_type": "markdown",
   "id": "665f5c8b-88ac-4180-a81e-36892cdf53c4",
   "metadata": {},
   "source": [
    "时间复杂度：O(n)，其中 n 是数组 prices 的长度。因为代码中有一个循环遍历了一次所有价格。\n",
    "\n",
    "空间复杂度：O(1)，因为除了输入数组外，只用了常数空间存储 lowest 和 res。\n"
   ]
  },
  {
   "cell_type": "code",
   "execution_count": 680,
   "id": "7a798a83-439d-44b0-a8a4-e6f7414c5077",
   "metadata": {
    "tags": []
   },
   "outputs": [],
   "source": [
    "class Solution:\n",
    "    def maxProfit(self, prices: List[int]) -> int:\n",
    "        res = 0\n",
    "        \n",
    "        lowest = prices[0]\n",
    "        for price in prices:\n",
    "            if price < lowest:\n",
    "                lowest = price\n",
    "            res = max(res, price - lowest)\n",
    "        return res\n"
   ]
  },
  {
   "cell_type": "markdown",
   "id": "6ef7b718-76e5-4ebe-9a14-ff7a28fdf617",
   "metadata": {
    "tags": []
   },
   "source": [
    "### Longest Substring Without Duplicates\n"
   ]
  },
  {
   "cell_type": "code",
   "execution_count": 1085,
   "id": "ccf440b1-bf7b-4efd-85c7-c19ce4c56541",
   "metadata": {
    "tags": []
   },
   "outputs": [],
   "source": [
    "#s = \"au\"\n",
    "s=\"thequickbrownfoxjumpsoverthelazydogthequickbrownfoxjumpsovert\"\n",
    "\n",
    "#s=\"aab\"\n",
    "\n",
    "#s=\"dvdf\""
   ]
  },
  {
   "cell_type": "code",
   "execution_count": 1087,
   "id": "03b49d4e-720a-4b84-9478-d960ee871cea",
   "metadata": {
    "tags": []
   },
   "outputs": [
    {
     "data": {
      "text/plain": [
       "61"
      ]
     },
     "execution_count": 1087,
     "metadata": {},
     "output_type": "execute_result"
    }
   ],
   "source": [
    "len(s)"
   ]
  },
  {
   "cell_type": "code",
   "execution_count": 1089,
   "id": "261630dc-6ed6-410e-a8a9-47002433a370",
   "metadata": {
    "tags": []
   },
   "outputs": [
    {
     "name": "stdout",
     "output_type": "stream",
     "text": [
      "[10]\n",
      "['w', 'n', 'f']\n",
      "[11]\n",
      "['n', 'f', 'o', 'x', 'j', 'u', 'm', 'p', 's', 'o', 'v', 'e', 'r', 't', 'h']\n",
      "[2, 9]\n",
      "['o', 'w', 'n', 'f', 'o', 'x', 'j', 'u', 'm', 'p', 's', 'o', 'v', 'e', 'r', 't', 'h', 'e', 'l', 'a', 'z', 'y', 'd']\n",
      "[15]\n",
      "['j', 'u', 'm', 'p', 's', 'o', 'v', 'e', 'r', 't', 'h', 'e', 'l', 'a', 'z', 'y', 'd', 'o', 'g']\n",
      "[10]\n",
      "['w', 'n', 'f', 'o', 'x', 'j', 'u', 'm', 'p', 's', 'o', 'v', 'e', 'r', 't', 'h', 'e', 'l', 'a', 'z', 'y', 'd', 'o', 'g', 't']\n",
      "[12, 16]\n",
      "['u', 'm', 'p', 's', 'o', 'v', 'e', 'r', 't', 'h', 'e', 'l', 'a', 'z', 'y', 'd', 'o', 'g', 't', 'h']\n",
      "[0]\n",
      "['h', 'e', 'q', 'u', 'i', 'c', 'k', 'b', 'r', 'o', 'w', 'n', 'f', 'o', 'x', 'j', 'u', 'm', 'p', 's', 'o', 'v', 'e', 'r', 't', 'h', 'e', 'l', 'a', 'z', 'y', 'd', 'o', 'g', 't', 'h', 'e', 'q']\n",
      "[4]\n",
      "['i', 'c', 'k', 'b', 'r', 'o', 'w', 'n', 'f', 'o', 'x', 'j', 'u', 'm', 'p', 's', 'o', 'v', 'e', 'r', 't', 'h', 'e', 'l', 'a', 'z', 'y', 'd', 'o', 'g', 't', 'h', 'e', 'q', 'u']\n",
      "[1]\n",
      "['e', 'q', 'u', 'i', 'c', 'k', 'b', 'r', 'o', 'w', 'n', 'f', 'o', 'x', 'j', 'u', 'm', 'p', 's', 'o', 'v', 'e', 'r', 't', 'h', 'e', 'l', 'a', 'z', 'y', 'd', 'o', 'g', 't', 'h', 'e', 'q', 'u', 'i']\n",
      "[5]\n",
      "['c', 'k', 'b', 'r', 'o', 'w', 'n', 'f', 'o', 'x', 'j', 'u', 'm', 'p', 's', 'o', 'v', 'e', 'r', 't', 'h', 'e', 'l', 'a', 'z', 'y', 'd', 'o', 'g', 't', 'h', 'e', 'q', 'u', 'i', 'c']\n",
      "[2]\n",
      "['q', 'u', 'i', 'c', 'k', 'b', 'r', 'o', 'w', 'n', 'f', 'o', 'x', 'j', 'u', 'm', 'p', 's', 'o', 'v', 'e', 'r', 't', 'h', 'e', 'l', 'a', 'z', 'y', 'd', 'o', 'g', 't', 'h', 'e', 'q', 'u', 'i', 'c', 'k']\n",
      "[6, 21]\n",
      "['v', 'e', 'r', 't', 'h', 'e', 'l', 'a', 'z', 'y', 'd', 'o', 'g', 't', 'h', 'e', 'q', 'u', 'i', 'c', 'k', 'b']\n",
      "[11]\n",
      "['n', 'f', 'o', 'x', 'j', 'u', 'm', 'p', 's', 'o', 'v', 'e', 'r', 't', 'h', 'e', 'l', 'a', 'z', 'y', 'd', 'o', 'g', 't', 'h', 'e', 'q', 'u', 'i', 'c', 'k', 'b', 'r']\n",
      "[0]\n",
      "['h', 'e', 'q', 'u', 'i', 'c', 'k', 'b', 'r', 'o', 'w', 'n', 'f', 'o', 'x', 'j', 'u', 'm', 'p', 's', 'o', 'v', 'e', 'r', 't', 'h', 'e', 'l', 'a', 'z', 'y', 'd', 'o', 'g', 't', 'h', 'e', 'q', 'u', 'i', 'c', 'k', 'b', 'r', 'o', 'w']\n",
      "[12]\n",
      "['f', 'o', 'x', 'j', 'u', 'm', 'p', 's', 'o', 'v', 'e', 'r', 't', 'h', 'e', 'l', 'a', 'z', 'y', 'd', 'o', 'g', 't', 'h', 'e', 'q', 'u', 'i', 'c', 'k', 'b', 'r', 'o', 'w', 'n']\n",
      "[1, 8, 20, 32]\n",
      "['o', 'g', 't', 'h', 'e', 'q', 'u', 'i', 'c', 'k', 'b', 'r', 'o', 'w', 'n', 'f']\n",
      "[6]\n",
      "['k', 'b', 'r', 'o', 'w', 'n', 'f', 'o', 'x', 'j', 'u', 'm', 'p', 's', 'o', 'v', 'e', 'r', 't', 'h', 'e', 'l', 'a', 'z', 'y', 'd', 'o', 'g', 't', 'h', 'e', 'q', 'u', 'i', 'c', 'k', 'b', 'r', 'o', 'w', 'n', 'f', 'o', 'x', 'j']\n",
      "[11]\n",
      "['n', 'f', 'o', 'x', 'j', 'u', 'm', 'p', 's', 'o', 'v', 'e', 'r', 't', 'h', 'e', 'l', 'a', 'z', 'y', 'd', 'o', 'g', 't', 'h', 'e', 'q', 'u', 'i', 'c', 'k', 'b', 'r', 'o', 'w', 'n', 'f', 'o', 'x', 'j', 'u']\n",
      "[7]\n",
      "['b', 'r', 'o', 'w', 'n', 'f', 'o', 'x', 'j', 'u', 'm', 'p', 's', 'o', 'v', 'e', 'r', 't', 'h', 'e', 'l', 'a', 'z', 'y', 'd', 'o', 'g', 't', 'h', 'e', 'q', 'u', 'i', 'c', 'k', 'b', 'r', 'o', 'w', 'n', 'f', 'o', 'x', 'j', 'u', 'm']\n",
      "[12]\n",
      "['f', 'o', 'x', 'j', 'u', 'm', 'p', 's', 'o', 'v', 'e', 'r', 't', 'h', 'e', 'l', 'a', 'z', 'y', 'd', 'o', 'g', 't', 'h', 'e', 'q', 'u', 'i', 'c', 'k', 'b', 'r', 'o', 'w', 'n', 'f', 'o', 'x', 'j', 'u', 'm', 'p']\n",
      "[1, 8, 20, 32, 36]\n",
      "['e', 'q', 'u', 'i', 'c', 'k', 'b', 'r', 'o', 'w', 'n', 'f', 'o', 'x', 'j', 'u', 'm', 'p', 's']\n",
      "[0]\n",
      "['h', 'e', 'q', 'u', 'i', 'c', 'k', 'b', 'r', 'o', 'w', 'n', 'f', 'o', 'x', 'j', 'u', 'm', 'p', 's', 'o', 'v', 'e', 'r', 't', 'h', 'e', 'l', 'a', 'z', 'y', 'd', 'o', 'g', 't', 'h', 'e', 'q', 'u', 'i', 'c', 'k', 'b', 'r', 'o', 'w', 'n', 'f', 'o', 'x', 'j', 'u', 'm', 'p', 's', 'o', 'v']\n",
      "[8, 23, 43]\n",
      "['r', 'o', 'w', 'n', 'f', 'o', 'x', 'j', 'u', 'm', 'p', 's', 'o', 'v', 'e']\n"
     ]
    },
    {
     "data": {
      "text/plain": [
       "57"
      ]
     },
     "execution_count": 1089,
     "metadata": {},
     "output_type": "execute_result"
    }
   ],
   "source": [
    "#这个写的不对 我自己的\n",
    "\n",
    "seq_max = 1\n",
    "seq_list = []\n",
    "\n",
    "n = len(s)\n",
    "\n",
    "def get_key_for_value(d, value):\n",
    "    key_list = []\n",
    "    for key, val in d.items():\n",
    "        if val == value:\n",
    "            key_list.append(key) \n",
    "    return key_list\n",
    "\n",
    "\n",
    "for i in range(n):\n",
    "    if s[i] not in seq_list:\n",
    "        seq_list.append(s[i])\n",
    "        \n",
    "    else:\n",
    "        #convert to dict to get last index\n",
    "        seq_dict = dict(enumerate(seq_list))\n",
    "        \n",
    "        loc = get_key_for_value(seq_dict, s[i])\n",
    "        print(loc)\n",
    "        l = loc[-1]+ 1\n",
    "        seq_list = list(s[l:i])\n",
    "        print(seq_list)\n",
    "\n",
    "    \n",
    "    seq_max = max(len(seq_list),seq_max)\n",
    "\n",
    "\n",
    "seq_max"
   ]
  },
  {
   "cell_type": "code",
   "execution_count": 1091,
   "id": "3d7f4456-6cab-49a0-a9c9-7ce42fa02e50",
   "metadata": {
    "tags": []
   },
   "outputs": [
    {
     "data": {
      "text/plain": [
       "17"
      ]
     },
     "execution_count": 1091,
     "metadata": {},
     "output_type": "execute_result"
    }
   ],
   "source": [
    "#正确答案\n",
    "\n",
    "char_index_map = {} #是一个字典放全部出现过的，而不是存下最终的结果。因为sliding是连续窗口，不需要存。\n",
    "max_length = 0\n",
    "start = 0\n",
    "\n",
    "\n",
    "for i,char in enumerate(s):\n",
    "    if char in char_index_map and char_index_map[char] >= start:\n",
    "        start = char_index_map.get(char)+1 #找到上次重复的，重新开始窗口滑动。\n",
    "    \n",
    "    char_index_map[char] = i #更新key的最近一次的location！\n",
    "    max_length = max(max_length, i-start+1)\n",
    "    \n",
    "max_length"
   ]
  },
  {
   "cell_type": "code",
   "execution_count": 1093,
   "id": "4ede801b-1452-4cb6-85c0-7dfc71856d82",
   "metadata": {
    "tags": []
   },
   "outputs": [
    {
     "data": {
      "text/plain": [
       "{'t': 60,\n",
       " 'h': 36,\n",
       " 'e': 58,\n",
       " 'q': 38,\n",
       " 'u': 52,\n",
       " 'i': 40,\n",
       " 'c': 41,\n",
       " 'k': 42,\n",
       " 'b': 43,\n",
       " 'r': 59,\n",
       " 'o': 56,\n",
       " 'w': 46,\n",
       " 'n': 47,\n",
       " 'f': 48,\n",
       " 'x': 50,\n",
       " 'j': 51,\n",
       " 'm': 53,\n",
       " 'p': 54,\n",
       " 's': 55,\n",
       " 'v': 57,\n",
       " 'l': 28,\n",
       " 'a': 29,\n",
       " 'z': 30,\n",
       " 'y': 31,\n",
       " 'd': 32,\n",
       " 'g': 34}"
      ]
     },
     "execution_count": 1093,
     "metadata": {},
     "output_type": "execute_result"
    }
   ],
   "source": [
    "char_index_map"
   ]
  },
  {
   "cell_type": "markdown",
   "id": "c2006e33-01f1-4c35-a55d-7b425945f504",
   "metadata": {
    "tags": []
   },
   "source": [
    "### Longest Repeating Substring With Replacement\n"
   ]
  },
  {
   "cell_type": "code",
   "execution_count": 1107,
   "id": "4d0a959d-43d7-48bd-a66f-95aa18529163",
   "metadata": {
    "tags": []
   },
   "outputs": [],
   "source": [
    "s = \"XYYX\"\n",
    "k = 2\n",
    "\n",
    "s = \"AAABABB\"\n",
    "\n",
    "#s = \"ABACBCBCBB\""
   ]
  },
  {
   "cell_type": "code",
   "execution_count": 1079,
   "id": "a7e58a82-fa51-4acc-80bd-0a901f0902c0",
   "metadata": {
    "tags": []
   },
   "outputs": [],
   "source": [
    "#不对的版本\n",
    "char_index_map = {} #存的是每个字母经过k后sliding的最大值。但好像不对。\n",
    "\n",
    "start = 0\n",
    "max_length = 1\n",
    "\n",
    "k=2\n",
    "\n",
    "for i,char in enumerate(s):\n",
    "    if char not in char_index_map: #我感觉是反过来的。上一个是遇到重复的暂停。这个是遇到不重复的暂停。\n",
    "        #start = i\n",
    "        \n",
    "        if k>0:\n",
    "            char_index_map[char] = i\n",
    "            k -= 1\n",
    "        else:\n",
    "            start = i-1\n",
    "       \n",
    "    else:\n",
    "        char_index_map[char] = i+1 \n",
    "    \n",
    "    max_length = max(max_length, i-start)"
   ]
  },
  {
   "cell_type": "code",
   "execution_count": 1133,
   "id": "1e5e58dd-1101-4c06-b748-ed8c2fdffea6",
   "metadata": {
    "tags": []
   },
   "outputs": [
    {
     "name": "stdout",
     "output_type": "stream",
     "text": [
      "0 A\n",
      "{'A': 0}\n",
      "max_length 1\n",
      "1 A\n",
      "max_length 2\n",
      "2 A\n",
      "max_length 3\n",
      "3 B\n",
      "{'A': 0, 'B': 3}\n",
      "max_length 4\n",
      "4 A\n",
      "max_length 5\n",
      "5 B\n",
      "max_length 6\n",
      "6 B\n",
      "max_length 7\n"
     ]
    }
   ],
   "source": [
    "#不对的版本v2\n",
    "#重新修改一下！\n",
    "\n",
    "char_index_map = {} #存的是上次的位置。\n",
    "start = 0\n",
    "max_length = 1\n",
    "\n",
    "freq_char = s[0]\n",
    "\n",
    "k=2\n",
    "\n",
    "for i,char in enumerate(s):\n",
    "    print(i,char)\n",
    "    if char not in char_index_map and k>0:\n",
    "        char_index_map[char] = i \n",
    "        print(char_index_map)\n",
    "\n",
    "        k = k - 1\n",
    "    \n",
    "    if char not in char_index_map and k==0: #遇到新出现的，且k用完，则重新开始。\n",
    "        \n",
    "        start = char_index_map[char] \n",
    "        print(start)\n",
    "        \n",
    "        \n",
    "    max_length = max(max_length, i - start+1) \n",
    "    print(\"max_length\", max_length)    \n"
   ]
  },
  {
   "cell_type": "code",
   "execution_count": 1161,
   "id": "c2ad5724-5239-41e1-9409-7cbfdeb69fc3",
   "metadata": {
    "tags": []
   },
   "outputs": [],
   "source": [
    "#最终的答案\n",
    "class Solution:\n",
    "    def characterReplacement(self, s: str, k: int) -> int:\n",
    "        l = 0 #窗口的左边界\n",
    "        count = {}\n",
    "        maxf = 0 #窗口内实际的最大频率字符的频率\n",
    "        #i - l + 1 是窗口长度\n",
    "\n",
    "\n",
    "        for r in range(len(s)):\n",
    "            count[s[r]] = 1 + count.get(s[r],0)\n",
    "            maxf = max(maxf, count[s[r]]) \n",
    "\n",
    "            if (r - l + 1) - maxf > k: #如果k用光. \n",
    "                count[s[l]] -= 1 #窗口最左侧的字母，map value -1，因为移动了\n",
    "                l += 1 #窗口右移动。\n",
    "                \n",
    "        return  (r - l + 1)\n"
   ]
  },
  {
   "cell_type": "code",
   "execution_count": null,
   "id": "d1d6b0a1-2fa5-4370-8519-9ce83c284b24",
   "metadata": {},
   "outputs": [],
   "source": [
    "class Solution:\n",
    "    def characterReplacement(self, s: str, k: int) -> int:\n",
    "        count = {}\n",
    "        \n",
    "        l = 0\n",
    "        maxf = 0\n",
    "        for r in range(len(s)):\n",
    "            count[s[r]] = 1 + count.get(s[r], 0)\n",
    "            maxf = max(maxf, count[s[r]])\n",
    "\n",
    "            if (r - l + 1) - maxf > k:\n",
    "                count[s[l]] -= 1\n",
    "                l += 1\n",
    "\n",
    "        return (r - l + 1)\n"
   ]
  },
  {
   "cell_type": "code",
   "execution_count": 1159,
   "id": "9a57b430-bf0a-43cc-a9b3-139dbc336303",
   "metadata": {
    "tags": []
   },
   "outputs": [
    {
     "name": "stdout",
     "output_type": "stream",
     "text": [
      "0\n",
      "X\n",
      "1\n",
      "{'X': 1}\n",
      "\n",
      "\n",
      "1\n",
      "Y\n",
      "1\n",
      "{'X': 1, 'Y': 1}\n",
      "\n",
      "\n",
      "2\n",
      "Y\n",
      "2\n",
      "{'X': 1, 'Y': 2}\n",
      "\n",
      "\n",
      "3\n",
      "X\n",
      "2\n",
      "{'X': 2, 'Y': 2}\n",
      "\n",
      "\n",
      "X\n",
      "1\n",
      "{'X': 1, 'Y': 2}\n"
     ]
    },
    {
     "data": {
      "text/plain": [
       "3"
      ]
     },
     "execution_count": 1159,
     "metadata": {},
     "output_type": "execute_result"
    }
   ],
   "source": [
    "s = \"XYYX\"\n",
    "k = 1\n",
    "characterReplacement(s,k)"
   ]
  },
  {
   "cell_type": "markdown",
   "id": "c27e5bdb-e37a-4c30-9a1a-fed9862ffb85",
   "metadata": {
    "tags": []
   },
   "source": [
    "## stack"
   ]
  },
  {
   "cell_type": "markdown",
   "id": "82c9116c-fabc-4022-b664-896f690c330d",
   "metadata": {
    "tags": []
   },
   "source": [
    "### Validate Parentheses\n"
   ]
  },
  {
   "cell_type": "code",
   "execution_count": null,
   "id": "4e402415-a816-4404-88a8-325cfb50b471",
   "metadata": {},
   "outputs": [],
   "source": [
    "\n",
    "for "
   ]
  },
  {
   "cell_type": "markdown",
   "id": "3a9e05b5-0e27-4f7e-80b3-c1c13127d00d",
   "metadata": {},
   "source": [
    "## binary search"
   ]
  },
  {
   "cell_type": "markdown",
   "id": "28cfd917-0435-4874-8804-ffada0d11cdc",
   "metadata": {},
   "source": [
    "### Find Minimum in Rotated Sorted Array\n",
    "\n",
    "originally ascending, but rotated several times .  == nums.\n",
    "\n",
    "因为nums不是完全无序的，所以可以在左侧或者右侧区间找。\n",
    "\n",
    "\n",
    "Here’s how the binary search mechanism in your code achieves \n",
    "𝑂\n",
    "(\n",
    "log\n",
    "⁡\n",
    "𝑛\n",
    ")\n",
    "O(logn) complexity:\n",
    "\n",
    "Initial Setup: The search starts with the whole array as the search range (start at 0 and end at len(nums) - 1).\n",
    "\n",
    "Halving the Search Space: In each iteration of the while loop, the array is effectively split into two halves:\n",
    "\n",
    "If nums[mid] (the middle element of the current search range) is greater than nums[end], it implies that the smallest element must be in the right half of the array (beyond mid), hence start is moved to mid + 1.\n",
    "Otherwise, the smallest element must be in the left half, including mid, hence end is moved to mid - 1.\n",
    "Convergence: This process of dividing the search space in half continues in each iteration. Each time you halve the search space, you reduce the number of remaining elements exponentially. Specifically, the number of iterations required to reduce the search space to a single element (or the smallest element is found) is proportional to \n",
    "log\n",
    "⁡\n",
    "2\n",
    "𝑛\n",
    "log \n",
    "2\n",
    "​\n",
    " n because you're halving the search space each time.\n"
   ]
  },
  {
   "cell_type": "code",
   "execution_count": 1168,
   "id": "a8333a69-7506-4cd2-9644-58f1cc14d728",
   "metadata": {
    "tags": []
   },
   "outputs": [],
   "source": [
    "nums = [3,4,5,6,1,2]"
   ]
  },
  {
   "cell_type": "code",
   "execution_count": 1178,
   "id": "15fc83d2-6733-4349-b057-7673bf7f5ab3",
   "metadata": {
    "tags": []
   },
   "outputs": [],
   "source": [
    "#complexity with O(n)\n",
    "min_num = nums[0]\n",
    "\n",
    "for i in nums:\n",
    "    min_num = min(min_num, i)"
   ]
  },
  {
   "cell_type": "code",
   "execution_count": 1195,
   "id": "8fb9d5cd-8df3-4957-931e-76eceede609b",
   "metadata": {
    "tags": []
   },
   "outputs": [],
   "source": [
    "#complexity with O(log n)\n",
    "\n",
    "class Solution:\n",
    "    def findMin(self, nums: List[int]) -> int:\n",
    "        start , end = 0, len(nums) - 1 \n",
    "        curr_min = float(\"inf\")\n",
    "        \n",
    "        while start  <  end :\n",
    "            mid = start + (end - start ) // 2\n",
    "            curr_min = min(curr_min,nums[mid])\n",
    "            \n",
    "            # right has the min \n",
    "            if nums[mid] > nums[end]:\n",
    "                start = mid + 1\n",
    "                \n",
    "            # left has the  min \n",
    "            else:\n",
    "                end = mid - 1 \n",
    "                \n",
    "        return min(curr_min,nums[start])\n",
    "    \n"
   ]
  },
  {
   "cell_type": "code",
   "execution_count": 1192,
   "id": "f6ac4d8b-bcc3-48be-92c8-de20dcfb3716",
   "metadata": {
    "tags": []
   },
   "outputs": [
    {
     "data": {
      "text/plain": [
       "1"
      ]
     },
     "execution_count": 1192,
     "metadata": {},
     "output_type": "execute_result"
    }
   ],
   "source": [
    "min_nums"
   ]
  },
  {
   "cell_type": "markdown",
   "id": "eba8a6bb-5632-405b-9342-4f404c0e77eb",
   "metadata": {},
   "source": [
    "### Find Target in Rotated Sorted Array\n",
    "\n",
    "\n",
    "1. while start < end\n",
    "这种条件下，循环在 start 和 end 指向同一个元素时会停止，意味着循环体内部不会处理 start 和 end 相等的情况。这通常适用于：\n",
    "\n",
    "避免越界：当你在循环中需要访问当前元素之后的元素（如 mid+1）时，使用这种条件可以防止越界。\n",
    "预处理：在某些情况下，我们可能希望在循环结束后单独处理 start 和 end 相遇的情况，例如，可能需要根据最终的 start（或 end）做一些后处理判断。\n",
    "\n",
    "\n",
    "2. while start <= end\n",
    "这种条件下，循环会继续执行直到 start 超过 end。在此情况下，当 start 和 end 指向同一个元素时，这个元素会被检查，适用于：\n",
    "\n",
    "全面检查：确保每一个元素都被考虑，特别是在你需要从区间中找到确切的目标值时，如在数组中查找一个特定的数。\n",
    "精确匹配：在需要精确匹配目标值的搜索中，使用这种循环条件可以保证不漏掉任何可能的匹配项，特别是目标可能是数组中的最后一个元素时。\n",
    "应用场景对比\n",
    "寻找最小值：如果你正在数组中寻找最小值，而数组已经保证是部分有序（如旋转数组），可能不需要在最后一步时 start == end 再做一次判断，因为你的更新逻辑（如移动 start 或 end）已经足够保证不会错过最小值。\n",
    "寻找特定目标：在查找特定目标的二分搜索中，你需要在最后的位置也进行检查，因为目标值可能恰好在 start 或 end 指向的位置上。"
   ]
  },
  {
   "cell_type": "code",
   "execution_count": 1272,
   "id": "ff0c0285-16dd-4e44-9af6-29f38391d14c",
   "metadata": {
    "tags": []
   },
   "outputs": [],
   "source": [
    "#\n",
    "nums=[4,5,6,7,0,1,2]\n",
    "target=0\n"
   ]
  },
  {
   "cell_type": "code",
   "execution_count": 1296,
   "id": "bd2d2e26-f6b4-4bd1-abb2-05d1f425dee0",
   "metadata": {
    "tags": []
   },
   "outputs": [],
   "source": [
    "\n",
    "#binary start and end location index\n",
    "\n",
    "\n",
    "#temp_target = x\n",
    "\n",
    "def find_target(nums, target):\n",
    "    start = 0\n",
    "    end = len(nums) - 1\n",
    "    \n",
    "    while start <= end:\n",
    "        \n",
    "        mid = (end + start)//2\n",
    "        print(start,end,mid)\n",
    "        \n",
    "        if nums[mid]==target:\n",
    "            return mid\n",
    "\n",
    "        if nums[start] <= nums[mid]: # left sorted\n",
    "            if nums[start] <= target<nums[mid]:\n",
    "                end = mid - 1\n",
    "                print(\"left sorted, left target\", start,end,mid)\n",
    "            else:\n",
    "                start = mid + 1\n",
    "                print(\"left sorted, other target\", start,end,mid)\n",
    "        \n",
    "        else: #right sorted\n",
    "            if nums[mid] < target <= nums[end]:\n",
    "                start = mid + 1\n",
    "                print(\"right sorted, right target\", start,end,mid)\n",
    "            \n",
    "            else:\n",
    "                end = mid -1\n",
    "                print(\"right sorted, other target\", start,end,mid)\n",
    "    return -1\n"
   ]
  },
  {
   "cell_type": "code",
   "execution_count": 1298,
   "id": "6f43873c-6b9b-48ea-9dfb-4a901f6bfd25",
   "metadata": {
    "tags": []
   },
   "outputs": [
    {
     "name": "stdout",
     "output_type": "stream",
     "text": [
      "0 1 0\n",
      "left sorted, other target 1 1 0\n",
      "1 1 1\n"
     ]
    },
    {
     "data": {
      "text/plain": [
       "1"
      ]
     },
     "execution_count": 1298,
     "metadata": {},
     "output_type": "execute_result"
    }
   ],
   "source": [
    "nums=[3,1]\n",
    "target = 1\n",
    "\n",
    "find_target(nums, target)"
   ]
  },
  {
   "cell_type": "markdown",
   "id": "59847a68-80a9-4bdb-ab10-1033ce36e6c5",
   "metadata": {
    "tags": []
   },
   "source": [
    "## Linked List"
   ]
  },
  {
   "cell_type": "markdown",
   "id": "1db57971-0791-42e2-a02d-acace4f3e1d7",
   "metadata": {
    "tags": []
   },
   "source": [
    "### Reverse a Linked List\n"
   ]
  },
  {
   "cell_type": "code",
   "execution_count": 1342,
   "id": "47a18fbe-a514-4b0d-96b2-b7c760b7160c",
   "metadata": {
    "tags": []
   },
   "outputs": [],
   "source": [
    "head = [0,1,2,3]"
   ]
  },
  {
   "cell_type": "code",
   "execution_count": 1348,
   "id": "e2ff9ff9-223f-490b-aa90-e8cccbf81fca",
   "metadata": {
    "tags": []
   },
   "outputs": [],
   "source": [
    "#这个方法不行。因为不是list，是listnode， linked list. \n",
    "\n",
    "n = len(head)\n",
    "reverse_list = [0] * n\n",
    "\n",
    "for i in range(n):\n",
    "    j = n - 1 - i\n",
    "    reverse_list[i] = head[j]"
   ]
  },
  {
   "cell_type": "code",
   "execution_count": 1346,
   "id": "4485bc4e-cfd0-45bd-a441-8722d1f2d0d8",
   "metadata": {
    "tags": []
   },
   "outputs": [
    {
     "data": {
      "text/plain": [
       "[3, 2, 1, 0]"
      ]
     },
     "execution_count": 1346,
     "metadata": {},
     "output_type": "execute_result"
    }
   ],
   "source": [
    "reverse_list"
   ]
  },
  {
   "cell_type": "markdown",
   "id": "9dc01526-753f-43c3-b15d-0bfa14e0bc20",
   "metadata": {
    "tags": []
   },
   "source": [
    "先学一下什么是linked list\n",
    "\n",
    "1. Components of a Linked List\n",
    "\n",
    "- Node: The basic unit containing data and a pointer to the next node.\n",
    "- Head: The first node in the list.\n",
    "- Tail: The last node in the list, which points to None.\n",
    "- Length: The number of nodes in the list (not stored, but can be computed).\n",
    "\n",
    "2. Operations on a Linked List\n",
    "- Traversal: Going through each node starting from the head.\n",
    "- Insertion: Adding a node at a given position.\n",
    "- Deletion: Removing a node from a specific position.\n",
    "- Reversal: Reversing the links between nodes."
   ]
  },
  {
   "cell_type": "code",
   "execution_count": 1384,
   "id": "51637b13-4019-4d3b-a485-5682221d5e39",
   "metadata": {
    "tags": []
   },
   "outputs": [
    {
     "name": "stdout",
     "output_type": "stream",
     "text": [
      "1->2->3->None\n"
     ]
    }
   ],
   "source": [
    "class ListNode:\n",
    "    def __init__(self, value=0, next = None):\n",
    "        self.value = value # The data stored in the node.\n",
    "        self.next = next  # The reference to the next node in the list, default is None.\n",
    "        \n",
    "class LinkedList:\n",
    "    def __init__(self):\n",
    "        self.head = None  # Initializes the list without any nodes.\n",
    "        \n",
    "    def append(self, value):\n",
    "        \"\"\" append a new node with the specific value to the end node. \"\"\"\n",
    "        \n",
    "        new_node = ListNode(value)  # Create a new node.\n",
    "        \n",
    "        if not self.head: #if head is null\n",
    "            self.head = new_node\n",
    "            return\n",
    "        \n",
    "        last_node = self.head\n",
    "        \n",
    "        while last_node.next:\n",
    "            last_node = last_node.next\n",
    "            \n",
    "        last_node.next = new_node\n",
    "        \n",
    "    \n",
    "    def print_list(self):\n",
    "        \"\"\" print all values in the list . \"\"\"\n",
    "        \n",
    "        current_node = self.head\n",
    "        while current_node:\n",
    "            print(current_node.value, end = '->')\n",
    "            current_node = current_node.next\n",
    "        print('None')\n",
    "            \n",
    "        \n",
    "linked_list = LinkedList() #create a empty class of linked list\n",
    "linked_list.append(1) #append a value, head = 1,\n",
    "linked_list.append(2)\n",
    "linked_list.append(3)\n",
    "linked_list.print_list()"
   ]
  },
  {
   "cell_type": "code",
   "execution_count": 1368,
   "id": "f94de92b-e57b-47cb-80cc-5d4d21355ea4",
   "metadata": {
    "tags": []
   },
   "outputs": [],
   "source": [
    "linked_list.val = 1"
   ]
  },
  {
   "cell_type": "code",
   "execution_count": 1374,
   "id": "5abe0606-a5d2-4f05-972d-a2145f91781f",
   "metadata": {
    "tags": []
   },
   "outputs": [
    {
     "name": "stdout",
     "output_type": "stream",
     "text": [
      "<__main__.ListNode object at 0x1275eee10>\n"
     ]
    }
   ],
   "source": [
    "print(linked_list)"
   ]
  },
  {
   "cell_type": "code",
   "execution_count": null,
   "id": "47df5930-6db4-4555-bad9-6d09b2429a25",
   "metadata": {},
   "outputs": [],
   "source": []
  }
 ],
 "metadata": {
  "kernelspec": {
   "display_name": "Python 3 (ipykernel)",
   "language": "python",
   "name": "python3"
  },
  "language_info": {
   "codemirror_mode": {
    "name": "ipython",
    "version": 3
   },
   "file_extension": ".py",
   "mimetype": "text/x-python",
   "name": "python",
   "nbconvert_exporter": "python",
   "pygments_lexer": "ipython3",
   "version": "3.11.0"
  }
 },
 "nbformat": 4,
 "nbformat_minor": 5
}
