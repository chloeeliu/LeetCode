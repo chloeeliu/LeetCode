{
  "cells": [
    {
      "cell_type": "markdown",
      "metadata": {
        "id": "view-in-github",
        "colab_type": "text"
      },
      "source": [
        "<a href=\"https://colab.research.google.com/github/chloeeliu/LeetCode/blob/main/blind_75.ipynb\" target=\"_parent\"><img src=\"https://colab.research.google.com/assets/colab-badge.svg\" alt=\"Open In Colab\"/></a>"
      ]
    },
    {
      "cell_type": "markdown",
      "id": "a03b4dbe-7971-4061-b619-5a7f91a707d8",
      "metadata": {
        "tags": [],
        "id": "a03b4dbe-7971-4061-b619-5a7f91a707d8"
      },
      "source": [
        "# Blind 75\n",
        "\n",
        "这周刷完吧。然后再回来看复杂度。"
      ]
    },
    {
      "cell_type": "markdown",
      "id": "51d21f99-d8f2-4c2c-aa0b-b1d57615ce55",
      "metadata": {
        "tags": [],
        "id": "51d21f99-d8f2-4c2c-aa0b-b1d57615ce55"
      },
      "source": [
        "# Arrays & Hashing"
      ]
    },
    {
      "cell_type": "markdown",
      "source": [
        "## Duplicate Integer"
      ],
      "metadata": {
        "id": "3PnnEVhRdXmJ"
      },
      "id": "3PnnEVhRdXmJ"
    },
    {
      "cell_type": "code",
      "execution_count": null,
      "id": "daef4547-2f56-4780-9c97-1d1dd32e71e2",
      "metadata": {
        "id": "daef4547-2f56-4780-9c97-1d1dd32e71e2"
      },
      "outputs": [],
      "source": [
        "nums = [1, 2, 3, 4]"
      ]
    },
    {
      "cell_type": "code",
      "execution_count": null,
      "id": "afbc7d20-ddb3-4c94-8755-79fb55cf24b6",
      "metadata": {
        "tags": [],
        "colab": {
          "base_uri": "https://localhost:8080/"
        },
        "id": "afbc7d20-ddb3-4c94-8755-79fb55cf24b6",
        "outputId": "c42c2b9e-75c5-47d7-8715-1900dbf155ea"
      },
      "outputs": [
        {
          "output_type": "execute_result",
          "data": {
            "text/plain": [
              "[1, 2, 3, 4]"
            ]
          },
          "metadata": {},
          "execution_count": 7
        }
      ],
      "source": [
        "[i for i in set(nums)]"
      ]
    },
    {
      "cell_type": "code",
      "execution_count": null,
      "id": "21bd171b-8c92-4051-9844-e152c27e0163",
      "metadata": {
        "tags": [],
        "id": "21bd171b-8c92-4051-9844-e152c27e0163"
      },
      "outputs": [],
      "source": [
        "class Solution:\n",
        "    def hasDuplicate(self, nums) -> bool:\n",
        "        if len(set(nums)) < len(nums):\n",
        "            return \"true\"\n",
        "\n",
        "        else:\n",
        "            return \"false\"\n"
      ]
    },
    {
      "cell_type": "code",
      "execution_count": null,
      "id": "567b81dc-670b-4c70-8e49-02bac6e0957b",
      "metadata": {
        "tags": [],
        "id": "567b81dc-670b-4c70-8e49-02bac6e0957b"
      },
      "outputs": [],
      "source": [
        "\n",
        "def hasDuplicate(nums):\n",
        "\n",
        "    hashset = set()\n",
        "\n",
        "    for n in nums:\n",
        "        if n in hashset:\n",
        "            return True\n",
        "        else:\n",
        "            hashset.add(n)\n",
        "\n",
        "    return False"
      ]
    },
    {
      "cell_type": "code",
      "execution_count": null,
      "id": "d003b506-6c8a-478a-a9c6-6c6ea381bf5a",
      "metadata": {
        "tags": [],
        "id": "d003b506-6c8a-478a-a9c6-6c6ea381bf5a",
        "outputId": "bf2a1199-c078-4bfa-d231-a80c20df0a6c"
      },
      "outputs": [
        {
          "data": {
            "text/plain": [
              "False"
            ]
          },
          "execution_count": 26,
          "metadata": {},
          "output_type": "execute_result"
        }
      ],
      "source": [
        "hasDuplicate(nums)"
      ]
    },
    {
      "cell_type": "markdown",
      "source": [
        "## valid anagram"
      ],
      "metadata": {
        "id": "_qNlzXurdaGS"
      },
      "id": "_qNlzXurdaGS"
    },
    {
      "cell_type": "code",
      "execution_count": null,
      "id": "266b00e2-4b59-4e78-b792-9e57eeca4c3b",
      "metadata": {
        "tags": [],
        "id": "266b00e2-4b59-4e78-b792-9e57eeca4c3b"
      },
      "outputs": [],
      "source": [
        "s = \"racecar\"\n",
        "t = \"carrace\"\n",
        "\n",
        "class Solution:\n",
        "    def isAnagram(self, s: str, t: str) -> bool:\n",
        "        list_s = list(s)\n",
        "        list_t = list(t)\n",
        "\n",
        "        list_s.sort()\n",
        "        list_t.sort()\n",
        "\n",
        "        if list_s == list_t:\n",
        "            return True\n",
        "\n",
        "        else:\n",
        "            return False\n"
      ]
    },
    {
      "cell_type": "code",
      "execution_count": null,
      "id": "9cc6a6bb-1b4f-46b3-83d9-9d4cec819ab7",
      "metadata": {
        "tags": [],
        "id": "9cc6a6bb-1b4f-46b3-83d9-9d4cec819ab7"
      },
      "outputs": [],
      "source": [
        "# the use of dictionary\n",
        "def isAnagram(s,t):\n",
        "    if len(s) != len(t):\n",
        "        return False\n",
        "\n",
        "    count_s, count_t = {}, {}\n",
        "\n",
        "    for i in range(len(s)):\n",
        "        count_s[s[i]] = 1 + count_s.get(s[i],0)\n",
        "        count_t[t[i]] = 1 + count_t.get(t[i],0)\n",
        "\n",
        "    return count_s == count_t"
      ]
    },
    {
      "cell_type": "code",
      "execution_count": null,
      "id": "06b95bce-cc63-45e1-8f3b-e265c65dd392",
      "metadata": {
        "tags": [],
        "colab": {
          "base_uri": "https://localhost:8080/",
          "height": 144
        },
        "id": "06b95bce-cc63-45e1-8f3b-e265c65dd392",
        "outputId": "86fadabb-8ede-4b77-ec59-1499184339d9"
      },
      "outputs": [
        {
          "output_type": "error",
          "ename": "NameError",
          "evalue": "name 's' is not defined",
          "traceback": [
            "\u001b[0;31m---------------------------------------------------------------------------\u001b[0m",
            "\u001b[0;31mNameError\u001b[0m                                 Traceback (most recent call last)",
            "\u001b[0;32m<ipython-input-2-deccc88b54f2>\u001b[0m in \u001b[0;36m<cell line: 1>\u001b[0;34m()\u001b[0m\n\u001b[0;32m----> 1\u001b[0;31m \u001b[0misAnagram\u001b[0m\u001b[0;34m(\u001b[0m\u001b[0ms\u001b[0m\u001b[0;34m,\u001b[0m\u001b[0mt\u001b[0m\u001b[0;34m)\u001b[0m\u001b[0;34m\u001b[0m\u001b[0;34m\u001b[0m\u001b[0m\n\u001b[0m",
            "\u001b[0;31mNameError\u001b[0m: name 's' is not defined"
          ]
        }
      ],
      "source": [
        "isAnagram(s,t)"
      ]
    },
    {
      "cell_type": "code",
      "execution_count": null,
      "id": "b1513817-f1d9-475d-bb88-bb8840f26084",
      "metadata": {
        "tags": [],
        "id": "b1513817-f1d9-475d-bb88-bb8840f26084"
      },
      "outputs": [],
      "source": [
        "count_s, count_t = {}, {}\n",
        "\n",
        "for i in range(len(s)):\n",
        "    count_s[s[i]] = 1 + count_s.get(s[i],0)\n",
        "    count_t[t[i]] = 1 + count_t.get(t[i],0)"
      ]
    },
    {
      "cell_type": "markdown",
      "source": [
        "## two sum"
      ],
      "metadata": {
        "id": "8HwOXKhqdkLl"
      },
      "id": "8HwOXKhqdkLl"
    },
    {
      "cell_type": "code",
      "execution_count": null,
      "id": "a7c1a90f-f025-4806-b6fc-a8b341b89765",
      "metadata": {
        "id": "a7c1a90f-f025-4806-b6fc-a8b341b89765"
      },
      "outputs": [],
      "source": []
    },
    {
      "cell_type": "markdown",
      "source": [
        "# Tree"
      ],
      "metadata": {
        "id": "PVAT3O4rAuOA"
      },
      "id": "PVAT3O4rAuOA"
    },
    {
      "cell_type": "code",
      "source": [
        "class node:\n",
        "    def __init__(self, value = None):\n",
        "        self.value = value\n",
        "        self.left_child = None\n",
        "        self.right_child = None\n",
        "\n",
        "class binary_search_tree:\n",
        "    def __init__(self):\n",
        "        self.root = None\n",
        "\n",
        "    def insert(self, value):\n",
        "        #check root none\n",
        "        if self.root == None:\n",
        "            self.root = node(value)\n",
        "        else:\n",
        "            self._insert(value, self.root) #? recursive\n",
        "\n",
        "    def _insert(self, value, cur_node): #_prefix indicated a private, not use directly from outside the class.\n",
        "        if value < cur_node.value:\n",
        "            if cur_node.left_child == None:\n",
        "                cur_node.left_child = node(value)\n",
        "            else:\n",
        "                self._insert(value, cur_node.left_child) #recursive to curnode.leftchild.leftchild\n",
        "        elif value > cur_node.value:\n",
        "            if cur_node.right_child == None:\n",
        "                cur_node.right_child = node(value)\n",
        "            else:\n",
        "                self._insert(value, cur_node.right_child)\n",
        "        else: #equal\n",
        "            print (\"value already in tree!\")\n",
        "\n",
        "\n",
        "    def print_tree(self):\n",
        "        if self.root != None:\n",
        "            self._print_tree(self.root)\n",
        "\n",
        "    def _print_tree(self, cur_node): #privita version?\n",
        "        if cur_node != None:\n",
        "            self._print_tree(cur_node.left_child)\n",
        "            print (cur_node.value)\n",
        "            self._print_tree(cur_node.right_child)\n",
        "           #print (cur_node.value)\n",
        "\n",
        "    def height(self):\n",
        "        if self.root != None:\n",
        "            return self._height(self. root, 0)\n",
        "        else:\n",
        "            return 0\n",
        "\n",
        "    def _height(self, cur_node, cur_height):\n",
        "        if cur_node == None:\n",
        "            return cur_height\n",
        "        left_height = self._height(cur_node.left_child, cur_height+1)\n",
        "        right_height = self._height(cur_node.right_child, cur_height+1)\n",
        "        return max(left_height, right_height)\n",
        "\n",
        "    def search(self, value):  #false means can't find.\n",
        "        if self.root != None:\n",
        "            return self._search(value, self.root)\n",
        "        else:\n",
        "            return False\n",
        "\n",
        "    def _search(self, value, cur_node):\n",
        "        if value == cur_node.value:\n",
        "            return True\n",
        "        elif value<cur_node.value and cur_node.left_child != None:\n",
        "            self._search(value, cur_node.left_child)\n",
        "        elif value>cur_node.value and cur_node.right_child != None:\n",
        "            self._search(value, cur_node.right_child)\n",
        "\n",
        "        return False\n",
        "\n",
        "\n",
        "def fill_tree(tree, num_elems =  10, max_int = 1000):\n",
        "    from random import randint\n",
        "    for _ in range(num_elems):\n",
        "        cur_elem = randint(0, max_int)\n",
        "        tree.insert(cur_elem)\n",
        "    return tree\n",
        "\n",
        "tree = binary_search_tree()\n",
        "tree = fill_tree(tree)\n",
        "\n",
        "tree.print_tree()\n",
        "tree.height()\n",
        "\n",
        "tree.search(62)"
      ],
      "metadata": {
        "colab": {
          "base_uri": "https://localhost:8080/"
        },
        "id": "x0EN48MSAtdQ",
        "outputId": "9a1f3b9d-ff0c-4424-aca6-e3b433fa4ca8"
      },
      "id": "x0EN48MSAtdQ",
      "execution_count": null,
      "outputs": [
        {
          "output_type": "stream",
          "name": "stdout",
          "text": [
            "40\n",
            "98\n",
            "148\n",
            "163\n",
            "267\n",
            "375\n",
            "536\n",
            "662\n",
            "765\n",
            "985\n"
          ]
        },
        {
          "output_type": "execute_result",
          "data": {
            "text/plain": [
              "False"
            ]
          },
          "metadata": {},
          "execution_count": 2
        }
      ]
    },
    {
      "cell_type": "code",
      "source": [
        "p = node()\n",
        "p.left = node(2)\n",
        "p.right = node(3)\n",
        "\n",
        "q = node(1)\n",
        "q.left = node(2)\n",
        "q.right = node(3)"
      ],
      "metadata": {
        "id": "fAscaBm7AxLy"
      },
      "id": "fAscaBm7AxLy",
      "execution_count": null,
      "outputs": []
    },
    {
      "cell_type": "code",
      "source": [
        "p == q\n",
        "p==p"
      ],
      "metadata": {
        "colab": {
          "base_uri": "https://localhost:8080/"
        },
        "id": "h8XjWDL6OwF7",
        "outputId": "28bb0f44-b335-4ba4-d7ae-7f73139cb417"
      },
      "id": "h8XjWDL6OwF7",
      "execution_count": null,
      "outputs": [
        {
          "output_type": "execute_result",
          "data": {
            "text/plain": [
              "True"
            ]
          },
          "metadata": {},
          "execution_count": 6
        }
      ]
    },
    {
      "cell_type": "markdown",
      "source": [
        "## Subtree of a Binary Tree\n"
      ],
      "metadata": {
        "id": "EnHH5KW0UnnZ"
      },
      "id": "EnHH5KW0UnnZ"
    },
    {
      "cell_type": "code",
      "source": [
        "#这么写不对，但需要进一步看为什么不对。\n",
        "\n",
        "# Definition for a binary tree node.\n",
        "# class TreeNode:\n",
        "#     def __init__(self, val=0, left=None, right=None):\n",
        "#         self.val = val\n",
        "#         self.left = left\n",
        "#         self.right = right\n",
        "\n",
        "class Solution:\n",
        "    def isSubtree(self, root: Optional[TreeNode], subRoot: Optional[TreeNode]) -> bool:\n",
        "\n",
        "        if root == subRoot == None:\n",
        "            return True\n",
        "\n",
        "        if root and subRoot and (root.val != subRoot.val):\n",
        "            self.isSubtree(root.left, subRoot)\n",
        "            self.isSubtree(root.right, subRoot)\n",
        "\n",
        "        if root and subRoot and (root.val == subRoot.val)  and (root.left == subRoot.left) and (root.right == subRoot.right):\n",
        "\n",
        "            self.isSubtree(root.left, subRoot.left)\n",
        "            self.isSubtree(root.right, subRoot.right)\n",
        "\n",
        "        return False"
      ],
      "metadata": {
        "id": "wg5DHv5_OxDx"
      },
      "id": "wg5DHv5_OxDx",
      "execution_count": null,
      "outputs": []
    },
    {
      "cell_type": "markdown",
      "source": [
        "Pros of using a nested function (same_tree) compared to using a class method (isSameTree):\n",
        "\n",
        "- Encapsulation: The same_tree function is defined within the scope of the isSubtree method, making it a local function. This encapsulation helps to keep the code more organized and prevents naming conflicts with other methods or functions in the class or external code.\n",
        "\n",
        "- Readability: By defining the same_tree function inside the isSubtree method, it makes the code more readable and self-contained. The purpose of the same_tree function is clear within the context of the isSubtree method, and it doesn't require jumping to another part of the class to understand its functionality.\n",
        "\n",
        "- Avoid explicit self parameter: Since the same_tree function is not a class method, it doesn't require the self parameter. This can make the code slightly cleaner and more concise.\n",
        "\n",
        "Cons of using a nested function compared to using a class method:\n",
        "\n",
        "- Reusability: If the functionality of comparing two trees for equality is needed elsewhere in the class or in other classes, having it as a separate class method (isSameTree) allows for better reusability. The method can be easily called from other parts of the code without duplicating the function definition.\n",
        "\n",
        "- Testability: Class methods can be tested independently, whereas nested functions are harder to test in isolation. If you want to write unit tests for the tree comparison logic, having it as a separate class method makes it easier to test without involving the isSubtree method.\n",
        "\n",
        "- Inheritance and overriding: If you have a class hierarchy and want to override the behavior of comparing trees in a subclass, it is easier to do so with a class method. Overriding a nested function would require overriding the entire isSubtree method."
      ],
      "metadata": {
        "id": "MRNwtLMBZqnL"
      },
      "id": "MRNwtLMBZqnL"
    },
    {
      "cell_type": "code",
      "source": [
        "#正确版本1: 用class self的写法。\n",
        "# Definition for a binary tree node.\n",
        "# class TreeNode:\n",
        "#     def __init__(self, val=0, left=None, right=None):\n",
        "#         self.val = val\n",
        "#         self.left = left\n",
        "#         self.right = right\n",
        "\n",
        "class Solution:\n",
        "    def isSubtree(self, root: Optional[TreeNode], subRoot: Optional[TreeNode]) -> bool:\n",
        "\n",
        "        # recursive for the subtree logic.\n",
        "\n",
        "        if subRoot == None:\n",
        "            return True\n",
        "        if root == None:\n",
        "            return False\n",
        "\n",
        "        if self.same_tree(root, subRoot):\n",
        "            return True\n",
        "\n",
        "        return (self.isSubtree(root.left, subRoot)) or (self.isSubtree(root.right, subRoot))\n",
        "\n",
        "    #define a function to compare whether same trees.\n",
        "    def same_tree(self, p, q):\n",
        "        if p == q == None:\n",
        "            return True\n",
        "        if p and q and p.val == q.val:\n",
        "            return self.same_tree(p.left, q.left) and self.same_tree(p.right, q.right)\n",
        "\n",
        "        else:\n",
        "            return False\n",
        "\n"
      ],
      "metadata": {
        "id": "XoyOOtJeWGGp"
      },
      "id": "XoyOOtJeWGGp",
      "execution_count": null,
      "outputs": []
    },
    {
      "cell_type": "code",
      "source": [
        "#正确版本2: 用双层def function的写法\n",
        "\n",
        "# Definition for a binary tree node.\n",
        "# class TreeNode:\n",
        "#     def __init__(self, val=0, left=None, right=None):\n",
        "#         self.val = val\n",
        "#         self.left = left\n",
        "#         self.right = right\n",
        "\n",
        "class Solution:\n",
        "    def isSubtree(self, root: Optional[TreeNode], subRoot: Optional[TreeNode]) -> bool:\n",
        "        #define a function to compare whether same trees.\n",
        "        def same_tree( p, q):\n",
        "            if p == q == None:\n",
        "                return True\n",
        "            if p and q and p.val == q.val:\n",
        "                return same_tree(p.left, q.left) and same_tree(p.right, q.right)\n",
        "\n",
        "            else:\n",
        "                return False\n",
        "        # recursive for the subtree logic.\n",
        "\n",
        "        if subRoot == None:\n",
        "            return True\n",
        "        if root == None:\n",
        "            return False\n",
        "\n",
        "        if same_tree(root, subRoot):\n",
        "            return True\n",
        "\n",
        "        return (self.isSubtree(root.left, subRoot)) or (self.isSubtree(root.right, subRoot))\n",
        "\n",
        "\n",
        "\n"
      ],
      "metadata": {
        "id": "C80sR3yqY1tm"
      },
      "id": "C80sR3yqY1tm",
      "execution_count": null,
      "outputs": []
    },
    {
      "cell_type": "markdown",
      "source": [
        "Not all binary search tree (BST) questions need to be solved using recursion. Iterative approaches can also be effective and efficient in solving certain problems related to BSTs."
      ],
      "metadata": {
        "id": "T-3pyTEUeJC_"
      },
      "id": "T-3pyTEUeJC_"
    },
    {
      "cell_type": "markdown",
      "source": [],
      "metadata": {
        "id": "NyyyjJeckSiT"
      },
      "id": "NyyyjJeckSiT"
    },
    {
      "cell_type": "code",
      "source": [
        "#iterative\n",
        "#有点像链表的cur.next\n",
        "# Definition for a binary tree node.\n",
        "# class TreeNode:\n",
        "#     def __init__(self, val=0, left=None, right=None):\n",
        "#         self.val = val\n",
        "#         self.left = left\n",
        "#         self.right = right\n",
        "\n",
        "class Solution:\n",
        "    def lowestCommonAncestor(self, root: TreeNode, p: TreeNode, q: TreeNode) -> TreeNode:\n",
        "        cur = root\n",
        "        while cur :\n",
        "            if p.val < cur.val and q.val < cur.val: #both in left side.\n",
        "                cur = cur.left\n",
        "\n",
        "            elif p.val > cur.val and q.val > cur.val:  #in right side both\n",
        "                cur = cur.right\n",
        "\n",
        "            else: # in both sides. #if euqal, return root.\n",
        "                return cur\n",
        "\n",
        "\n"
      ],
      "metadata": {
        "id": "zjzQgE6IkR8O"
      },
      "id": "zjzQgE6IkR8O",
      "execution_count": null,
      "outputs": []
    },
    {
      "cell_type": "code",
      "source": [
        "#recursive\n",
        "# Definition for a binary tree node.\n",
        "# class TreeNode:\n",
        "#     def __init__(self, val=0, left=None, right=None):\n",
        "#         self.val = val\n",
        "#         self.left = left\n",
        "#         self.right = right\n",
        "\n",
        "class Solution:\n",
        "    def lowestCommonAncestor(self, root: TreeNode, p: TreeNode, q: TreeNode) -> TreeNode:\n",
        "\n",
        "        if not root:\n",
        "            return None\n",
        "\n",
        "        if p.val < root.val and q.val < root.val: #both in left side.\n",
        "            return self.lowestCommonAncestor(root.left, p, q)\n",
        "\n",
        "        elif p.val > root.val and q.val > root.val:\n",
        "            return self.lowestCommonAncestor(root.right, p, q)\n",
        "\n",
        "        else: #until in both side, make sure the location\n",
        "            return root\n"
      ],
      "metadata": {
        "id": "d3GhKC21lWji"
      },
      "id": "d3GhKC21lWji",
      "execution_count": null,
      "outputs": []
    },
    {
      "cell_type": "markdown",
      "source": [
        "## Level Order Traversal of Binary Tree\n",
        "\n",
        "\n",
        "https://limingxie.github.io/basic/stack/\n",
        "\n",
        "queue：先进先出\n",
        "\n",
        "stack：先进后出\n"
      ],
      "metadata": {
        "id": "9-K4CqrYY04e"
      },
      "id": "9-K4CqrYY04e"
    },
    {
      "cell_type": "code",
      "source": [
        "#这么写不对！看看为什么。\n",
        "\n",
        "# Definition for a binary tree node.\n",
        "# class TreeNode:\n",
        "#     def __init__(self, val=0, left=None, right=None):\n",
        "#         self.val = val\n",
        "#         self.left = left\n",
        "#         self.right = right\n",
        "\n",
        "class Solution:\n",
        "    def levelOrder(self, root: Optional[TreeNode]) -> List[List[int]]:\n",
        "        root_list = []\n",
        "         #initial value\n",
        "\n",
        "        if root == None:\n",
        "            return []\n",
        "\n",
        "        else:\n",
        "            root_list.append(str(root.val))\n",
        "\n",
        "        self.levelOrder(root.left)\n",
        "        self.levelOrder(root.right)\n",
        "\n",
        "        return root_list\n",
        "\n",
        "\n",
        "\n",
        "\n"
      ],
      "metadata": {
        "id": "B004ajk3rql7"
      },
      "id": "B004ajk3rql7",
      "execution_count": null,
      "outputs": []
    },
    {
      "cell_type": "code",
      "source": [
        "#recursive method!\n",
        "# Definition for a binary tree node.\n",
        "# class TreeNode:\n",
        "#     def __init__(self, val=0, left=None, right=None):\n",
        "#         self.val = val\n",
        "#         self.left = left\n",
        "#         self.right = right\n",
        "\n",
        "class Solution:\n",
        "    def levelOrder(self, root: Optional[TreeNode]) -> List[List[int]]:\n",
        "\n",
        "        if not root:\n",
        "            return []\n",
        "\n",
        "        result_list = []\n",
        "        level = 0\n",
        "\n",
        "        def level_function (node, level):\n",
        "            if len(result_list) == level:\n",
        "                result_list.append([])\n",
        "\n",
        "            result_list[level].append(node.val)\n",
        "            level += 1\n",
        "            if node.left:\n",
        "                level_function(node.left, level )\n",
        "            if node.right:\n",
        "                level_function(node.right, level )\n",
        "\n",
        "        level_function(root, 0)\n",
        "\n",
        "        return result_list"
      ],
      "metadata": {
        "id": "pl01Slu7tKDy"
      },
      "id": "pl01Slu7tKDy",
      "execution_count": null,
      "outputs": []
    },
    {
      "cell_type": "markdown",
      "source": [
        "## Valid Binary Search Tree\n"
      ],
      "metadata": {
        "id": "raL0uyggyNxf"
      },
      "id": "raL0uyggyNxf"
    },
    {
      "cell_type": "code",
      "source": [
        "# 我的方法，好像是不完备的。\n",
        "# Definition for a binary tree node.\n",
        "# class TreeNode:\n",
        "#     def __init__(self, val=0, left=None, right=None):\n",
        "#         self.val = val\n",
        "#         self.left = left\n",
        "#         self.right = right\n",
        "\n",
        "class Solution:\n",
        "    def isValidBST(self, root: Optional[TreeNode]) -> bool:\n",
        "\n",
        "        if root == None:\n",
        "            return True\n",
        "        elif root.left == None and root.right == None:\n",
        "            return True\n",
        "        #if left and right child, not null\n",
        "        elif  root.left and  root.right and  root.left.val < root.val < root.right.val:\n",
        "            return self.isValidBST(root.left) and self.isValidBST(root.right)\n",
        "\n",
        "        elif  root.left and (not root.right) and  root.left.val < root.val :\n",
        "            return self.isValidBST(root.left)\n",
        "\n",
        "        elif  root.right and (not root.left) and  root.val < root.right.val :\n",
        "            return self.isValidBST(root.right)\n",
        "\n",
        "        else:\n",
        "            return False\n"
      ],
      "metadata": {
        "colab": {
          "base_uri": "https://localhost:8080/",
          "height": 341
        },
        "collapsed": true,
        "id": "3Wp1wjvLvGf3",
        "outputId": "26cdf7bb-7910-40a4-964a-7e20dcff5707"
      },
      "id": "3Wp1wjvLvGf3",
      "execution_count": null,
      "outputs": [
        {
          "output_type": "error",
          "ename": "NameError",
          "evalue": "name 'Optional' is not defined",
          "traceback": [
            "\u001b[0;31m---------------------------------------------------------------------------\u001b[0m",
            "\u001b[0;31mNameError\u001b[0m                                 Traceback (most recent call last)",
            "\u001b[0;32m<ipython-input-15-23ca117201a6>\u001b[0m in \u001b[0;36m<cell line: 9>\u001b[0;34m()\u001b[0m\n\u001b[1;32m      7\u001b[0m \u001b[0;31m#         self.right = right\u001b[0m\u001b[0;34m\u001b[0m\u001b[0;34m\u001b[0m\u001b[0m\n\u001b[1;32m      8\u001b[0m \u001b[0;34m\u001b[0m\u001b[0m\n\u001b[0;32m----> 9\u001b[0;31m \u001b[0;32mclass\u001b[0m \u001b[0mSolution\u001b[0m\u001b[0;34m:\u001b[0m\u001b[0;34m\u001b[0m\u001b[0;34m\u001b[0m\u001b[0m\n\u001b[0m\u001b[1;32m     10\u001b[0m     \u001b[0;32mdef\u001b[0m \u001b[0misValidBST\u001b[0m\u001b[0;34m(\u001b[0m\u001b[0mself\u001b[0m\u001b[0;34m,\u001b[0m \u001b[0mroot\u001b[0m\u001b[0;34m:\u001b[0m \u001b[0mOptional\u001b[0m\u001b[0;34m[\u001b[0m\u001b[0mTreeNode\u001b[0m\u001b[0;34m]\u001b[0m\u001b[0;34m)\u001b[0m \u001b[0;34m->\u001b[0m \u001b[0mbool\u001b[0m\u001b[0;34m:\u001b[0m\u001b[0;34m\u001b[0m\u001b[0;34m\u001b[0m\u001b[0m\n\u001b[1;32m     11\u001b[0m \u001b[0;34m\u001b[0m\u001b[0m\n",
            "\u001b[0;32m<ipython-input-15-23ca117201a6>\u001b[0m in \u001b[0;36mSolution\u001b[0;34m()\u001b[0m\n\u001b[1;32m      8\u001b[0m \u001b[0;34m\u001b[0m\u001b[0m\n\u001b[1;32m      9\u001b[0m \u001b[0;32mclass\u001b[0m \u001b[0mSolution\u001b[0m\u001b[0;34m:\u001b[0m\u001b[0;34m\u001b[0m\u001b[0;34m\u001b[0m\u001b[0m\n\u001b[0;32m---> 10\u001b[0;31m     \u001b[0;32mdef\u001b[0m \u001b[0misValidBST\u001b[0m\u001b[0;34m(\u001b[0m\u001b[0mself\u001b[0m\u001b[0;34m,\u001b[0m \u001b[0mroot\u001b[0m\u001b[0;34m:\u001b[0m \u001b[0mOptional\u001b[0m\u001b[0;34m[\u001b[0m\u001b[0mTreeNode\u001b[0m\u001b[0;34m]\u001b[0m\u001b[0;34m)\u001b[0m \u001b[0;34m->\u001b[0m \u001b[0mbool\u001b[0m\u001b[0;34m:\u001b[0m\u001b[0;34m\u001b[0m\u001b[0;34m\u001b[0m\u001b[0m\n\u001b[0m\u001b[1;32m     11\u001b[0m \u001b[0;34m\u001b[0m\u001b[0m\n\u001b[1;32m     12\u001b[0m         \u001b[0;32mif\u001b[0m \u001b[0mroot\u001b[0m \u001b[0;34m==\u001b[0m \u001b[0;32mNone\u001b[0m\u001b[0;34m:\u001b[0m\u001b[0;34m\u001b[0m\u001b[0;34m\u001b[0m\u001b[0m\n",
            "\u001b[0;31mNameError\u001b[0m: name 'Optional' is not defined"
          ]
        }
      ]
    },
    {
      "cell_type": "markdown",
      "source": [
        "### Depth First Search"
      ],
      "metadata": {
        "id": "rVvdm08tMQcm"
      },
      "id": "rVvdm08tMQcm"
    },
    {
      "cell_type": "code",
      "source": [
        "# Definition for a binary tree node.\n",
        "# class TreeNode:\n",
        "#     def __init__(self, val=0, left=None, right=None):\n",
        "#         self.val = val\n",
        "#         self.left = left\n",
        "#         self.right = right\n",
        "\n",
        "class Solution:\n",
        "    def isValidBST(self, root: Optional[TreeNode]) -> bool:\n",
        "\n",
        "        def valid(node,left,right):\n",
        "            if not node:\n",
        "                return True\n",
        "            if not ( left < node.val < right):\n",
        "                return False\n",
        "            return valid(node.left, left, node.val) and valid(node.right, node.val, right)\n",
        "\n",
        "        return valid(root, float(\"-inf\"), float(\"inf\"))\n"
      ],
      "metadata": {
        "id": "T3URg1blyM4N"
      },
      "id": "T3URg1blyM4N",
      "execution_count": null,
      "outputs": []
    },
    {
      "cell_type": "markdown",
      "source": [
        "## Kth Smallest Integer in BST\n"
      ],
      "metadata": {
        "id": "DXK7zvvDQcKu"
      },
      "id": "DXK7zvvDQcKu"
    },
    {
      "cell_type": "code",
      "source": [
        "# Definition for a binary tree node.\n",
        "# class TreeNode:\n",
        "#     def __init__(self, val=0, left=None, right=None):\n",
        "#         self.val = val\n",
        "#         self.left = left\n",
        "#         self.right = right\n",
        "\n",
        "#想到的方法，先打散转成list，再sorted，再得到。\n",
        "class Solution:\n",
        "    def kthSmallest(self, root: Optional[TreeNode], k: int) -> int:\n",
        "        tree_list = []\n",
        "        def convert_list(node):\n",
        "            if node == None:\n",
        "                return tree_list\n",
        "\n",
        "            tree_list.append(node.val)\n",
        "            return convert_list(node.left), convert_list(node.right)\n",
        "\n",
        "        convert_list(root)  #after execuate ,get full tree list.\n",
        "\n",
        "\n",
        "        return sorted(tree_list)[k-1]\n",
        "\n",
        "\n",
        "\n"
      ],
      "metadata": {
        "colab": {
          "base_uri": "https://localhost:8080/"
        },
        "id": "yI4oK4QHQbta",
        "outputId": "8a7a6ec3-cc91-4807-ed4c-5775a3aa2642"
      },
      "id": "yI4oK4QHQbta",
      "execution_count": null,
      "outputs": [
        {
          "output_type": "execute_result",
          "data": {
            "text/plain": [
              "[1, 2, 3]"
            ]
          },
          "metadata": {},
          "execution_count": 4
        }
      ]
    },
    {
      "cell_type": "markdown",
      "source": [
        "list_test.sort() modifies the original list in-place, while sorted(list_test) returns a new sorted list without modifying the original list."
      ],
      "metadata": {
        "id": "UxrENBqgT96Z"
      },
      "id": "UxrENBqgT96Z"
    },
    {
      "cell_type": "code",
      "source": [
        "list_test = [2,1,3]\n",
        "list_test.sort()\n",
        "list_test\n",
        "sorted(list_test)"
      ],
      "metadata": {
        "colab": {
          "base_uri": "https://localhost:8080/"
        },
        "id": "HQsiXBp0TA16",
        "outputId": "fc478d3c-0b18-41be-ca9f-2a6749c87e9b"
      },
      "id": "HQsiXBp0TA16",
      "execution_count": null,
      "outputs": [
        {
          "output_type": "execute_result",
          "data": {
            "text/plain": [
              "[1, 2, 3]"
            ]
          },
          "metadata": {},
          "execution_count": 8
        }
      ]
    },
    {
      "cell_type": "markdown",
      "source": [
        "In Python, the expression [] == True evaluates to False.\n",
        "\n",
        "Here's why:\n",
        "\n",
        "- [] is an empty list, which is considered a \"falsy\" value in Python.\n",
        "\n",
        "- When comparing a list directly with a boolean using the == operator, Python first checks if the operands are of the same type. In this case, they are not (list vs. boolean).\n",
        "\n",
        "- Since the operands are of different types, Python then checks if either operand defines the __eq__() method for equality comparison. Lists do not define this method for comparison with booleans.\n",
        "\n",
        "- Finally, Python falls back to the default behavior of comparing the object identities, which are guaranteed to be different for a list and a boolean.\n",
        "\n",
        "Therefore, [] == True evaluates to False.\n",
        "\n",
        "It's important to note that while an empty list [] is considered \"falsy\" in a boolean context (e.g., in an if statement), it is not directly equal to False. Similarly, a non-empty list is considered \"truthy\" but not directly equal to True."
      ],
      "metadata": {
        "id": "MNkLkUApXQjC"
      },
      "id": "MNkLkUApXQjC"
    },
    {
      "cell_type": "code",
      "source": [
        "[] == True"
      ],
      "metadata": {
        "id": "_LnY35Q7WwgK",
        "outputId": "19029f6c-f72f-4ebf-f3f1-ce273329fd09",
        "colab": {
          "base_uri": "https://localhost:8080/"
        }
      },
      "id": "_LnY35Q7WwgK",
      "execution_count": null,
      "outputs": [
        {
          "output_type": "execute_result",
          "data": {
            "text/plain": [
              "False"
            ]
          },
          "metadata": {},
          "execution_count": 10
        }
      ]
    },
    {
      "cell_type": "markdown",
      "source": [
        "## Binary Tree from Preorder and Inorder Traversal\n",
        "\n",
        "https://www.shubo.io/iterative-binary-tree-traversal/\n",
        "\n",
        "前序和中序。\n",
        "对于bst inorder就是按递增顺序排列。\n"
      ],
      "metadata": {
        "id": "njYq00UUXLMZ"
      },
      "id": "njYq00UUXLMZ"
    },
    {
      "cell_type": "markdown",
      "source": [
        "1. Preorder Traversal:\n",
        "\n",
        "- Preorder traversal visits the nodes in the following order: root, left subtree, right subtree.\n",
        "It is useful when you want to create a copy of the tree or serialize the tree structure.\n",
        "- Preorder traversal can be used to get a prefix expression of an expression tree.\n",
        "- In a BST, preorder traversal is not particularly useful for searching or sorting elements because it does not provide any meaningful order.\n",
        "\n",
        "2. Inorder Traversal:\n",
        "\n",
        "- Inorder traversal visits the nodes in the following order: left subtree, root, right subtree.\n",
        "- In a BST, inorder traversal visits the nodes in ascending order of their keys.\n",
        "It is commonly used to retrieve the elements of a BST in sorted order.\n",
        "- Inorder traversal is crucial for BST validation, as it helps ensure that the nodes are in the correct order.\n",
        "- It can be used to convert a BST to an array or list in sorted order.\n",
        "Here are a few reasons why inorder traversal is particularly important for BSTs:\n",
        "\n",
        "Sorted Order:\n",
        "\n",
        "BSTs have the property that the left subtree of a node contains only nodes with keys less than the node's key, and the right subtree contains only nodes with keys greater than the node's key.\n",
        "By performing an inorder traversal, you visit the nodes in ascending order of their keys, resulting in a sorted sequence.\n",
        "BST Validation:\n",
        "\n",
        "To validate whether a given binary tree is a valid BST, you can perform an inorder traversal and check if the nodes are visited in ascending order.\n",
        "If the inorder traversal violates the ascending order property, it indicates that the tree is not a valid BST.\n",
        "Efficient Searching and Sorting:\n",
        "\n",
        "The sorted order obtained through inorder traversal allows for efficient searching and sorting operations in a BST.\n",
        "For example, you can perform a binary search on a BST by comparing the target value with the root's key and recursively searching in the left or right subtree based on the comparison."
      ],
      "metadata": {
        "id": "yjaUvFRHgavx"
      },
      "id": "yjaUvFRHgavx"
    },
    {
      "cell_type": "code",
      "source": [
        "# Definition for a binary tree node.\n",
        "# class TreeNode:\n",
        "#     def __init__(self, val=0, left=None, right=None):\n",
        "#         self.val = val\n",
        "#         self.left = left\n",
        "#         self.right = right\n",
        "\n",
        "#preorder: 中左右\n",
        "#inorder : 左中右\n",
        "class Solution:\n",
        "    def buildTree(self, preorder: List[int], inorder: List[int]) -> Optional[TreeNode]:\n",
        "        if not preorder or not inorder: #都为空\n",
        "            return None\n",
        "\n",
        "        root = TreeNode(preorder[0])\n",
        "        mid = inorder.index(preorder[0]) #root node split inorder into two parts.\n",
        "        #preorder left. split by mid into two parts.\n",
        "        root.left = self.buildTree(preorder[1: mid + 1], inorder[0:mid])\n",
        "        root.right = self.buildTree(preorder[mid + 1:], inorder[mid + 1:]) #remaining corresponding to left part\n",
        "\n",
        "        return root\n",
        "\n",
        "\n"
      ],
      "metadata": {
        "colab": {
          "base_uri": "https://localhost:8080/",
          "height": 341
        },
        "collapsed": true,
        "id": "_fHGS5TcXKkV",
        "outputId": "54f1238f-915b-407f-8017-7664c0fdeb7b"
      },
      "id": "_fHGS5TcXKkV",
      "execution_count": null,
      "outputs": [
        {
          "output_type": "error",
          "ename": "NameError",
          "evalue": "name 'List' is not defined",
          "traceback": [
            "\u001b[0;31m---------------------------------------------------------------------------\u001b[0m",
            "\u001b[0;31mNameError\u001b[0m                                 Traceback (most recent call last)",
            "\u001b[0;32m<ipython-input-11-5ec8473bf624>\u001b[0m in \u001b[0;36m<cell line: 10>\u001b[0;34m()\u001b[0m\n\u001b[1;32m      8\u001b[0m \u001b[0;31m#preorder: 中左右\u001b[0m\u001b[0;34m\u001b[0m\u001b[0;34m\u001b[0m\u001b[0m\n\u001b[1;32m      9\u001b[0m \u001b[0;31m#inorder : 左中右\u001b[0m\u001b[0;34m\u001b[0m\u001b[0;34m\u001b[0m\u001b[0m\n\u001b[0;32m---> 10\u001b[0;31m \u001b[0;32mclass\u001b[0m \u001b[0mSolution\u001b[0m\u001b[0;34m:\u001b[0m\u001b[0;34m\u001b[0m\u001b[0;34m\u001b[0m\u001b[0m\n\u001b[0m\u001b[1;32m     11\u001b[0m     \u001b[0;32mdef\u001b[0m \u001b[0mbuildTree\u001b[0m\u001b[0;34m(\u001b[0m\u001b[0mself\u001b[0m\u001b[0;34m,\u001b[0m \u001b[0mpreorder\u001b[0m\u001b[0;34m:\u001b[0m \u001b[0mList\u001b[0m\u001b[0;34m[\u001b[0m\u001b[0mint\u001b[0m\u001b[0;34m]\u001b[0m\u001b[0;34m,\u001b[0m \u001b[0minorder\u001b[0m\u001b[0;34m:\u001b[0m \u001b[0mList\u001b[0m\u001b[0;34m[\u001b[0m\u001b[0mint\u001b[0m\u001b[0;34m]\u001b[0m\u001b[0;34m)\u001b[0m \u001b[0;34m->\u001b[0m \u001b[0mOptional\u001b[0m\u001b[0;34m[\u001b[0m\u001b[0mTreeNode\u001b[0m\u001b[0;34m]\u001b[0m\u001b[0;34m:\u001b[0m\u001b[0;34m\u001b[0m\u001b[0;34m\u001b[0m\u001b[0m\n\u001b[1;32m     12\u001b[0m         \u001b[0;32mif\u001b[0m \u001b[0;32mnot\u001b[0m \u001b[0mpreorder\u001b[0m \u001b[0;32mor\u001b[0m \u001b[0;32mnot\u001b[0m \u001b[0minorder\u001b[0m\u001b[0;34m:\u001b[0m \u001b[0;31m#都为空\u001b[0m\u001b[0;34m\u001b[0m\u001b[0;34m\u001b[0m\u001b[0m\n",
            "\u001b[0;32m<ipython-input-11-5ec8473bf624>\u001b[0m in \u001b[0;36mSolution\u001b[0;34m()\u001b[0m\n\u001b[1;32m      9\u001b[0m \u001b[0;31m#inorder : 左中右\u001b[0m\u001b[0;34m\u001b[0m\u001b[0;34m\u001b[0m\u001b[0m\n\u001b[1;32m     10\u001b[0m \u001b[0;32mclass\u001b[0m \u001b[0mSolution\u001b[0m\u001b[0;34m:\u001b[0m\u001b[0;34m\u001b[0m\u001b[0;34m\u001b[0m\u001b[0m\n\u001b[0;32m---> 11\u001b[0;31m     \u001b[0;32mdef\u001b[0m \u001b[0mbuildTree\u001b[0m\u001b[0;34m(\u001b[0m\u001b[0mself\u001b[0m\u001b[0;34m,\u001b[0m \u001b[0mpreorder\u001b[0m\u001b[0;34m:\u001b[0m \u001b[0mList\u001b[0m\u001b[0;34m[\u001b[0m\u001b[0mint\u001b[0m\u001b[0;34m]\u001b[0m\u001b[0;34m,\u001b[0m \u001b[0minorder\u001b[0m\u001b[0;34m:\u001b[0m \u001b[0mList\u001b[0m\u001b[0;34m[\u001b[0m\u001b[0mint\u001b[0m\u001b[0;34m]\u001b[0m\u001b[0;34m)\u001b[0m \u001b[0;34m->\u001b[0m \u001b[0mOptional\u001b[0m\u001b[0;34m[\u001b[0m\u001b[0mTreeNode\u001b[0m\u001b[0;34m]\u001b[0m\u001b[0;34m:\u001b[0m\u001b[0;34m\u001b[0m\u001b[0;34m\u001b[0m\u001b[0m\n\u001b[0m\u001b[1;32m     12\u001b[0m         \u001b[0;32mif\u001b[0m \u001b[0;32mnot\u001b[0m \u001b[0mpreorder\u001b[0m \u001b[0;32mor\u001b[0m \u001b[0;32mnot\u001b[0m \u001b[0minorder\u001b[0m\u001b[0;34m:\u001b[0m \u001b[0;31m#都为空\u001b[0m\u001b[0;34m\u001b[0m\u001b[0;34m\u001b[0m\u001b[0m\n\u001b[1;32m     13\u001b[0m             \u001b[0;32mreturn\u001b[0m \u001b[0;32mNone\u001b[0m\u001b[0;34m\u001b[0m\u001b[0;34m\u001b[0m\u001b[0m\n",
            "\u001b[0;31mNameError\u001b[0m: name 'List' is not defined"
          ]
        }
      ]
    },
    {
      "cell_type": "markdown",
      "source": [
        "# Backtracking\n",
        "\n",
        "Backtracking is a systematic method for solving problems that involve finding all (or some) solutions to a problem by exploring candidate solutions incrementally and abandoning each partial candidate (\"backtracks\") as soon as it determines that this candidate cannot possibly be completed to a valid solution.\n",
        "\n",
        "在解决问题时，回溯算法会试图沿着某个可能的路径（或者说“分支”）前进，逐步构建解决方案。当这个路径上的某一步不再可能导向有效的解决方案时（即它违反了问题的某些约束或条件），算法就会退回到前一步，尝试另一种可能的选项。这个过程会递归进行，直到找到所有可能的解决方案，或者探索了所有可能的路径。\n",
        "\n",
        "\n",
        "- 递归性：回溯算法通常是通过递归实现的，因为这样可以自然地回到之前的状态。\n",
        "- 试错：它基于试错的方式尝试解决问题，通过尝试分步去解决问题，一旦发现当前步骤不能得到有效的解答或者最优解答，就取消上一步或几步的计算。\n",
        "- 剪枝操作：通过设置条件，提前停止对无效路径的探索，这可以大大减少计算时间，优化算法性能。\n",
        "\n"
      ],
      "metadata": {
        "id": "FDHY1WCGyNci"
      },
      "id": "FDHY1WCGyNci"
    },
    {
      "cell_type": "markdown",
      "source": [
        "## Combination Target Sum\n"
      ],
      "metadata": {
        "id": "wNeuxqF60MGR"
      },
      "id": "wNeuxqF60MGR"
    },
    {
      "cell_type": "markdown",
      "source": [
        "### Depth First Search"
      ],
      "metadata": {
        "id": "PBnBIYkPciyX"
      },
      "id": "PBnBIYkPciyX"
    },
    {
      "cell_type": "code",
      "source": [
        "nums = [2,5,6,9]\n",
        "target = 9\n"
      ],
      "metadata": {
        "id": "5Z2x0UEi0Kta"
      },
      "id": "5Z2x0UEi0Kta",
      "execution_count": null,
      "outputs": []
    },
    {
      "cell_type": "code",
      "source": [
        "res = []\n",
        "\n",
        "def dfs(i, cur, total):\n",
        "  if total == target:\n",
        "    res.append(cur.copy())\n",
        "    return\n",
        "\n",
        "  if i >= len(nums) or total>target:\n",
        "    return\n",
        "\n",
        "  cur.append(nums[i])\n",
        "  #print(\"after append \",cur)\n",
        "  dfs(i, cur, total+nums[i])\n",
        "  #print(\"after append res \",res)\n",
        "  #print(\"after append total \",total+nums[i])\n",
        "\n",
        "  cur.pop() #remove the right one from the list.\n",
        "  #print(\"after pop \",cur)\n",
        "  dfs(i+1, cur, total)\n",
        "  #print(\"after pop res \",res)\n",
        "\n",
        "dfs(0,[],0)\n",
        "print(res)"
      ],
      "metadata": {
        "colab": {
          "base_uri": "https://localhost:8080/"
        },
        "id": "ggYWrcRX4fWe",
        "outputId": "7121d003-e3b1-4fde-e61b-9e22593f8158",
        "collapsed": true
      },
      "id": "ggYWrcRX4fWe",
      "execution_count": null,
      "outputs": [
        {
          "output_type": "stream",
          "name": "stdout",
          "text": [
            "after append  [2]\n",
            "after append  [2, 2]\n",
            "after append  [2, 2, 2]\n",
            "after append  [2, 2, 2, 2]\n",
            "after append  [2, 2, 2, 2, 2]\n",
            "after append res  []\n",
            "after append total  10\n",
            "after pop  [2, 2, 2, 2]\n",
            "after append  [2, 2, 2, 2, 5]\n",
            "after append res  []\n",
            "after append total  13\n",
            "after pop  [2, 2, 2, 2]\n",
            "after append  [2, 2, 2, 2, 6]\n",
            "after append res  []\n",
            "after append total  14\n",
            "after pop  [2, 2, 2, 2]\n",
            "after append  [2, 2, 2, 2, 9]\n",
            "after append res  []\n",
            "after append total  17\n",
            "after pop  [2, 2, 2, 2]\n",
            "after pop res  []\n",
            "after pop res  []\n",
            "after pop res  []\n",
            "after pop res  []\n",
            "after append res  []\n",
            "after append total  8\n",
            "after pop  [2, 2, 2]\n",
            "after append  [2, 2, 2, 5]\n",
            "after append res  []\n",
            "after append total  11\n",
            "after pop  [2, 2, 2]\n",
            "after append  [2, 2, 2, 6]\n",
            "after append res  []\n",
            "after append total  12\n",
            "after pop  [2, 2, 2]\n",
            "after append  [2, 2, 2, 9]\n",
            "after append res  []\n",
            "after append total  15\n",
            "after pop  [2, 2, 2]\n",
            "after pop res  []\n",
            "after pop res  []\n",
            "after pop res  []\n",
            "after pop res  []\n",
            "after append res  []\n",
            "after append total  6\n",
            "after pop  [2, 2]\n",
            "after append  [2, 2, 5]\n",
            "after append res  [[2, 2, 5]]\n",
            "after append total  9\n",
            "after pop  [2, 2]\n",
            "after append  [2, 2, 6]\n",
            "after append res  [[2, 2, 5]]\n",
            "after append total  10\n",
            "after pop  [2, 2]\n",
            "after append  [2, 2, 9]\n",
            "after append res  [[2, 2, 5]]\n",
            "after append total  13\n",
            "after pop  [2, 2]\n",
            "after pop res  [[2, 2, 5]]\n",
            "after pop res  [[2, 2, 5]]\n",
            "after pop res  [[2, 2, 5]]\n",
            "after pop res  [[2, 2, 5]]\n",
            "after append res  [[2, 2, 5]]\n",
            "after append total  4\n",
            "after pop  [2]\n",
            "after append  [2, 5]\n",
            "after append  [2, 5, 5]\n",
            "after append res  [[2, 2, 5]]\n",
            "after append total  12\n",
            "after pop  [2, 5]\n",
            "after append  [2, 5, 6]\n",
            "after append res  [[2, 2, 5]]\n",
            "after append total  13\n",
            "after pop  [2, 5]\n",
            "after append  [2, 5, 9]\n",
            "after append res  [[2, 2, 5]]\n",
            "after append total  16\n",
            "after pop  [2, 5]\n",
            "after pop res  [[2, 2, 5]]\n",
            "after pop res  [[2, 2, 5]]\n",
            "after pop res  [[2, 2, 5]]\n",
            "after append res  [[2, 2, 5]]\n",
            "after append total  7\n",
            "after pop  [2]\n",
            "after append  [2, 6]\n",
            "after append  [2, 6, 6]\n",
            "after append res  [[2, 2, 5]]\n",
            "after append total  14\n",
            "after pop  [2, 6]\n",
            "after append  [2, 6, 9]\n",
            "after append res  [[2, 2, 5]]\n",
            "after append total  17\n",
            "after pop  [2, 6]\n",
            "after pop res  [[2, 2, 5]]\n",
            "after pop res  [[2, 2, 5]]\n",
            "after append res  [[2, 2, 5]]\n",
            "after append total  8\n",
            "after pop  [2]\n",
            "after append  [2, 9]\n",
            "after append res  [[2, 2, 5]]\n",
            "after append total  11\n",
            "after pop  [2]\n",
            "after pop res  [[2, 2, 5]]\n",
            "after pop res  [[2, 2, 5]]\n",
            "after pop res  [[2, 2, 5]]\n",
            "after pop res  [[2, 2, 5]]\n",
            "after append res  [[2, 2, 5]]\n",
            "after append total  2\n",
            "after pop  []\n",
            "after append  [5]\n",
            "after append  [5, 5]\n",
            "after append res  [[2, 2, 5]]\n",
            "after append total  10\n",
            "after pop  [5]\n",
            "after append  [5, 6]\n",
            "after append res  [[2, 2, 5]]\n",
            "after append total  11\n",
            "after pop  [5]\n",
            "after append  [5, 9]\n",
            "after append res  [[2, 2, 5]]\n",
            "after append total  14\n",
            "after pop  [5]\n",
            "after pop res  [[2, 2, 5]]\n",
            "after pop res  [[2, 2, 5]]\n",
            "after pop res  [[2, 2, 5]]\n",
            "after append res  [[2, 2, 5]]\n",
            "after append total  5\n",
            "after pop  []\n",
            "after append  [6]\n",
            "after append  [6, 6]\n",
            "after append res  [[2, 2, 5]]\n",
            "after append total  12\n",
            "after pop  [6]\n",
            "after append  [6, 9]\n",
            "after append res  [[2, 2, 5]]\n",
            "after append total  15\n",
            "after pop  [6]\n",
            "after pop res  [[2, 2, 5]]\n",
            "after pop res  [[2, 2, 5]]\n",
            "after append res  [[2, 2, 5]]\n",
            "after append total  6\n",
            "after pop  []\n",
            "after append  [9]\n",
            "after append res  [[2, 2, 5], [9]]\n",
            "after append total  9\n",
            "after pop  []\n",
            "after pop res  [[2, 2, 5], [9]]\n",
            "after pop res  [[2, 2, 5], [9]]\n",
            "after pop res  [[2, 2, 5], [9]]\n",
            "after pop res  [[2, 2, 5], [9]]\n",
            "[[2, 2, 5], [9]]\n"
          ]
        }
      ]
    },
    {
      "cell_type": "markdown",
      "source": [
        "### .copy()\n",
        "\n",
        "If you append cur directly to res, any future modifications to cur will also affect the previously stored combinations in res. This is because lists in Python are mutable and res will contain references to the same cur list.\n",
        "This would lead to incorrect results as all entries in res would end up being the same (the final state of cur)."
      ],
      "metadata": {
        "id": "TJuBlpx3Ci3-"
      },
      "id": "TJuBlpx3Ci3-"
    },
    {
      "cell_type": "code",
      "source": [
        "#not change\n",
        "cur = [1,2,3]\n",
        "res.append(cur)\n",
        "print(res)\n",
        "\n",
        "cur = [1,2,3,4]\n",
        "print(res)\n"
      ],
      "metadata": {
        "colab": {
          "base_uri": "https://localhost:8080/"
        },
        "id": "NDSfhE7B6Dmh",
        "outputId": "d22c4d24-ecf2-47cf-dd65-a687f22ab24c"
      },
      "id": "NDSfhE7B6Dmh",
      "execution_count": null,
      "outputs": [
        {
          "output_type": "stream",
          "name": "stdout",
          "text": [
            "[[2, 2, 5], [9], [1, 2, 3], [1, 2, 3]]\n",
            "[[2, 2, 5], [9], [1, 2, 3], [1, 2, 3]]\n"
          ]
        }
      ]
    },
    {
      "cell_type": "code",
      "source": [
        "#change with append\n",
        "cur = [1, 2, 3]\n",
        "res = []\n",
        "res.append(cur)\n",
        "print(res)  # Output: [[1, 2, 3]]\n",
        "\n",
        "cur.append(4)\n",
        "print(res)  # Output: [[1, 2, 3, 4]]\n"
      ],
      "metadata": {
        "colab": {
          "base_uri": "https://localhost:8080/"
        },
        "id": "XrlMzjN7CaGt",
        "outputId": "c8e6be48-f534-4f48-df51-35a7ad9c6c19"
      },
      "id": "XrlMzjN7CaGt",
      "execution_count": null,
      "outputs": [
        {
          "output_type": "stream",
          "name": "stdout",
          "text": [
            "[[1, 2, 3]]\n",
            "[[1, 2, 3, 4]]\n"
          ]
        }
      ]
    },
    {
      "cell_type": "code",
      "source": [
        "#example with copy not change\n",
        "cur = [1, 2, 3]\n",
        "res = []\n",
        "res.append(cur.copy())\n",
        "print(res)  # Output: [[1, 2, 3]]\n",
        "\n",
        "cur.append(4)\n",
        "print(res)  # Output: [[1, 2, 3]]\n"
      ],
      "metadata": {
        "colab": {
          "base_uri": "https://localhost:8080/"
        },
        "id": "UmzfSXaQ89Lw",
        "outputId": "c2063e05-34a5-40c8-ee80-de64742bdd84"
      },
      "id": "UmzfSXaQ89Lw",
      "execution_count": null,
      "outputs": [
        {
          "output_type": "stream",
          "name": "stdout",
          "text": [
            "[[1, 2, 3]]\n",
            "[[1, 2, 3]]\n"
          ]
        }
      ]
    },
    {
      "cell_type": "markdown",
      "source": [
        "## Search for Word\n"
      ],
      "metadata": {
        "id": "WSYDjcT6cJYp"
      },
      "id": "WSYDjcT6cJYp"
    },
    {
      "cell_type": "code",
      "source": [
        "board = [\n",
        "  [\"A\",\"B\",\"C\",\"D\"],\n",
        "  [\"S\",\"A\",\"A\",\"T\"],\n",
        "  [\"A\",\"C\",\"A\",\"E\"]\n",
        "]\n",
        "word = \"CAT\""
      ],
      "metadata": {
        "id": "uDozMnY18_Xl"
      },
      "id": "uDozMnY18_Xl",
      "execution_count": null,
      "outputs": []
    },
    {
      "cell_type": "code",
      "source": [
        "#len(board)\n",
        "#len(board[0])\n",
        "\n",
        "board[0][1] not in list(word)"
      ],
      "metadata": {
        "colab": {
          "base_uri": "https://localhost:8080/"
        },
        "id": "tnaNAOZXd5O1",
        "outputId": "fa016423-1d05-4f60-b9d4-4f7d343c647e"
      },
      "id": "tnaNAOZXd5O1",
      "execution_count": null,
      "outputs": [
        {
          "output_type": "execute_result",
          "data": {
            "text/plain": [
              "True"
            ]
          },
          "metadata": {},
          "execution_count": 50
        }
      ]
    },
    {
      "cell_type": "markdown",
      "source": [],
      "metadata": {
        "id": "b-wWoXG6d4v6"
      },
      "id": "b-wWoXG6d4v6"
    },
    {
      "cell_type": "markdown",
      "source": [
        "[i, j]\n",
        "\n",
        "left: i -1, j\n",
        "\n",
        "right: i+1,j\n",
        "\n",
        "up: i,j-1\n",
        "\n",
        "down: i, j+1\n"
      ],
      "metadata": {
        "id": "rJo2gIllc4Cu"
      },
      "id": "rJo2gIllc4Cu"
    },
    {
      "cell_type": "code",
      "source": [
        "# wrong answer. didn't work.\n",
        "\n",
        "# use recursion;\n",
        "\n",
        "i=0 # 0~ len(board[0])\n",
        "j=0 #0~len(board)\n",
        "\n",
        "#concat_word = ''\n",
        "\n",
        "def dfs(i, j, cur, concat_word):\n",
        "  if concat_word == word:\n",
        "    return True\n",
        "\n",
        "  if i > len(board[0]) or j > len(board) or (board[i][j] not in list(word) ): #if current not match word.?\n",
        "    return\n",
        "\n",
        "  cur = cur + board[i][j]\n",
        "  dfs(i, j, cur, concat_word + board[i][j])\n",
        "\n",
        "  cur.pop()\n",
        "  dfs(i+1, j, cur, concat_word)\n",
        "\n",
        "  cur.pop()\n",
        "  dfs(i, j+1, cur, concat_word)\n",
        "\n",
        "\n",
        "dfs(0,0, '', '')"
      ],
      "metadata": {
        "id": "ZaNdq_Gb8_wx"
      },
      "id": "ZaNdq_Gb8_wx",
      "execution_count": null,
      "outputs": []
    },
    {
      "cell_type": "code",
      "source": [
        "# official answer; more clear.\n",
        "# O(n * m * dfs), dfs = 4^len(word)\n",
        "# O(n * m * 4^n)\n",
        "\n",
        "\n",
        "def exist(board, word):\n",
        "  ROWS, COLS = len(board), len(board[0])\n",
        "  path = set() # can't use location repeat; with position\n",
        "\n",
        "  def dfs(r,c, i) : #create a nested function.\n",
        "    if i == len(word): #terminate condition\n",
        "      return True\n",
        "\n",
        "    if (r<0 or c<0 or r >= ROWS or c >= COLS or  #pay attention to boundaries!\n",
        "        word[i]!=board[r][c] or\n",
        "        (r,c) in path ): #same position twice, avoid\n",
        "        return False\n",
        "\n",
        "    path.add((r,c)) #find character we need.\n",
        "    print(path)\n",
        "    print((r,c))\n",
        "    print(board[r][c])\n",
        "    res = (dfs(r+1,c,i+1) or\n",
        "           dfs(r-1,c,i+1) or\n",
        "           dfs(r,c+1,i+1) or\n",
        "           dfs(r,c-1,i+1)\n",
        "           ) #if any return true, return true.\n",
        "    path.remove((r,c))\n",
        "\n",
        "    return res\n",
        "\n",
        "  for r in range(ROWS):\n",
        "    for c in range(COLS):\n",
        "      result = dfs(r,c,0)\n",
        "      #print(result)\n",
        "      if result:\n",
        "        return True\n",
        "\n",
        "  return False"
      ],
      "metadata": {
        "id": "3er3GlCtfn4y"
      },
      "id": "3er3GlCtfn4y",
      "execution_count": null,
      "outputs": []
    },
    {
      "cell_type": "code",
      "source": [
        "exist(board, word)"
      ],
      "metadata": {
        "colab": {
          "base_uri": "https://localhost:8080/"
        },
        "id": "JsOJ5gbyiSu6",
        "outputId": "09716743-e939-4439-d1da-215623ee4809"
      },
      "id": "JsOJ5gbyiSu6",
      "execution_count": null,
      "outputs": [
        {
          "output_type": "stream",
          "name": "stdout",
          "text": [
            "{(0, 2)}\n",
            "(0, 2)\n",
            "C\n",
            "{(0, 2), (1, 2)}\n",
            "(1, 2)\n",
            "A\n",
            "{(0, 2), (1, 2), (1, 3)}\n",
            "(1, 3)\n",
            "T\n"
          ]
        },
        {
          "output_type": "execute_result",
          "data": {
            "text/plain": [
              "True"
            ]
          },
          "metadata": {},
          "execution_count": 68
        }
      ]
    },
    {
      "cell_type": "markdown",
      "source": [
        "# Tries\n",
        "\n",
        "前置树 字典树\n",
        "\n",
        "insert, delete, search are fast.\n",
        "\n",
        "\n",
        "https://www.youtube.com/watch?v=3CbFFVHQrk4"
      ],
      "metadata": {
        "id": "w4VmVJBvonzU"
      },
      "id": "w4VmVJBvonzU"
    },
    {
      "cell_type": "markdown",
      "source": [
        "## Implement Prefix Tree"
      ],
      "metadata": {
        "id": "uQtX3nf3rTwD"
      },
      "id": "uQtX3nf3rTwD"
    },
    {
      "cell_type": "code",
      "source": [
        "class TrieNode:\n",
        "    def __init__(self):\n",
        "        self.children = {}\n",
        "        self.endOfWord = False\n",
        "\n",
        "class PrefixTree:\n",
        "\n",
        "    def __init__(self):\n",
        "        self.root = TrieNode()\n",
        "\n",
        "\n",
        "    def insert(self, word: str) -> None:\n",
        "        cur = self.root\n",
        "\n",
        "        for c in word: #go through every character\n",
        "            if c not in cur.children: #第一层没有 则创建一个。\n",
        "                cur.children[c] =  TrieNode()\n",
        "            cur = cur.children[c]\n",
        "        cur.endOfWord = True\n",
        "\n",
        "    def search(self, word: str) -> bool:\n",
        "        cur = self.root\n",
        "\n",
        "        for c in word:\n",
        "            if c not in cur.children:\n",
        "                return False\n",
        "            else:\n",
        "                cur = cur.children[c] #move to the next children\n",
        "        return cur.endOfWord\n",
        "\n",
        "\n",
        "    def startsWith(self, prefix: str) -> bool:\n",
        "        cur = self.root\n",
        "\n",
        "        for c in prefix:\n",
        "            if c not in cur.children:\n",
        "                return False\n",
        "            else:\n",
        "                cur = cur.children[c]\n",
        "        return True\n",
        "\n",
        "\n",
        ""
      ],
      "metadata": {
        "id": "fwqAHwi6iT47"
      },
      "id": "fwqAHwi6iT47",
      "execution_count": 69,
      "outputs": []
    },
    {
      "cell_type": "markdown",
      "source": [
        "## Design Word Search Data Structure\n"
      ],
      "metadata": {
        "id": "wPV_qhrYVOVF"
      },
      "id": "wPV_qhrYVOVF"
    },
    {
      "cell_type": "markdown",
      "source": [
        "### Depth First Search"
      ],
      "metadata": {
        "id": "7zjFAF_uVTz7"
      },
      "id": "7zjFAF_uVTz7"
    },
    {
      "cell_type": "code",
      "source": [
        "class TrieNode:\n",
        "    def __init__(self):\n",
        "        self.children = {}\n",
        "        self.endOfWord = False\n",
        "\n",
        "class WordDictionary:\n",
        "\n",
        "    def __init__(self):\n",
        "        self.root = TrieNode()\n",
        "\n",
        "    def addWord(self, word: str) -> None:\n",
        "        cur = self.root\n",
        "        for c in word:\n",
        "            if c not in cur.children:\n",
        "                cur.children[c] =  TrieNode()\n",
        "            cur = cur.children[c]\n",
        "        cur.endOfWord = True\n",
        "\n",
        "\n",
        "    def search(self, word: str) -> bool:\n",
        "        #word may contain dots means any letter.\n",
        "        #这里写的不对。如果为点，则需要遍历所有的第二层。need recursive\n",
        "\n",
        "        def search_sub(word,cur):\n",
        "\n",
        "            for i in range(len(word)):\n",
        "                for j in cur.children:\n",
        "                    if word[i] == '.':\n",
        "                        search_sub(word[i:], cur.children[j])\n",
        "                    elif word[i] not in cur.children:\n",
        "                        return False\n",
        "                    else:\n",
        "                        cur = cur.children[word[i]]\n",
        "\n",
        "\n",
        "        return search_sub(word, self.root)\n"
      ],
      "metadata": {
        "id": "bbEufcTSlGue"
      },
      "id": "bbEufcTSlGue",
      "execution_count": null,
      "outputs": []
    },
    {
      "cell_type": "markdown",
      "source": [
        "1.First Return (True):\n",
        "\n",
        "- Purpose: This return statement immediately terminates not just the for-loop but also the current recursive call of the function with a positive result. This is because once a matching path is found in the trie that corresponds to the wildcard '.' and the subsequent characters, there's no need to continue searching other paths.\n",
        "- Effect: If dfs(i+1, c) returns True, it means a valid continuation of the word from that node matches the rest of the word. Thus, by returning True, you propagate this successful match back through the recursion stack, effectively ending all upper recursive layers successively with True, indicating that the word has been found in the trie.\n",
        "\n",
        "2. Second Return (False):\n",
        "\n",
        "- Purpose: This return is executed when the for-loop has completed without finding any matching path. If the function iterates through all child nodes and none of the recursive calls to dfs(i+1, c) return True, it means there is no valid continuation of the word from this node after a wildcard '.', or simply no children match the next character in the word.\n",
        "- Effect: The function returns False to indicate failure to match the word, stopping further unnecessary recursion for this particular path or branch in the trie. This is crucial in backtracking, as it correctly flags that this branch does not lead to a solution and allows the search to backtrack properly or terminate if it is the initial call."
      ],
      "metadata": {
        "id": "3NjjAvAXfY6R"
      },
      "id": "3NjjAvAXfY6R"
    },
    {
      "cell_type": "code",
      "source": [
        "# the correct version\n",
        "\n",
        "class TrieNode:\n",
        "    def __init__(self):\n",
        "        self.children = {} #hashmap.\n",
        "        self.endOfWord = False\n",
        "\n",
        "class WordDictionary:\n",
        "\n",
        "    def __init__(self):\n",
        "        self.root = TrieNode()\n",
        "\n",
        "    def addWord(self, word: str) -> None:\n",
        "        cur = self.root\n",
        "        for c in word:\n",
        "            if c not in cur.children:\n",
        "                cur.children[c] =  TrieNode()\n",
        "            cur = cur.children[c]\n",
        "        cur.endOfWord = True\n",
        "\n",
        "\n",
        "    def search(self, word: str) -> bool:\n",
        "        #word may contain dots means any letter.\n",
        "\n",
        "        def dfs(j, root):\n",
        "            cur = root\n",
        "\n",
        "            for i in range(j, len(word)):\n",
        "                c = word[i]\n",
        "                if c == '.': #recursion and backtracking.\n",
        "                    for child in cur.children.values():\n",
        "                        if dfs( i+1 ,child):\n",
        "                            return True #to find if any child that could satisfy.\n",
        "                    return False #if loop failed to find match, return false.\n",
        "\n",
        "                else:\n",
        "                    if c  not in cur.children:\n",
        "                        return False\n",
        "                    cur = cur.children[c] #if exist c\n",
        "            return cur.endOfWord\n",
        "\n",
        "        return dfs(0, self.root)\n"
      ],
      "metadata": {
        "id": "V3ovoHhBa0hZ"
      },
      "id": "V3ovoHhBa0hZ",
      "execution_count": 70,
      "outputs": []
    },
    {
      "cell_type": "code",
      "source": [
        "test_dict = WordDictionary()\n",
        "\n",
        "test_dict.addWord('bad')\n",
        "test_dict.addWord('dad')\n",
        "test_dict.addWord('blue')"
      ],
      "metadata": {
        "id": "a6KQDkJka16Z"
      },
      "id": "a6KQDkJka16Z",
      "execution_count": 71,
      "outputs": []
    },
    {
      "cell_type": "markdown",
      "source": [
        "`{'c': TrieNode(), 'a': TrieNode()}`\n",
        "\n",
        "### iterating tries\n",
        "\n",
        "1. Iterating with cur.children.values()\n",
        "- terate over the TrieNode() instances directly, ignoring the characters 'c' and 'a'.\n",
        "\n",
        "\n",
        "2. Iterating with cur.children\n",
        "- would result in a TypeError because you cannot iterate over a dictionary directly without specifying whether you want to iterate over keys, values, or items.\n",
        "\n",
        "- cur.children.keys() gives you the keys.\n",
        "- cur.children.items() gives you pairs of keys and values.\n",
        "\n",
        "`for char, child in cur.children.items():`\n",
        "\n",
        "\n",
        "\n"
      ],
      "metadata": {
        "id": "RcPrdP0egAX6"
      },
      "id": "RcPrdP0egAX6"
    },
    {
      "cell_type": "code",
      "source": [
        "# Access the children of the root node\n",
        "for key, node in test_dict.root.children.items():\n",
        "    # Print the key (character) and the details of the node\n",
        "    print(f\"Character: {key}\")\n",
        "    print(\"  Children Characters:\", list(node.children.keys()))\n",
        "    print(\"  End of Word:\", node.endOfWord)"
      ],
      "metadata": {
        "colab": {
          "base_uri": "https://localhost:8080/"
        },
        "id": "Y16AicMpcPTf",
        "outputId": "36b65272-fb0e-4d2a-f0d0-e92109956889"
      },
      "id": "Y16AicMpcPTf",
      "execution_count": 88,
      "outputs": [
        {
          "output_type": "stream",
          "name": "stdout",
          "text": [
            "Character: b\n",
            "  Children Characters: ['a', 'l']\n",
            "  End of Word: False\n",
            "Character: d\n",
            "  Children Characters: ['a']\n",
            "  End of Word: False\n"
          ]
        }
      ]
    },
    {
      "cell_type": "markdown",
      "source": [
        "# Graph"
      ],
      "metadata": {
        "id": "F4lLh0eLlHwG"
      },
      "id": "F4lLh0eLlHwG"
    },
    {
      "cell_type": "markdown",
      "source": [
        "## Count Number of Islands\n"
      ],
      "metadata": {
        "id": "p1_WpsmwlR9O"
      },
      "id": "p1_WpsmwlR9O"
    },
    {
      "cell_type": "code",
      "source": [
        "class Solution:\n",
        "    def numIslands(self, grid: List[List[str]]) -> int:\n",
        "        rows,cols = len(grid), len(grid[0])\n",
        "        if not grid:\n",
        "            return 0\n",
        "\n",
        "        def dfs(i,j): #deep first search\n",
        "            #check if the current position out of boundary or is water\n",
        "            if i<0 or j<0 or i>=rows or j>=cols or grid[i][j] == '0':\n",
        "                return\n",
        "\n",
        "            #mark the current cell as visited by setting it to 0\n",
        "            grid[i][j] = '0'\n",
        "\n",
        "            #recursively visit all connecting parts of the island\n",
        "            #大致含义：\n",
        "            #将1变为0，并且对1的上下左右递归的寻找（接壤的岛）都变成0.直到碰壁碰水而结束。\n",
        "\n",
        "            dfs(i+1, j)\n",
        "            dfs(i-1, j)\n",
        "            dfs(i, j+1)\n",
        "            dfs(i, j-1)\n",
        "\n",
        "        count = 0\n",
        "        for i in range(rows):\n",
        "            for j in range(cols):\n",
        "                if grid[i][j] == '1': #found an island\n",
        "                    dfs(i,j) #发现了1并且return了1次，则证明发现了1个岛。 主要作用是标记0 防止下一次for loop 导致的count+=1\n",
        "                    count += 1\n",
        "        return count\n",
        "\n",
        "\n"
      ],
      "metadata": {
        "id": "FTo0g875cUaw"
      },
      "id": "FTo0g875cUaw",
      "execution_count": null,
      "outputs": []
    },
    {
      "cell_type": "markdown",
      "source": [
        "## Clone Graph\n",
        "\n",
        "A graph is a non-linear data structure consisting of vertices (or nodes) and edges. Vertices represent the entities or objects in the graph, while edges represent the relationships or connections between the vertices.\n",
        "\n",
        "Graphs can be directed or undirected.\n",
        "\n",
        "- In a directed graph, the edges have a specific direction, indicating a one-way relationship between vertices.\n",
        "\n",
        "- In an undirected graph, the edges do not have a specific direction, representing a bidirectional relationship between vertices.\n"
      ],
      "metadata": {
        "id": "PVK5dW7oUeac"
      },
      "id": "PVK5dW7oUeac"
    },
    {
      "cell_type": "markdown",
      "source": [
        "- why `copy = Node(node.val)` ?\n",
        "\n",
        " If the original node itself were copied (including its neighbors list), you would end up with references to the original graph's nodes, which is not a true clone but a partial deep copy with shared references.\n",
        "\n",
        " - clone application?\n",
        "\n",
        " 1. alg testing and simulation\n",
        " 2. statpresevation\n",
        " 3. concurrency\n",
        " ..."
      ],
      "metadata": {
        "id": "Pkbci-cJYXBD"
      },
      "id": "Pkbci-cJYXBD"
    },
    {
      "cell_type": "code",
      "source": [
        "\"\"\"\n",
        "# Definition for a Node.\n",
        "class Node:\n",
        "    def __init__(self, val = 0, neighbors = None):\n",
        "        self.val = val\n",
        "        self.neighbors = neighbors if neighbors is not None else []\n",
        "\"\"\"\n",
        "\n",
        "class Solution:\n",
        "    def cloneGraph(self, node: Optional['Node']) -> Optional['Node']:\n",
        "        oldToNew = {} #hash map, old:new\n",
        "\n",
        "        def dfs(node): #clone dfs\n",
        "            if node in oldToNew : #alredy made clone\n",
        "                return oldToNew[node] #return new\n",
        "\n",
        "            copy = Node(node.val)\n",
        "            oldToNew[node] = copy\n",
        "\n",
        "            for nei in node.neighbors:\n",
        "                copy.neighbors.append(dfs(nei))\n",
        "\n",
        "            return copy\n",
        "        return dfs(node) if node else None\n"
      ],
      "metadata": {
        "id": "PZy-Cz9MX6vj"
      },
      "id": "PZy-Cz9MX6vj",
      "execution_count": null,
      "outputs": []
    },
    {
      "cell_type": "markdown",
      "source": [
        "### Graph Definition\n",
        "\n",
        "https://www.youtube.com/watch?v=OmL2DgBj45Q&t=107s\n"
      ],
      "metadata": {
        "id": "REB6qGcbUg61"
      },
      "id": "REB6qGcbUg61"
    },
    {
      "cell_type": "code",
      "source": [
        "class Vertex: #vertex == node\n",
        "  def __init__(self, key):\n",
        "    self.id = key\n",
        "    self.connectedTo = {} #key is vertext obj, value is cost\n",
        "\n",
        "  def addNeighbor(self, nbr, cost = None):\n",
        "    self.connectedTo[nbr] = cost\n",
        "\n",
        "  def __str__(self):\n",
        "    return str(self.id) + 'connectedTo' +str([x.id for x in self.connectedTo])\n",
        "\n",
        "  def getConnections(self): #returns vertext objects list\n",
        "    return self.connectedTo.keys()\n",
        "\n",
        "  def getId(self):\n",
        "    return self.id\n",
        "\n",
        "  def getWeight(self, nbr): #nbr vertext object\n",
        "    return self.connectedTo[nbr]\n",
        "\n"
      ],
      "metadata": {
        "id": "mFClblPbUeE_"
      },
      "id": "mFClblPbUeE_",
      "execution_count": 1,
      "outputs": []
    },
    {
      "cell_type": "code",
      "source": [
        "class Graph:\n",
        "  def __init__(self):\n",
        "    self.vertList = {} #dict of id key and vertex obj value\n",
        "    self.numVertices = 0\n",
        "\n",
        "  def addVertext(self,key):\n",
        "    self.numVertices = self.numVertices + 1\n",
        "    newVertex = Vertex(key)\n",
        "    self.vertList[key] = newVertex\n",
        "    return newVertex\n",
        "\n",
        "  def getVertext(self,n): #returns Vertext object with id n\n",
        "    if n in self.vertList:\n",
        "      return self.vertList[n]\n",
        "    else:\n",
        "      return None\n"
      ],
      "metadata": {
        "id": "Ntdb8_TuXDql"
      },
      "id": "Ntdb8_TuXDql",
      "execution_count": 2,
      "outputs": []
    },
    {
      "cell_type": "code",
      "source": [],
      "metadata": {
        "id": "-ETsAsj4XwfK"
      },
      "id": "-ETsAsj4XwfK",
      "execution_count": null,
      "outputs": []
    }
  ],
  "metadata": {
    "kernelspec": {
      "display_name": "Python 3 (ipykernel)",
      "language": "python",
      "name": "python3"
    },
    "language_info": {
      "codemirror_mode": {
        "name": "ipython",
        "version": 3
      },
      "file_extension": ".py",
      "mimetype": "text/x-python",
      "name": "python",
      "nbconvert_exporter": "python",
      "pygments_lexer": "ipython3",
      "version": "3.11.0"
    },
    "colab": {
      "provenance": [],
      "toc_visible": true,
      "include_colab_link": true
    }
  },
  "nbformat": 4,
  "nbformat_minor": 5
}